{
 "cells": [
  {
   "cell_type": "code",
   "execution_count": 1,
   "metadata": {},
   "outputs": [
    {
     "name": "stderr",
     "output_type": "stream",
     "text": [
      "c:\\Users\\ryanp\\AppData\\Local\\pypoetry\\Cache\\virtualenvs\\jax-rl-KPtyfD6I-py3.10\\lib\\site-packages\\tqdm\\auto.py:21: TqdmWarning: IProgress not found. Please update jupyter and ipywidgets. See https://ipywidgets.readthedocs.io/en/stable/user_install.html\n",
      "  from .autonotebook import tqdm as notebook_tqdm\n"
     ]
    }
   ],
   "source": [
    "import jax\n",
    "import jax.numpy as jnp\n",
    "import pandas as pd\n",
    "import plotly.express as px\n",
    "import plotly.graph_objects as go\n",
    "\n",
    "from jax import random, lax, jit, vmap, pmap\n",
    "from functools import partial\n",
    "from jax_tqdm import loop_tqdm\n",
    "\n",
    "import sys\n",
    "\n",
    "sys.path.append(\"../../../\")\n",
    "\n",
    "from src import CartPole, DQN, EpsilonGreedy, MLP, UniformReplayBuffer, Experience"
   ]
  },
  {
   "cell_type": "code",
   "execution_count": 2,
   "metadata": {},
   "outputs": [],
   "source": [
    "SEED = 2\n",
    "DISCOUNT = 0.9\n",
    "LEARNING_RATE = 0.1\n",
    "N_ACTIONS = 2\n",
    "NEURONS_PER_LAYER = [4, 256, 1]\n",
    "BUFFER_SIZE = 9\n",
    "TIME_STEPS = 100_000"
   ]
  },
  {
   "cell_type": "code",
   "execution_count": 3,
   "metadata": {},
   "outputs": [],
   "source": [
    "key = random.PRNGKey(SEED)\n",
    "\n",
    "env = CartPole()\n",
    "policy = EpsilonGreedy(0.1)\n",
    "model = MLP(NEURONS_PER_LAYER)\n",
    "agent = DQN(DISCOUNT, LEARNING_RATE, N_ACTIONS, model)\n",
    "replay_buffer = UniformReplayBuffer(BUFFER_SIZE)"
   ]
  },
  {
   "cell_type": "code",
   "execution_count": 4,
   "metadata": {},
   "outputs": [
    {
     "name": "stdout",
     "output_type": "stream",
     "text": [
      "0 dict_keys([])\n",
      "1 dict_keys([0])\n",
      "2 dict_keys([0, 1])\n",
      "3 dict_keys([0, 1, 2])\n",
      "4 dict_keys([0, 1, 2, 3])\n",
      "5 dict_keys([0, 1, 2, 3, 4])\n",
      "6 dict_keys([0, 1, 2, 3, 4, 5])\n",
      "7 dict_keys([0, 1, 2, 3, 4, 5, 6])\n",
      "8 dict_keys([0, 1, 2, 3, 4, 5, 6, 7])\n",
      "0 dict_keys([0, 1, 2, 3, 4, 5, 6, 7, 8])\n"
     ]
    }
   ],
   "source": [
    "exp = Experience(random.normal(key, (4,)), 0, 1, random.normal(key, (4,)), False)\n",
    "for _ in range(10):\n",
    "    print(replay_buffer.idx, replay_buffer.buffer.keys())\n",
    "    replay_buffer.add(exp)"
   ]
  },
  {
   "cell_type": "code",
   "execution_count": 5,
   "metadata": {},
   "outputs": [
    {
     "data": {
      "text/plain": [
       "Experience(state=Array([ 0.42851502, -0.8945591 ,  0.16313784, -1.6101485 ], dtype=float32), action=0, reward=1, next_state=Array([ 0.42851502, -0.8945591 ,  0.16313784, -1.6101485 ], dtype=float32), done=False)"
      ]
     },
     "execution_count": 5,
     "metadata": {},
     "output_type": "execute_result"
    }
   ],
   "source": [
    "replay_buffer.sample(key)"
   ]
  },
  {
   "cell_type": "code",
   "execution_count": 6,
   "metadata": {},
   "outputs": [],
   "source": [
    "init_key = random.split(key)[0]\n",
    "params = model.init(init_key, random.normal(init_key, (4,)))"
   ]
  },
  {
   "cell_type": "code",
   "execution_count": 7,
   "metadata": {},
   "outputs": [
    {
     "data": {
      "text/plain": [
       "((Array([ 0.01658618, -0.03144887,  0.0064795 , -0.04463173], dtype=float32),\n",
       "  Array([2425776485,  230565590], dtype=uint32)),\n",
       " Array([ 0.01658618, -0.03144887,  0.0064795 , -0.04463173], dtype=float32),\n",
       " Array(0, dtype=int32),\n",
       " Array(False, dtype=bool))"
      ]
     },
     "execution_count": 7,
     "metadata": {},
     "output_type": "execute_result"
    }
   ],
   "source": [
    "env_state, obs = env.reset(key)\n",
    "env.step(env_state, jnp.array([1]))"
   ]
  },
  {
   "cell_type": "code",
   "execution_count": null,
   "metadata": {},
   "outputs": [],
   "source": []
  }
 ],
 "metadata": {
  "kernelspec": {
   "display_name": "jax-rl-KPtyfD6I-py3.10",
   "language": "python",
   "name": "python3"
  },
  "language_info": {
   "codemirror_mode": {
    "name": "ipython",
    "version": 3
   },
   "file_extension": ".py",
   "mimetype": "text/x-python",
   "name": "python",
   "nbconvert_exporter": "python",
   "pygments_lexer": "ipython3",
   "version": "3.10.7"
  }
 },
 "nbformat": 4,
 "nbformat_minor": 2
}
