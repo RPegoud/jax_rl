{
 "cells": [
  {
   "cell_type": "markdown",
   "metadata": {},
   "source": [
    "# ***Breakout with DQN***\n",
    "\n",
    "<div align=\"center\">\n",
    "    <img src=\"https://gymnasium.farama.org/_images/breakout.gif\">\n",
    "</div>\n",
    "\n",
    "## ***References***:\n",
    "* [Minatar](https://github.com/kenjyoung/MinAtar/blob/master/minatar/environments/breakout.py)\n",
    "* [Gymnax](https://github.com/RobertTLange/gymnax/blob/main/gymnax/environments/minatar/breakout.py)\n",
    "* [Gymnasium](https://gymnasium.farama.org/environments/atari/breakout/)"
   ]
  },
  {
   "cell_type": "code",
   "execution_count": 1,
   "metadata": {},
   "outputs": [
    {
     "name": "stderr",
     "output_type": "stream",
     "text": [
      "c:\\Users\\ryanp\\AppData\\Local\\pypoetry\\Cache\\virtualenvs\\jax-rl-KPtyfD6I-py3.10\\lib\\site-packages\\tqdm\\auto.py:21: TqdmWarning: IProgress not found. Please update jupyter and ipywidgets. See https://ipywidgets.readthedocs.io/en/stable/user_install.html\n",
      "  from .autonotebook import tqdm as notebook_tqdm\n"
     ]
    }
   ],
   "source": [
    "import sys\n",
    "import jax\n",
    "import jax.numpy as jnp\n",
    "import pandas as pd\n",
    "import plotly.express as px\n",
    "import plotly.graph_objects as go\n",
    "import optax\n",
    "import haiku as hk\n",
    "import plotly.graph_objects as go\n",
    "import numpy as np\n",
    "\n",
    "from jax import random, vmap, lax\n",
    "from jax_tqdm import loop_tqdm\n",
    "\n",
    "sys.path.append(\"../../\")\n",
    "from src import Breakout, DQN, UniformReplayBuffer, deep_rl_rollout"
   ]
  },
  {
   "cell_type": "code",
   "execution_count": 2,
   "metadata": {},
   "outputs": [],
   "source": [
    "# MinAtar Breakout params\n",
    "BATCH_SIZE = 32\n",
    "BUFFER_SIZE = 100_000\n",
    "TARGET_NETWORK_UPDATE_FREQ = 1000\n",
    "TRAINING_FREQ = 1\n",
    "NUM_FRAMES = 5_000_000\n",
    "FIRST_N_FRAMES = 100_000\n",
    "REPLAY_START_SIZE = 5000\n",
    "END_EPSILON = 0.1\n",
    "LEARNING_RATE = 0.00025\n",
    "GRAD_MOMENTUM = 0.95\n",
    "SQUARED_GRAD_MOMENTUM = 0.95\n",
    "MIN_SQUARED_GRAD = 0.01\n",
    "DISCOUNT = 0.99\n",
    "EPSILON = 1.0\n",
    "\n",
    "# other params\n",
    "RANDOM_SEED = 0\n",
    "STATE_SHAPE = (10, 10, 4)"
   ]
  },
  {
   "cell_type": "code",
   "execution_count": 3,
   "metadata": {},
   "outputs": [
    {
     "data": {
      "text/plain": [
       "{'conv2_d': {'b': (16,), 'w': (3, 3, 4, 16)},\n",
       " 'mlp/~/linear_0': {'b': (128,), 'w': (1600, 128)},\n",
       " 'mlp/~/linear_1': {'b': (3,), 'w': (128, 3)}}"
      ]
     },
     "execution_count": 3,
     "metadata": {},
     "output_type": "execute_result"
    }
   ],
   "source": [
    "key = random.PRNGKey(0)\n",
    "env = Breakout()\n",
    "\n",
    "\n",
    "@hk.transform\n",
    "def model(x):\n",
    "    \"\"\"\n",
    "    MinAtar version of DQN\n",
    "    ref: https://github.com/kenjyoung/MinAtar/blob/master/examples/dqn.py\n",
    "    \"\"\"\n",
    "    conv_layer = hk.Conv2D(\n",
    "        output_channels=16,\n",
    "        kernel_shape=3,\n",
    "        stride=1,\n",
    "    )\n",
    "    fc = hk.nets.MLP(\n",
    "        output_sizes=[128, env.n_actions],\n",
    "        activation=jax.nn.relu,\n",
    "        activate_final=False,\n",
    "    )\n",
    "\n",
    "    x = jax.nn.relu(conv_layer(x))\n",
    "    x = x.reshape(-1)\n",
    "    return fc(x)\n",
    "\n",
    "\n",
    "def inverse_scaling_decay(epsilon_start, epsilon_end, current_step, decay_rate):\n",
    "    return epsilon_end + (epsilon_start - epsilon_end) / (1 + decay_rate * current_step)\n",
    "\n",
    "\n",
    "replay_buffer = UniformReplayBuffer(BUFFER_SIZE, BATCH_SIZE)\n",
    "online_key, target_key = vmap(random.PRNGKey)(jnp.arange(2) + RANDOM_SEED)\n",
    "online_net_params = model.init(online_key, random.normal(online_key, env.obs_shape))\n",
    "target_net_params = model.init(target_key, random.normal(target_key, env.obs_shape))\n",
    "optimizer = optax.adam(learning_rate=LEARNING_RATE)\n",
    "optimizer_state = optimizer.init(online_net_params)\n",
    "agent = DQN(model, DISCOUNT, len(env.actions))\n",
    "\n",
    "jax.tree_map(lambda x: x.shape, online_net_params)"
   ]
  },
  {
   "cell_type": "code",
   "execution_count": 4,
   "metadata": {},
   "outputs": [
    {
     "data": {
      "text/plain": [
       "{'actions': (100000,),\n",
       " 'dones': (100000,),\n",
       " 'next_states': (100000, 10, 10, 4),\n",
       " 'rewards': (100000,),\n",
       " 'states': (100000, 10, 10, 4)}"
      ]
     },
     "execution_count": 4,
     "metadata": {},
     "output_type": "execute_result"
    }
   ],
   "source": [
    "buffer_state = {\n",
    "    \"states\": jnp.empty((BUFFER_SIZE, *STATE_SHAPE), dtype=jnp.float32),\n",
    "    \"actions\": jnp.empty((BUFFER_SIZE,), dtype=jnp.int32),\n",
    "    \"rewards\": jnp.empty((BUFFER_SIZE,), dtype=jnp.int32),\n",
    "    \"next_states\": jnp.empty((BUFFER_SIZE, *STATE_SHAPE), dtype=jnp.float32),\n",
    "    \"dones\": jnp.empty((BUFFER_SIZE,), dtype=jnp.bool_),\n",
    "}\n",
    "jax.tree_map(lambda x: x.shape, buffer_state)"
   ]
  },
  {
   "cell_type": "code",
   "execution_count": 6,
   "metadata": {},
   "outputs": [
    {
     "ename": "AttributeError",
     "evalue": "'tuple' object has no attribute 'pos'",
     "output_type": "error",
     "traceback": [
      "\u001b[1;31m---------------------------------------------------------------------------\u001b[0m",
      "\u001b[1;31mAttributeError\u001b[0m                            Traceback (most recent call last)",
      "\u001b[1;32mc:\\Users\\ryanp\\OneDrive\\Bureau\\Taff\\jax_rl\\notebooks\\minAtar\\dqn_breakout.ipynb Cell 6\u001b[0m line \u001b[0;36m2\n\u001b[0;32m      <a href='vscode-notebook-cell:/c%3A/Users/ryanp/OneDrive/Bureau/Taff/jax_rl/notebooks/minAtar/dqn_breakout.ipynb#X20sZmlsZQ%3D%3D?line=0'>1</a>\u001b[0m init_key, action_key, buffer_key \u001b[39m=\u001b[39m vmap(random\u001b[39m.\u001b[39mPRNGKey)(jnp\u001b[39m.\u001b[39marange(\u001b[39m3\u001b[39m) \u001b[39m+\u001b[39m \u001b[39m1\u001b[39m)\n\u001b[1;32m----> <a href='vscode-notebook-cell:/c%3A/Users/ryanp/OneDrive/Bureau/Taff/jax_rl/notebooks/minAtar/dqn_breakout.ipynb#X20sZmlsZQ%3D%3D?line=1'>2</a>\u001b[0m env_state, _ \u001b[39m=\u001b[39m env\u001b[39m.\u001b[39;49mreset(init_key)\n\u001b[0;32m      <a href='vscode-notebook-cell:/c%3A/Users/ryanp/OneDrive/Bureau/Taff/jax_rl/notebooks/minAtar/dqn_breakout.ipynb#X20sZmlsZQ%3D%3D?line=2'>3</a>\u001b[0m all_actions \u001b[39m=\u001b[39m jnp\u001b[39m.\u001b[39mzeros([\u001b[39m1000\u001b[39m])\n\u001b[0;32m      <a href='vscode-notebook-cell:/c%3A/Users/ryanp/OneDrive/Bureau/Taff/jax_rl/notebooks/minAtar/dqn_breakout.ipynb#X20sZmlsZQ%3D%3D?line=3'>4</a>\u001b[0m all_obs \u001b[39m=\u001b[39m jnp\u001b[39m.\u001b[39mzeros([\u001b[39m1000\u001b[39m, \u001b[39m*\u001b[39mSTATE_SHAPE])\n",
      "File \u001b[1;32mc:\\Users\\ryanp\\OneDrive\\Bureau\\Taff\\jax_rl\\notebooks\\minAtar\\../..\\src\\envs\\minatar\\breakout.py:122\u001b[0m, in \u001b[0;36mBreakout.reset\u001b[1;34m(self, key)\u001b[0m\n\u001b[0;32m    121\u001b[0m \u001b[39mdef\u001b[39;00m \u001b[39mreset\u001b[39m(\u001b[39mself\u001b[39m, key: random\u001b[39m.\u001b[39mPRNGKey) \u001b[39m-\u001b[39m\u001b[39m>\u001b[39m Tuple[jnp\u001b[39m.\u001b[39marray, EnvState]:\n\u001b[1;32m--> 122\u001b[0m     \u001b[39mreturn\u001b[39;00m \u001b[39mself\u001b[39;49m\u001b[39m.\u001b[39;49m_reset(key)\n",
      "File \u001b[1;32mc:\\Users\\ryanp\\OneDrive\\Bureau\\Taff\\jax_rl\\notebooks\\minAtar\\../..\\src\\envs\\minatar\\breakout.py:98\u001b[0m, in \u001b[0;36mBreakout._reset\u001b[1;34m(self, key)\u001b[0m\n\u001b[0;32m     78\u001b[0m ball_x, ball_dir \u001b[39m=\u001b[39m lax\u001b[39m.\u001b[39mselect(\n\u001b[0;32m     79\u001b[0m     ball_init,\n\u001b[0;32m     80\u001b[0m     jnp\u001b[39m.\u001b[39marray([\u001b[39m0\u001b[39m, \u001b[39m2\u001b[39m]),  \u001b[39m# ball in the leftmost column, going down/right\u001b[39;00m\n\u001b[0;32m     81\u001b[0m     jnp\u001b[39m.\u001b[39marray([\u001b[39m9\u001b[39m, \u001b[39m3\u001b[39m]),  \u001b[39m# ball in the rightmost column, going down/left\u001b[39;00m\n\u001b[0;32m     82\u001b[0m )\n\u001b[0;32m     83\u001b[0m env_state \u001b[39m=\u001b[39m (\n\u001b[0;32m     84\u001b[0m     EnvState(\n\u001b[0;32m     85\u001b[0m         ball_x\u001b[39m=\u001b[39mball_x,\n\u001b[1;32m   (...)\u001b[0m\n\u001b[0;32m     96\u001b[0m     subkey,\n\u001b[0;32m     97\u001b[0m )\n\u001b[1;32m---> 98\u001b[0m \u001b[39mreturn\u001b[39;00m env_state, \u001b[39mself\u001b[39;49m\u001b[39m.\u001b[39;49m_get_obs(env_state)\n",
      "File \u001b[1;32mc:\\Users\\ryanp\\OneDrive\\Bureau\\Taff\\jax_rl\\notebooks\\minAtar\\../..\\src\\envs\\minatar\\breakout.py:68\u001b[0m, in \u001b[0;36mBreakout._get_obs\u001b[1;34m(self, state)\u001b[0m\n\u001b[0;32m     64\u001b[0m \u001b[39m\u001b[39m\u001b[39m\"\"\"\u001b[39;00m\n\u001b[0;32m     65\u001b[0m \u001b[39mConverts EnvStates to observations.\u001b[39;00m\n\u001b[0;32m     66\u001b[0m \u001b[39m\"\"\"\u001b[39;00m\n\u001b[0;32m     67\u001b[0m obs \u001b[39m=\u001b[39m jnp\u001b[39m.\u001b[39mzeros(\u001b[39mself\u001b[39m\u001b[39m.\u001b[39mobs_shape, dtype\u001b[39m=\u001b[39mjnp\u001b[39m.\u001b[39mbool_)\n\u001b[1;32m---> 68\u001b[0m obs \u001b[39m=\u001b[39m obs\u001b[39m.\u001b[39mat[\u001b[39m9\u001b[39m, state\u001b[39m.\u001b[39;49mpos, \u001b[39mself\u001b[39m\u001b[39m.\u001b[39mchannels[\u001b[39m\"\u001b[39m\u001b[39mpaddle\u001b[39m\u001b[39m\"\u001b[39m]]\u001b[39m.\u001b[39mset(\u001b[39m1\u001b[39m)\n\u001b[0;32m     69\u001b[0m obs \u001b[39m=\u001b[39m obs\u001b[39m.\u001b[39mat[state\u001b[39m.\u001b[39mball_y, state\u001b[39m.\u001b[39mball_x, \u001b[39mself\u001b[39m\u001b[39m.\u001b[39mchannels[\u001b[39m\"\u001b[39m\u001b[39mball\u001b[39m\u001b[39m\"\u001b[39m]]\u001b[39m.\u001b[39mset(\u001b[39m1\u001b[39m)\n\u001b[0;32m     70\u001b[0m obs \u001b[39m=\u001b[39m obs\u001b[39m.\u001b[39mat[state\u001b[39m.\u001b[39mlast_y, state\u001b[39m.\u001b[39mlast_x, \u001b[39mself\u001b[39m\u001b[39m.\u001b[39mchannels[\u001b[39m\"\u001b[39m\u001b[39mtrail\u001b[39m\u001b[39m\"\u001b[39m]]\u001b[39m.\u001b[39mset(\u001b[39m1\u001b[39m)\n",
      "\u001b[1;31mAttributeError\u001b[0m: 'tuple' object has no attribute 'pos'"
     ]
    }
   ],
   "source": [
    "init_key, action_key, buffer_key = vmap(random.PRNGKey)(jnp.arange(3) + 1)\n",
    "env_state, _ = env.reset(init_key)\n",
    "all_actions = jnp.zeros([1000])\n",
    "all_obs = jnp.zeros([1000, *STATE_SHAPE])\n",
    "all_rewards = jnp.zeros([1000], dtype=jnp.float32)\n",
    "all_done = jnp.zeros([1000], dtype=jnp.bool_)\n",
    "losses = jnp.zeros([1000], dtype=jnp.float32)\n",
    "\n",
    "model_params = model.init(init_key, jnp.zeros(STATE_SHAPE))\n",
    "target_net_params = model.init(action_key, jnp.zeros(STATE_SHAPE))\n",
    "optimizer_state = optimizer.init(model_params)\n",
    "\n",
    "state, _ = env_state\n",
    "epsilon = inverse_scaling_decay(1.0, 0.1, 0, 1e-3)\n",
    "action, action_key = agent.act(action_key, model_params, state, epsilon)\n",
    "env_state, new_state, reward, done = env.step(env_state, action)\n",
    "experience = (state, action, reward, new_state, done)"
   ]
  },
  {
   "cell_type": "code",
   "execution_count": null,
   "metadata": {},
   "outputs": [],
   "source": []
  },
  {
   "cell_type": "code",
   "execution_count": null,
   "metadata": {},
   "outputs": [],
   "source": []
  },
  {
   "cell_type": "code",
   "execution_count": null,
   "metadata": {},
   "outputs": [],
   "source": []
  },
  {
   "cell_type": "code",
   "execution_count": null,
   "metadata": {},
   "outputs": [
    {
     "name": "stderr",
     "output_type": "stream",
     "text": [
      "c:\\Users\\ryanp\\AppData\\Local\\pypoetry\\Cache\\virtualenvs\\jax-rl-KPtyfD6I-py3.10\\lib\\site-packages\\jax\\_src\\ops\\scatter.py:94: FutureWarning: scatter inputs have incompatible types: cannot safely cast value from dtype=int32 to dtype=bool with jax_numpy_dtype_promotion='standard'. In future JAX releases this will result in an error.\n",
      "  warnings.warn(\n",
      "c:\\Users\\ryanp\\AppData\\Local\\pypoetry\\Cache\\virtualenvs\\jax-rl-KPtyfD6I-py3.10\\lib\\site-packages\\jax\\_src\\ops\\scatter.py:94: FutureWarning: scatter inputs have incompatible types: cannot safely cast value from dtype=float32 to dtype=bool with jax_numpy_dtype_promotion='standard'. In future JAX releases this will result in an error.\n",
      "  warnings.warn(\n"
     ]
    },
    {
     "ename": "AttributeError",
     "evalue": "'EnvState' object has no attribute 'ndim'",
     "output_type": "error",
     "traceback": [
      "\u001b[1;31m---------------------------------------------------------------------------\u001b[0m",
      "\u001b[1;31mAttributeError\u001b[0m                            Traceback (most recent call last)",
      "\u001b[1;32mc:\\Users\\ryanp\\OneDrive\\Bureau\\Taff\\jax_rl\\notebooks\\minAtar\\dqn_breakout.ipynb Cell 6\u001b[0m line \u001b[0;36m2\n\u001b[0;32m      <a href='vscode-notebook-cell:/c%3A/Users/ryanp/OneDrive/Bureau/Taff/jax_rl/notebooks/minAtar/dqn_breakout.ipynb#W4sZmlsZQ%3D%3D?line=0'>1</a>\u001b[0m state, env_state \u001b[39m=\u001b[39m env\u001b[39m.\u001b[39mreset(key)\n\u001b[1;32m----> <a href='vscode-notebook-cell:/c%3A/Users/ryanp/OneDrive/Bureau/Taff/jax_rl/notebooks/minAtar/dqn_breakout.ipynb#W4sZmlsZQ%3D%3D?line=1'>2</a>\u001b[0m model\u001b[39m.\u001b[39;49mapply(online_net_params, \u001b[39mNone\u001b[39;49;00m, state)\n",
      "File \u001b[1;32mc:\\Users\\ryanp\\AppData\\Local\\pypoetry\\Cache\\virtualenvs\\jax-rl-KPtyfD6I-py3.10\\lib\\site-packages\\haiku\\_src\\transform.py:187\u001b[0m, in \u001b[0;36mwithout_state.<locals>.apply_fn\u001b[1;34m(params, *args, **kwargs)\u001b[0m\n\u001b[0;32m    180\u001b[0m \u001b[39mif\u001b[39;00m \u001b[39m\"\u001b[39m\u001b[39mstate\u001b[39m\u001b[39m\"\u001b[39m \u001b[39min\u001b[39;00m kwargs:\n\u001b[0;32m    181\u001b[0m   \u001b[39mraise\u001b[39;00m \u001b[39mTypeError\u001b[39;00m(\n\u001b[0;32m    182\u001b[0m       \u001b[39m\"\u001b[39m\u001b[39mHaiku transform adds three arguments (params, state, rng) to apply. \u001b[39m\u001b[39m\"\u001b[39m\n\u001b[0;32m    183\u001b[0m       \u001b[39m\"\u001b[39m\u001b[39mIf the functions you are transforming use the same names you must \u001b[39m\u001b[39m\"\u001b[39m\n\u001b[0;32m    184\u001b[0m       \u001b[39m\"\u001b[39m\u001b[39mpass them positionally (e.g. `f.apply(.., my_state)` and not by \u001b[39m\u001b[39m\"\u001b[39m\n\u001b[0;32m    185\u001b[0m       \u001b[39m\"\u001b[39m\u001b[39mname (e.g. `f.apply(.., state=my_state)`)\u001b[39m\u001b[39m\"\u001b[39m)\n\u001b[1;32m--> 187\u001b[0m out, state \u001b[39m=\u001b[39m f\u001b[39m.\u001b[39mapply(params, \u001b[39mNone\u001b[39;00m, \u001b[39m*\u001b[39margs, \u001b[39m*\u001b[39m\u001b[39m*\u001b[39mkwargs)\n\u001b[0;32m    188\u001b[0m \u001b[39mif\u001b[39;00m state:\n\u001b[0;32m    189\u001b[0m   \u001b[39mraise\u001b[39;00m base\u001b[39m.\u001b[39mNonEmptyStateError(\n\u001b[0;32m    190\u001b[0m       \u001b[39m\"\u001b[39m\u001b[39mIf your transformed function uses `hk.\u001b[39m\u001b[39m{\u001b[39m\u001b[39mget,set}_state` then use \u001b[39m\u001b[39m\"\u001b[39m\n\u001b[0;32m    191\u001b[0m       \u001b[39m\"\u001b[39m\u001b[39m`hk.transform_with_state`.\u001b[39m\u001b[39m\"\u001b[39m)\n",
      "File \u001b[1;32mc:\\Users\\ryanp\\AppData\\Local\\pypoetry\\Cache\\virtualenvs\\jax-rl-KPtyfD6I-py3.10\\lib\\site-packages\\haiku\\_src\\transform.py:457\u001b[0m, in \u001b[0;36mtransform_with_state.<locals>.apply_fn\u001b[1;34m(params, state, rng, *args, **kwargs)\u001b[0m\n\u001b[0;32m    455\u001b[0m \u001b[39mwith\u001b[39;00m base\u001b[39m.\u001b[39mnew_context(params\u001b[39m=\u001b[39mparams, state\u001b[39m=\u001b[39mstate, rng\u001b[39m=\u001b[39mrng) \u001b[39mas\u001b[39;00m ctx:\n\u001b[0;32m    456\u001b[0m   \u001b[39mtry\u001b[39;00m:\n\u001b[1;32m--> 457\u001b[0m     out \u001b[39m=\u001b[39m f(\u001b[39m*\u001b[39margs, \u001b[39m*\u001b[39m\u001b[39m*\u001b[39mkwargs)\n\u001b[0;32m    458\u001b[0m   \u001b[39mexcept\u001b[39;00m jax\u001b[39m.\u001b[39merrors\u001b[39m.\u001b[39mUnexpectedTracerError \u001b[39mas\u001b[39;00m e:\n\u001b[0;32m    459\u001b[0m     \u001b[39mraise\u001b[39;00m jax\u001b[39m.\u001b[39merrors\u001b[39m.\u001b[39mUnexpectedTracerError(unexpected_tracer_hint) \u001b[39mfrom\u001b[39;00m \u001b[39me\u001b[39;00m\n",
      "\u001b[1;32mc:\\Users\\ryanp\\OneDrive\\Bureau\\Taff\\jax_rl\\notebooks\\minAtar\\dqn_breakout.ipynb Cell 6\u001b[0m line \u001b[0;36m2\n\u001b[0;32m     <a href='vscode-notebook-cell:/c%3A/Users/ryanp/OneDrive/Bureau/Taff/jax_rl/notebooks/minAtar/dqn_breakout.ipynb#W4sZmlsZQ%3D%3D?line=10'>11</a>\u001b[0m conv_layer \u001b[39m=\u001b[39m hk\u001b[39m.\u001b[39mConv2D(\n\u001b[0;32m     <a href='vscode-notebook-cell:/c%3A/Users/ryanp/OneDrive/Bureau/Taff/jax_rl/notebooks/minAtar/dqn_breakout.ipynb#W4sZmlsZQ%3D%3D?line=11'>12</a>\u001b[0m     output_channels\u001b[39m=\u001b[39m\u001b[39m16\u001b[39m,\n\u001b[0;32m     <a href='vscode-notebook-cell:/c%3A/Users/ryanp/OneDrive/Bureau/Taff/jax_rl/notebooks/minAtar/dqn_breakout.ipynb#W4sZmlsZQ%3D%3D?line=12'>13</a>\u001b[0m     kernel_shape\u001b[39m=\u001b[39m\u001b[39m3\u001b[39m,\n\u001b[0;32m     <a href='vscode-notebook-cell:/c%3A/Users/ryanp/OneDrive/Bureau/Taff/jax_rl/notebooks/minAtar/dqn_breakout.ipynb#W4sZmlsZQ%3D%3D?line=13'>14</a>\u001b[0m     stride\u001b[39m=\u001b[39m\u001b[39m1\u001b[39m,\n\u001b[0;32m     <a href='vscode-notebook-cell:/c%3A/Users/ryanp/OneDrive/Bureau/Taff/jax_rl/notebooks/minAtar/dqn_breakout.ipynb#W4sZmlsZQ%3D%3D?line=14'>15</a>\u001b[0m )\n\u001b[0;32m     <a href='vscode-notebook-cell:/c%3A/Users/ryanp/OneDrive/Bureau/Taff/jax_rl/notebooks/minAtar/dqn_breakout.ipynb#W4sZmlsZQ%3D%3D?line=15'>16</a>\u001b[0m fc \u001b[39m=\u001b[39m hk\u001b[39m.\u001b[39mnets\u001b[39m.\u001b[39mMLP(\n\u001b[0;32m     <a href='vscode-notebook-cell:/c%3A/Users/ryanp/OneDrive/Bureau/Taff/jax_rl/notebooks/minAtar/dqn_breakout.ipynb#W4sZmlsZQ%3D%3D?line=16'>17</a>\u001b[0m     output_sizes\u001b[39m=\u001b[39m[\u001b[39m128\u001b[39m, env\u001b[39m.\u001b[39mn_actions],\n\u001b[0;32m     <a href='vscode-notebook-cell:/c%3A/Users/ryanp/OneDrive/Bureau/Taff/jax_rl/notebooks/minAtar/dqn_breakout.ipynb#W4sZmlsZQ%3D%3D?line=17'>18</a>\u001b[0m     activation\u001b[39m=\u001b[39mjax\u001b[39m.\u001b[39mnn\u001b[39m.\u001b[39mrelu,\n\u001b[0;32m     <a href='vscode-notebook-cell:/c%3A/Users/ryanp/OneDrive/Bureau/Taff/jax_rl/notebooks/minAtar/dqn_breakout.ipynb#W4sZmlsZQ%3D%3D?line=18'>19</a>\u001b[0m     activate_final\u001b[39m=\u001b[39m\u001b[39mFalse\u001b[39;00m,\n\u001b[0;32m     <a href='vscode-notebook-cell:/c%3A/Users/ryanp/OneDrive/Bureau/Taff/jax_rl/notebooks/minAtar/dqn_breakout.ipynb#W4sZmlsZQ%3D%3D?line=19'>20</a>\u001b[0m )\n\u001b[1;32m---> <a href='vscode-notebook-cell:/c%3A/Users/ryanp/OneDrive/Bureau/Taff/jax_rl/notebooks/minAtar/dqn_breakout.ipynb#W4sZmlsZQ%3D%3D?line=21'>22</a>\u001b[0m x \u001b[39m=\u001b[39m jax\u001b[39m.\u001b[39mnn\u001b[39m.\u001b[39mrelu(conv_layer(x))\n\u001b[0;32m     <a href='vscode-notebook-cell:/c%3A/Users/ryanp/OneDrive/Bureau/Taff/jax_rl/notebooks/minAtar/dqn_breakout.ipynb#W4sZmlsZQ%3D%3D?line=22'>23</a>\u001b[0m x \u001b[39m=\u001b[39m x\u001b[39m.\u001b[39mreshape(\u001b[39m-\u001b[39m\u001b[39m1\u001b[39m)\n\u001b[0;32m     <a href='vscode-notebook-cell:/c%3A/Users/ryanp/OneDrive/Bureau/Taff/jax_rl/notebooks/minAtar/dqn_breakout.ipynb#W4sZmlsZQ%3D%3D?line=23'>24</a>\u001b[0m \u001b[39mreturn\u001b[39;00m fc(x)\n",
      "File \u001b[1;32mc:\\Users\\ryanp\\AppData\\Local\\pypoetry\\Cache\\virtualenvs\\jax-rl-KPtyfD6I-py3.10\\lib\\site-packages\\haiku\\_src\\module.py:465\u001b[0m, in \u001b[0;36mwrap_method.<locals>.wrapped\u001b[1;34m(self, *args, **kwargs)\u001b[0m\n\u001b[0;32m    462\u001b[0m   \u001b[39mif\u001b[39;00m method_name \u001b[39m!=\u001b[39m \u001b[39m\"\u001b[39m\u001b[39m__call__\u001b[39m\u001b[39m\"\u001b[39m:\n\u001b[0;32m    463\u001b[0m     f \u001b[39m=\u001b[39m jax\u001b[39m.\u001b[39mnamed_call(f, name\u001b[39m=\u001b[39mmethod_name)\n\u001b[1;32m--> 465\u001b[0m out \u001b[39m=\u001b[39m f(\u001b[39m*\u001b[39margs, \u001b[39m*\u001b[39m\u001b[39m*\u001b[39mkwargs)\n\u001b[0;32m    467\u001b[0m \u001b[39m# Module names are set in the constructor. If `f` is the constructor then\u001b[39;00m\n\u001b[0;32m    468\u001b[0m \u001b[39m# its name will only be set **after** `f` has run. For methods other\u001b[39;00m\n\u001b[0;32m    469\u001b[0m \u001b[39m# than `__init__` we need the name before running in order to wrap their\u001b[39;00m\n\u001b[0;32m    470\u001b[0m \u001b[39m# execution with `named_call`.\u001b[39;00m\n\u001b[0;32m    471\u001b[0m \u001b[39mif\u001b[39;00m module_name \u001b[39mis\u001b[39;00m \u001b[39mNone\u001b[39;00m:\n",
      "File \u001b[1;32m~\\AppData\\Local\\Programs\\Python\\Python310\\lib\\contextlib.py:79\u001b[0m, in \u001b[0;36mContextDecorator.__call__.<locals>.inner\u001b[1;34m(*args, **kwds)\u001b[0m\n\u001b[0;32m     76\u001b[0m \u001b[39m@wraps\u001b[39m(func)\n\u001b[0;32m     77\u001b[0m \u001b[39mdef\u001b[39;00m \u001b[39minner\u001b[39m(\u001b[39m*\u001b[39margs, \u001b[39m*\u001b[39m\u001b[39m*\u001b[39mkwds):\n\u001b[0;32m     78\u001b[0m     \u001b[39mwith\u001b[39;00m \u001b[39mself\u001b[39m\u001b[39m.\u001b[39m_recreate_cm():\n\u001b[1;32m---> 79\u001b[0m         \u001b[39mreturn\u001b[39;00m func(\u001b[39m*\u001b[39margs, \u001b[39m*\u001b[39m\u001b[39m*\u001b[39mkwds)\n",
      "File \u001b[1;32mc:\\Users\\ryanp\\AppData\\Local\\pypoetry\\Cache\\virtualenvs\\jax-rl-KPtyfD6I-py3.10\\lib\\site-packages\\haiku\\_src\\module.py:306\u001b[0m, in \u001b[0;36mrun_interceptors\u001b[1;34m(bound_method, method_name, self, orig_class, *args, **kwargs)\u001b[0m\n\u001b[0;32m    304\u001b[0m \u001b[39m\u001b[39m\u001b[39m\"\"\"Runs any method interceptors or the original method.\"\"\"\u001b[39;00m\n\u001b[0;32m    305\u001b[0m \u001b[39mif\u001b[39;00m \u001b[39mnot\u001b[39;00m interceptor_stack:\n\u001b[1;32m--> 306\u001b[0m   \u001b[39mreturn\u001b[39;00m bound_method(\u001b[39m*\u001b[39margs, \u001b[39m*\u001b[39m\u001b[39m*\u001b[39mkwargs)\n\u001b[0;32m    308\u001b[0m ctx \u001b[39m=\u001b[39m MethodContext(module\u001b[39m=\u001b[39m\u001b[39mself\u001b[39m,\n\u001b[0;32m    309\u001b[0m                     method_name\u001b[39m=\u001b[39mmethod_name,\n\u001b[0;32m    310\u001b[0m                     orig_method\u001b[39m=\u001b[39mbound_method,\n\u001b[0;32m    311\u001b[0m                     orig_class\u001b[39m=\u001b[39morig_class)\n\u001b[0;32m    312\u001b[0m interceptor_stack_copy \u001b[39m=\u001b[39m interceptor_stack\u001b[39m.\u001b[39mclone()\n",
      "File \u001b[1;32mc:\\Users\\ryanp\\AppData\\Local\\pypoetry\\Cache\\virtualenvs\\jax-rl-KPtyfD6I-py3.10\\lib\\site-packages\\haiku\\_src\\conv.py:178\u001b[0m, in \u001b[0;36mConvND.__call__\u001b[1;34m(self, inputs, precision)\u001b[0m\n\u001b[0;32m    176\u001b[0m unbatched_rank \u001b[39m=\u001b[39m \u001b[39mself\u001b[39m\u001b[39m.\u001b[39mnum_spatial_dims \u001b[39m+\u001b[39m \u001b[39m1\u001b[39m\n\u001b[0;32m    177\u001b[0m allowed_ranks \u001b[39m=\u001b[39m [unbatched_rank, unbatched_rank \u001b[39m+\u001b[39m \u001b[39m1\u001b[39m]\n\u001b[1;32m--> 178\u001b[0m \u001b[39mif\u001b[39;00m inputs\u001b[39m.\u001b[39;49mndim \u001b[39mnot\u001b[39;00m \u001b[39min\u001b[39;00m allowed_ranks:\n\u001b[0;32m    179\u001b[0m   \u001b[39mraise\u001b[39;00m \u001b[39mValueError\u001b[39;00m(\u001b[39mf\u001b[39m\u001b[39m\"\u001b[39m\u001b[39mInput to ConvND needs to have rank in \u001b[39m\u001b[39m{\u001b[39;00mallowed_ranks\u001b[39m}\u001b[39;00m\u001b[39m,\u001b[39m\u001b[39m\"\u001b[39m\n\u001b[0;32m    180\u001b[0m                    \u001b[39mf\u001b[39m\u001b[39m\"\u001b[39m\u001b[39m but input has shape \u001b[39m\u001b[39m{\u001b[39;00minputs\u001b[39m.\u001b[39mshape\u001b[39m}\u001b[39;00m\u001b[39m.\u001b[39m\u001b[39m\"\u001b[39m)\n\u001b[0;32m    182\u001b[0m unbatched \u001b[39m=\u001b[39m inputs\u001b[39m.\u001b[39mndim \u001b[39m==\u001b[39m unbatched_rank\n",
      "\u001b[1;31mAttributeError\u001b[0m: 'EnvState' object has no attribute 'ndim'"
     ]
    }
   ],
   "source": [
    "state, env_state = env.reset(key)\n",
    "model.apply(online_net_params, None, state)"
   ]
  },
  {
   "cell_type": "code",
   "execution_count": null,
   "metadata": {},
   "outputs": [
    {
     "ename": "ValueError",
     "evalue": "too many values to unpack (expected 2)",
     "output_type": "error",
     "traceback": [
      "\u001b[1;31m---------------------------------------------------------------------------\u001b[0m",
      "\u001b[1;31mValueError\u001b[0m                                Traceback (most recent call last)",
      "\u001b[1;32mc:\\Users\\ryanp\\OneDrive\\Bureau\\Taff\\jax_rl\\notebooks\\minAtar\\dqn_breakout.ipynb Cell 8\u001b[0m line \u001b[0;36m1\n\u001b[0;32m      <a href='vscode-notebook-cell:/c%3A/Users/ryanp/OneDrive/Bureau/Taff/jax_rl/notebooks/minAtar/dqn_breakout.ipynb#X11sZmlsZQ%3D%3D?line=0'>1</a>\u001b[0m rollout_params \u001b[39m=\u001b[39m {\n\u001b[0;32m      <a href='vscode-notebook-cell:/c%3A/Users/ryanp/OneDrive/Bureau/Taff/jax_rl/notebooks/minAtar/dqn_breakout.ipynb#X11sZmlsZQ%3D%3D?line=1'>2</a>\u001b[0m     \u001b[39m\"\u001b[39m\u001b[39mtimesteps\u001b[39m\u001b[39m\"\u001b[39m: \u001b[39m1000\u001b[39m,\n\u001b[0;32m      <a href='vscode-notebook-cell:/c%3A/Users/ryanp/OneDrive/Bureau/Taff/jax_rl/notebooks/minAtar/dqn_breakout.ipynb#X11sZmlsZQ%3D%3D?line=2'>3</a>\u001b[0m     \u001b[39m\"\u001b[39m\u001b[39mrandom_seed\u001b[39m\u001b[39m\"\u001b[39m: RANDOM_SEED,\n\u001b[1;32m   (...)\u001b[0m\n\u001b[0;32m     <a href='vscode-notebook-cell:/c%3A/Users/ryanp/OneDrive/Bureau/Taff/jax_rl/notebooks/minAtar/dqn_breakout.ipynb#X11sZmlsZQ%3D%3D?line=15'>16</a>\u001b[0m     \u001b[39m\"\u001b[39m\u001b[39mdecay_rate\u001b[39m\u001b[39m\"\u001b[39m: \u001b[39m1e-3\u001b[39m,\n\u001b[0;32m     <a href='vscode-notebook-cell:/c%3A/Users/ryanp/OneDrive/Bureau/Taff/jax_rl/notebooks/minAtar/dqn_breakout.ipynb#X11sZmlsZQ%3D%3D?line=16'>17</a>\u001b[0m }\n\u001b[1;32m---> <a href='vscode-notebook-cell:/c%3A/Users/ryanp/OneDrive/Bureau/Taff/jax_rl/notebooks/minAtar/dqn_breakout.ipynb#X11sZmlsZQ%3D%3D?line=18'>19</a>\u001b[0m out \u001b[39m=\u001b[39m deep_rl_rollout(\u001b[39m*\u001b[39m\u001b[39m*\u001b[39mrollout_params)\n",
      "File \u001b[1;32mc:\\Users\\ryanp\\OneDrive\\Bureau\\Taff\\jax_rl\\notebooks\\minAtar\\../..\\src\\utils\\rollouts\\deep_rl_rollout.py:130\u001b[0m, in \u001b[0;36mdeep_rl_rollout\u001b[1;34m(timesteps, random_seed, target_net_update_freq, model, optimizer, buffer_state, agent, env, replay_buffer, state_shape, buffer_size, epsilon_decay_fn, epsilon_start, epsilon_end, decay_rate)\u001b[0m\n\u001b[0;32m    113\u001b[0m optimizer_state \u001b[39m=\u001b[39m optimizer\u001b[39m.\u001b[39minit(model_params)\n\u001b[0;32m    115\u001b[0m val_init \u001b[39m=\u001b[39m (\n\u001b[0;32m    116\u001b[0m     model_params,\n\u001b[0;32m    117\u001b[0m     target_net_params,\n\u001b[1;32m   (...)\u001b[0m\n\u001b[0;32m    127\u001b[0m     losses,\n\u001b[0;32m    128\u001b[0m )\n\u001b[1;32m--> 130\u001b[0m vals \u001b[39m=\u001b[39m lax\u001b[39m.\u001b[39;49mfori_loop(\u001b[39m0\u001b[39;49m, timesteps, _fori_body, val_init)\n\u001b[0;32m    131\u001b[0m output_dict \u001b[39m=\u001b[39m {}\n\u001b[0;32m    132\u001b[0m keys \u001b[39m=\u001b[39m [\n\u001b[0;32m    133\u001b[0m     \u001b[39m\"\u001b[39m\u001b[39mmodel_params\u001b[39m\u001b[39m\"\u001b[39m,\n\u001b[0;32m    134\u001b[0m     \u001b[39m\"\u001b[39m\u001b[39mtarget_net_params\u001b[39m\u001b[39m\"\u001b[39m,\n\u001b[1;32m   (...)\u001b[0m\n\u001b[0;32m    144\u001b[0m     \u001b[39m\"\u001b[39m\u001b[39mlosses\u001b[39m\u001b[39m\"\u001b[39m,\n\u001b[0;32m    145\u001b[0m ]\n",
      "    \u001b[1;31m[... skipping hidden 12 frame]\u001b[0m\n",
      "File \u001b[1;32mc:\\Users\\ryanp\\AppData\\Local\\pypoetry\\Cache\\virtualenvs\\jax-rl-KPtyfD6I-py3.10\\lib\\site-packages\\jax_tqdm\\pbar.py:89\u001b[0m, in \u001b[0;36mloop_tqdm.<locals>._loop_tqdm.<locals>.wrapper_progress_bar\u001b[1;34m(i, val)\u001b[0m\n\u001b[0;32m     87\u001b[0m \u001b[39mdef\u001b[39;00m \u001b[39mwrapper_progress_bar\u001b[39m(i, val):\n\u001b[0;32m     88\u001b[0m     _update_progress_bar(i)\n\u001b[1;32m---> 89\u001b[0m     result \u001b[39m=\u001b[39m func(i, val)\n\u001b[0;32m     90\u001b[0m     \u001b[39mreturn\u001b[39;00m close_tqdm(result, i)\n",
      "    \u001b[1;31m[... skipping hidden 12 frame]\u001b[0m\n",
      "File \u001b[1;32mc:\\Users\\ryanp\\OneDrive\\Bureau\\Taff\\jax_rl\\notebooks\\minAtar\\../..\\src\\utils\\rollouts\\deep_rl_rollout.py:49\u001b[0m, in \u001b[0;36mdeep_rl_rollout.<locals>._fori_body\u001b[1;34m(i, val)\u001b[0m\n\u001b[0;32m     31\u001b[0m \u001b[39m@loop_tqdm\u001b[39m(timesteps)\n\u001b[0;32m     32\u001b[0m \u001b[39m@jit\u001b[39m\n\u001b[0;32m     33\u001b[0m \u001b[39mdef\u001b[39;00m \u001b[39m_fori_body\u001b[39m(i: \u001b[39mint\u001b[39m, val: \u001b[39mtuple\u001b[39m):\n\u001b[0;32m     34\u001b[0m     (\n\u001b[0;32m     35\u001b[0m         model_params,\n\u001b[0;32m     36\u001b[0m         target_net_params,\n\u001b[1;32m   (...)\u001b[0m\n\u001b[0;32m     46\u001b[0m         losses,\n\u001b[0;32m     47\u001b[0m     ) \u001b[39m=\u001b[39m val\n\u001b[1;32m---> 49\u001b[0m     state, _ \u001b[39m=\u001b[39m env_state\n\u001b[0;32m     50\u001b[0m     epsilon \u001b[39m=\u001b[39m epsilon_decay_fn(epsilon_start, epsilon_end, i, decay_rate)\n\u001b[0;32m     51\u001b[0m     action, action_key \u001b[39m=\u001b[39m agent\u001b[39m.\u001b[39mact(action_key, model_params, state, epsilon)\n",
      "\u001b[1;31mValueError\u001b[0m: too many values to unpack (expected 2)"
     ]
    }
   ],
   "source": [
    "rollout_params = {\n",
    "    \"timesteps\": 1000,\n",
    "    \"random_seed\": RANDOM_SEED,\n",
    "    \"target_net_update_freq\": TARGET_NETWORK_UPDATE_FREQ,\n",
    "    \"model\": model,\n",
    "    \"optimizer\": optimizer,\n",
    "    \"buffer_state\": buffer_state,\n",
    "    \"agent\": agent,\n",
    "    \"env\": env,\n",
    "    \"replay_buffer\": replay_buffer,\n",
    "    \"state_shape\": STATE_SHAPE,\n",
    "    \"buffer_size\": BUFFER_SIZE,\n",
    "    \"epsilon_decay_fn\": inverse_scaling_decay,\n",
    "    \"epsilon_start\": EPSILON,\n",
    "    \"epsilon_end\": END_EPSILON,\n",
    "    \"decay_rate\": 1e-3,\n",
    "}\n",
    "\n",
    "out = deep_rl_rollout(**rollout_params)"
   ]
  }
 ],
 "metadata": {
  "kernelspec": {
   "display_name": "jax-rl-KPtyfD6I-py3.10",
   "language": "python",
   "name": "python3"
  },
  "language_info": {
   "codemirror_mode": {
    "name": "ipython",
    "version": 3
   },
   "file_extension": ".py",
   "mimetype": "text/x-python",
   "name": "python",
   "nbconvert_exporter": "python",
   "pygments_lexer": "ipython3",
   "version": "3.10.7"
  }
 },
 "nbformat": 4,
 "nbformat_minor": 2
}
