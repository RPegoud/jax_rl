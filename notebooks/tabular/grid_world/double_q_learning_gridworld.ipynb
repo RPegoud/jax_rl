{
 "cells": [
  {
   "cell_type": "markdown",
   "metadata": {},
   "source": [
    "# ⚡***Lightning fast parallelized training with*** <img src='https://upload.wikimedia.org/wikipedia/commons/8/86/Google_JAX_logo.svg' alt=\"Environment\" width=\"60\" />\n",
    "\n",
    "## **3) Double Q-learning on a GridWorld**"
   ]
  },
  {
   "cell_type": "code",
   "execution_count": 1,
   "metadata": {},
   "outputs": [
    {
     "name": "stderr",
     "output_type": "stream",
     "text": [
      "c:\\Users\\ryanp\\AppData\\Local\\pypoetry\\Cache\\virtualenvs\\jax-rl-KPtyfD6I-py3.10\\lib\\site-packages\\tqdm\\auto.py:21: TqdmWarning: IProgress not found. Please update jupyter and ipywidgets. See https://ipywidgets.readthedocs.io/en/stable/user_install.html\n",
      "  from .autonotebook import tqdm as notebook_tqdm\n",
      "c:\\Users\\ryanp\\AppData\\Local\\pypoetry\\Cache\\virtualenvs\\jax-rl-KPtyfD6I-py3.10\\lib\\site-packages\\jax\\_src\\api_util.py:172: SyntaxWarning: Jitted function has static_argnums=(0, 2), but only accepts 2 positional arguments. This warning will be replaced by an error after 2022-08-20 at the earliest.\n",
      "  warnings.warn(f\"Jitted function has {argnums_name}={argnums}, \"\n"
     ]
    }
   ],
   "source": [
    "import jax\n",
    "import jax.numpy as jnp\n",
    "import pandas as pd\n",
    "import plotly.express as px\n",
    "\n",
    "from jax import random, lax, jit, vmap, pmap\n",
    "from functools import partial\n",
    "from jax_tqdm import loop_tqdm\n",
    "import plotly.graph_objects as go\n",
    "from plotly.subplots import make_subplots\n",
    "import sys\n",
    "\n",
    "sys.path.append(\"../../../\")\n",
    "\n",
    "from src import GridWorld, Double_Q_learning, DoubleEpsilonGreedy\n",
    "from utils import animated_heatmap, double_rollout, plot_path"
   ]
  },
  {
   "cell_type": "code",
   "execution_count": 2,
   "metadata": {},
   "outputs": [
    {
     "name": "stderr",
     "output_type": "stream",
     "text": [
      "No GPU/TPU found, falling back to CPU. (Set TF_CPP_MIN_LOG_LEVEL=0 and rerun for more info.)\n"
     ]
    }
   ],
   "source": [
    "SEED = 2\n",
    "INITIAL_STATE = jnp.array([8, 12])\n",
    "GOAL_STATE = jnp.array([0, 0])\n",
    "GRID_SIZE = jnp.array([8, 12])\n",
    "N_STATES = jnp.prod(GRID_SIZE)\n",
    "N_ACTIONS = 4\n",
    "DISCOUNT = 0.9\n",
    "LEARNING_RATE = 0.1\n",
    "TIME_STEPS = 100_000\n",
    "STOCHASTIC_RESET = False\n",
    "\n",
    "key = random.PRNGKey(SEED)\n",
    "\n",
    "env = GridWorld(INITIAL_STATE, GOAL_STATE, GRID_SIZE, STOCHASTIC_RESET)\n",
    "policy = DoubleEpsilonGreedy(0.1, sum_qs=False)\n",
    "agent = Double_Q_learning(\n",
    "    key,\n",
    "    N_STATES,\n",
    "    N_ACTIONS, \n",
    "    DISCOUNT,\n",
    "    LEARNING_RATE,\n",
    ")"
   ]
  },
  {
   "cell_type": "code",
   "execution_count": 3,
   "metadata": {},
   "outputs": [
    {
     "name": "stderr",
     "output_type": "stream",
     "text": [
      "c:\\Users\\ryanp\\AppData\\Local\\pypoetry\\Cache\\virtualenvs\\jax-rl-KPtyfD6I-py3.10\\lib\\site-packages\\jax\\_src\\api_util.py:172: SyntaxWarning: Jitted function has static_argnums=(0,), but only accepts 0 positional arguments. This warning will be replaced by an error after 2022-08-20 at the earliest.\n",
      "  warnings.warn(f\"Jitted function has {argnums_name}={argnums}, \"\n",
      "Running for 100,000 iterations: 100%|██████████| 100000/100000 [00:00<00:00, 1666595.41it/s]\n"
     ]
    },
    {
     "data": {
      "application/vnd.plotly.v1+json": {
       "config": {
        "plotlyServerURL": "https://plotly.com"
       },
       "data": [
        {
         "type": "heatmap",
         "z": [
          [
           0,
           0,
           0,
           0,
           0,
           0,
           0,
           0,
           0,
           0,
           0,
           0
          ],
          [
           0,
           0,
           0,
           0,
           0,
           0,
           0,
           0,
           0,
           0,
           0,
           0
          ],
          [
           0,
           0,
           0,
           0,
           0,
           0,
           0,
           0,
           0,
           0,
           0,
           0
          ],
          [
           0,
           0,
           0,
           0,
           0,
           0,
           0,
           0,
           0,
           0,
           0,
           0
          ],
          [
           0,
           0,
           0,
           0,
           0,
           0,
           0,
           0,
           0,
           0,
           0,
           0
          ],
          [
           0,
           0,
           0,
           0,
           0,
           0,
           0,
           0,
           0,
           0,
           0,
           0
          ],
          [
           0,
           0,
           0,
           0,
           0,
           0,
           0,
           0,
           0,
           0,
           0,
           0
          ],
          [
           0,
           0,
           0,
           0,
           0,
           0,
           0,
           0,
           0,
           0,
           0,
           0
          ]
         ]
        }
       ],
       "frames": [
        {
         "data": [
          {
           "type": "heatmap",
           "z": [
            [
             0,
             0,
             0,
             0,
             0,
             0,
             0,
             0,
             0,
             0,
             0,
             0
            ],
            [
             0,
             0,
             0,
             0,
             0,
             0,
             0,
             0,
             0,
             0,
             0,
             0
            ],
            [
             0,
             0,
             0,
             0,
             0,
             0,
             0,
             0,
             0,
             0,
             0,
             0
            ],
            [
             0,
             0,
             0,
             0,
             0,
             0,
             0,
             0,
             0,
             0,
             0,
             0
            ],
            [
             0,
             0,
             0,
             0,
             0,
             0,
             0,
             0,
             0,
             0,
             0,
             0
            ],
            [
             0,
             0,
             0,
             0,
             0,
             0,
             0,
             0,
             0,
             0,
             0,
             0
            ],
            [
             0,
             0,
             0,
             0,
             0,
             0,
             0,
             0,
             0,
             0,
             0,
             0
            ],
            [
             0,
             0,
             0,
             0,
             0,
             0,
             0,
             0,
             0,
             0,
             0,
             0
            ]
           ]
          }
         ],
         "layout": {
          "title": {
           "text": "Double Q-learning: Maximal Q-values for Step 0"
          }
         },
         "name": "frame_0",
         "traces": [
          0
         ]
        },
        {
         "data": [
          {
           "type": "heatmap",
           "z": [
            [
             0,
             0.0949999988079071,
             0,
             0,
             0,
             0,
             0,
             0,
             0,
             0,
             0,
             0
            ],
            [
             0,
             0,
             0,
             0,
             0,
             0,
             0,
             0,
             0,
             0,
             0,
             0
            ],
            [
             0,
             0,
             0,
             0,
             0,
             0,
             0,
             0,
             0,
             0,
             0,
             0
            ],
            [
             0,
             0,
             0,
             0,
             0,
             0,
             0,
             0,
             0,
             0,
             0,
             0
            ],
            [
             0,
             0,
             0,
             0,
             0,
             0,
             0,
             0,
             0,
             0,
             0,
             0
            ],
            [
             0,
             0,
             0,
             0,
             0,
             0,
             0,
             0,
             0,
             0,
             0,
             0
            ],
            [
             0,
             0,
             0,
             0,
             0,
             0,
             0,
             0,
             0,
             0,
             0,
             0
            ],
            [
             0,
             0,
             0,
             0,
             0,
             0,
             0,
             0,
             0,
             0,
             0,
             0
            ]
           ]
          }
         ],
         "layout": {
          "title": {
           "text": "Double Q-learning: Maximal Q-values for Step 1000"
          }
         },
         "name": "frame_1",
         "traces": [
          0
         ]
        },
        {
         "data": [
          {
           "type": "heatmap",
           "z": [
            [
             0,
             0.2047549933195114,
             0,
             0,
             0,
             0,
             0,
             0,
             0,
             0,
             0,
             0
            ],
            [
             0,
             0,
             0,
             0,
             0,
             0,
             0,
             0,
             0,
             0,
             0,
             0
            ],
            [
             0,
             0,
             0,
             0,
             0,
             0,
             0,
             0,
             0,
             0,
             0,
             0
            ],
            [
             0,
             0,
             0,
             0,
             0,
             0,
             0,
             0,
             0,
             0,
             0,
             0
            ],
            [
             0,
             0,
             0,
             0,
             0,
             0,
             0,
             0,
             0,
             0,
             0,
             0
            ],
            [
             0,
             0,
             0,
             0,
             0,
             0,
             0,
             0,
             0,
             0,
             0,
             0
            ],
            [
             0,
             0,
             0,
             0,
             0,
             0,
             0,
             0,
             0,
             0,
             0,
             0
            ],
            [
             0,
             0,
             0,
             0,
             0,
             0,
             0,
             0,
             0,
             0,
             0,
             0
            ]
           ]
          }
         ],
         "layout": {
          "title": {
           "text": "Double Q-learning: Maximal Q-values for Step 2000"
          }
         },
         "name": "frame_2",
         "traces": [
          0
         ]
        },
        {
         "data": [
          {
           "type": "heatmap",
           "z": [
            [
             0,
             0.2047549933195114,
             0,
             0,
             0,
             0,
             0,
             0,
             0,
             0,
             0,
             0
            ],
            [
             0.05000000074505806,
             0,
             0,
             0,
             0,
             0,
             0,
             0,
             0,
             0,
             0,
             0
            ],
            [
             0,
             0,
             0,
             0,
             0,
             0,
             0,
             0,
             0,
             0,
             0,
             0
            ],
            [
             0,
             0,
             0,
             0,
             0,
             0,
             0,
             0,
             0,
             0,
             0,
             0
            ],
            [
             0,
             0,
             0,
             0,
             0,
             0,
             0,
             0,
             0,
             0,
             0,
             0
            ],
            [
             0,
             0,
             0,
             0,
             0,
             0,
             0,
             0,
             0,
             0,
             0,
             0
            ],
            [
             0,
             0,
             0,
             0,
             0,
             0,
             0,
             0,
             0,
             0,
             0,
             0
            ],
            [
             0,
             0,
             0,
             0,
             0,
             0,
             0,
             0,
             0,
             0,
             0,
             0
            ]
           ]
          }
         ],
         "layout": {
          "title": {
           "text": "Double Q-learning: Maximal Q-values for Step 3000"
          }
         },
         "name": "frame_3",
         "traces": [
          0
         ]
        },
        {
         "data": [
          {
           "type": "heatmap",
           "z": [
            [
             0,
             0.3108515739440918,
             0,
             0,
             0,
             0,
             0,
             0,
             0,
             0,
             0,
             0
            ],
            [
             0.05000000074505806,
             0.0044999998062849045,
             0,
             0,
             0,
             0,
             0,
             0,
             0,
             0,
             0,
             0
            ],
            [
             0,
             0,
             0,
             0,
             0,
             0,
             0,
             0,
             0,
             0,
             0,
             0
            ],
            [
             0,
             0,
             0,
             0,
             0,
             0,
             0,
             0,
             0,
             0,
             0,
             0
            ],
            [
             0,
             0,
             0,
             0,
             0,
             0,
             0,
             0,
             0,
             0,
             0,
             0
            ],
            [
             0,
             0,
             0,
             0,
             0,
             0,
             0,
             0,
             0,
             0,
             0,
             0
            ],
            [
             0,
             0,
             0,
             0,
             0,
             0,
             0,
             0,
             0,
             0,
             0,
             0
            ],
            [
             0,
             0,
             0,
             0,
             0,
             0,
             0,
             0,
             0,
             0,
             0,
             0
            ]
           ]
          }
         ],
         "layout": {
          "title": {
           "text": "Double Q-learning: Maximal Q-values for Step 4000"
          }
         },
         "name": "frame_4",
         "traces": [
          0
         ]
        },
        {
         "data": [
          {
           "type": "heatmap",
           "z": [
            [
             0,
             0.3108515739440918,
             0,
             0,
             0,
             0,
             0,
             0,
             0,
             0,
             0,
             0
            ],
            [
             0.10000000149011612,
             0.0044999998062849045,
             0,
             0,
             0,
             0,
             0,
             0,
             0,
             0,
             0,
             0
            ],
            [
             0,
             0,
             0,
             0,
             0,
             0,
             0,
             0,
             0,
             0,
             0,
             0
            ],
            [
             0,
             0,
             0,
             0,
             0,
             0,
             0,
             0,
             0,
             0,
             0,
             0
            ],
            [
             0,
             0,
             0,
             0,
             0,
             0,
             0,
             0,
             0,
             0,
             0,
             0
            ],
            [
             0,
             0,
             0,
             0,
             0,
             0,
             0,
             0,
             0,
             0,
             0,
             0
            ],
            [
             0,
             0,
             0,
             0,
             0,
             0,
             0,
             0,
             0,
             0,
             0,
             0
            ],
            [
             0,
             0,
             0,
             0,
             0,
             0,
             0,
             0,
             0,
             0,
             0,
             0
            ]
           ]
          }
         ],
         "layout": {
          "title": {
           "text": "Double Q-learning: Maximal Q-values for Step 5000"
          }
         },
         "name": "frame_5",
         "traces": [
          0
         ]
        },
        {
         "data": [
          {
           "type": "heatmap",
           "z": [
            [
             0,
             0.40128976106643677,
             0,
             0,
             0,
             0,
             0,
             0,
             0,
             0,
             0,
             0
            ],
            [
             0.10000000149011612,
             0.019525500014424324,
             0,
             0,
             0,
             0,
             0,
             0,
             0,
             0,
             0,
             0
            ],
            [
             0,
             0,
             0,
             0,
             0,
             0,
             0,
             0,
             0,
             0,
             0,
             0
            ],
            [
             0,
             0,
             0,
             0,
             0,
             0,
             0,
             0,
             0,
             0,
             0,
             0
            ],
            [
             0,
             0,
             0,
             0,
             0,
             0,
             0,
             0,
             0,
             0,
             0,
             0
            ],
            [
             0,
             0,
             0,
             0,
             0,
             0,
             0,
             0,
             0,
             0,
             0,
             0
            ],
            [
             0,
             0,
             0,
             0,
             0,
             0,
             0,
             0,
             0,
             0,
             0,
             0
            ],
            [
             0,
             0,
             0,
             0,
             0,
             0,
             0,
             0,
             0,
             0,
             0,
             0
            ]
           ]
          }
         ],
         "layout": {
          "title": {
           "text": "Double Q-learning: Maximal Q-values for Step 6000"
          }
         },
         "name": "frame_6",
         "traces": [
          0
         ]
        },
        {
         "data": [
          {
           "type": "heatmap",
           "z": [
            [
             0,
             0.4611607789993286,
             0.012194999493658543,
             0,
             0,
             0,
             0,
             0,
             0,
             0,
             0,
             0
            ],
            [
             0.14499999582767487,
             0.02612295001745224,
             0,
             0,
             0,
             0,
             0,
             0,
             0,
             0,
             0,
             0
            ],
            [
             0,
             0,
             0,
             0,
             0,
             0,
             0,
             0,
             0,
             0,
             0,
             0
            ],
            [
             0,
             0,
             0,
             0,
             0,
             0,
             0,
             0,
             0,
             0,
             0,
             0
            ],
            [
             0,
             0,
             0,
             0,
             0,
             0,
             0,
             0,
             0,
             0,
             0,
             0
            ],
            [
             0,
             0,
             0,
             0,
             0,
             0,
             0,
             0,
             0,
             0,
             0,
             0
            ],
            [
             0,
             0,
             0,
             0,
             0,
             0,
             0,
             0,
             0,
             0,
             0,
             0
            ],
            [
             0,
             0,
             0,
             0,
             0,
             0,
             0,
             0,
             0,
             0,
             0,
             0
            ]
           ]
          }
         ],
         "layout": {
          "title": {
           "text": "Double Q-learning: Maximal Q-values for Step 7000"
          }
         },
         "name": "frame_7",
         "traces": [
          0
         ]
        },
        {
         "data": [
          {
           "type": "heatmap",
           "z": [
            [
             0,
             0.5211160182952881,
             0.1095343828201294,
             0,
             0,
             0,
             0,
             0,
             0,
             0,
             0,
             0
            ],
            [
             0.1899999976158142,
             0.02612295001745224,
             0.00660000741481781,
             0.00018768104200717062,
             0,
             0,
             0,
             0,
             0,
             0,
             0,
             0
            ],
            [
             0.008549999445676804,
             0,
             0,
             0,
             0,
             0,
             0,
             0,
             0,
             0,
             0,
             0
            ],
            [
             0,
             0,
             0,
             0,
             0,
             0,
             0,
             0,
             0,
             0,
             0,
             0
            ],
            [
             0,
             0,
             0,
             0,
             0,
             0,
             0,
             0,
             0,
             0,
             0,
             0
            ],
            [
             0,
             0,
             0,
             0,
             0,
             0,
             0,
             0,
             0,
             0,
             0,
             0
            ],
            [
             0,
             0,
             0,
             0,
             0,
             0,
             0,
             0,
             0,
             0,
             0,
             0
            ],
            [
             0,
             0,
             0,
             0,
             0,
             0,
             0,
             0,
             0,
             0,
             0,
             0
            ]
           ]
          }
         ],
         "layout": {
          "title": {
           "text": "Double Q-learning: Maximal Q-values for Step 8000"
          }
         },
         "name": "frame_8",
         "traces": [
          0
         ]
        },
        {
         "data": [
          {
           "type": "heatmap",
           "z": [
            [
             0,
             0.5792989730834961,
             0.15540099143981934,
             0,
             0,
             0,
             0,
             0,
             0,
             0,
             0,
             0
            ],
            [
             0.1899999976158142,
             0.02612295001745224,
             0.03705717995762825,
             0.0020469464361667633,
             0,
             0,
             0,
             0,
             0,
             0,
             0,
             0
            ],
            [
             0.008549999445676804,
             0,
             0.002644934691488743,
             0,
             0,
             0,
             0,
             0,
             0,
             0,
             0,
             0
            ],
            [
             0,
             0,
             0,
             0,
             0,
             0,
             0,
             0,
             0,
             0,
             0,
             0
            ],
            [
             0,
             0,
             0,
             0,
             0,
             0,
             0,
             0,
             0,
             0,
             0,
             0
            ],
            [
             0,
             0,
             0,
             0,
             0,
             0,
             0,
             0,
             0,
             0,
             0,
             0
            ],
            [
             0,
             0,
             0,
             0,
             0,
             0,
             0,
             0,
             0,
             0,
             0,
             0
            ],
            [
             0,
             0,
             0,
             0,
             0,
             0,
             0,
             0,
             0,
             0,
             0,
             0
            ]
           ]
          }
         ],
         "layout": {
          "title": {
           "text": "Double Q-learning: Maximal Q-values for Step 9000"
          }
         },
         "name": "frame_9",
         "traces": [
          0
         ]
        },
        {
         "data": [
          {
           "type": "heatmap",
           "z": [
            [
             0,
             0.6416285037994385,
             0.19199779629707336,
             0,
             0,
             0,
             0,
             0,
             0,
             0,
             0,
             0
            ],
            [
             0.1899999976158142,
             0.02612295001745224,
             0.05017119273543358,
             0.005494545213878155,
             0.00013692954962607473,
             0,
             0,
             0,
             0,
             0,
             0,
             0
            ],
            [
             0.008549999445676804,
             0,
             0.0053946529515087605,
             0,
             0,
             0,
             0,
             0,
             0,
             0,
             0,
             0
            ],
            [
             0,
             0,
             0.00039130629738792777,
             0,
             0,
             0,
             0,
             0,
             0,
             0,
             0,
             0
            ],
            [
             0,
             0,
             0,
             0,
             0,
             0,
             0,
             0,
             0,
             0,
             0,
             0
            ],
            [
             0,
             0,
             0,
             0,
             0,
             0,
             0,
             0,
             0,
             0,
             0,
             0
            ],
            [
             0,
             0,
             0,
             0,
             0,
             0,
             0,
             0,
             0,
             0,
             0,
             0
            ],
            [
             0,
             0,
             0,
             0,
             0,
             0,
             0,
             0,
             0,
             0,
             0,
             0
            ]
           ]
          }
         ],
         "layout": {
          "title": {
           "text": "Double Q-learning: Maximal Q-values for Step 10000"
          }
         },
         "name": "frame_10",
         "traces": [
          0
         ]
        },
        {
         "data": [
          {
           "type": "heatmap",
           "z": [
            [
             0,
             0.6592321991920471,
             0.231378436088562,
             0.0004472134169191122,
             0,
             0,
             0,
             0,
             0,
             0,
             0,
             0
            ],
            [
             0.1899999976158142,
             0.02612295001745224,
             0.06385255604982376,
             0.009156454354524612,
             0.00013692954962607473,
             0,
             0,
             0,
             0,
             0,
             0,
             0
            ],
            [
             0.008549999445676804,
             0,
             0.009757877327501774,
             0,
             0,
             0,
             0,
             0,
             0,
             0,
             0,
             0
            ],
            [
             0,
             0,
             0.0008056009537540376,
             0,
             0,
             0,
             0,
             0,
             0,
             0,
             0,
             0
            ],
            [
             0,
             0,
             0,
             0,
             0,
             0,
             0,
             0,
             0,
             0,
             0,
             0
            ],
            [
             0,
             0,
             0,
             0,
             0,
             0,
             0,
             0,
             0,
             0,
             0,
             0
            ],
            [
             0,
             0,
             0,
             0,
             0,
             0,
             0,
             0,
             0,
             0,
             0,
             0
            ],
            [
             0,
             0,
             0,
             0,
             0,
             0,
             0,
             0,
             0,
             0,
             0,
             0
            ]
           ]
          }
         ],
         "layout": {
          "title": {
           "text": "Double Q-learning: Maximal Q-values for Step 11000"
          }
         },
         "name": "frame_11",
         "traces": [
          0
         ]
        },
        {
         "data": [
          {
           "type": "heatmap",
           "z": [
            [
             0,
             0.7172238230705261,
             0.30382001399993896,
             0.0004472134169191122,
             0,
             0,
             0,
             0,
             0,
             0,
             0,
             0
            ],
            [
             0.1899999976158142,
             0.02612295001745224,
             0.08989648520946503,
             0.011313745751976967,
             0.0015868049813434482,
             0,
             0,
             0,
             0,
             0,
             0,
             0
            ],
            [
             0.008549999445676804,
             0,
             0.010601917281746864,
             0,
             0,
             0,
             0,
             0,
             0,
             0,
             0,
             0
            ],
            [
             0,
             0,
             0.0015711563173681498,
             0,
             0,
             0,
             0,
             0,
             0,
             0,
             0,
             0
            ],
            [
             0,
             0,
             0,
             0,
             0,
             0,
             0,
             0,
             0,
             0,
             0,
             0
            ],
            [
             0,
             0,
             0,
             0,
             0,
             0,
             0,
             0,
             0,
             0,
             0,
             0
            ],
            [
             0,
             0,
             0,
             0,
             0,
             0,
             0,
             0,
             0,
             0,
             0,
             0
            ],
            [
             0,
             0,
             0,
             0,
             0,
             0,
             0,
             0,
             0,
             0,
             0,
             0
            ]
           ]
          }
         ],
         "layout": {
          "title": {
           "text": "Double Q-learning: Maximal Q-values for Step 12000"
          }
         },
         "name": "frame_12",
         "traces": [
          0
         ]
        },
        {
         "data": [
          {
           "type": "heatmap",
           "z": [
            [
             0,
             0.7709512710571289,
             0.37042319774627686,
             0.0004472134169191122,
             0,
             0,
             0,
             0,
             0,
             0,
             0,
             0
            ],
            [
             0.1899999976158142,
             0.02612295001745224,
             0.14108966290950775,
             0.011313745751976967,
             0.0015868049813434482,
             0,
             0,
             0,
             0,
             0,
             0,
             0
            ],
            [
             0.008549999445676804,
             0,
             0.0211678184568882,
             0.0008461155230179429,
             0,
             0,
             0,
             0,
             0,
             0,
             0,
             0
            ],
            [
             0,
             0,
             0.003960473462939262,
             0,
             0,
             0,
             0,
             0,
             0,
             0,
             0,
             0
            ],
            [
             0,
             0,
             0.00001847776547947433,
             0,
             0,
             0,
             0,
             0,
             0,
             0,
             0,
             0
            ],
            [
             0,
             0,
             0,
             0,
             0,
             0,
             0,
             0,
             0,
             0,
             0,
             0
            ],
            [
             0,
             0,
             0,
             0,
             0,
             0,
             0,
             0,
             0,
             0,
             0,
             0
            ],
            [
             0,
             0,
             0,
             0,
             0,
             0,
             0,
             0,
             0,
             0,
             0,
             0
            ]
           ]
          }
         ],
         "layout": {
          "title": {
           "text": "Double Q-learning: Maximal Q-values for Step 13000"
          }
         },
         "name": "frame_13",
         "traces": [
          0
         ]
        },
        {
         "data": [
          {
           "type": "heatmap",
           "z": [
            [
             0,
             0.8406013250350952,
             0.5083645582199097,
             0.002897049533203244,
             0,
             0,
             0,
             0,
             0,
             0,
             0,
             0
            ],
            [
             0.1899999976158142,
             0.06619909405708313,
             0.22040341794490814,
             0.03486524522304535,
             0.0032638246193528175,
             0,
             0,
             0,
             0,
             0,
             0,
             0
            ],
            [
             0.008549999445676804,
             0,
             0.04120900109410286,
             0.008613272570073605,
             0.0006540825124830008,
             0,
             0,
             0,
             0,
             0,
             0,
             0
            ],
            [
             0,
             0,
             0.003960473462939262,
             0.00013349256187211722,
             0.00006281891546677798,
             0,
             0,
             0,
             0,
             0,
             0,
             0
            ],
            [
             0,
             0,
             0.00001847776547947433,
             0,
             0,
             0,
             0,
             0,
             0,
             0,
             0,
             0
            ],
            [
             0,
             0,
             0,
             0,
             0,
             0,
             0,
             0,
             0,
             0,
             0,
             0
            ],
            [
             0,
             0,
             0,
             0,
             0,
             0,
             0,
             0,
             0,
             0,
             0,
             0
            ],
            [
             0,
             0,
             0,
             0,
             0,
             0,
             0,
             0,
             0,
             0,
             0,
             0
            ]
           ]
          }
         ],
         "layout": {
          "title": {
           "text": "Double Q-learning: Maximal Q-values for Step 14000"
          }
         },
         "name": "frame_14",
         "traces": [
          0
         ]
        },
        {
         "data": [
          {
           "type": "heatmap",
           "z": [
            [
             0,
             0.8620653748512268,
             0.5434996485710144,
             0.002897049533203244,
             0,
             0,
             0,
             0,
             0,
             0,
             0,
             0
            ],
            [
             0.1899999976158142,
             0.09714840352535248,
             0.24499091506004333,
             0.03486524522304535,
             0.0032638246193528175,
             0,
             0,
             0,
             0,
             0,
             0,
             0
            ],
            [
             0.008549999445676804,
             0,
             0.056017376482486725,
             0.012490404769778252,
             0.0027291143778711557,
             0,
             0,
             0,
             0,
             0,
             0,
             0
            ],
            [
             0,
             0,
             0.005749678239226341,
             0.00013349256187211722,
             0.00030641272314824164,
             0,
             0,
             0,
             0,
             0,
             0,
             0
            ],
            [
             0,
             0,
             0.000026355128284194507,
             0,
             0,
             0,
             0,
             0,
             0,
             0,
             0,
             0
            ],
            [
             0,
             0,
             0,
             0,
             0,
             0,
             0,
             0,
             0,
             0,
             0,
             0
            ],
            [
             0,
             0,
             0,
             0,
             0,
             0,
             0,
             0,
             0,
             0,
             0,
             0
            ],
            [
             0,
             0,
             0,
             0,
             0,
             0,
             0,
             0,
             0,
             0,
             0,
             0
            ]
           ]
          }
         ],
         "layout": {
          "title": {
           "text": "Double Q-learning: Maximal Q-values for Step 15000"
          }
         },
         "name": "frame_15",
         "traces": [
          0
         ]
        },
        {
         "data": [
          {
           "type": "heatmap",
           "z": [
            [
             0,
             0.8816028833389282,
             0.5940098762512207,
             0.002897049533203244,
             0,
             0,
             0,
             0,
             0,
             0,
             0,
             0
            ],
            [
             0.1899999976158142,
             0.09714840352535248,
             0.3005335330963135,
             0.04832025617361069,
             0.005833862349390984,
             0,
             0,
             0,
             0,
             0,
             0,
             0
            ],
            [
             0.008549999445676804,
             0.003839682089164853,
             0.09448377788066864,
             0.0157551821321249,
             0.0028062432538717985,
             0,
             0,
             0,
             0,
             0,
             0,
             0
            ],
            [
             0,
             0,
             0.008605989627540112,
             0.0002259441971546039,
             0.0004955868935212493,
             0,
             0,
             0,
             0,
             0,
             0,
             0
            ],
            [
             0,
             0,
             0.000033444754080846906,
             0,
             0,
             0,
             0,
             0,
             0,
             0,
             0,
             0
            ],
            [
             0,
             0,
             0,
             0,
             0,
             0,
             0,
             0,
             0,
             0,
             0,
             0
            ],
            [
             0,
             0,
             0,
             0,
             0,
             0,
             0,
             0,
             0,
             0,
             0,
             0
            ],
            [
             0,
             0,
             0,
             0,
             0,
             0,
             0,
             0,
             0,
             0,
             0,
             0
            ]
           ]
          }
         ],
         "layout": {
          "title": {
           "text": "Double Q-learning: Maximal Q-values for Step 16000"
          }
         },
         "name": "frame_16",
         "traces": [
          0
         ]
        },
        {
         "data": [
          {
           "type": "heatmap",
           "z": [
            [
             0,
             0.885790228843689,
             0.6270420551300049,
             0.0031385014299303293,
             0,
             0,
             0,
             0,
             0,
             0,
             0,
             0
            ],
            [
             0.1899999976158142,
             0.09714840352535248,
             0.32837340235710144,
             0.06353789567947388,
             0.005833862349390984,
             0,
             0,
             0,
             0,
             0,
             0,
             0
            ],
            [
             0.008549999445676804,
             0.003839682089164853,
             0.11706672608852386,
             0.0157551821321249,
             0.0028062432538717985,
             0,
             0,
             0,
             0,
             0,
             0,
             0
            ],
            [
             0,
             0,
             0.0211341455578804,
             0.0005856851930730045,
             0.0004955868935212493,
             0,
             0,
             0,
             0,
             0,
             0,
             0
            ],
            [
             0,
             0,
             0.0008528893231414258,
             0,
             0,
             0,
             0,
             0,
             0,
             0,
             0,
             0
            ],
            [
             0,
             0,
             0,
             0,
             0,
             0,
             0,
             0,
             0,
             0,
             0,
             0
            ],
            [
             0,
             0,
             0,
             0,
             0,
             0,
             0,
             0,
             0,
             0,
             0,
             0
            ],
            [
             0,
             0,
             0,
             0,
             0,
             0,
             0,
             0,
             0,
             0,
             0,
             0
            ]
           ]
          }
         ],
         "layout": {
          "title": {
           "text": "Double Q-learning: Maximal Q-values for Step 17000"
          }
         },
         "name": "frame_17",
         "traces": [
          0
         ]
        },
        {
         "data": [
          {
           "type": "heatmap",
           "z": [
            [
             0,
             0.9099627137184143,
             0.6904842853546143,
             0.0031385014299303293,
             0,
             0,
             0,
             0,
             0,
             0,
             0,
             0
            ],
            [
             0.1899999976158142,
             0.09714840352535248,
             0.397752583026886,
             0.07243053615093231,
             0.006075314246118069,
             0,
             0,
             0,
             0,
             0,
             0,
             0
            ],
            [
             0.008549999445676804,
             0.003839682089164853,
             0.1720602959394455,
             0.044251248240470886,
             0.00872328132390976,
             0.0014797269832342863,
             0,
             0,
             0,
             0,
             0,
             0
            ],
            [
             0,
             0,
             0.02553083747625351,
             0.0005856851930730045,
             0.0007048375555314124,
             0,
             0,
             0,
             0,
             0,
             0,
             0
            ],
            [
             0,
             0,
             0.002169277286157012,
             0,
             0,
             0,
             0,
             0,
             0,
             0,
             0,
             0
            ],
            [
             0,
             0,
             0,
             0,
             0,
             0,
             0,
             0,
             0,
             0,
             0,
             0
            ],
            [
             0,
             0,
             0,
             0,
             0,
             0,
             0,
             0,
             0,
             0,
             0,
             0
            ],
            [
             0,
             0,
             0,
             0,
             0,
             0,
             0,
             0,
             0,
             0,
             0,
             0
            ]
           ]
          }
         ],
         "layout": {
          "title": {
           "text": "Double Q-learning: Maximal Q-values for Step 18000"
          }
         },
         "name": "frame_18",
         "traces": [
          0
         ]
        },
        {
         "data": [
          {
           "type": "heatmap",
           "z": [
            [
             0,
             0.9409265518188477,
             0.7216373085975647,
             0.0031385014299303293,
             0,
             0,
             0,
             0,
             0,
             0,
             0,
             0
            ],
            [
             0.1899999976158142,
             0.12968692183494568,
             0.4345967471599579,
             0.0835840106010437,
             0.006075314246118069,
             0,
             0,
             0,
             0,
             0,
             0,
             0
            ],
            [
             0.008549999445676804,
             0.003839682089164853,
             0.23358958959579468,
             0.07739478349685669,
             0.011800970882177353,
             0.0029775090515613556,
             0,
             0,
             0,
             0,
             0,
             0
            ],
            [
             0,
             0,
             0.06254329532384872,
             0.0036894073709845543,
             0.0007048375555314124,
             0,
             0,
             0,
             0,
             0,
             0,
             0
            ],
            [
             0,
             0,
             0.006216662935912609,
             0.0004833948041778058,
             0,
             0,
             0,
             0,
             0,
             0,
             0,
             0
            ],
            [
             0,
             0,
             0.00011847490532090887,
             0.000014609503523388412,
             0,
             0,
             0,
             0,
             0,
             0,
             0,
             0
            ],
            [
             0,
             0,
             0,
             0,
             0,
             0,
             0,
             0,
             0,
             0,
             0,
             0
            ],
            [
             0,
             0,
             0,
             0,
             0,
             0,
             0,
             0,
             0,
             0,
             0,
             0
            ]
           ]
          }
         ],
         "layout": {
          "title": {
           "text": "Double Q-learning: Maximal Q-values for Step 19000"
          }
         },
         "name": "frame_19",
         "traces": [
          0
         ]
        },
        {
         "data": [
          {
           "type": "heatmap",
           "z": [
            [
             0,
             0.948184609413147,
             0.7482445240020752,
             0.0031385014299303293,
             0,
             0,
             0,
             0,
             0,
             0,
             0,
             0
            ],
            [
             0.1899999976158142,
             0.1612943708896637,
             0.4815308749675751,
             0.10477738082408905,
             0.008096771314740181,
             0.0003836281248368323,
             0,
             0,
             0,
             0,
             0,
             0
            ],
            [
             0.008549999445676804,
             0.003839682089164853,
             0.26613208651542664,
             0.09270138293504715,
             0.018656637519598007,
             0.00468414044007659,
             0,
             0,
             0,
             0,
             0,
             0
            ],
            [
             0,
             0,
             0.08639088273048401,
             0.005304799415171146,
             0.0019095808966085315,
             0,
             0,
             0,
             0,
             0,
             0,
             0
            ],
            [
             0,
             0,
             0.013055525720119476,
             0.0005697630112990737,
             0.0000035094478789687855,
             0,
             0,
             0,
             0,
             0,
             0,
             0
            ],
            [
             0,
             0,
             0.0002251023252028972,
             0.000027758056603488512,
             0,
             0,
             0,
             0,
             0,
             0,
             0,
             0
            ],
            [
             0,
             0,
             0,
             0,
             0,
             0,
             0,
             0,
             0,
             0,
             0,
             0
            ],
            [
             0,
             0,
             0,
             0,
             0,
             0,
             0,
             0,
             0,
             0,
             0,
             0
            ]
           ]
          }
         ],
         "layout": {
          "title": {
           "text": "Double Q-learning: Maximal Q-values for Step 20000"
          }
         },
         "name": "frame_20",
         "traces": [
          0
         ]
        },
        {
         "data": [
          {
           "type": "heatmap",
           "z": [
            [
             0,
             0.948184609413147,
             0.7482445240020752,
             0.0031385014299303293,
             0,
             0,
             0,
             0,
             0,
             0,
             0,
             0
            ],
            [
             0.2304999977350235,
             0.1612943708896637,
             0.4815308749675751,
             0.10477738082408905,
             0.008096771314740181,
             0.0003836281248368323,
             0,
             0,
             0,
             0,
             0,
             0
            ],
            [
             0.008549999445676804,
             0.003839682089164853,
             0.2706480622291565,
             0.09270138293504715,
             0.018656637519598007,
             0.00468414044007659,
             0,
             0,
             0,
             0,
             0,
             0
            ],
            [
             0,
             0,
             0.09429514408111572,
             0.005304799415171146,
             0.0019095808966085315,
             0,
             0,
             0,
             0,
             0,
             0,
             0
            ],
            [
             0,
             0,
             0.014604275114834309,
             0.0005697630112990737,
             0.0000035094478789687855,
             0,
             0,
             0,
             0,
             0,
             0,
             0
            ],
            [
             0,
             0,
             0.0007341120508499444,
             0.000027758056603488512,
             0,
             0,
             0,
             0,
             0,
             0,
             0,
             0
            ],
            [
             0,
             0,
             0,
             0,
             0,
             0,
             0,
             0,
             0,
             0,
             0,
             0
            ],
            [
             0,
             0,
             0,
             0,
             0,
             0,
             0,
             0,
             0,
             0,
             0,
             0
            ]
           ]
          }
         ],
         "layout": {
          "title": {
           "text": "Double Q-learning: Maximal Q-values for Step 21000"
          }
         },
         "name": "frame_21",
         "traces": [
          0
         ]
        },
        {
         "data": [
          {
           "type": "heatmap",
           "z": [
            [
             0,
             0.9490708112716675,
             0.7635508179664612,
             0.010233159177005291,
             0,
             0.000058390945923747495,
             0,
             0,
             0,
             0,
             0,
             0
            ],
            [
             0.2304999977350235,
             0.1612943708896637,
             0.5211466550827026,
             0.12478628754615784,
             0.008096771314740181,
             0.0005706363008357584,
             0,
             0,
             0,
             0,
             0,
             0
            ],
            [
             0.008549999445676804,
             0.003839682089164853,
             0.3036900460720062,
             0.1189480870962143,
             0.03121277503669262,
             0.00567478546872735,
             0,
             0,
             0,
             0,
             0,
             0
            ],
            [
             0,
             0,
             0.10252757370471954,
             0.005304799415171146,
             0.003333129920065403,
             0,
             0,
             0,
             0,
             0,
             0,
             0
            ],
            [
             0,
             0,
             0.015998151153326035,
             0.0013363950420171022,
             0.00017186228069476783,
             0,
             0,
             0,
             0,
             0,
             0,
             0
            ],
            [
             0,
             0,
             0.0007341120508499444,
             0.000039591755921719596,
             0,
             0,
             0,
             0,
             0,
             0,
             0,
             0
            ],
            [
             0,
             0,
             0,
             0,
             0,
             0,
             0,
             0,
             0,
             0,
             0,
             0
            ],
            [
             0,
             0,
             0,
             0,
             0,
             0,
             0,
             0,
             0,
             0,
             0,
             0
            ]
           ]
          }
         ],
         "layout": {
          "title": {
           "text": "Double Q-learning: Maximal Q-values for Step 22000"
          }
         },
         "name": "frame_22",
         "traces": [
          0
         ]
        },
        {
         "data": [
          {
           "type": "heatmap",
           "z": [
            [
             0,
             0.962735652923584,
             0.7798687219619751,
             0.01841915398836136,
             0,
             0.000058390945923747495,
             0,
             0,
             0,
             0,
             0,
             0
            ],
            [
             0.2304999977350235,
             0.1612943708896637,
             0.5678799748420715,
             0.14096148312091827,
             0.00991608202457428,
             0.0005706363008357584,
             0,
             0,
             0,
             0,
             0,
             0
            ],
            [
             0.008549999445676804,
             0.003839682089164853,
             0.3440564274787903,
             0.14109204709529877,
             0.040976572781801224,
             0.009053518064320087,
             0.0003414675302337855,
             0,
             0,
             0,
             0,
             0
            ],
            [
             0,
             0,
             0.11960691958665848,
             0.005304799415171146,
             0.007405575830489397,
             0.0000035094478789687855,
             0,
             0,
             0,
             0,
             0,
             0
            ],
            [
             0,
             0,
             0.018381677567958832,
             0.0018271715380251408,
             0.0004514992469921708,
             0,
             0,
             0,
             0,
             0,
             0,
             0
            ],
            [
             0,
             0,
             0.0017553295474499464,
             0.0001192389681818895,
             0.000015151755178521853,
             0,
             0,
             0,
             0,
             0,
             0,
             0
            ],
            [
             0,
             0,
             0,
             0,
             0,
             0,
             0,
             0,
             0,
             0,
             0,
             0
            ],
            [
             0,
             0,
             0,
             0,
             0,
             0,
             0,
             0,
             0,
             0,
             0,
             0
            ]
           ]
          }
         ],
         "layout": {
          "title": {
           "text": "Double Q-learning: Maximal Q-values for Step 23000"
          }
         },
         "name": "frame_23",
         "traces": [
          0
         ]
        },
        {
         "data": [
          {
           "type": "heatmap",
           "z": [
            [
             0,
             0.9727233648300171,
             0.7909679412841797,
             0.01841915398836136,
             0,
             0.00008328392868861556,
             0,
             0,
             0,
             0,
             0,
             0
            ],
            [
             0.2304999977350235,
             0.1612943708896637,
             0.5877543091773987,
             0.15985652804374695,
             0.00991608202457428,
             0.0005706363008357584,
             0,
             0,
             0,
             0,
             0,
             0
            ],
            [
             0.008549999445676804,
             0.003839682089164853,
             0.38002869486808777,
             0.17619474232196808,
             0.062378790229558945,
             0.015470148995518684,
             0.002407312160357833,
             0.00019218464149162173,
             0,
             0,
             0,
             0
            ],
            [
             0,
             0,
             0.11960691958665848,
             0.005304799415171146,
             0.007405575830489397,
             0.0000035094478789687855,
             0.00022898238967172801,
             0,
             0,
             0,
             0,
             0
            ],
            [
             0,
             0,
             0.018381677567958832,
             0.0018271715380251408,
             0.0004514992469921708,
             0,
             0,
             0,
             0,
             0,
             0,
             0
            ],
            [
             0,
             0,
             0.0017553295474499464,
             0.0001192389681818895,
             0.000015151755178521853,
             0,
             0,
             0,
             0,
             0,
             0,
             0
            ],
            [
             0,
             0,
             0,
             0,
             0,
             0,
             0,
             0,
             0,
             0,
             0,
             0
            ],
            [
             0,
             0,
             0,
             0,
             0,
             0,
             0,
             0,
             0,
             0,
             0,
             0
            ]
           ]
          }
         ],
         "layout": {
          "title": {
           "text": "Double Q-learning: Maximal Q-values for Step 24000"
          }
         },
         "name": "frame_24",
         "traces": [
          0
         ]
        },
        {
         "data": [
          {
           "type": "heatmap",
           "z": [
            [
             0,
             0.9759188294410706,
             0.8175740242004395,
             0.01841915398836136,
             0,
             0.00008328392868861556,
             0,
             0,
             0,
             0,
             0,
             0
            ],
            [
             0.2304999977350235,
             0.1612943708896637,
             0.6351538896560669,
             0.15985652804374695,
             0.00991608202457428,
             0.0005706363008357584,
             0,
             0,
             0,
             0,
             0,
             0
            ],
            [
             0.008549999445676804,
             0.02661284990608692,
             0.44556933641433716,
             0.23953822255134583,
             0.10322917252779007,
             0.030800897628068924,
             0.00666394317522645,
             0.0010419704485684633,
             0.00007699520938331261,
             0,
             0,
             0
            ],
            [
             0,
             0,
             0.11960691958665848,
             0.005304799415171146,
             0.010940993204712868,
             0.00066650181543082,
             0.000663814484141767,
             0.000022979158529778942,
             0,
             0,
             0,
             0
            ],
            [
             0,
             0,
             0.018381677567958832,
             0.0018271715380251408,
             0.0004514992469921708,
             0,
             0,
             0,
             0,
             0,
             0,
             0
            ],
            [
             0,
             0,
             0.0017553295474499464,
             0.0001192389681818895,
             0.000015151755178521853,
             0,
             0,
             0,
             0,
             0,
             0,
             0
            ],
            [
             0,
             0,
             0,
             0,
             0,
             0,
             0,
             0,
             0,
             0,
             0,
             0
            ],
            [
             0,
             0,
             0,
             0,
             0,
             0,
             0,
             0,
             0,
             0,
             0,
             0
            ]
           ]
          }
         ],
         "layout": {
          "title": {
           "text": "Double Q-learning: Maximal Q-values for Step 25000"
          }
         },
         "name": "frame_25",
         "traces": [
          0
         ]
        },
        {
         "data": [
          {
           "type": "heatmap",
           "z": [
            [
             0,
             0.9806702136993408,
             0.8370590806007385,
             0.027487102895975113,
             0,
             0.00008328392868861556,
             0,
             0,
             0,
             0,
             0,
             0
            ],
            [
             0.2304999977350235,
             0.1924557089805603,
             0.6700238585472107,
             0.18323656916618347,
             0.00991608202457428,
             0.0005706363008357584,
             0,
             0,
             0.000023238833819050342,
             0,
             0,
             0
            ],
            [
             0.008549999445676804,
             0.04848815128207207,
             0.5046455264091492,
             0.29500022530555725,
             0.1347094625234604,
             0.0518021285533905,
             0.015597538091242313,
             0.003197810612618923,
             0.0003065961063839495,
             0.000010206843398918863,
             0,
             0
            ],
            [
             0,
             0,
             0.13492609560489655,
             0.005304799415171146,
             0.020775772631168365,
             0.00066650181543082,
             0.000663814484141767,
             0.00013780636072624475,
             0,
             0,
             0,
             0
            ],
            [
             0,
             0,
             0.025513892993330956,
             0.0018271715380251408,
             0.001391038647852838,
             0,
             0,
             0,
             0,
             0,
             0,
             0
            ],
            [
             0,
             0.00015797965170349926,
             0.0022134382743388414,
             0.0001192389681818895,
             0.00005427150972536765,
             0,
             0,
             0,
             0,
             0,
             0,
             0
            ],
            [
             0,
             0,
             0,
             0,
             0,
             0,
             0,
             0,
             0,
             0,
             0,
             0
            ],
            [
             0,
             0,
             0,
             0,
             0,
             0,
             0,
             0,
             0,
             0,
             0,
             0
            ]
           ]
          }
         ],
         "layout": {
          "title": {
           "text": "Double Q-learning: Maximal Q-values for Step 26000"
          }
         },
         "name": "frame_26",
         "traces": [
          0
         ]
        },
        {
         "data": [
          {
           "type": "heatmap",
           "z": [
            [
             0,
             0.9860140085220337,
             0.8538265228271484,
             0.03306853026151657,
             0,
             0.00008328392868861556,
             0,
             0,
             0,
             0,
             0,
             0
            ],
            [
             0.2304999977350235,
             0.24606779217720032,
             0.7150973081588745,
             0.22727064788341522,
             0.00991608202457428,
             0.0005706363008357584,
             0,
             0,
             0.000031762156140757725,
             4.1685072460495576e-7,
             0,
             0
            ],
            [
             0.008549999445676804,
             0.04848815128207207,
             0.5624443292617798,
             0.38122129440307617,
             0.2050372064113617,
             0.08377191424369812,
             0.033404141664505005,
             0.012301421724259853,
             0.0013210501056164503,
             0.0003175351012032479,
             0.000005040304131398443,
             0
            ],
            [
             0,
             0,
             0.15094012022018433,
             0.005304799415171146,
             0.056653883308172226,
             0.0010582593968138099,
             0.001845118822529912,
             0.00022679718676954508,
             0.000008767543477006257,
             0.0000037000243082729867,
             1.5708332057329244e-7,
             0
            ],
            [
             0,
             0,
             0.03193288668990135,
             0.0029107697773724794,
             0.006238955073058605,
             0.00023672738461755216,
             0,
             0,
             0,
             0,
             0,
             0
            ],
            [
             0,
             0.00015797965170349926,
             0.0022134382743388414,
             0.0001192389681818895,
             0.00045622713514603674,
             0,
             0,
             0,
             0,
             0,
             0,
             0
            ],
            [
             0,
             0,
             0,
             0,
             5.401040326091788e-8,
             0,
             0,
             0,
             0,
             0,
             0,
             0
            ],
            [
             0,
             0,
             0,
             0,
             0,
             0,
             0,
             0,
             0,
             0,
             0,
             0
            ]
           ]
          }
         ],
         "layout": {
          "title": {
           "text": "Double Q-learning: Maximal Q-values for Step 27000"
          }
         },
         "name": "frame_27",
         "traces": [
          0
         ]
        },
        {
         "data": [
          {
           "type": "heatmap",
           "z": [
            [
             0,
             0.9887155890464783,
             0.8722790479660034,
             0.04019768908619881,
             0,
             0.00008328392868861556,
             0,
             0,
             0,
             0,
             0,
             0
            ],
            [
             0.2304999977350235,
             0.26934221386909485,
             0.7483927607536316,
             0.2507707178592682,
             0.00991608202457428,
             0.0028531488496810198,
             0,
             0,
             0.00009846768080024049,
             0.0000020914949345751666,
             0,
             0
            ],
            [
             0.008549999445676804,
             0.04848815128207207,
             0.6163853406906128,
             0.43627840280532837,
             0.28572386503219604,
             0.15102477371692657,
             0.06273126602172852,
             0.027513708919286728,
             0.005358144640922546,
             0.001500546233728528,
             0.000005040304131398443,
             0
            ],
            [
             0,
             0,
             0.17293062806129456,
             0.005304799415171146,
             0.07454127073287964,
             0.0037125598173588514,
             0.005203625652939081,
             0.0023759163450449705,
             0.00002376004158577416,
             0.00019146276463288814,
             0.000026002209779107943,
             2.6827621013580938e-8
            ],
            [
             0,
             0,
             0.03510585427284241,
             0.0029107697773724794,
             0.006238955073058605,
             0.00023672738461755216,
             0,
             0.000008767543477006257,
             0,
             0.00002408002364973072,
             7.270285351523853e-8,
             0
            ],
            [
             0,
             0.00015797965170349926,
             0.003234147559851408,
             0.0001192389681818895,
             0.00045622713514603674,
             0,
             0,
             0,
             0,
             0.000001365086745863664,
             0,
             0
            ],
            [
             0,
             0,
             0.00010729987843660638,
             0,
             5.401040326091788e-8,
             0,
             0,
             0,
             0,
             0,
             0,
             0
            ],
            [
             0,
             0,
             0,
             0,
             0,
             0,
             0,
             0,
             0,
             0,
             0,
             0
            ]
           ]
          }
         ],
         "layout": {
          "title": {
           "text": "Double Q-learning: Maximal Q-values for Step 28000"
          }
         },
         "name": "frame_28",
         "traces": [
          0
         ]
        },
        {
         "data": [
          {
           "type": "heatmap",
           "z": [
            [
             0,
             0.9964600801467896,
             0.8869402408599854,
             0.04872893914580345,
             0,
             0.00008328392868861556,
             0,
             0,
             0,
             0,
             0,
             0
            ],
            [
             0.2304999977350235,
             0.331971138715744,
             0.7781392931938171,
             0.29347556829452515,
             0.022075604647397995,
             0.0028531488496810198,
             0,
             0,
             0.0023879939690232277,
             0.00004104621984879486,
             0,
             0
            ],
            [
             0.008549999445676804,
             0.076091468334198,
             0.6690348386764526,
             0.528596818447113,
             0.3921380639076233,
             0.2511568069458008,
             0.15310627222061157,
             0.079323910176754,
             0.026078689843416214,
             0.009859807789325714,
             0.0005910154432058334,
             0.000026615540264174342
            ],
            [
             0,
             0,
             0.21309897303581238,
             0.005304799415171146,
             0.10740029066801071,
             0.0037125598173588514,
             0.014085127040743828,
             0.00807469617575407,
             0.00042872640187852085,
             0.0029593019280582666,
             0.00020287440565880388,
             0.000003886099875671789
            ],
            [
             0,
             0,
             0.03510585427284241,
             0.0029107697773724794,
             0.011824301443994045,
             0.00023672738461755216,
             0,
             0.00015970086678862572,
             2.492677140253363e-7,
             0.0005297664320096374,
             0.00000630423846814665,
             0
            ],
            [
             0,
             0.00015797965170349926,
             0.003234147559851408,
             0.0001192389681818895,
             0.0009173880098387599,
             2.842652691015246e-8,
             0,
             0,
             0.000007718139386270195,
             0.00014223781181499362,
             0.000006366994966811035,
             0
            ],
            [
             0,
             0,
             0.00010729987843660638,
             0,
             0.000009389281331095845,
             0,
             0,
             0,
             0,
             0.00002398666401859373,
             1.0040865916494113e-8,
             0
            ],
            [
             0,
             0,
             0,
             0,
             0,
             0,
             0,
             0,
             0,
             0.00000197500435206166,
             1.523023662741707e-8,
             0
            ]
           ]
          }
         ],
         "layout": {
          "title": {
           "text": "Double Q-learning: Maximal Q-values for Step 29000"
          }
         },
         "name": "frame_29",
         "traces": [
          0
         ]
        },
        {
         "data": [
          {
           "type": "heatmap",
           "z": [
            [
             0,
             0.9992719888687134,
             0.8972840309143066,
             0.07299283146858215,
             0,
             0.00008328392868861556,
             0,
             0,
             0,
             0,
             0,
             0
            ],
            [
             0.2304999977350235,
             0.3854682445526123,
             0.8012959957122803,
             0.37382209300994873,
             0.04939643293619156,
             0.02550458535552025,
             0,
             0.004535019397735596,
             0.007459423970431089,
             0.00016135460464283824,
             0,
             0
            ],
            [
             0.008549999445676804,
             0.10238771885633469,
             0.7074640393257141,
             0.6042653322219849,
             0.5084805488586426,
             0.402221143245697,
             0.3078005313873291,
             0.19853633642196655,
             0.11459670960903168,
             0.06763090193271637,
             0.0007912266883067787,
             0.000026615540264174342
            ],
            [
             0,
             0,
             0.21309897303581238,
             0.005304799415171146,
             0.17138484120368958,
             0.009196070954203606,
             0.02249942719936371,
             0.02001066692173481,
             0.002502202056348324,
             0.032513223588466644,
             0.0018517059506848454,
             0.000003886099875671789
            ],
            [
             0,
             0,
             0.03510585427284241,
             0.0029107697773724794,
             0.011824301443994045,
             0.00023672738461755216,
             0,
             0.00015970086678862572,
             0.0000015138845128603862,
             0.01542663760483265,
             0.000022054748114896938,
             0
            ],
            [
             0,
             0.00015797965170349926,
             0.003234147559851408,
             0.0001192389681818895,
             0.0009173880098387599,
             2.842652691015246e-8,
             0,
             0,
             0.00005238544326857664,
             0.005918376613408327,
             0.000257373321801424,
             0
            ],
            [
             0,
             0,
             0.00010729987843660638,
             0,
             0.000009389281331095845,
             0,
             0,
             0,
             0.000003247366066716495,
             0.002118886448442936,
             0.00006674055475741625,
             0
            ],
            [
             0,
             0,
             0,
             0,
             0,
             0,
             0,
             0,
             0,
             0.0006955163553357124,
             0.00002739901356108021,
             2.0100878828088753e-7
            ]
           ]
          }
         ],
         "layout": {
          "title": {
           "text": "Double Q-learning: Maximal Q-values for Step 30000"
          }
         },
         "name": "frame_30",
         "traces": [
          0
         ]
        },
        {
         "data": [
          {
           "type": "heatmap",
           "z": [
            [
             0,
             0.9998500347137451,
             0.8993518352508545,
             0.07299283146858215,
             0,
             0.00008328392868861556,
             0,
             0,
             0,
             0,
             0,
             0
            ],
            [
             0.2304999977350235,
             0.4831833243370056,
             0.8078324794769287,
             0.39082181453704834,
             0.04939643293619156,
             0.04052891954779625,
             0,
             0.004535019397735596,
             0.014223888516426086,
             0.00025186105631291866,
             0,
             0
            ],
            [
             0.008549999445676804,
             0.10238771885633469,
             0.7235575914382935,
             0.6395116448402405,
             0.5618263483047485,
             0.4806772470474243,
             0.4015079438686371,
             0.30657294392585754,
             0.22332406044006348,
             0.15133246779441833,
             0.0007912266883067787,
             0.000026615540264174342
            ],
            [
             0,
             0,
             0.2745114862918854,
             0.02600996010005474,
             0.23243626952171326,
             0.009196070954203606,
             0.02249942719936371,
             0.053260162472724915,
             0.00678376667201519,
             0.09123480319976807,
             0.0031872547697275877,
             0.000003886099875671789
            ],
            [
             0,
             0,
             0.03510585427284241,
             0.0029107697773724794,
             0.03342260792851448,
             0.0015164029318839312,
             0,
             0.00015970086678862572,
             0.0000015138845128603862,
             0.05633939057588577,
             0.000022054748114896938,
             0
            ],
            [
             0,
             0.00015797965170349926,
             0.003234147559851408,
             0.0001192389681818895,
             0.0024679964408278465,
             0.00004155849092057906,
             0,
             0,
             0.00005238544326857664,
             0.031508103013038635,
             0.0009206681861542165,
             0
            ],
            [
             0,
             0,
             0.00010729987843660638,
             0,
             0.00004998326039640233,
             0,
             0,
             0,
             0.0006029753130860627,
             0.018033191561698914,
             0.0005907755112275481,
             0
            ],
            [
             0,
             0,
             0,
             0,
             0,
             0,
             0,
             0,
             0,
             0.007960014045238495,
             0.0018625946249812841,
             3.816229536823812e-7
            ]
           ]
          }
         ],
         "layout": {
          "title": {
           "text": "Double Q-learning: Maximal Q-values for Step 31000"
          }
         },
         "name": "frame_31",
         "traces": [
          0
         ]
        },
        {
         "data": [
          {
           "type": "heatmap",
           "z": [
            [
             0,
             1.0004066228866577,
             0.9000099897384644,
             0.12354257702827454,
             0,
             0.0001056876135407947,
             0,
             0,
             0,
             0,
             0,
             0
            ],
            [
             0.2304999977350235,
             0.5055921673774719,
             0.8094271421432495,
             0.5034855008125305,
             0.09326642006635666,
             0.06332817673683167,
             0.01979096420109272,
             0.04768325388431549,
             0.0799485296010971,
             0.003456481033936143,
             0,
             0
            ],
            [
             0.008549999445676804,
             0.10238771885633469,
             0.727405309677124,
             0.6492823362350464,
             0.5788830518722534,
             0.508400559425354,
             0.4398948848247528,
             0.3683250844478607,
             0.30621010065078735,
             0.23419488966464996,
             0.011925746686756611,
             0.000026615540264174342
            ],
            [
             0,
             0,
             0.38308852910995483,
             0.048596348613500595,
             0.27197951078414917,
             0.03301473706960678,
             0.040219493210315704,
             0.06617733836174011,
             0.00678376667201519,
             0.17909479141235352,
             0.02042146772146225,
             0.000003886099875671789
            ],
            [
             0,
             0.000005946307283011265,
             0.05705486238002777,
             0.0029107697773724794,
             0.03342260792851448,
             0.0015164029318839312,
             0,
             0.00015970086678862572,
             0.000002652039484019042,
             0.12225392460823059,
             0.001013843691907823,
             0
            ],
            [
             0,
             0.0002586725167930126,
             0.00633477047085762,
             0.0001192389681818895,
             0.0024679964408278465,
             0.00004155849092057906,
             0,
             0,
             0.0025589829310774803,
             0.08142799139022827,
             0.0037765041925013065,
             0
            ],
            [
             0,
             0,
             0.0002910732582677156,
             0,
             0.00004998326039640233,
             0,
             0,
             0,
             0.0006029753130860627,
             0.04947232827544212,
             0.0005907755112275481,
             0
            ],
            [
             0,
             0,
             0,
             0,
             0,
             0,
             0,
             0,
             0,
             0.030988581478595734,
             0.0041856057941913605,
             0.0005723400972783566
            ]
           ]
          }
         ],
         "layout": {
          "title": {
           "text": "Double Q-learning: Maximal Q-values for Step 32000"
          }
         },
         "name": "frame_32",
         "traces": [
          0
         ]
        },
        {
         "data": [
          {
           "type": "heatmap",
           "z": [
            [
             0,
             1.000596284866333,
             0.9003587961196899,
             0.12354257702827454,
             0,
             0.0001056876135407947,
             0,
             0,
             0,
             0,
             0,
             0
            ],
            [
             0.2304999977350235,
             0.5614192485809326,
             0.8101223707199097,
             0.5126832723617554,
             0.09326642006635666,
             0.09892784804105759,
             0.01979096420109272,
             0.060479938983917236,
             0.10025950521230698,
             0.003456481033936143,
             0,
             0
            ],
            [
             0.008549999445676804,
             0.15122035145759583,
             0.7287987470626831,
             0.6547656059265137,
             0.5869561433792114,
             0.5234948396682739,
             0.4636182188987732,
             0.40450912714004517,
             0.343400239944458,
             0.28475862741470337,
             0.011925746686756611,
             0.000026615540264174342
            ],
            [
             0,
             0,
             0.4103153347969055,
             0.06843724101781845,
             0.297460675239563,
             0.03301473706960678,
             0.0583859384059906,
             0.15154176950454712,
             0.033014293760061264,
             0.23585496842861176,
             0.02042146772146225,
             0.000003886099875671789
            ],
            [
             0,
             0.000005946307283011265,
             0.05705486238002777,
             0.0029107697773724794,
             0.03342260792851448,
             0.0015164029318839312,
             0,
             0.00015970086678862572,
             0.0015109822852537036,
             0.19055423140525818,
             0.001013843691907823,
             0
            ],
            [
             0,
             0.0002586725167930126,
             0.00633477047085762,
             0.0001192389681818895,
             0.0024679964408278465,
             0.00004155849092057906,
             0,
             0,
             0.013820044696331024,
             0.14353397488594055,
             0.0037765041925013065,
             0
            ],
            [
             0,
             0,
             0.0002910732582677156,
             0,
             0.00004998326039640233,
             0,
             0,
             0,
             0.007679413538426161,
             0.10254815220832825,
             0.005711711011826992,
             0
            ],
            [
             0,
             0,
             0,
             0,
             0,
             0,
             0,
             0,
             0.0027687062975019217,
             0.06988728046417236,
             0.014493134804069996,
             0.0012330065947026014
            ]
           ]
          }
         ],
         "layout": {
          "title": {
           "text": "Double Q-learning: Maximal Q-values for Step 33000"
          }
         },
         "name": "frame_33",
         "traces": [
          0
         ]
        },
        {
         "data": [
          {
           "type": "heatmap",
           "z": [
            [
             0,
             1.0012695789337158,
             0.9008325338363647,
             0.12354257702827454,
             0.0055677033960819244,
             0.0001056876135407947,
             0,
             0,
             0,
             0,
             0,
             0
            ],
            [
             0.2304999977350235,
             0.6196008920669556,
             0.81052565574646,
             0.5720499753952026,
             0.10908344388008118,
             0.12922531366348267,
             0.01979096420109272,
             0.07464277744293213,
             0.10025950521230698,
             0.006423572544008493,
             0.00020255350682418793,
             0
            ],
            [
             0.008549999445676804,
             0.15122035145759583,
             0.7292153239250183,
             0.6559668779373169,
             0.5896129608154297,
             0.5288888216018677,
             0.47292524576187134,
             0.42094308137893677,
             0.3705814480781555,
             0.31938549876213074,
             0.024225832894444466,
             0.000026615540264174342
            ],
            [
             0,
             0,
             0.4489157199859619,
             0.07985525578260422,
             0.297460675239563,
             0.03301473706960678,
             0.07839979976415634,
             0.20831739902496338,
             0.04635956883430481,
             0.2732749879360199,
             0.07624000310897827,
             0.000003886099875671789
            ],
            [
             0,
             0.000005946307283011265,
             0.05705486238002777,
             0.0029107697773724794,
             0.03342260792851448,
             0.0015164029318839312,
             0,
             0.007911630906164646,
             0.0026036882773041725,
             0.22751599550247192,
             0.009105777367949486,
             0
            ],
            [
             0,
             0.0002586725167930126,
             0.00633477047085762,
             0.0001192389681818895,
             0.0024679964408278465,
             0.00004155849092057906,
             0,
             0,
             0.0271005742251873,
             0.18772512674331665,
             0.0037765041925013065,
             0
            ],
            [
             0,
             0,
             0.0002910732582677156,
             0,
             0.00004998326039640233,
             0,
             0,
             0,
             0.012675752863287926,
             0.14945673942565918,
             0.005711711011826992,
             0
            ],
            [
             0,
             0,
             0,
             0,
             0,
             0,
             0,
             0,
             0.007238360121846199,
             0.11261717975139618,
             0.025504738092422485,
             0.0024140882305800915
            ]
           ]
          }
         ],
         "layout": {
          "title": {
           "text": "Double Q-learning: Maximal Q-values for Step 34000"
          }
         },
         "name": "frame_34",
         "traces": [
          0
         ]
        },
        {
         "data": [
          {
           "type": "heatmap",
           "z": [
            [
             0,
             1.0039746761322021,
             0.9021424055099487,
             0.12354257702827454,
             0.0055677033960819244,
             0.0001056876135407947,
             0,
             0,
             0,
             0,
             0,
             0
            ],
            [
             0.27109232544898987,
             0.6196008920669556,
             0.8112581968307495,
             0.6019964218139648,
             0.12537610530853271,
             0.16396501660346985,
             0.03924565762281418,
             0.07464277744293213,
             0.1243700236082077,
             0.009093955159187317,
             0.00020255350682418793,
             0
            ],
            [
             0.008549999445676804,
             0.15122035145759583,
             0.7297457456588745,
             0.6565290689468384,
             0.5905746817588806,
             0.5308175086975098,
             0.4768086075782776,
             0.4273024797439575,
             0.3808819651603699,
             0.33683300018310547,
             0.024225832894444466,
             0.000026615540264174342
            ],
            [
             0,
             0,
             0.4489157199859619,
             0.07985525578260422,
             0.32375776767730713,
             0.03301473706960678,
             0.07839979976415634,
             0.2414378970861435,
             0.06152760982513428,
             0.29650479555130005,
             0.09531919658184052,
             0.000003886099875671789
            ],
            [
             0,
             0.000005946307283011265,
             0.05705486238002777,
             0.0029107697773724794,
             0.03342260792851448,
             0.0015164029318839312,
             0,
             0.007911630906164646,
             0.01080547459423542,
             0.2559027671813965,
             0.01288481056690216,
             0
            ],
            [
             0,
             0.0002586725167930126,
             0.00633477047085762,
             0.0001192389681818895,
             0.0024679964408278465,
             0.00004155849092057906,
             0,
             0,
             0.035320945084095,
             0.21812400221824646,
             0.0037765041925013065,
             0
            ],
            [
             0,
             0,
             0.0002910732582677156,
             0,
             0.00004998326039640233,
             0,
             0,
             0,
             0.01804323121905327,
             0.1828732192516327,
             0.01175308134406805,
             0
            ],
            [
             0,
             0,
             0,
             0,
             0,
             0,
             0,
             0,
             0.01957143284380436,
             0.15117307007312775,
             0.04264483600854874,
             0.0064709000289440155
            ]
           ]
          }
         ],
         "layout": {
          "title": {
           "text": "Double Q-learning: Maximal Q-values for Step 35000"
          }
         },
         "name": "frame_35",
         "traces": [
          0
         ]
        },
        {
         "data": [
          {
           "type": "heatmap",
           "z": [
            [
             0,
             1.0068886280059814,
             0.9046534299850464,
             0.12354257702827454,
             0.0055677033960819244,
             0.0001056876135407947,
             0,
             0,
             0,
             0,
             0,
             0
            ],
            [
             0.27109232544898987,
             0.6196008920669556,
             0.8131352663040161,
             0.6096295714378357,
             0.14091715216636658,
             0.18342094123363495,
             0.03924565762281418,
             0.07464277744293213,
             0.15519875288009644,
             0.016002502292394638,
             0.00020255350682418793,
             0
            ],
            [
             0.008549999445676804,
             0.19095538556575775,
             0.7308552861213684,
             0.657275915145874,
             0.5911605358123779,
             0.5317453145980835,
             0.4781896471977234,
             0.42942118644714355,
             0.3852309584617615,
             0.34432506561279297,
             0.06416907161474228,
             0.003304950427263975
            ],
            [
             0,
             0,
             0.46977686882019043,
             0.09139496833086014,
             0.3333115577697754,
             0.04563276469707489,
             0.09522783756256104,
             0.25010964274406433,
             0.06152760982513428,
             0.306471586227417,
             0.11243250221014023,
             0.000003886099875671789
            ],
            [
             0,
             0.000005946307283011265,
             0.05705486238002777,
             0.0029107697773724794,
             0.03342260792851448,
             0.0015164029318839312,
             0,
             0.007911630906164646,
             0.021600419655442238,
             0.27051490545272827,
             0.01934695988893509,
             0
            ],
            [
             0,
             0.0002586725167930126,
             0.00633477047085762,
             0.0001192389681818895,
             0.0024679964408278465,
             0.00004155849092057906,
             0,
             0,
             0.05169139802455902,
             0.23698368668556213,
             0.0037765041925013065,
             0
            ],
            [
             0,
             0,
             0.0002910732582677156,
             0,
             0.00004998326039640233,
             0,
             0,
             0,
             0.01804323121905327,
             0.20394331216812134,
             0.01175308134406805,
             0
            ],
            [
             0,
             0,
             0,
             0,
             0,
             0,
             0,
             0,
             0.025905363261699677,
             0.17539860308170319,
             0.07298394292593002,
             0.011123614385724068
            ]
           ]
          }
         ],
         "layout": {
          "title": {
           "text": "Double Q-learning: Maximal Q-values for Step 36000"
          }
         },
         "name": "frame_36",
         "traces": [
          0
         ]
        },
        {
         "data": [
          {
           "type": "heatmap",
           "z": [
            [
             0,
             1.0087554454803467,
             0.9069095253944397,
             0.18876564502716064,
             0.0055677033960819244,
             0.0001056876135407947,
             0,
             0,
             0,
             0,
             0,
             0
            ],
            [
             0.27109232544898987,
             0.6261160969734192,
             0.8150873184204102,
             0.6299798488616943,
             0.16829875111579895,
             0.20095160603523254,
             0.07837984710931778,
             0.0880940854549408,
             0.17666949331760406,
             0.03654972091317177,
             0.00020255350682418793,
             0
            ],
            [
             0.008549999445676804,
             0.2667663097381592,
             0.7326329946517944,
             0.6585025787353516,
             0.5920382738113403,
             0.5324435234069824,
             0.4788888692855835,
             0.4305317997932434,
             0.3868876099586487,
             0.3470216989517212,
             0.06416907161474228,
             0.003304950427263975
            ],
            [
             0,
             0.02276735194027424,
             0.48977482318878174,
             0.12453538924455643,
             0.3445698022842407,
             0.05784882605075836,
             0.11361100524663925,
             0.2806054353713989,
             0.09011561423540115,
             0.3106708824634552,
             0.1290712058544159,
             0.000003886099875671789
            ],
            [
             0,
             0.000005946307283011265,
             0.07259171456098557,
             0.006201682612299919,
             0.03342260792851448,
             0.0015164029318839312,
             0,
             0.007911630906164646,
             0.021600419655442238,
             0.27697718143463135,
             0.025463880971074104,
             0
            ],
            [
             0,
             0.0002586725167930126,
             0.00633477047085762,
             0.0001192389681818895,
             0.0024679964408278465,
             0.00004155849092057906,
             0,
             0,
             0.08020779490470886,
             0.24578642845153809,
             0.0250302255153656,
             0
            ],
            [
             0,
             0,
             0.0002910732582677156,
             0,
             0.00004998326039640233,
             0,
             0,
             0,
             0.01804323121905327,
             0.2157849371433258,
             0.01175308134406805,
             0
            ],
            [
             0,
             0,
             0,
             0,
             0,
             0,
             0,
             0,
             0.03739742562174797,
             0.18870140612125397,
             0.08827150613069534,
             0.013539789244532585
            ]
           ]
          }
         ],
         "layout": {
          "title": {
           "text": "Double Q-learning: Maximal Q-values for Step 37000"
          }
         },
         "name": "frame_37",
         "traces": [
          0
         ]
        },
        {
         "data": [
          {
           "type": "heatmap",
           "z": [
            [
             0,
             1.012855052947998,
             0.9102502465248108,
             0.20688045024871826,
             0.0055677033960819244,
             0.0001056876135407947,
             0,
             0,
             0.005444872658699751,
             0,
             0,
             0
            ],
            [
             0.27109232544898987,
             0.654399037361145,
             0.817374587059021,
             0.6474751234054565,
             0.22061458230018616,
             0.2493753284215927,
             0.07837984710931778,
             0.10592927783727646,
             0.19910556077957153,
             0.04123508185148239,
             0.00020255350682418793,
             0
            ],
            [
             0.008549999445676804,
             0.30065256357192993,
             0.7342612743377686,
             0.6599608659744263,
             0.593316376209259,
             0.5335140824317932,
             0.4796368479728699,
             0.43124786019325256,
             0.387705534696579,
             0.3483862280845642,
             0.09337189793586731,
             0.003304950427263975
            ],
            [
             0,
             0.02276735194027424,
             0.49527961015701294,
             0.12453538924455643,
             0.37834954261779785,
             0.07208077609539032,
             0.11361100524663925,
             0.3032572865486145,
             0.11291023343801498,
             0.31289076805114746,
             0.15039031207561493,
             0.007003221660852432
            ],
            [
             0,
             0.000005946307283011265,
             0.07259171456098557,
             0.006201682612299919,
             0.046348340809345245,
             0.0015164029318839312,
             0,
             0.007911630906164646,
             0.021600419655442238,
             0.2800447642803192,
             0.029028670862317085,
             2.863254735530063e-7
            ],
            [
             0,
             0.0002586725167930126,
             0.00633477047085762,
             0.0001192389681818895,
             0.0024679964408278465,
             0.00004155849092057906,
             0,
             0,
             0.08574999868869781,
             0.25068211555480957,
             0.0250302255153656,
             0
            ],
            [
             0,
             0,
             0.0002910732582677156,
             0,
             0.00004998326039640233,
             0,
             0,
             0,
             0.026383275166153908,
             0.22315095365047455,
             0.01175308134406805,
             0
            ],
            [
             0,
             0,
             0,
             0,
             0,
             0,
             0,
             0,
             0.03739742562174797,
             0.1977768987417221,
             0.09442831575870514,
             0.020413924008607864
            ]
           ]
          }
         ],
         "layout": {
          "title": {
           "text": "Double Q-learning: Maximal Q-values for Step 38000"
          }
         },
         "name": "frame_38",
         "traces": [
          0
         ]
        },
        {
         "data": [
          {
           "type": "heatmap",
           "z": [
            [
             0,
             1.0252673625946045,
             0.9174382090568542,
             0.24471774697303772,
             0.0055677033960819244,
             0.0001056876135407947,
             0,
             0,
             0.005444872658699751,
             0,
             0,
             0
            ],
            [
             0.27109232544898987,
             0.6741123795509338,
             0.8227623105049133,
             0.6526477336883545,
             0.2309752106666565,
             0.2581727206707001,
             0.07837984710931778,
             0.11808092892169952,
             0.21198055148124695,
             0.05545780807733536,
             0.00020255350682418793,
             0
            ],
            [
             0.008549999445676804,
             0.3180645704269409,
             0.7376353740692139,
             0.6622073650360107,
             0.5950157642364502,
             0.5346592664718628,
             0.4806470274925232,
             0.4321572184562683,
             0.38844722509384155,
             0.34915125370025635,
             0.10130804777145386,
             0.003304950427263975
            ],
            [
             0,
             0.02276735194027424,
             0.5003479719161987,
             0.13491123914718628,
             0.39053428173065186,
             0.07208077609539032,
             0.14264683425426483,
             0.3227996528148651,
             0.1379517912864685,
             0.31384143233299255,
             0.1578505039215088,
             0.007003221660852432
            ],
            [
             0,
             0.000005946307283011265,
             0.07259171456098557,
             0.006201682612299919,
             0.046348340809345245,
             0.0015164029318839312,
             0,
             0.007911630906164646,
             0.04466049373149872,
             0.28161656856536865,
             0.029028670862317085,
             2.863254735530063e-7
            ],
            [
             0,
             0.0002586725167930126,
             0.00633477047085762,
             0.0001192389681818895,
             0.0024679964408278465,
             0.00004155849092057906,
             0,
             0,
             0.08574999868869781,
             0.2528621554374695,
             0.0250302255153656,
             0
            ],
            [
             0,
             0,
             0.0002910732582677156,
             0,
             0.00004998326039640233,
             0,
             0,
             0,
             0.05102322995662689,
             0.22617512941360474,
             0.02195015922188759,
             0
            ],
            [
             0,
             0,
             0,
             0,
             0,
             0,
             0,
             0,
             0.043013766407966614,
             0.20228154957294464,
             0.11301378905773163,
             0.0323769636452198
            ]
           ]
          }
         ],
         "layout": {
          "title": {
           "text": "Double Q-learning: Maximal Q-values for Step 39000"
          }
         },
         "name": "frame_39",
         "traces": [
          0
         ]
        },
        {
         "data": [
          {
           "type": "heatmap",
           "z": [
            [
             0,
             1.02913498878479,
             0.9239851236343384,
             0.24471774697303772,
             0.0055677033960819244,
             0.0001056876135407947,
             0,
             0,
             0.005444872658699751,
             0,
             0,
             0
            ],
            [
             0.30933237075805664,
             0.7304968237876892,
             0.8289427757263184,
             0.6617839336395264,
             0.2309752106666565,
             0.2581727206707001,
             0.09784270823001862,
             0.11808092892169952,
             0.21864420175552368,
             0.05545780807733536,
             0.00020255350682418793,
             0
            ],
            [
             0.008549999445676804,
             0.35302069783210754,
             0.7426038384437561,
             0.6660478711128235,
             0.5978190898895264,
             0.5365210771560669,
             0.48201966285705566,
             0.4331425428390503,
             0.38923221826553345,
             0.3499353528022766,
             0.11492420732975006,
             0.003304950427263975
            ],
            [
             0,
             0.02276735194027424,
             0.5049774646759033,
             0.14424948394298553,
             0.40508997440338135,
             0.08664003759622574,
             0.14264683425426483,
             0.33754441142082214,
             0.16050896048545837,
             0.3145957291126251,
             0.1578505039215088,
             0.007003221660852432
            ],
            [
             0,
             0.000005946307283011265,
             0.07259171456098557,
             0.006201682612299919,
             0.046348340809345245,
             0.0015164029318839312,
             0,
             0.007911630906164646,
             0.056122198700904846,
             0.2827109098434448,
             0.029028670862317085,
             2.863254735530063e-7
            ],
            [
             0,
             0.0002586725167930126,
             0.00633477047085762,
             0.0001192389681818895,
             0.0024679964408278465,
             0.00004155849092057906,
             0,
             0,
             0.09999947249889374,
             0.2539800703525543,
             0.05464385449886322,
             0
            ],
            [
             0,
             0,
             0.0002910732582677156,
             0,
             0.00004998326039640233,
             0,
             0,
             0,
             0.057474516332149506,
             0.22781240940093994,
             0.04642156511545181,
             0
            ],
            [
             0,
             0,
             0,
             0,
             0,
             0,
             0,
             0,
             0.048188209533691406,
             0.20442065596580505,
             0.11525054275989532,
             0.03501642495393753
            ]
           ]
          }
         ],
         "layout": {
          "title": {
           "text": "Double Q-learning: Maximal Q-values for Step 40000"
          }
         },
         "name": "frame_40",
         "traces": [
          0
         ]
        },
        {
         "data": [
          {
           "type": "heatmap",
           "z": [
            [
             0,
             1.037074089050293,
             0.9303063154220581,
             0.2752262353897095,
             0.0055677033960819244,
             0.0001056876135407947,
             0,
             0,
             0.005444872658699751,
             0,
             0,
             0
            ],
            [
             0.30933237075805664,
             0.7394442558288574,
             0.8339909315109253,
             0.6809589862823486,
             0.26743823289871216,
             0.2663010358810425,
             0.11391854286193848,
             0.16413360834121704,
             0.22899189591407776,
             0.05545780807733536,
             0.00020255350682418793,
             0
            ],
            [
             0.008549999445676804,
             0.40674981474876404,
             0.7471826076507568,
             0.6699467897415161,
             0.6013790965080261,
             0.5396600961685181,
             0.48425033688545227,
             0.4347023367881775,
             0.3903719186782837,
             0.3508504629135132,
             0.11492420732975006,
             0.003304950427263975
            ],
            [
             0,
             0.02276735194027424,
             0.5294580459594727,
             0.18763382732868195,
             0.40508997440338135,
             0.08664003759622574,
             0.17180310189723969,
             0.34446004033088684,
             0.17513756453990936,
             0.3153223991394043,
             0.18169927597045898,
             0.013649391010403633
            ],
            [
             0,
             0.000005946307283011265,
             0.07259171456098557,
             0.006201682612299919,
             0.046348340809345245,
             0.0015164029318839312,
             0,
             0.007911630906164646,
             0.06564158201217651,
             0.2833263874053955,
             0.04323895648121834,
             2.863254735530063e-7
            ],
            [
             0,
             0.0002586725167930126,
             0.00633477047085762,
             0.0001192389681818895,
             0.0024679964408278465,
             0.00004155849092057906,
             0,
             0,
             0.11289747059345245,
             0.25472748279571533,
             0.08021324872970581,
             0
            ],
            [
             0,
             0,
             0.0002910732582677156,
             0,
             0.00004998326039640233,
             0,
             0,
             0,
             0.07227303832769394,
             0.22872021794319153,
             0.04642156511545181,
             0
            ],
            [
             0,
             0,
             0,
             0,
             0,
             0,
             0,
             0,
             0.05711837112903595,
             0.20543430745601654,
             0.1368437260389328,
             0.05060599744319916
            ]
           ]
          }
         ],
         "layout": {
          "title": {
           "text": "Double Q-learning: Maximal Q-values for Step 41000"
          }
         },
         "name": "frame_41",
         "traces": [
          0
         ]
        },
        {
         "data": [
          {
           "type": "heatmap",
           "z": [
            [
             0,
             1.0436816215515137,
             0.9370956420898438,
             0.3218672275543213,
             0.0055677033960819244,
             0.0001056876135407947,
             0,
             0,
             0.005444872658699751,
             0,
             0,
             0
            ],
            [
             0.30933237075805664,
             0.7417967915534973,
             0.8393361568450928,
             0.6918090581893921,
             0.27774304151535034,
             0.2663010358810425,
             0.11391854286193848,
             0.17958329617977142,
             0.24980805814266205,
             0.06579486280679703,
             0.00020255350682418793,
             0
            ],
            [
             0.008549999445676804,
             0.42687901854515076,
             0.7529083490371704,
             0.6744356155395508,
             0.6049081087112427,
             0.5429053902626038,
             0.4863586127758026,
             0.4368675947189331,
             0.39224565029144287,
             0.352286696434021,
             0.12078967690467834,
             0.003304950427263975
            ],
            [
             0,
             0.02276735194027424,
             0.5541176199913025,
             0.23497138917446136,
             0.42355382442474365,
             0.11231420934200287,
             0.17180310189723969,
             0.3477633595466614,
             0.17513756453990936,
             0.3163352608680725,
             0.18642061948776245,
             0.013649391010403633
            ],
            [
             0,
             0.000005946307283011265,
             0.07259171456098557,
             0.006201682612299919,
             0.05973200500011444,
             0.0015164029318839312,
             0,
             0.007911630906164646,
             0.09929534047842026,
             0.28418946266174316,
             0.04323895648121834,
             2.863254735530063e-7
            ],
            [
             0,
             0.0002586725167930126,
             0.00633477047085762,
             0.0001192389681818895,
             0.0024679964408278465,
             0.00004155849092057906,
             0,
             0,
             0.12456123530864716,
             0.25524818897247314,
             0.08021324872970581,
             0
            ],
            [
             0,
             0,
             0.0002910732582677156,
             0,
             0.00004998326039640233,
             0,
             0,
             0,
             0.07758846879005432,
             0.22940337657928467,
             0.05311818793416023,
             0
            ],
            [
             0,
             0,
             0,
             0,
             0,
             0,
             0,
             0,
             0.06185055896639824,
             0.20615620911121368,
             0.1416853815317154,
             0.05305789038538933
            ]
           ]
          }
         ],
         "layout": {
          "title": {
           "text": "Double Q-learning: Maximal Q-values for Step 42000"
          }
         },
         "name": "frame_42",
         "traces": [
          0
         ]
        },
        {
         "data": [
          {
           "type": "heatmap",
           "z": [
            [
             0,
             1.0483067035675049,
             0.9415206909179688,
             0.3404808044433594,
             0.0055677033960819244,
             0.010205556638538837,
             0,
             0,
             0.018924416974186897,
             0,
             0,
             0
            ],
            [
             0.30933237075805664,
             0.7773512601852417,
             0.8440893888473511,
             0.6945432424545288,
             0.27774304151535034,
             0.3149101734161377,
             0.12861362099647522,
             0.23238332569599152,
             0.27571481466293335,
             0.09861960262060165,
             0.003239254467189312,
             0
            ],
            [
             0.008549999445676804,
             0.4453352689743042,
             0.7580552101135254,
             0.6792245507240295,
             0.6087794899940491,
             0.5461772680282593,
             0.4898015558719635,
             0.43916887044906616,
             0.39358317852020264,
             0.35337311029434204,
             0.12078967690467834,
             0.003304950427263975
            ],
            [
             0,
             0.02276735194027424,
             0.5749847292900085,
             0.2561517059803009,
             0.443207323551178,
             0.1345209777355194,
             0.21819177269935608,
             0.35512489080429077,
             0.201994389295578,
             0.31742793321609497,
             0.20011386275291443,
             0.013649391010403633
            ],
            [
             0,
             0.000005946307283011265,
             0.07259171456098557,
             0.006201682612299919,
             0.05973200500011444,
             0.0015164029318839312,
             0,
             0.007911630906164646,
             0.11129432171583176,
             0.2851101756095886,
             0.05502891167998314,
             2.863254735530063e-7
            ],
            [
             0,
             0.0002586725167930126,
             0.00633477047085762,
             0.0001192389681818895,
             0.0024679964408278465,
             0.00004155849092057906,
             0,
             0,
             0.13512462377548218,
             0.2561172842979431,
             0.08759322017431259,
             0
            ],
            [
             0,
             0,
             0.0002910732582677156,
             0,
             0.00004998326039640233,
             0,
             0,
             0,
             0.07758846879005432,
             0.2301226556301117,
             0.05920277535915375,
             0
            ],
            [
             0,
             0,
             0,
             0,
             0,
             0,
             0,
             0,
             0.06996137648820877,
             0.20681580901145935,
             0.14888480305671692,
             0.06071615219116211
            ]
           ]
          }
         ],
         "layout": {
          "title": {
           "text": "Double Q-learning: Maximal Q-values for Step 43000"
          }
         },
         "name": "frame_43",
         "traces": [
          0
         ]
        },
        {
         "data": [
          {
           "type": "heatmap",
           "z": [
            [
             0,
             1.0528545379638672,
             0.946046769618988,
             0.3404808044433594,
             0.0055677033960819244,
             0.010205556638538837,
             0,
             0,
             0.018924416974186897,
             0,
             0,
             0
            ],
            [
             0.3441530168056488,
             0.7879879474639893,
             0.8492118120193481,
             0.702778697013855,
             0.27774304151535034,
             0.34885457158088684,
             0.12861362099647522,
             0.2378731667995453,
             0.2801384925842285,
             0.09861960262060165,
             0.003239254467189312,
             0
            ],
            [
             0.008549999445676804,
             0.46209123730659485,
             0.7626265287399292,
             0.6840859651565552,
             0.6135245561599731,
             0.5492809414863586,
             0.4930441975593567,
             0.4424537718296051,
             0.3965975046157837,
             0.3557243347167969,
             0.12078967690467834,
             0.003304950427263975
            ],
            [
             0,
             0.02276735194027424,
             0.5810320377349854,
             0.2747141718864441,
             0.443207323551178,
             0.1345209777355194,
             0.22674822807312012,
             0.36146581172943115,
             0.21885782480239868,
             0.319200336933136,
             0.20973140001296997,
             0.013649391010403633
            ],
            [
             0,
             0.000005946307283011265,
             0.07259171456098557,
             0.006201682612299919,
             0.05973200500011444,
             0.0015164029318839312,
             0,
             0.007911630906164646,
             0.11129432171583176,
             0.28654348850250244,
             0.06813905388116837,
             2.863254735530063e-7
            ],
            [
             0,
             0.0002586725167930126,
             0.00633477047085762,
             0.0001192389681818895,
             0.0024679964408278465,
             0.00004155849092057906,
             0,
             0,
             0.13512462377548218,
             0.25715768337249756,
             0.08759322017431259,
             0
            ],
            [
             0,
             0,
             0.0002910732582677156,
             0,
             0.00004998326039640233,
             0,
             0,
             0,
             0.07758846879005432,
             0.23090460896492004,
             0.05920277535915375,
             0
            ],
            [
             0,
             0,
             0,
             0,
             0,
             0,
             0,
             0,
             0.06996137648820877,
             0.20746299624443054,
             0.153329998254776,
             0.06071615219116211
            ]
           ]
          }
         ],
         "layout": {
          "title": {
           "text": "Double Q-learning: Maximal Q-values for Step 44000"
          }
         },
         "name": "frame_44",
         "traces": [
          0
         ]
        },
        {
         "data": [
          {
           "type": "heatmap",
           "z": [
            [
             0,
             1.055327296257019,
             0.9488377571105957,
             0.3919714689254761,
             0.0055677033960819244,
             0.010205556638538837,
             0,
             0,
             0.018924416974186897,
             0,
             0,
             0
            ],
            [
             0.3441530168056488,
             0.8040215373039246,
             0.8515987396240234,
             0.7167054414749146,
             0.28898653388023376,
             0.34885457158088684,
             0.14221256971359253,
             0.2378731667995453,
             0.2914868891239166,
             0.11431385576725006,
             0.003239254467189312,
             0
            ],
            [
             0.008549999445676804,
             0.46209123730659485,
             0.7654005289077759,
             0.687192440032959,
             0.617438793182373,
             0.5536019802093506,
             0.4967408776283264,
             0.4453674554824829,
             0.39933693408966064,
             0.35808759927749634,
             0.1262633055448532,
             0.003304950427263975
            ],
            [
             0,
             0.02276735194027424,
             0.5916763544082642,
             0.2747141718864441,
             0.4466438591480255,
             0.1511538326740265,
             0.2534089982509613,
             0.36857789754867554,
             0.23120376467704773,
             0.32111603021621704,
             0.21486535668373108,
             0.013649391010403633
            ],
            [
             0,
             0.000005946307283011265,
             0.07259171456098557,
             0.006201682612299919,
             0.05973200500011444,
             0.0015164029318839312,
             0,
             0.040076445788145065,
             0.11647863686084747,
             0.28821060061454773,
             0.07713600993156433,
             2.863254735530063e-7
            ],
            [
             0,
             0.0002586725167930126,
             0.00633477047085762,
             0.0001192389681818895,
             0.0024679964408278465,
             0.00004155849092057906,
             0,
             0,
             0.1447962522506714,
             0.25846797227859497,
             0.08759322017431259,
             0
            ],
            [
             0,
             0,
             0.0002910732582677156,
             0,
             0.00004998326039640233,
             0,
             0,
             0,
             0.08247004449367523,
             0.23202112317085266,
             0.06971167027950287,
             0
            ],
            [
             0,
             0,
             0,
             0,
             0,
             0,
             0,
             0,
             0.08559557050466537,
             0.20827272534370422,
             0.1556328535079956,
             0.06304352730512619
            ]
           ]
          }
         ],
         "layout": {
          "title": {
           "text": "Double Q-learning: Maximal Q-values for Step 45000"
          }
         },
         "name": "frame_45",
         "traces": [
          0
         ]
        },
        {
         "data": [
          {
           "type": "heatmap",
           "z": [
            [
             0,
             1.0573995113372803,
             0.9511321783065796,
             0.3919714689254761,
             0.0055677033960819244,
             0.010205556638538837,
             0,
             0,
             0.030250098556280136,
             0,
             0,
             0
            ],
            [
             0.3441530168056488,
             0.8040215373039246,
             0.8548496961593628,
             0.7255476117134094,
             0.3654559254646301,
             0.34885457158088684,
             0.17549540102481842,
             0.2430495321750641,
             0.3046591281890869,
             0.13600066304206848,
             0.003239254467189312,
             0
            ],
            [
             0.008549999445676804,
             0.4755083918571472,
             0.768255352973938,
             0.6891303062438965,
             0.6196775436401367,
             0.556033730506897,
             0.49960827827453613,
             0.44789350032806396,
             0.40217047929763794,
             0.36007171869277954,
             0.13578945398330688,
             0.003304950427263975
            ],
            [
             0,
             0.02276735194027424,
             0.5990656614303589,
             0.2747141718864441,
             0.4497595727443695,
             0.1664326786994934,
             0.2534089982509613,
             0.37413227558135986,
             0.23120376467704773,
             0.32320597767829895,
             0.21717076003551483,
             0.013649391010403633
            ],
            [
             0,
             0.000005946307283011265,
             0.07259171456098557,
             0.006201682612299919,
             0.05973200500011444,
             0.0015164029318839312,
             0,
             0.040076445788145065,
             0.1350734531879425,
             0.2898710370063782,
             0.08545556664466858,
             2.863254735530063e-7
            ],
            [
             0,
             0.0002586725167930126,
             0.00633477047085762,
             0.0001192389681818895,
             0.0024679964408278465,
             0.00004155849092057906,
             0,
             0,
             0.1447962522506714,
             0.2600522041320801,
             0.08759322017431259,
             0
            ],
            [
             0,
             0,
             0.0002910732582677156,
             0,
             0.00004998326039640233,
             0,
             0,
             0,
             0.09094186872243881,
             0.23346905410289764,
             0.06971167027950287,
             0
            ],
            [
             0,
             0,
             0,
             0,
             0,
             0,
             0,
             0,
             0.09239459037780762,
             0.20951250195503235,
             0.15935125946998596,
             0.06513816863298416
            ]
           ]
          }
         ],
         "layout": {
          "title": {
           "text": "Double Q-learning: Maximal Q-values for Step 46000"
          }
         },
         "name": "frame_46",
         "traces": [
          0
         ]
        },
        {
         "data": [
          {
           "type": "heatmap",
           "z": [
            [
             0,
             1.0629500150680542,
             0.9540878534317017,
             0.4018544852733612,
             0.0055677033960819244,
             0.010205556638538837,
             0.005355482455343008,
             0,
             0.030250098556280136,
             0,
             0,
             0
            ],
            [
             0.3441530168056488,
             0.8060524463653564,
             0.856926441192627,
             0.7333996295928955,
             0.3654559254646301,
             0.3589077591896057,
             0.2030050903558731,
             0.2522234320640564,
             0.3091169595718384,
             0.13600066304206848,
             0.003239254467189312,
             0
            ],
            [
             0.008549999445676804,
             0.491011381149292,
             0.7702145576477051,
             0.6914665699005127,
             0.6216296553611755,
             0.5582458972930908,
             0.5014932155609131,
             0.4501049518585205,
             0.40435612201690674,
             0.36254167556762695,
             0.16374368965625763,
             0.003304950427263975
            ],
            [
             0,
             0.02276735194027424,
             0.6083493828773499,
             0.2846393585205078,
             0.45739221572875977,
             0.1664326786994934,
             0.2908914089202881,
             0.37907740473747253,
             0.2420281171798706,
             0.32542693614959717,
             0.21928992867469788,
             0.013649391010403633
            ],
            [
             0,
             0.000005946307283011265,
             0.07259171456098557,
             0.006201682612299919,
             0.05973200500011444,
             0.0015164029318839312,
             0,
             0.040076445788145065,
             0.14566683769226074,
             0.29185912013053894,
             0.08876029402017593,
             2.863254735530063e-7
            ],
            [
             0,
             0.0002586725167930126,
             0.00633477047085762,
             0.0001192389681818895,
             0.0024679964408278465,
             0.00004155849092057906,
             0,
             0,
             0.14817170798778534,
             0.26161324977874756,
             0.10062861442565918,
             0
            ],
            [
             0,
             0,
             0.0002910732582677156,
             0,
             0.00004998326039640233,
             0,
             0,
             0,
             0.09459295868873596,
             0.23457801342010498,
             0.07920392602682114,
             0
            ],
            [
             0,
             0,
             0,
             0,
             0,
             0,
             0,
             0,
             0.09239459037780762,
             0.21050909161567688,
             0.16497933864593506,
             0.0769178494811058
            ]
           ]
          }
         ],
         "layout": {
          "title": {
           "text": "Double Q-learning: Maximal Q-values for Step 47000"
          }
         },
         "name": "frame_47",
         "traces": [
          0
         ]
        },
        {
         "data": [
          {
           "type": "heatmap",
           "z": [
            [
             0,
             1.069694995880127,
             0.9603150486946106,
             0.4181942939758301,
             0.0055677033960819244,
             0.010205556638538837,
             0.005355482455343008,
             0,
             0.030250098556280136,
             0,
             0,
             0
            ],
            [
             0.3441530168056488,
             0.8060524463653564,
             0.8620083332061768,
             0.7362317442893982,
             0.40565264225006104,
             0.36916905641555786,
             0.2111077755689621,
             0.2564042806625366,
             0.3091169595718384,
             0.13600066304206848,
             0.003239254467189312,
             0
            ],
            [
             0.008549999445676804,
             0.4951830506324768,
             0.7737185955047607,
             0.6941366195678711,
             0.6239926815032959,
             0.5601392388343811,
             0.5036425590515137,
             0.4521322250366211,
             0.4062771797180176,
             0.3646673262119293,
             0.16374368965625763,
             0.003304950427263975
            ],
            [
             0,
             0.02276735194027424,
             0.6171196699142456,
             0.3088468313217163,
             0.4712643027305603,
             0.17623639106750488,
             0.3006005585193634,
             0.3808048963546753,
             0.24855035543441772,
             0.32744067907333374,
             0.2285647839307785,
             0.013649391010403633
            ],
            [
             0,
             0.000005946307283011265,
             0.07259171456098557,
             0.006201682612299919,
             0.05973200500011444,
             0.0015164029318839312,
             0,
             0.040076445788145065,
             0.14566683769226074,
             0.293707013130188,
             0.09682253748178482,
             2.863254735530063e-7
            ],
            [
             0,
             0.0002586725167930126,
             0.00633477047085762,
             0.0001192389681818895,
             0.0024679964408278465,
             0.00004155849092057906,
             0,
             0,
             0.15414771437644958,
             0.2635599374771118,
             0.10062861442565918,
             0
            ],
            [
             0,
             0,
             0.0002910732582677156,
             0,
             0.00004998326039640233,
             0,
             0,
             0,
             0.09798011928796768,
             0.2361907809972763,
             0.09664052724838257,
             0
            ],
            [
             0,
             0,
             0,
             0,
             0,
             0,
             0,
             0.006599503103643656,
             0.11147512495517731,
             0.21188467741012573,
             0.1657618284225464,
             0.07888425141572952
            ]
           ]
          }
         ],
         "layout": {
          "title": {
           "text": "Double Q-learning: Maximal Q-values for Step 48000"
          }
         },
         "name": "frame_48",
         "traces": [
          0
         ]
        },
        {
         "data": [
          {
           "type": "heatmap",
           "z": [
            [
             0,
             1.0770726203918457,
             0.9661285877227783,
             0.4181942939758301,
             0.0055677033960819244,
             0.010205556638538837,
             0.005355482455343008,
             0,
             0.030250098556280136,
             0,
             0,
             0
            ],
            [
             0.3441530168056488,
             0.808627188205719,
             0.8671903610229492,
             0.7441861629486084,
             0.42297691106796265,
             0.3782336711883545,
             0.2309211641550064,
             0.2564042806625366,
             0.3105090856552124,
             0.14360955357551575,
             0.003239254467189312,
             0
            ],
            [
             0.008549999445676804,
             0.5026742815971375,
             0.7780457735061646,
             0.698104977607727,
             0.6265864372253418,
             0.5618340373039246,
             0.5051679611206055,
             0.4536764621734619,
             0.4077655076980591,
             0.3659921884536743,
             0.1802738755941391,
             0.003304950427263975
            ],
            [
             0,
             0.02276735194027424,
             0.627295732498169,
             0.34044620394706726,
             0.47279438376426697,
             0.18580469489097595,
             0.30707448720932007,
             0.3837919235229492,
             0.2579677700996399,
             0.3288196325302124,
             0.23521482944488525,
             0.013649391010403633
            ],
            [
             0,
             0.000005946307283011265,
             0.07259171456098557,
             0.006201682612299919,
             0.05973200500011444,
             0.0015164029318839312,
             0,
             0.055856093764305115,
             0.14566683769226074,
             0.2953440248966217,
             0.10438582301139832,
             2.863254735530063e-7
            ],
            [
             0,
             0.0002586725167930126,
             0.00633477047085762,
             0.0001192389681818895,
             0.0024679964408278465,
             0.00004155849092057906,
             0,
             0,
             0.15993273258209229,
             0.2652328908443451,
             0.12416717410087585,
             0
            ],
            [
             0,
             0,
             0.0002910732582677156,
             0,
             0.00004998326039640233,
             0,
             0,
             0,
             0.10951534658670425,
             0.23745295405387878,
             0.1039937436580658,
             0.003187075024470687
            ],
            [
             0,
             0,
             0,
             0,
             0,
             0,
             0,
             0.006599503103643656,
             0.11329562216997147,
             0.21316063404083252,
             0.17113490402698517,
             0.0896390974521637
            ]
           ]
          }
         ],
         "layout": {
          "title": {
           "text": "Double Q-learning: Maximal Q-values for Step 49000"
          }
         },
         "name": "frame_49",
         "traces": [
          0
         ]
        },
        {
         "data": [
          {
           "type": "heatmap",
           "z": [
            [
             0,
             1.0875890254974365,
             0.9737550020217896,
             0.4377209544181824,
             0.0055677033960819244,
             0.010205556638538837,
             0.005355482455343008,
             0,
             0.030250098556280136,
             0,
             0,
             0
            ],
            [
             0.3441530168056488,
             0.8248690366744995,
             0.8729362487792969,
             0.7496266961097717,
             0.4319348633289337,
             0.382918119430542,
             0.2309211641550064,
             0.2564042806625366,
             0.3105090856552124,
             0.14360955357551575,
             0.003239254467189312,
             0
            ],
            [
             0.008549999445676804,
             0.519172728061676,
             0.7830337285995483,
             0.7023638486862183,
             0.6299103498458862,
             0.565090537071228,
             0.5073843002319336,
             0.45526930689811707,
             0.40894776582717896,
             0.367241233587265,
             0.19526129961013794,
             0.003304950427263975
            ],
            [
             0,
             0.039341606199741364,
             0.6290801763534546,
             0.3466951251029968,
             0.4902303218841553,
             0.2099023312330246,
             0.3218803405761719,
             0.3860792815685272,
             0.2636595368385315,
             0.329989492893219,
             0.24267058074474335,
             0.013649391010403633
            ],
            [
             0,
             0.000005946307283011265,
             0.07259171456098557,
             0.006201682612299919,
             0.05973200500011444,
             0.0015164029318839312,
             0,
             0.055856093764305115,
             0.16564038395881653,
             0.29625439643859863,
             0.10830961912870407,
             2.863254735530063e-7
            ],
            [
             0,
             0.0002586725167930126,
             0.00633477047085762,
             0.0001192389681818895,
             0.0024679964408278465,
             0.00004155849092057906,
             0,
             0,
             0.15993273258209229,
             0.2661536931991577,
             0.1314690262079239,
             0
            ],
            [
             0,
             0,
             0.0002910732582677156,
             0,
             0.00004998326039640233,
             0,
             0,
             0,
             0.11493224650621414,
             0.2387022078037262,
             0.11266833543777466,
             0.003187075024470687
            ],
            [
             0,
             0,
             0,
             0,
             0,
             0,
             0,
             0.006599503103643656,
             0.11649202555418015,
             0.21442511677742004,
             0.17580774426460266,
             0.10229182243347168
            ]
           ]
          }
         ],
         "layout": {
          "title": {
           "text": "Double Q-learning: Maximal Q-values for Step 50000"
          }
         },
         "name": "frame_50",
         "traces": [
          0
         ]
        },
        {
         "data": [
          {
           "type": "heatmap",
           "z": [
            [
             0,
             1.0926053524017334,
             0.9808441996574402,
             0.4377209544181824,
             0.0055677033960819244,
             0.010205556638538837,
             0.005355482455343008,
             0,
             0.030250098556280136,
             0,
             0,
             0
            ],
            [
             0.3441530168056488,
             0.8299421668052673,
             0.879565954208374,
             0.754277229309082,
             0.4319348633289337,
             0.382918119430542,
             0.2481795996427536,
             0.26058101654052734,
             0.3118016719818115,
             0.15058284997940063,
             0.003239254467189312,
             0
            ],
            [
             0.008549999445676804,
             0.5343363285064697,
             0.7885122299194336,
             0.7075207233428955,
             0.6345000267028809,
             0.56878662109375,
             0.5100996494293213,
             0.4575548768043518,
             0.41099417209625244,
             0.36905425786972046,
             0.20885927975177765,
             0.003304950427263975
            ],
            [
             0,
             0.039341606199741364,
             0.6440406441688538,
             0.3523191809654236,
             0.5065494179725647,
             0.22395694255828857,
             0.3320520520210266,
             0.3896178901195526,
             0.2687821686267853,
             0.33143770694732666,
             0.24498285353183746,
             0.013649391010403633
            ],
            [
             0,
             0.000005946307283011265,
             0.07259171456098557,
             0.006201682612299919,
             0.05973200500011444,
             0.0015164029318839312,
             0,
             0.055856093764305115,
             0.17578479647636414,
             0.29744452238082886,
             0.1122577115893364,
             2.863254735530063e-7
            ],
            [
             0,
             0.0002586725167930126,
             0.00633477047085762,
             0.0001192389681818895,
             0.0024679964408278465,
             0.00004155849092057906,
             0,
             0,
             0.15993273258209229,
             0.26731836795806885,
             0.1314690262079239,
             0
            ],
            [
             0,
             0,
             0.0002910732582677156,
             0,
             0.00004998326039640233,
             0,
             0,
             0,
             0.11733655631542206,
             0.23998305201530457,
             0.132124125957489,
             0.003187075024470687
            ],
            [
             0,
             0,
             0,
             0,
             0,
             0,
             0,
             0.006599503103643656,
             0.12025345116853714,
             0.21548855304718018,
             0.1777189075946808,
             0.1068098247051239
            ]
           ]
          }
         ],
         "layout": {
          "title": {
           "text": "Double Q-learning: Maximal Q-values for Step 51000"
          }
         },
         "name": "frame_51",
         "traces": [
          0
         ]
        },
        {
         "data": [
          {
           "type": "heatmap",
           "z": [
            [
             0,
             1.1006865501403809,
             0.9862071871757507,
             0.45502525568008423,
             0.0055677033960819244,
             0.010205556638538837,
             0.005355482455343008,
             0,
             0.030250098556280136,
             0,
             0,
             0
            ],
            [
             0.3441530168056488,
             0.843336820602417,
             0.8847941160202026,
             0.7680048942565918,
             0.44080519676208496,
             0.382918119430542,
             0.2639145255088806,
             0.28601759672164917,
             0.32300710678100586,
             0.16995546221733093,
             0.00842666532844305,
             0
            ],
            [
             0.008549999445676804,
             0.5343363285064697,
             0.7934999465942383,
             0.7122973203659058,
             0.6386556029319763,
             0.5726350545883179,
             0.5134400725364685,
             0.46046942472457886,
             0.4129181504249573,
             0.37058913707733154,
             0.20885927975177765,
             0.003304950427263975
            ],
            [
             0,
             0.039341606199741364,
             0.6522902250289917,
             0.3583940267562866,
             0.5077195167541504,
             0.22395694255828857,
             0.3405669927597046,
             0.3928702473640442,
             0.28131216764450073,
             0.33281391859054565,
             0.246008038520813,
             0.013649391010403633
            ],
            [
             0,
             0.000005946307283011265,
             0.09527270495891571,
             0.006201682612299919,
             0.05973200500011444,
             0.0015164029318839312,
             0,
             0.055856093764305115,
             0.18499016761779785,
             0.29881006479263306,
             0.1122577115893364,
             2.863254735530063e-7
            ],
            [
             0,
             0.0002586725167930126,
             0.00633477047085762,
             0.0001192389681818895,
             0.0024679964408278465,
             0.00004155849092057906,
             0,
             0,
             0.16804316639900208,
             0.26851919293403625,
             0.13568632304668427,
             0
            ],
            [
             0,
             0,
             0.0002910732582677156,
             0,
             0.00004998326039640233,
             0,
             0,
             0,
             0.12160258740186691,
             0.2408798635005951,
             0.1405392587184906,
             0.003187075024470687
            ],
            [
             0,
             0,
             0,
             0,
             0,
             0,
             0,
             0.006599503103643656,
             0.12769722938537598,
             0.21640315651893616,
             0.18104848265647888,
             0.11579011380672455
            ]
           ]
          }
         ],
         "layout": {
          "title": {
           "text": "Double Q-learning: Maximal Q-values for Step 52000"
          }
         },
         "name": "frame_52",
         "traces": [
          0
         ]
        },
        {
         "data": [
          {
           "type": "heatmap",
           "z": [
            [
             0,
             1.1044111251831055,
             0.9919664263725281,
             0.4629595875740051,
             0.0055677033960819244,
             0.010205556638538837,
             0.005355482455343008,
             0,
             0.030250098556280136,
             0,
             0,
             0
            ],
            [
             0.3441530168056488,
             0.8505009412765503,
             0.8907732367515564,
             0.7732865810394287,
             0.44080519676208496,
             0.3876625895500183,
             0.26965591311454773,
             0.29537999629974365,
             0.3307803273200989,
             0.18138453364372253,
             0.00842666532844305,
             0
            ],
            [
             0.008549999445676804,
             0.5343363285064697,
             0.7990596294403076,
             0.7167537212371826,
             0.6428278684616089,
             0.5763295888900757,
             0.5166140794754028,
             0.46361568570137024,
             0.4160110354423523,
             0.37287503480911255,
             0.20885927975177765,
             0.003304950427263975
            ],
            [
             0,
             0.039341606199741364,
             0.6557015180587769,
             0.3583940267562866,
             0.5255070924758911,
             0.2825334668159485,
             0.3443146049976349,
             0.39633411169052124,
             0.2886201739311218,
             0.33445337414741516,
             0.2554566264152527,
             0.025420308113098145
            ],
            [
             0,
             0.000005946307283011265,
             0.09527270495891571,
             0.006201682612299919,
             0.05973200500011444,
             0.0015164029318839312,
             0,
             0.055856093764305115,
             0.18499016761779785,
             0.30001237988471985,
             0.11940973997116089,
             0.0005985049647279084
            ],
            [
             0,
             0.0002586725167930126,
             0.00633477047085762,
             0.0001192389681818895,
             0.0024679964408278465,
             0.00004155849092057906,
             0,
             0,
             0.16804316639900208,
             0.26947325468063354,
             0.13568632304668427,
             0
            ],
            [
             0,
             0,
             0.0002910732582677156,
             0,
             0.00004998326039640233,
             0,
             0,
             0,
             0.12674948573112488,
             0.24201685190200806,
             0.14420396089553833,
             0.003187075024470687
            ],
            [
             0,
             0,
             0,
             0,
             0,
             0,
             0,
             0.006599503103643656,
             0.12862470746040344,
             0.21746264398097992,
             0.18356971442699432,
             0.11717778444290161
            ]
           ]
          }
         ],
         "layout": {
          "title": {
           "text": "Double Q-learning: Maximal Q-values for Step 53000"
          }
         },
         "name": "frame_53",
         "traces": [
          0
         ]
        },
        {
         "data": [
          {
           "type": "heatmap",
           "z": [
            [
             0,
             1.1073453426361084,
             0.9956791400909424,
             0.5207540392875671,
             0.0055677033960819244,
             0.010205556638538837,
             0.005355482455343008,
             0,
             0.030250098556280136,
             0,
             0,
             0
            ],
            [
             0.3441530168056488,
             0.8670076727867126,
             0.8939673900604248,
             0.7810019254684448,
             0.45755574107170105,
             0.4048622250556946,
             0.27501821517944336,
             0.3025205135345459,
             0.33525267243385315,
             0.18817126750946045,
             0.00842666532844305,
             0
            ],
            [
             0.008549999445676804,
             0.5386678576469421,
             0.8024699687957764,
             0.7203521132469177,
             0.6466631889343262,
             0.5804566740989685,
             0.5206514000892639,
             0.46695849299430847,
             0.4184896647930145,
             0.37528568506240845,
             0.21260225772857666,
             0.003304950427263975
            ],
            [
             0,
             0.039341606199741364,
             0.6635832786560059,
             0.38156774640083313,
             0.531050980091095,
             0.3054783046245575,
             0.3477540612220764,
             0.39735138416290283,
             0.2886201739311218,
             0.3365810513496399,
             0.2600564658641815,
             0.025420308113098145
            ],
            [
             0,
             0.000005946307283011265,
             0.11613231152296066,
             0.006201682612299919,
             0.05973200500011444,
             0.0015164029318839312,
             0,
             0.055856093764305115,
             0.19353485107421875,
             0.3017968535423279,
             0.13045985996723175,
             0.0005985049647279084
            ],
            [
             0,
             0.0002586725167930126,
             0.00633477047085762,
             0.0001192389681818895,
             0.0024679964408278465,
             0.00004155849092057906,
             0,
             0,
             0.16804316639900208,
             0.27071821689605713,
             0.13954517245292664,
             0
            ],
            [
             0,
             0,
             0.0002910732582677156,
             0,
             0.00004998326039640233,
             0,
             0,
             0,
             0.1344415694475174,
             0.2430310845375061,
             0.15559044480323792,
             0.003187075024470687
            ],
            [
             0,
             0,
             0,
             0,
             0,
             0,
             0,
             0.006599503103643656,
             0.13536186516284943,
             0.21832311153411865,
             0.18604284524917603,
             0.12133017182350159
            ]
           ]
          }
         ],
         "layout": {
          "title": {
           "text": "Double Q-learning: Maximal Q-values for Step 54000"
          }
         },
         "name": "frame_54",
         "traces": [
          0
         ]
        },
        {
         "data": [
          {
           "type": "heatmap",
           "z": [
            [
             0,
             1.1105848550796509,
             0.9974241852760315,
             0.5207540392875671,
             0.0055677033960819244,
             0.010205556638538837,
             0.005355482455343008,
             0,
             0.030250098556280136,
             0,
             0,
             0
            ],
            [
             0.3441530168056488,
             0.8847542405128479,
             0.8962405920028687,
             0.7845872640609741,
             0.45755574107170105,
             0.40850549936294556,
             0.27501821517944336,
             0.3143902122974396,
             0.34171056747436523,
             0.18817126750946045,
             0.00842666532844305,
             0
            ],
            [
             0.008549999445676804,
             0.5571122765541077,
             0.8057146072387695,
             0.7238678336143494,
             0.6495304703712463,
             0.5831223726272583,
             0.5233944058418274,
             0.46979302167892456,
             0.4214417338371277,
             0.37800246477127075,
             0.21260225772857666,
             0.003304950427263975
            ],
            [
             0,
             0.039341606199741364,
             0.669563889503479,
             0.39737749099731445,
             0.5323350429534912,
             0.3128882348537445,
             0.36790674924850464,
             0.4011000096797943,
             0.30209434032440186,
             0.3388355076313019,
             0.2600564658641815,
             0.025420308113098145
            ],
            [
             0,
             0.000005946307283011265,
             0.11613231152296066,
             0.006201682612299919,
             0.05973200500011444,
             0.0015164029318839312,
             0,
             0.07107749581336975,
             0.2003399133682251,
             0.3037450313568115,
             0.13045985996723175,
             0.0005985049647279084
            ],
            [
             0,
             0.0002586725167930126,
             0.00633477047085762,
             0.0001192389681818895,
             0.0024679964408278465,
             0.00004155849092057906,
             0,
             0,
             0.16804316639900208,
             0.2725374400615692,
             0.15002712607383728,
             0
            ],
            [
             0,
             0,
             0.0002910732582677156,
             0,
             0.00004998326039640233,
             0,
             0,
             0,
             0.1344415694475174,
             0.2444385588169098,
             0.15775622427463531,
             0.003187075024470687
            ],
            [
             0,
             0,
             0,
             0,
             0,
             0,
             0,
             0.006599503103643656,
             0.13536186516284943,
             0.2193380743265152,
             0.1875370591878891,
             0.12473776936531067
            ]
           ]
          }
         ],
         "layout": {
          "title": {
           "text": "Double Q-learning: Maximal Q-values for Step 55000"
          }
         },
         "name": "frame_55",
         "traces": [
          0
         ]
        },
        {
         "data": [
          {
           "type": "heatmap",
           "z": [
            [
             0,
             1.1149933338165283,
             1.0011848211288452,
             0.5452214479446411,
             0.0055677033960819244,
             0.010205556638538837,
             0.005355482455343008,
             0,
             0.030250098556280136,
             0,
             0,
             0
            ],
            [
             0.3441530168056488,
             0.8951314687728882,
             0.8990892171859741,
             0.7876412868499756,
             0.45755574107170105,
             0.4119298756122589,
             0.2992406487464905,
             0.3143902122974396,
             0.3455022871494293,
             0.1948605179786682,
             0.00842666532844305,
             0
            ],
            [
             0.008549999445676804,
             0.5608792901039124,
             0.8077065944671631,
             0.7260041236877441,
             0.6523556113243103,
             0.5859180688858032,
             0.5260047912597656,
             0.4720419645309448,
             0.4236704111099243,
             0.3803023099899292,
             0.21949119865894318,
             0.003304950427263975
            ],
            [
             0,
             0.039341606199741364,
             0.6756136417388916,
             0.39737749099731445,
             0.5388457775115967,
             0.32592248916625977,
             0.37651532888412476,
             0.4053979516029358,
             0.30477413535118103,
             0.34110015630722046,
             0.26108458638191223,
             0.025420308113098145
            ],
            [
             0,
             0.000005946307283011265,
             0.11613231152296066,
             0.006201682612299919,
             0.05973200500011444,
             0.0015164029318839312,
             0,
             0.07107749581336975,
             0.20225223898887634,
             0.3059244453907013,
             0.13045985996723175,
             0.0005985049647279084
            ],
            [
             0,
             0.0002586725167930126,
             0.00633477047085762,
             0.0001192389681818895,
             0.0024679964408278465,
             0.00004155849092057906,
             0,
             0,
             0.17061521112918854,
             0.27437424659729004,
             0.1533079743385315,
             0
            ],
            [
             0,
             0,
             0.0002910732582677156,
             0,
             0.00004998326039640233,
             0,
             0,
             0,
             0.14146456122398376,
             0.24606665968894958,
             0.15959367156028748,
             0.003187075024470687
            ],
            [
             0,
             0,
             0,
             0,
             0,
             0,
             0,
             0.014035324566066265,
             0.136939138174057,
             0.2206607460975647,
             0.19003352522850037,
             0.13176241517066956
            ]
           ]
          }
         ],
         "layout": {
          "title": {
           "text": "Double Q-learning: Maximal Q-values for Step 56000"
          }
         },
         "name": "frame_56",
         "traces": [
          0
         ]
        },
        {
         "data": [
          {
           "type": "heatmap",
           "z": [
            [
             0,
             1.1206624507904053,
             1.0056698322296143,
             0.5561596751213074,
             0.0055677033960819244,
             0.010205556638538837,
             0.005355482455343008,
             0,
             0.030250098556280136,
             0,
             0,
             0
            ],
            [
             0.3441530168056488,
             0.9147704839706421,
             0.9030263423919678,
             0.7936385273933411,
             0.45755574107170105,
             0.4203808307647705,
             0.3034069538116455,
             0.3143902122974396,
             0.35017508268356323,
             0.20680515468120575,
             0.00842666532844305,
             0
            ],
            [
             0.008549999445676804,
             0.5608792901039124,
             0.8107981085777283,
             0.7281869649887085,
             0.6543201208114624,
             0.587914228439331,
             0.5281237363815308,
             0.4742967486381531,
             0.42581886053085327,
             0.38226357102394104,
             0.22257564961910248,
             0.003304950427263975
            ],
            [
             0,
             0.039341606199741364,
             0.6848728656768799,
             0.4122846722602844,
             0.5491054058074951,
             0.35284024477005005,
             0.37651532888412476,
             0.407989501953125,
             0.3073922395706177,
             0.3431364893913269,
             0.26108458638191223,
             0.025420308113098145
            ],
            [
             0,
             0.000005946307283011265,
             0.11613231152296066,
             0.006201682612299919,
             0.05973200500011444,
             0.0015164029318839312,
             0,
             0.07107749581336975,
             0.20225223898887634,
             0.3079766631126404,
             0.13045985996723175,
             0.0005985049647279084
            ],
            [
             0,
             0.0002586725167930126,
             0.00633477047085762,
             0.0001192389681818895,
             0.0024679964408278465,
             0.00004155849092057906,
             0,
             0.009052797220647335,
             0.17888423800468445,
             0.27606236934661865,
             0.1533079743385315,
             0
            ],
            [
             0,
             0,
             0.0002910732582677156,
             0,
             0.00004998326039640233,
             0,
             0,
             0,
             0.14316558837890625,
             0.24771416187286377,
             0.17420394718647003,
             0.003187075024470687
            ],
            [
             0,
             0,
             0,
             0,
             0,
             0,
             0,
             0.014035324566066265,
             0.14322519302368164,
             0.2221527099609375,
             0.19163289666175842,
             0.136845201253891
            ]
           ]
          }
         ],
         "layout": {
          "title": {
           "text": "Double Q-learning: Maximal Q-values for Step 57000"
          }
         },
         "name": "frame_57",
         "traces": [
          0
         ]
        },
        {
         "data": [
          {
           "type": "heatmap",
           "z": [
            [
             0,
             1.1232638359069824,
             1.0098352432250977,
             0.5561596751213074,
             0.0055677033960819244,
             0.010205556638538837,
             0.005355482455343008,
             0,
             0.030250098556280136,
             0,
             0,
             0
            ],
            [
             0.3441530168056488,
             0.9178439378738403,
             0.906714916229248,
             0.7961454391479492,
             0.45755574107170105,
             0.4203808307647705,
             0.3168194890022278,
             0.3175065219402313,
             0.35017508268356323,
             0.20680515468120575,
             0.00842666532844305,
             0
            ],
            [
             0.008549999445676804,
             0.5645192861557007,
             0.814171314239502,
             0.7312576770782471,
             0.6567046642303467,
             0.5898600816726685,
             0.5299376845359802,
             0.4761096239089966,
             0.4275890290737152,
             0.38406968116760254,
             0.23475949466228485,
             0.003304950427263975
            ],
            [
             0,
             0.039341606199741364,
             0.6860164403915405,
             0.4122846722602844,
             0.5516306161880493,
             0.3713575005531311,
             0.37907421588897705,
             0.41067543625831604,
             0.3097485303878784,
             0.34464025497436523,
             0.2659391164779663,
             0.025420308113098145
            ],
            [
             0,
             0.000005946307283011265,
             0.11613231152296066,
             0.006201682612299919,
             0.05973200500011444,
             0.0015164029318839312,
             0,
             0.07107749581336975,
             0.20225223898887634,
             0.30935120582580566,
             0.13758324086666107,
             0.0005985049647279084
            ],
            [
             0,
             0.0002586725167930126,
             0.00633477047085762,
             0.0001192389681818895,
             0.0024679964408278465,
             0.00004155849092057906,
             0,
             0.009052797220647335,
             0.17888423800468445,
             0.277675598859787,
             0.1563977152109146,
             0
            ],
            [
             0,
             0,
             0.0002910732582677156,
             0,
             0.00004998326039640233,
             0,
             0,
             0,
             0.14960995316505432,
             0.24924346804618835,
             0.17420394718647003,
             0.003187075024470687
            ],
            [
             0,
             0,
             0,
             0,
             0,
             0,
             0,
             0.014035324566066265,
             0.14322519302368164,
             0.22368654608726501,
             0.1930047869682312,
             0.1397852599620819
            ]
           ]
          }
         ],
         "layout": {
          "title": {
           "text": "Double Q-learning: Maximal Q-values for Step 58000"
          }
         },
         "name": "frame_58",
         "traces": [
          0
         ]
        },
        {
         "data": [
          {
           "type": "heatmap",
           "z": [
            [
             0,
             1.1278533935546875,
             1.012861967086792,
             0.5723854303359985,
             0.0055677033960819244,
             0.010205556638538837,
             0.024232083931565285,
             0,
             0.030250098556280136,
             0,
             0,
             0
            ],
            [
             0.3441530168056488,
             0.9208601713180542,
             0.9097333550453186,
             0.7994219660758972,
             0.4678819179534912,
             0.4203808307647705,
             0.31945979595184326,
             0.33619457483291626,
             0.35295432806015015,
             0.21764039993286133,
             0.00842666532844305,
             0
            ],
            [
             0.008549999445676804,
             0.5680214762687683,
             0.8173526525497437,
             0.7335910797119141,
             0.6591219902038574,
             0.5921473503112793,
             0.5320287942886353,
             0.4779775142669678,
             0.42913109064102173,
             0.3854300081729889,
             0.23475949466228485,
             0.003304950427263975
            ],
            [
             0,
             0.039341606199741364,
             0.6926953196525574,
             0.4309828579425812,
             0.5531884431838989,
             0.37858840823173523,
             0.37907421588897705,
             0.4151580333709717,
             0.31801825761795044,
             0.34594032168388367,
             0.2669968605041504,
             0.03585410863161087
            ],
            [
             0,
             0.000005946307283011265,
             0.1461702585220337,
             0.014480473473668098,
             0.05973200500011444,
             0.01852225698530674,
             0,
             0.07107749581336975,
             0.2099265456199646,
             0.31062155961990356,
             0.13758324086666107,
             0.0022880854085087776
            ],
            [
             0,
             0.0002586725167930126,
             0.00633477047085762,
             0.0001192389681818895,
             0.0024679964408278465,
             0.00004155849092057906,
             0,
             0.009052797220647335,
             0.1860303431749344,
             0.2789401113986969,
             0.16182217001914978,
             0.00005383967800298706
            ],
            [
             0,
             0,
             0.0002910732582677156,
             0,
             0.00004998326039640233,
             0,
             0,
             0,
             0.15272288024425507,
             0.2504192292690277,
             0.17519964277744293,
             0.003187075024470687
            ],
            [
             0,
             0,
             0,
             0,
             0,
             0,
             0,
             0.014035324566066265,
             0.14403095841407776,
             0.2248445749282837,
             0.1943386197090149,
             0.1463615894317627
            ]
           ]
          }
         ],
         "layout": {
          "title": {
           "text": "Double Q-learning: Maximal Q-values for Step 59000"
          }
         },
         "name": "frame_59",
         "traces": [
          0
         ]
        },
        {
         "data": [
          {
           "type": "heatmap",
           "z": [
            [
             0,
             1.1326782703399658,
             1.0171318054199219,
             0.5779240727424622,
             0.0055677033960819244,
             0.010205556638538837,
             0.03454694151878357,
             0,
             0.030250098556280136,
             0,
             0,
             0
            ],
            [
             0.3441530168056488,
             0.9235292077064514,
             0.9136814475059509,
             0.8036332130432129,
             0.4678819179534912,
             0.4203808307647705,
             0.3354422152042389,
             0.3457038402557373,
             0.35295432806015015,
             0.21764039993286133,
             0.00842666532844305,
             0
            ],
            [
             0.008549999445676804,
             0.5743046998977661,
             0.8203870058059692,
             0.7366741895675659,
             0.6616231799125671,
             0.5943483114242554,
             0.533883810043335,
             0.4796001613140106,
             0.4305461645126343,
             0.38682764768600464,
             0.2374192774295807,
             0.003304950427263975
            ],
            [
             0,
             0.039341606199741364,
             0.6962587833404541,
             0.4363534450531006,
             0.5539161562919617,
             0.37858840823173523,
             0.37907421588897705,
             0.41966453194618225,
             0.33030271530151367,
             0.34742265939712524,
             0.27242332696914673,
             0.04555320367217064
            ],
            [
             0,
             0.000005946307283011265,
             0.1461702585220337,
             0.014480473473668098,
             0.05973200500011444,
             0.01852225698530674,
             0,
             0.07107749581336975,
             0.21169324219226837,
             0.31192246079444885,
             0.13758324086666107,
             0.0022880854085087776
            ],
            [
             0,
             0.0002586725167930126,
             0.00633477047085762,
             0.0001192389681818895,
             0.0024679964408278465,
             0.00004155849092057906,
             0,
             0.009052797220647335,
             0.1876453459262848,
             0.28011786937713623,
             0.1684553176164627,
             0.00005383967800298706
            ],
            [
             0,
             0,
             0.0002910732582677156,
             0,
             0.00004998326039640233,
             0,
             0,
             0,
             0.15272288024425507,
             0.2515530586242676,
             0.17519964277744293,
             0.003187075024470687
            ],
            [
             0,
             0,
             0,
             0,
             0,
             0,
             0,
             0.014035324566066265,
             0.1455463320016861,
             0.22587457299232483,
             0.19495177268981934,
             0.14925429224967957
            ]
           ]
          }
         ],
         "layout": {
          "title": {
           "text": "Double Q-learning: Maximal Q-values for Step 60000"
          }
         },
         "name": "frame_60",
         "traces": [
          0
         ]
        },
        {
         "data": [
          {
           "type": "heatmap",
           "z": [
            [
             0,
             1.1349096298217773,
             1.0205647945404053,
             0.6052296757698059,
             0.0055677033960819244,
             0.010205556638538837,
             0.03454694151878357,
             0,
             0.030250098556280136,
             0,
             0,
             0
            ],
            [
             0.3441530168056488,
             0.9247375726699829,
             0.917220950126648,
             0.8067917823791504,
             0.4840773046016693,
             0.4203808307647705,
             0.3354422152042389,
             0.3457038402557373,
             0.3579463064670563,
             0.22251319885253906,
             0.00842666532844305,
             0
            ],
            [
             0.008549999445676804,
             0.5907385349273682,
             0.8238084316253662,
             0.7396316528320312,
             0.6641373634338379,
             0.5962860584259033,
             0.5355591773986816,
             0.48126664757728577,
             0.4323281943798065,
             0.388260155916214,
             0.23986802995204926,
             0.003304950427263975
            ],
            [
             0,
             0.039341606199741364,
             0.6972041130065918,
             0.4363534450531006,
             0.557415246963501,
             0.38167107105255127,
             0.38164228200912476,
             0.4209226369857788,
             0.33728426694869995,
             0.34868937730789185,
             0.27731209993362427,
             0.04555320367217064
            ],
            [
             0,
             0.000005946307283011265,
             0.1461702585220337,
             0.014480473473668098,
             0.05973200500011444,
             0.01852225698530674,
             0,
             0.07107749581336975,
             0.21333464980125427,
             0.31316494941711426,
             0.14452126622200012,
             0.0022880854085087776
            ],
            [
             0,
             0.0002586725167930126,
             0.00633477047085762,
             0.0001192389681818895,
             0.0024679964408278465,
             0.00004155849092057906,
             0,
             0.009052797220647335,
             0.1999800205230713,
             0.2813326418399811,
             0.1709061563014984,
             0.00005383967800298706
            ],
            [
             0,
             0,
             0.0002910732582677156,
             0,
             0.00004998326039640233,
             0,
             0,
             0,
             0.15413257479667664,
             0.2525758743286133,
             0.17617933452129364,
             0.003187075024470687
            ],
            [
             0,
             0,
             0,
             0,
             0,
             0,
             0,
             0.014035324566066265,
             0.1455463320016861,
             0.22680239379405975,
             0.19660401344299316,
             0.15051299333572388
            ]
           ]
          }
         ],
         "layout": {
          "title": {
           "text": "Double Q-learning: Maximal Q-values for Step 61000"
          }
         },
         "name": "frame_61",
         "traces": [
          0
         ]
        },
        {
         "data": [
          {
           "type": "heatmap",
           "z": [
            [
             0,
             1.135948896408081,
             1.021888256072998,
             0.6174228191375732,
             0.0055677033960819244,
             0.010205556638538837,
             0.03454694151878357,
             0,
             0.030250098556280136,
             0,
             0,
             0
            ],
            [
             0.3441530168056488,
             0.9259685277938843,
             0.918877124786377,
             0.8108744621276855,
             0.4936337172985077,
             0.4203808307647705,
             0.3502141237258911,
             0.34824079275131226,
             0.36267685890197754,
             0.22251319885253906,
             0.00842666532844305,
             0
            ],
            [
             0.008549999445676804,
             0.5907385349273682,
             0.8261196613311768,
             0.7425997257232666,
             0.666827917098999,
             0.5988650321960449,
             0.5378740429878235,
             0.48315900564193726,
             0.4339147210121155,
             0.38962769508361816,
             0.2492184191942215,
             0.003304950427263975
            ],
            [
             0,
             0.039341606199741364,
             0.6993010640144348,
             0.4415076971054077,
             0.5591449737548828,
             0.3906621038913727,
             0.38164228200912476,
             0.4209226369857788,
             0.33728426694869995,
             0.35004156827926636,
             0.2823755741119385,
             0.057079993188381195
            ],
            [
             0,
             0.000005946307283011265,
             0.1461702585220337,
             0.014480473473668098,
             0.05973200500011444,
             0.01852225698530674,
             0,
             0.07107749581336975,
             0.22646775841712952,
             0.3145110011100769,
             0.14761273562908173,
             0.003808707930147648
            ],
            [
             0,
             0.0002586725167930126,
             0.00633477047085762,
             0.0001192389681818895,
             0.0024679964408278465,
             0.00004155849092057906,
             0,
             0.009052797220647335,
             0.20125028491020203,
             0.28241583704948425,
             0.17312613129615784,
             0.00010229538747807965
            ],
            [
             0,
             0,
             0.0002910732582677156,
             0,
             0.00004998326039640233,
             0,
             0,
             0,
             0.1602041870355606,
             0.25353050231933594,
             0.1821947991847992,
             0.003187075024470687
            ],
            [
             0,
             0,
             0,
             0,
             0,
             0,
             0,
             0.014035324566066265,
             0.1455463320016861,
             0.22777822613716125,
             0.19806528091430664,
             0.1517382264137268
            ]
           ]
          }
         ],
         "layout": {
          "title": {
           "text": "Double Q-learning: Maximal Q-values for Step 62000"
          }
         },
         "name": "frame_62",
         "traces": [
          0
         ]
        },
        {
         "data": [
          {
           "type": "heatmap",
           "z": [
            [
             0,
             1.1364238262176514,
             1.022658348083496,
             0.6209150552749634,
             0.0055677033960819244,
             0.010205556638538837,
             0.03454694151878357,
             0,
             0.030250098556280136,
             0,
             0,
             0
            ],
            [
             0.3441530168056488,
             0.9259685277938843,
             0.920067310333252,
             0.8136388063430786,
             0.4936337172985077,
             0.4242115020751953,
             0.3637256920337677,
             0.35066550970077515,
             0.36267685890197754,
             0.22251319885253906,
             0.00842666532844305,
             0
            ],
            [
             0.008549999445676804,
             0.5934937000274658,
             0.827626645565033,
             0.7440742254257202,
             0.6689292192459106,
             0.6012133359909058,
             0.53996342420578,
             0.4848601222038269,
             0.43560540676116943,
             0.3912530839443207,
             0.25187206268310547,
             0.003304950427263975
            ],
            [
             0,
             0.039341606199741364,
             0.7011606693267822,
             0.4415076971054077,
             0.5633251070976257,
             0.39653176069259644,
             0.39660942554473877,
             0.4223082959651947,
             0.34439554810523987,
             0.35137540102005005,
             0.2823755741119385,
             0.057079993188381195
            ],
            [
             0,
             0.000005946307283011265,
             0.1461702585220337,
             0.014480473473668098,
             0.05973200500011444,
             0.01852225698530674,
             0,
             0.07107749581336975,
             0.22777611017227173,
             0.31550711393356323,
             0.14761273562908173,
             0.003808707930147648
            ],
            [
             0,
             0.0002586725167930126,
             0.00633477047085762,
             0.0001192389681818895,
             0.0024679964408278465,
             0.00004155849092057906,
             0,
             0.009052797220647335,
             0.20761050283908844,
             0.28348731994628906,
             0.1751592606306076,
             0.00010229538747807965
            ],
            [
             0,
             0,
             0.0002910732582677156,
             0,
             0.00004998326039640233,
             0,
             0,
             0,
             0.16568145155906677,
             0.2545703649520874,
             0.1821947991847992,
             0.003187075024470687
            ],
            [
             0,
             0,
             0,
             0,
             0,
             0,
             0,
             0.014035324566066265,
             0.14702270925045013,
             0.2286323606967926,
             0.19933068752288818,
             0.1517382264137268
            ]
           ]
          }
         ],
         "layout": {
          "title": {
           "text": "Double Q-learning: Maximal Q-values for Step 63000"
          }
         },
         "name": "frame_63",
         "traces": [
          0
         ]
        },
        {
         "data": [
          {
           "type": "heatmap",
           "z": [
            [
             0,
             1.1410590410232544,
             1.0249361991882324,
             0.6392974853515625,
             0.02919088862836361,
             0.010205556638538837,
             0.03454694151878357,
             0,
             0.030250098556280136,
             0,
             0,
             0
            ],
            [
             0.3441530168056488,
             0.928525984287262,
             0.9211158156394958,
             0.8164455890655518,
             0.5027127265930176,
             0.4242115020751953,
             0.36775118112564087,
             0.35930538177490234,
             0.3648033142089844,
             0.2286452203989029,
             0.00842666532844305,
             0
            ],
            [
             0.008549999445676804,
             0.6223037242889404,
             0.8284392952919006,
             0.7451031804084778,
             0.6700882911682129,
             0.6025345325469971,
             0.5416128039360046,
             0.48668622970581055,
             0.4369969367980957,
             0.39253705739974976,
             0.25187206268310547,
             0.003304950427263975
            ],
            [
             0,
             0.039341606199741364,
             0.7063113451004028,
             0.4415076971054077,
             0.5641518831253052,
             0.39653176069259644,
             0.39660942554473877,
             0.4223082959651947,
             0.34439554810523987,
             0.3527348041534424,
             0.2831096649169922,
             0.057079993188381195
            ],
            [
             0,
             0.000005946307283011265,
             0.1461702585220337,
             0.014480473473668098,
             0.05973200500011444,
             0.01852225698530674,
             0,
             0.07107749581336975,
             0.23110470175743103,
             0.31671565771102905,
             0.14761273562908173,
             0.003808707930147648
            ],
            [
             0,
             0.0002586725167930126,
             0.00633477047085762,
             0.0001192389681818895,
             0.0024679964408278465,
             0.00004155849092057906,
             0,
             0.009052797220647335,
             0.21237777173519135,
             0.2845355272293091,
             0.18318745493888855,
             0.00010229538747807965
            ],
            [
             0,
             0,
             0.0002910732582677156,
             0,
             0.00004998326039640233,
             0,
             0,
             0,
             0.1706526279449463,
             0.25561439990997314,
             0.18607908487319946,
             0.003187075024470687
            ],
            [
             0,
             0,
             0,
             0,
             0,
             0,
             0,
             0.014035324566066265,
             0.15406101942062378,
             0.229523703455925,
             0.20166173577308655,
             0.15915581583976746
            ]
           ]
          }
         ],
         "layout": {
          "title": {
           "text": "Double Q-learning: Maximal Q-values for Step 64000"
          }
         },
         "name": "frame_64",
         "traces": [
          0
         ]
        },
        {
         "data": [
          {
           "type": "heatmap",
           "z": [
            [
             0,
             1.1442638635635376,
             1.0282888412475586,
             0.6474919319152832,
             0.02919088862836361,
             0.010205556638538837,
             0.03454694151878357,
             0,
             0.030250098556280136,
             0,
             0,
             0
            ],
            [
             0.3441530168056488,
             0.9297861456871033,
             0.9239271879196167,
             0.8187124729156494,
             0.5109761953353882,
             0.4242115020751953,
             0.37973207235336304,
             0.3632347285747528,
             0.3699156939983368,
             0.24383853375911713,
             0.00842666532844305,
             0
            ],
            [
             0.008549999445676804,
             0.624392032623291,
             0.830447793006897,
             0.7462676763534546,
             0.6711369752883911,
             0.6035634279251099,
             0.5428014993667603,
             0.4879618287086487,
             0.4382653534412384,
             0.39373618364334106,
             0.25187206268310547,
             0.003304950427263975
            ],
            [
             0,
             0.039341606199741364,
             0.7110368013381958,
             0.46099042892456055,
             0.56495600938797,
             0.3993368446826935,
             0.39660942554473877,
             0.4242960214614868,
             0.3452441990375519,
             0.353750616312027,
             0.2831096649169922,
             0.057079993188381195
            ],
            [
             0,
             0.000005946307283011265,
             0.1461702585220337,
             0.014480473473668098,
             0.05973200500011444,
             0.01852225698530674,
             0,
             0.07107749581336975,
             0.2356119304895401,
             0.3177749514579773,
             0.14761273562908173,
             0.003808707930147648
            ],
            [
             0,
             0.0002586725167930126,
             0.00633477047085762,
             0.0001192389681818895,
             0.0024679964408278465,
             0.00004155849092057906,
             0,
             0.009052797220647335,
             0.21237777173519135,
             0.28549033403396606,
             0.18493913114070892,
             0.00010229538747807965
            ],
            [
             0,
             0,
             0.0002910732582677156,
             0,
             0.00004998326039640233,
             0,
             0,
             0,
             0.17210982739925385,
             0.2565321922302246,
             0.18963241577148438,
             0.003187075024470687
            ],
            [
             0,
             0,
             0,
             0,
             0,
             0,
             0,
             0.014035324566066265,
             0.15934805572032928,
             0.23039279878139496,
             0.2028142809867859,
             0.16221576929092407
            ]
           ]
          }
         ],
         "layout": {
          "title": {
           "text": "Double Q-learning: Maximal Q-values for Step 65000"
          }
         },
         "name": "frame_65",
         "traces": [
          0
         ]
        },
        {
         "data": [
          {
           "type": "heatmap",
           "z": [
            [
             0,
             1.1463879346847534,
             1.0306611061096191,
             0.6565463542938232,
             0.02919088862836361,
             0.010205556638538837,
             0.03454694151878357,
             0,
             0.030250098556280136,
             0,
             0,
             0
            ],
            [
             0.3441530168056488,
             0.9409742951393127,
             0.9264525175094604,
             0.8213244676589966,
             0.5109761953353882,
             0.4242115020751953,
             0.37973207235336304,
             0.3649892807006836,
             0.37169942259788513,
             0.25639426708221436,
             0.00842666532844305,
             0
            ],
            [
             0.008549999445676804,
             0.6263201236724854,
             0.8326846957206726,
             0.748335599899292,
             0.6725813746452332,
             0.6046185493469238,
             0.5436602830886841,
             0.48878949880599976,
             0.4394150972366333,
             0.39506959915161133,
             0.2531806230545044,
             0.003304950427263975
            ],
            [
             0,
             0.039341606199741364,
             0.7176120281219482,
             0.46575403213500977,
             0.5657223463058472,
             0.40772461891174316,
             0.40167468786239624,
             0.42502766847610474,
             0.3461206555366516,
             0.35494762659072876,
             0.28733986616134644,
             0.057079993188381195
            ],
            [
             0,
             0.000005946307283011265,
             0.1461702585220337,
             0.014480473473668098,
             0.05973200500011444,
             0.01852225698530674,
             0,
             0.08745745569467545,
             0.2375204861164093,
             0.318934828042984,
             0.15839609503746033,
             0.003808707930147648
            ],
            [
             0,
             0.0002586725167930126,
             0.00633477047085762,
             0.0001192389681818895,
             0.0024679964408278465,
             0.00004155849092057906,
             0,
             0.009052797220647335,
             0.21689146757125854,
             0.28651192784309387,
             0.18493913114070892,
             0.00010229538747807965
            ],
            [
             0,
             0,
             0.0002910732582677156,
             0,
             0.00004998326039640233,
             0,
             0,
             0,
             0.1734345555305481,
             0.25742658972740173,
             0.19287535548210144,
             0.003187075024470687
            ],
            [
             0,
             0,
             0,
             0,
             0,
             0,
             0,
             0.014035324566066265,
             0.15934805572032928,
             0.23122067749500275,
             0.20377612113952637,
             0.16338571906089783
            ]
           ]
          }
         ],
         "layout": {
          "title": {
           "text": "Double Q-learning: Maximal Q-values for Step 66000"
          }
         },
         "name": "frame_66",
         "traces": [
          0
         ]
        },
        {
         "data": [
          {
           "type": "heatmap",
           "z": [
            [
             0,
             1.1487231254577637,
             1.032620906829834,
             0.6565463542938232,
             0.02919088862836361,
             0.010205556638538837,
             0.03454694151878357,
             0,
             0.030250098556280136,
             0,
             0,
             0
            ],
            [
             0.3441530168056488,
             0.9510300159454346,
             0.9284287691116333,
             0.8238015174865723,
             0.5258513689041138,
             0.43264445662498474,
             0.37973207235336304,
             0.3649892807006836,
             0.3741050362586975,
             0.25977176427841187,
             0.00842666532844305,
             0
            ],
            [
             0.008549999445676804,
             0.6387022733688354,
             0.8344912528991699,
             0.7501704692840576,
             0.6741452217102051,
             0.6059603691101074,
             0.5446895360946655,
             0.4896116852760315,
             0.4402235150337219,
             0.3958510756492615,
             0.26221638917922974,
             0.003304950427263975
            ],
            [
             0,
             0.039341606199741364,
             0.7205672264099121,
             0.49591970443725586,
             0.5664470791816711,
             0.41534262895584106,
             0.4124411344528198,
             0.4274022579193115,
             0.3484567403793335,
             0.355868935585022,
             0.2922869920730591,
             0.057079993188381195
            ],
            [
             0,
             0.000005946307283011265,
             0.1461702585220337,
             0.014480473473668098,
             0.05973200500011444,
             0.01852225698530674,
             0,
             0.08745745569467545,
             0.2375204861164093,
             0.31971877813339233,
             0.1613905131816864,
             0.003808707930147648
            ],
            [
             0,
             0.0002586725167930126,
             0.00633477047085762,
             0.0001192389681818895,
             0.0024679964408278465,
             0.00004155849092057906,
             0,
             0.009052797220647335,
             0.21865016222000122,
             0.28732335567474365,
             0.1866229772567749,
             0.00010229538747807965
            ],
            [
             0,
             0,
             0.0002910732582677156,
             0,
             0.00004998326039640233,
             0,
             0,
             0,
             0.1734345555305481,
             0.25818386673927307,
             0.19287535548210144,
             0.003187075024470687
            ],
            [
             0,
             0,
             0,
             0,
             0,
             0,
             0,
             0.014035324566066265,
             0.16039927303791046,
             0.23203124105930328,
             0.20459508895874023,
             0.16695770621299744
            ]
           ]
          }
         ],
         "layout": {
          "title": {
           "text": "Double Q-learning: Maximal Q-values for Step 67000"
          }
         },
         "name": "frame_67",
         "traces": [
          0
         ]
        },
        {
         "data": [
          {
           "type": "heatmap",
           "z": [
            [
             0,
             1.150984525680542,
             1.0345509052276611,
             0.6565463542938232,
             0.02919088862836361,
             0.010205556638538837,
             0.03454694151878357,
             0,
             0.030250098556280136,
             0,
             0,
             0
            ],
            [
             0.3441530168056488,
             0.9527155160903931,
             0.930289089679718,
             0.8261913061141968,
             0.5381936430931091,
             0.4396609663963318,
             0.39925137162208557,
             0.37411901354789734,
             0.377899169921875,
             0.25977176427841187,
             0.00842666532844305,
             0
            ],
            [
             0.008549999445676804,
             0.6482293605804443,
             0.8362442255020142,
             0.7518182992935181,
             0.6755542755126953,
             0.607369065284729,
             0.5460187196731567,
             0.4908471703529358,
             0.44123774766921997,
             0.3966071605682373,
             0.26348409056663513,
             0.003304950427263975
            ],
            [
             0,
             0.039341606199741364,
             0.7211107015609741,
             0.49591970443725586,
             0.5718021392822266,
             0.4251547157764435,
             0.41848066449165344,
             0.42947661876678467,
             0.3520772457122803,
             0.35656318068504333,
             0.29443734884262085,
             0.057079993188381195
            ],
            [
             0,
             0.000005946307283011265,
             0.1461702585220337,
             0.014480473473668098,
             0.05973200500011444,
             0.01852225698530674,
             0,
             0.08745745569467545,
             0.2375204861164093,
             0.32049646973609924,
             0.1613905131816864,
             0.003808707930147648
            ],
            [
             0,
             0.0002586725167930126,
             0.00633477047085762,
             0.0001192389681818895,
             0.0024679964408278465,
             0.00004155849092057906,
             0,
             0.009052797220647335,
             0.21865016222000122,
             0.28807249665260315,
             0.18814459443092346,
             0.00010229538747807965
            ],
            [
             0,
             0,
             0.0002910732582677156,
             0,
             0.00004998326039640233,
             0,
             0,
             0,
             0.18153399229049683,
             0.25896090269088745,
             0.19479665160179138,
             0.003187075024470687
            ],
            [
             0,
             0,
             0,
             0,
             0,
             0,
             0,
             0.014035324566066265,
             0.1687394678592682,
             0.23270706832408905,
             0.20537221431732178,
             0.168675497174263
            ]
           ]
          }
         ],
         "layout": {
          "title": {
           "text": "Double Q-learning: Maximal Q-values for Step 68000"
          }
         },
         "name": "frame_68",
         "traces": [
          0
         ]
        },
        {
         "data": [
          {
           "type": "heatmap",
           "z": [
            [
             0,
             1.1523303985595703,
             1.036487340927124,
             0.6565463542938232,
             0.02919088862836361,
             0.010205556638538837,
             0.03454694151878357,
             0,
             0.030250098556280136,
             0,
             0,
             0
            ],
            [
             0.3441530168056488,
             0.9693446159362793,
             0.9321975708007812,
             0.8292615413665771,
             0.5678194761276245,
             0.4396609663963318,
             0.40998533368110657,
             0.3822143077850342,
             0.381594717502594,
             0.2710443437099457,
             0.00842666532844305,
             0
            ],
            [
             0.008549999445676804,
             0.6482293605804443,
             0.8378225564956665,
             0.7532156705856323,
             0.677067756652832,
             0.6087903380393982,
             0.5470547676086426,
             0.4919511079788208,
             0.44229060411453247,
             0.39746326208114624,
             0.27168047428131104,
             0.003304950427263975
            ],
            [
             0,
             0.039341606199741364,
             0.7211107015609741,
             0.49591970443725586,
             0.5718021392822266,
             0.4251547157764435,
             0.42036545276641846,
             0.43289250135421753,
             0.35791856050491333,
             0.35729509592056274,
             0.2983790338039398,
             0.057079993188381195
            ],
            [
             0,
             0.000005946307283011265,
             0.1461702585220337,
             0.014480473473668098,
             0.05973200500011444,
             0.01852225698530674,
             0,
             0.08745745569467545,
             0.24549052119255066,
             0.32117313146591187,
             0.1747511923313141,
             0.003808707930147648
            ],
            [
             0,
             0.0002586725167930126,
             0.00633477047085762,
             0.0001192389681818895,
             0.0024679964408278465,
             0.00004155849092057906,
             0,
             0.017933564260601997,
             0.2195003628730774,
             0.2887527644634247,
             0.19084371626377106,
             0.00010229538747807965
            ],
            [
             0,
             0,
             0.0002910732582677156,
             0,
             0.00004998326039640233,
             0,
             0,
             0,
             0.18487310409545898,
             0.25959351658821106,
             0.19862507283687592,
             0.003187075024470687
            ],
            [
             0,
             0,
             0,
             0,
             0,
             0,
             0,
             0.014035324566066265,
             0.1687394678592682,
             0.23336941003799438,
             0.20620058476924896,
             0.16983535885810852
            ]
           ]
          }
         ],
         "layout": {
          "title": {
           "text": "Double Q-learning: Maximal Q-values for Step 69000"
          }
         },
         "name": "frame_69",
         "traces": [
          0
         ]
        },
        {
         "data": [
          {
           "type": "heatmap",
           "z": [
            [
             0,
             1.1539671421051025,
             1.0377938747406006,
             0.6565463542938232,
             0.02919088862836361,
             0.010205556638538837,
             0.03454694151878357,
             0,
             0.030250098556280136,
             0,
             0,
             0
            ],
            [
             0.3441530168056488,
             0.9772820472717285,
             0.9334183931350708,
             0.8307303786277771,
             0.585671067237854,
             0.4396609663963318,
             0.41260844469070435,
             0.3822143077850342,
             0.3843839168548584,
             0.2822811007499695,
             0.00842666532844305,
             0
            ],
            [
             0.008549999445676804,
             0.6502540111541748,
             0.8392891883850098,
             0.7547553777694702,
             0.678431510925293,
             0.6100338101387024,
             0.548405647277832,
             0.49298739433288574,
             0.44315141439437866,
             0.3982921838760376,
             0.27168047428131104,
             0.003304950427263975
            ],
            [
             0,
             0.039341606199741364,
             0.7223844528198242,
             0.5112276673316956,
             0.5795522332191467,
             0.43462973833084106,
             0.4291955232620239,
             0.433907687664032,
             0.36115220189094543,
             0.3580816984176636,
             0.3028773069381714,
             0.057079993188381195
            ],
            [
             0,
             0.000005946307283011265,
             0.1461702585220337,
             0.014480473473668098,
             0.05973200500011444,
             0.01852225698530674,
             0,
             0.08745745569467545,
             0.24549052119255066,
             0.3219152092933655,
             0.18712389469146729,
             0.003808707930147648
            ],
            [
             0,
             0.0002586725167930126,
             0.00633477047085762,
             0.0001192389681818895,
             0.0024679964408278465,
             0.00004155849092057906,
             0,
             0.017933564260601997,
             0.2195003628730774,
             0.2894290089607239,
             0.19200769066810608,
             0.00010229538747807965
            ],
            [
             0,
             0,
             0.0002910732582677156,
             0,
             0.00004998326039640233,
             0,
             0,
             0,
             0.18487310409545898,
             0.26008909940719604,
             0.19941765069961548,
             0.003187075024470687
            ],
            [
             0,
             0,
             0,
             0,
             0,
             0,
             0,
             0.014035324566066265,
             0.1761440485715866,
             0.23384766280651093,
             0.20686544477939606,
             0.17166997492313385
            ]
           ]
          }
         ],
         "layout": {
          "title": {
           "text": "Double Q-learning: Maximal Q-values for Step 70000"
          }
         },
         "name": "frame_70",
         "traces": [
          0
         ]
        },
        {
         "data": [
          {
           "type": "heatmap",
           "z": [
            [
             0,
             1.1553502082824707,
             1.0391480922698975,
             0.6565463542938232,
             0.02919088862836361,
             0.010205556638538837,
             0.03454694151878357,
             0,
             0.030250098556280136,
             0,
             0,
             0
            ],
            [
             0.3441530168056488,
             0.9842751622200012,
             0.9346222877502441,
             0.8330906629562378,
             0.601889967918396,
             0.4396609663963318,
             0.4217776954174042,
             0.38341495394706726,
             0.38483762741088867,
             0.2822811007499695,
             0.00842666532844305,
             0
            ],
            [
             0.008549999445676804,
             0.653800368309021,
             0.8404854536056519,
             0.7558523416519165,
             0.6794391870498657,
             0.611015796661377,
             0.549346923828125,
             0.49398642778396606,
             0.4439941644668579,
             0.39926785230636597,
             0.2815237045288086,
             0.003304950427263975
            ],
            [
             0,
             0.039341606199741364,
             0.7338686585426331,
             0.5498331785202026,
             0.580650806427002,
             0.43739330768585205,
             0.4341827630996704,
             0.43585580587387085,
             0.36476200819015503,
             0.3588878810405731,
             0.3028773069381714,
             0.057079993188381195
            ],
            [
             0,
             0.000005946307283011265,
             0.18954217433929443,
             0.018736837431788445,
             0.05973200500011444,
             0.01852225698530674,
             0,
             0.08745745569467545,
             0.24549052119255066,
             0.3226166367530823,
             0.18712389469146729,
             0.003808707930147648
            ],
            [
             0,
             0.0002586725167930126,
             0.00633477047085762,
             0.0001192389681818895,
             0.0024679964408278465,
             0.00004155849092057906,
             0,
             0.017933564260601997,
             0.22436681389808655,
             0.2900315523147583,
             0.19200769066810608,
             0.00010229538747807965
            ],
            [
             0,
             0,
             0.0002910732582677156,
             0,
             0.00004998326039640233,
             0,
             0,
             0,
             0.19299611449241638,
             0.2607063055038452,
             0.2007969319820404,
             0.003187075024470687
            ],
            [
             0,
             0,
             0,
             0,
             0,
             0,
             0,
             0.014035324566066265,
             0.1761440485715866,
             0.23430413007736206,
             0.2072432041168213,
             0.17289471626281738
            ]
           ]
          }
         ],
         "layout": {
          "title": {
           "text": "Double Q-learning: Maximal Q-values for Step 71000"
          }
         },
         "name": "frame_71",
         "traces": [
          0
         ]
        },
        {
         "data": [
          {
           "type": "heatmap",
           "z": [
            [
             0,
             1.1567330360412598,
             1.0402358770370483,
             0.6686831712722778,
             0.02919088862836361,
             0.010205556638538837,
             0.03454694151878357,
             0,
             0.030250098556280136,
             0,
             0,
             0
            ],
            [
             0.3441530168056488,
             0.9952954053878784,
             0.9356858730316162,
             0.8340737819671631,
             0.6085555553436279,
             0.460705041885376,
             0.4347560405731201,
             0.38341495394706726,
             0.38483762741088867,
             0.2822811007499695,
             0.00842666532844305,
             0
            ],
            [
             0.008549999445676804,
             0.653800368309021,
             0.8416564464569092,
             0.7569836378097534,
             0.6806837916374207,
             0.6120683550834656,
             0.5501741170883179,
             0.4947976768016815,
             0.44491660594940186,
             0.40003612637519836,
             0.283531129360199,
             0.003304950427263975
            ],
            [
             0,
             0.039341606199741364,
             0.7348122596740723,
             0.5580662488937378,
             0.583217978477478,
             0.44342535734176636,
             0.4341827630996704,
             0.43654000759124756,
             0.3654303550720215,
             0.3595908284187317,
             0.3054184913635254,
             0.057079993188381195
            ],
            [
             0,
             0.000005946307283011265,
             0.18954217433929443,
             0.018736837431788445,
             0.05973200500011444,
             0.01852225698530674,
             0,
             0.08745745569467545,
             0.2465265691280365,
             0.32333311438560486,
             0.18712389469146729,
             0.003808707930147648
            ],
            [
             0,
             0.0002586725167930126,
             0.00633477047085762,
             0.0001192389681818895,
             0.0024679964408278465,
             0.00004155849092057906,
             0,
             0.017933564260601997,
             0.2250385731458664,
             0.2906903624534607,
             0.19895943999290466,
             0.00010229538747807965
            ],
            [
             0,
             0,
             0.0002910732582677156,
             0,
             0.00004998326039640233,
             0,
             0,
             0,
             0.19894234836101532,
             0.2613215446472168,
             0.20527663826942444,
             0.003187075024470687
            ],
            [
             0,
             0,
             0,
             0,
             0,
             0,
             0,
             0.014035324566066265,
             0.1761440485715866,
             0.23485267162322998,
             0.20772816240787506,
             0.1747056245803833
            ]
           ]
          }
         ],
         "layout": {
          "title": {
           "text": "Double Q-learning: Maximal Q-values for Step 72000"
          }
         },
         "name": "frame_72",
         "traces": [
          0
         ]
        },
        {
         "data": [
          {
           "type": "heatmap",
           "z": [
            [
             0,
             1.1575191020965576,
             1.041269302368164,
             0.6704331636428833,
             0.02919088862836361,
             0.010205556638538837,
             0.03454694151878357,
             0,
             0.030250098556280136,
             0,
             0,
             0
            ],
            [
             0.38086795806884766,
             0.9961539506912231,
             0.9367601871490479,
             0.8351131677627563,
             0.6301723718643188,
             0.4633064270019531,
             0.44445374608039856,
             0.3845542371273041,
             0.3872957229614258,
             0.2855839431285858,
             0.00842666532844305,
             0
            ],
            [
             0.0198983084410429,
             0.6554355621337891,
             0.8424766063690186,
             0.7578546404838562,
             0.6816022396087646,
             0.6130303144454956,
             0.5511050224304199,
             0.49559518694877625,
             0.4455615282058716,
             0.40068456530570984,
             0.28439265489578247,
             0.003304950427263975
            ],
            [
             0,
             0.039341606199741364,
             0.7348122596740723,
             0.5580662488937378,
             0.583217978477478,
             0.44342535734176636,
             0.4341827630996704,
             0.43782031536102295,
             0.3671764135360718,
             0.36027011275291443,
             0.30966341495513916,
             0.057079993188381195
            ],
            [
             0,
             0.000005946307283011265,
             0.18954217433929443,
             0.018736837431788445,
             0.05973200500011444,
             0.01852225698530674,
             0,
             0.08745745569467545,
             0.24747474491596222,
             0.3239462971687317,
             0.19876356422901154,
             0.003808707930147648
            ],
            [
             0,
             0.0002586725167930126,
             0.00633477047085762,
             0.0001192389681818895,
             0.0024679964408278465,
             0.00004155849092057906,
             0,
             0.017933564260601997,
             0.2250385731458664,
             0.29117336869239807,
             0.2099778801202774,
             0.00010229538747807965
            ],
            [
             0,
             0,
             0.0002910732582677156,
             0,
             0.00004998326039640233,
             0,
             0,
             0,
             0.20259594917297363,
             0.2618319094181061,
             0.2109910547733307,
             0.003187075024470687
            ],
            [
             0,
             0,
             0,
             0,
             0,
             0,
             0,
             0.014035324566066265,
             0.1761440485715866,
             0.23540529608726501,
             0.20849141478538513,
             0.17574641108512878
            ]
           ]
          }
         ],
         "layout": {
          "title": {
           "text": "Double Q-learning: Maximal Q-values for Step 73000"
          }
         },
         "name": "frame_73",
         "traces": [
          0
         ]
        },
        {
         "data": [
          {
           "type": "heatmap",
           "z": [
            [
             0,
             1.1592655181884766,
             1.0424928665161133,
             0.6720733642578125,
             0.02919088862836361,
             0.010205556638538837,
             0.03454694151878357,
             0,
             0.030250098556280136,
             0,
             0,
             0
            ],
            [
             0.38086795806884766,
             1.0010478496551514,
             0.9376346468925476,
             0.8362276554107666,
             0.6330791711807251,
             0.4633064270019531,
             0.44445374608039856,
             0.3845542371273041,
             0.38811472058296204,
             0.28865307569503784,
             0.00842666532844305,
             0
            ],
            [
             0.0198983084410429,
             0.6583607792854309,
             0.8433697819709778,
             0.7586088180541992,
             0.6823398470878601,
             0.6137311458587646,
             0.551872968673706,
             0.49643033742904663,
             0.446307897567749,
             0.4014069437980652,
             0.2912609577178955,
             0.003304950427263975
            ],
            [
             0,
             0.039341606199741364,
             0.7390685081481934,
             0.5781636238098145,
             0.5873966217041016,
             0.45350509881973267,
             0.4341827630996704,
             0.43926802277565,
             0.3699255883693695,
             0.3608707785606384,
             0.3112601339817047,
             0.0682094395160675
            ],
            [
             0,
             0.000005946307283011265,
             0.18954217433929443,
             0.018736837431788445,
             0.05973200500011444,
             0.01852225698530674,
             0,
             0.08745745569467545,
             0.24834951758384705,
             0.3245093822479248,
             0.21115979552268982,
             0.003808707930147648
            ],
            [
             0,
             0.0002586725167930126,
             0.00633477047085762,
             0.0001192389681818895,
             0.0024679964408278465,
             0.00004155849092057906,
             0,
             0.017933564260601997,
             0.2257336676120758,
             0.29180535674095154,
             0.2099778801202774,
             0.00010229538747807965
            ],
            [
             0,
             0,
             0.0002910732582677156,
             0,
             0.00004998326039640233,
             0,
             0,
             0,
             0.20259594917297363,
             0.2623805105686188,
             0.2113933265209198,
             0.003187075024470687
            ],
            [
             0,
             0,
             0,
             0,
             0,
             0,
             0,
             0.014035324566066265,
             0.1818813532590866,
             0.23588906228542328,
             0.20908400416374207,
             0.17805306613445282
            ]
           ]
          }
         ],
         "layout": {
          "title": {
           "text": "Double Q-learning: Maximal Q-values for Step 74000"
          }
         },
         "name": "frame_74",
         "traces": [
          0
         ]
        },
        {
         "data": [
          {
           "type": "heatmap",
           "z": [
            [
             0,
             1.1603059768676758,
             1.043787956237793,
             0.6720733642578125,
             0.02919088862836361,
             0.010205556638538837,
             0.03454694151878357,
             0,
             0.030250098556280136,
             0,
             0,
             0
            ],
            [
             0.38086795806884766,
             1.0010478496551514,
             0.9389476776123047,
             0.8369601368904114,
             0.6330791711807251,
             0.4698524475097656,
             0.44731903076171875,
             0.3856111466884613,
             0.3885120153427124,
             0.2919558882713318,
             0.00842666532844305,
             0
            ],
            [
             0.0198983084410429,
             0.6671484112739563,
             0.8444646596908569,
             0.7595821619033813,
             0.6832106113433838,
             0.6145342588424683,
             0.5525333881378174,
             0.4969741106033325,
             0.44695335626602173,
             0.4020010828971863,
             0.2912609577178955,
             0.003304950427263975
            ],
            [
             0,
             0.039341606199741364,
             0.7416489124298096,
             0.5870449542999268,
             0.5901179313659668,
             0.4554281234741211,
             0.4445453882217407,
             0.43959879875183105,
             0.37248778343200684,
             0.36152219772338867,
             0.31321102380752563,
             0.0682094395160675
            ],
            [
             0,
             0.000005946307283011265,
             0.24075165390968323,
             0.02601522020995617,
             0.05973200500011444,
             0.01852225698530674,
             0,
             0.08745745569467545,
             0.249136820435524,
             0.3250828981399536,
             0.21820777654647827,
             0.003808707930147648
            ],
            [
             0,
             0.0002586725167930126,
             0.00633477047085762,
             0.0001192389681818895,
             0.0024679964408278465,
             0.00004155849092057906,
             0,
             0.017933564260601997,
             0.2257336676120758,
             0.2922923266887665,
             0.2099778801202774,
             0.00010229538747807965
            ],
            [
             0,
             0,
             0.0002910732582677156,
             0,
             0.00004998326039640233,
             0,
             0,
             0,
             0.20349520444869995,
             0.26281049847602844,
             0.2113933265209198,
             0.003187075024470687
            ],
            [
             0,
             0,
             0,
             0,
             0,
             0,
             0,
             0.014035324566066265,
             0.18302060663700104,
             0.23622363805770874,
             0.20956791937351227,
             0.1784602403640747
            ]
           ]
          }
         ],
         "layout": {
          "title": {
           "text": "Double Q-learning: Maximal Q-values for Step 75000"
          }
         },
         "name": "frame_75",
         "traces": [
          0
         ]
        },
        {
         "data": [
          {
           "type": "heatmap",
           "z": [
            [
             0,
             1.1606426239013672,
             1.0444334745407104,
             0.6802695989608765,
             0.02919088862836361,
             0.010205556638538837,
             0.03454694151878357,
             0,
             0.045896753668785095,
             0,
             0,
             0
            ],
            [
             0.38086795806884766,
             1.001546859741211,
             0.9397382736206055,
             0.8382139205932617,
             0.6330791711807251,
             0.4758375883102417,
             0.44731903076171875,
             0.3865838348865509,
             0.3911616802215576,
             0.30027520656585693,
             0.00842666532844305,
             0
            ],
            [
             0.0198983084410429,
             0.6750898361206055,
             0.8454053401947021,
             0.7605224847793579,
             0.6840320825576782,
             0.6152534484863281,
             0.5532236099243164,
             0.4976276755332947,
             0.4474831223487854,
             0.4024779796600342,
             0.2912609577178955,
             0.003304950427263975
            ],
            [
             0,
             0.039341606199741364,
             0.7435324788093567,
             0.5898649096488953,
             0.5931435823440552,
             0.46619921922683716,
             0.4445453882217407,
             0.4397011995315552,
             0.37248778343200684,
             0.3619934916496277,
             0.3144514560699463,
             0.0682094395160675
            ],
            [
             0,
             0.000005946307283011265,
             0.24075165390968323,
             0.02601522020995617,
             0.05973200500011444,
             0.01852225698530674,
             0,
             0.08745745569467545,
             0.249136820435524,
             0.325583815574646,
             0.2199513018131256,
             0.003808707930147648
            ],
            [
             0,
             0.0002586725167930126,
             0.00633477047085762,
             0.0001192389681818895,
             0.0024679964408278465,
             0.00004155849092057906,
             0,
             0.028165306895971298,
             0.22640442848205566,
             0.29276883602142334,
             0.2216443121433258,
             0.00010229538747807965
            ],
            [
             0,
             0,
             0.0002910732582677156,
             0,
             0.00004998326039640233,
             0,
             0,
             0,
             0.20680886507034302,
             0.26329657435417175,
             0.2117903232574463,
             0.003187075024470687
            ],
            [
             0,
             0,
             0,
             0,
             0,
             0,
             0,
             0.014035324566066265,
             0.18302060663700104,
             0.2366979718208313,
             0.2100454866886139,
             0.17971459031105042
            ]
           ]
          }
         ],
         "layout": {
          "title": {
           "text": "Double Q-learning: Maximal Q-values for Step 76000"
          }
         },
         "name": "frame_76",
         "traces": [
          0
         ]
        },
        {
         "data": [
          {
           "type": "heatmap",
           "z": [
            [
             0,
             1.1618808507919312,
             1.0452333688735962,
             0.6802695989608765,
             0.02919088862836361,
             0.010205556638538837,
             0.03454694151878357,
             0,
             0.045896753668785095,
             0,
             0,
             0
            ],
            [
             0.38086795806884766,
             1.001546859741211,
             0.9403872489929199,
             0.8383502960205078,
             0.6330791711807251,
             0.4758375883102417,
             0.45240604877471924,
             0.39275360107421875,
             0.3911616802215576,
             0.30027520656585693,
             0.00842666532844305,
             0
            ],
            [
             0.0198983084410429,
             0.6765324473381042,
             0.8460291028022766,
             0.7611685991287231,
             0.6846215128898621,
             0.6159233450889587,
             0.5540130734443665,
             0.4983667731285095,
             0.448162317276001,
             0.40303802490234375,
             0.2983863651752472,
             0.003304950427263975
            ],
            [
             0,
             0.039341606199741364,
             0.7441517114639282,
             0.5949538946151733,
             0.5970165729522705,
             0.4709033668041229,
             0.4445453882217407,
             0.4412209987640381,
             0.37382233142852783,
             0.36241430044174194,
             0.31498295068740845,
             0.0682094395160675
            ],
            [
             0,
             0.000005946307283011265,
             0.24075165390968323,
             0.02601522020995617,
             0.05973200500011444,
             0.01852225698530674,
             0,
             0.08745745569467545,
             0.249136820435524,
             0.32598501443862915,
             0.2199513018131256,
             0.003808707930147648
            ],
            [
             0,
             0.0002586725167930126,
             0.00633477047085762,
             0.0001192389681818895,
             0.0024679964408278465,
             0.00004155849092057906,
             0,
             0.028165306895971298,
             0.22640442848205566,
             0.2932046055793762,
             0.2216443121433258,
             0.00010229538747807965
            ],
            [
             0,
             0,
             0.0002910732582677156,
             0,
             0.00004998326039640233,
             0,
             0,
             0,
             0.20947574079036713,
             0.26372236013412476,
             0.21279670298099518,
             0.003187075024470687
            ],
            [
             0,
             0,
             0,
             0,
             0,
             0,
             0,
             0.014035324566066265,
             0.18302060663700104,
             0.2371152639389038,
             0.21030911803245544,
             0.18005025386810303
            ]
           ]
          }
         ],
         "layout": {
          "title": {
           "text": "Double Q-learning: Maximal Q-values for Step 77000"
          }
         },
         "name": "frame_77",
         "traces": [
          0
         ]
        },
        {
         "data": [
          {
           "type": "heatmap",
           "z": [
            [
             0,
             1.162123680114746,
             1.0458009243011475,
             0.6802695989608765,
             0.02919088862836361,
             0.010205556638538837,
             0.03454694151878357,
             0,
             0.045896753668785095,
             0,
             0,
             0
            ],
            [
             0.38086795806884766,
             1.0023136138916016,
             0.940934419631958,
             0.8397786617279053,
             0.6384145021438599,
             0.4804617762565613,
             0.45240604877471924,
             0.3983526825904846,
             0.3919028639793396,
             0.30027520656585693,
             0.00842666532844305,
             0
            ],
            [
             0.0198983084410429,
             0.6810895204544067,
             0.8465665578842163,
             0.7615832090377808,
             0.6851757168769836,
             0.6164155602455139,
             0.5544826984405518,
             0.4988122880458832,
             0.44869565963745117,
             0.4036105275154114,
             0.30483895540237427,
             0.003304950427263975
            ],
            [
             0,
             0.039341606199741364,
             0.7446964979171753,
             0.602432131767273,
             0.59748375415802,
             0.4709033668041229,
             0.4445453882217407,
             0.4429439306259155,
             0.3748621642589569,
             0.36295127868652344,
             0.3152315020561218,
             0.0682094395160675
            ],
            [
             0,
             0.000005946307283011265,
             0.24075165390968323,
             0.02601522020995617,
             0.05973200500011444,
             0.01852225698530674,
             0,
             0.08745745569467545,
             0.2569175362586975,
             0.3264438211917877,
             0.2216065227985382,
             0.003808707930147648
            ],
            [
             0,
             0.0002586725167930126,
             0.00633477047085762,
             0.0001192389681818895,
             0.0024679964408278465,
             0.00004155849092057906,
             0,
             0.028165306895971298,
             0.22640442848205566,
             0.293537974357605,
             0.2216443121433258,
             0.00010229538747807965
            ],
            [
             0,
             0,
             0.0002910732582677156,
             0,
             0.00004998326039640233,
             0,
             0,
             0,
             0.21020686626434326,
             0.26404470205307007,
             0.21279670298099518,
             0.003187075024470687
            ],
            [
             0,
             0,
             0,
             0,
             0,
             0,
             0,
             0.014035324566066265,
             0.18302060663700104,
             0.23747211694717407,
             0.2107095718383789,
             0.18019334971904755
            ]
           ]
          }
         ],
         "layout": {
          "title": {
           "text": "Double Q-learning: Maximal Q-values for Step 78000"
          }
         },
         "name": "frame_78",
         "traces": [
          0
         ]
        },
        {
         "data": [
          {
           "type": "heatmap",
           "z": [
            [
             0,
             1.1622726917266846,
             1.0459554195404053,
             0.6878477931022644,
             0.02919088862836361,
             0.010205556638538837,
             0.03454694151878357,
             0,
             0.045896753668785095,
             0,
             0,
             0
            ],
            [
             0.38086795806884766,
             1.0023136138916016,
             0.9412329196929932,
             0.8403933048248291,
             0.6384145021438599,
             0.4824400544166565,
             0.45325565338134766,
             0.399103581905365,
             0.3919028639793396,
             0.30027520656585693,
             0.00842666532844305,
             0
            ],
            [
             0.0198983084410429,
             0.6810895204544067,
             0.8469969630241394,
             0.762091338634491,
             0.6856443881988525,
             0.6168863773345947,
             0.5549340844154358,
             0.4992803931236267,
             0.4491270184516907,
             0.4040601849555969,
             0.30555906891822815,
             0.003304950427263975
            ],
            [
             0,
             0.039341606199741364,
             0.7449681758880615,
             0.602432131767273,
             0.5989670157432556,
             0.4709033668041229,
             0.4458107650279999,
             0.44400203227996826,
             0.37539592385292053,
             0.3633827865123749,
             0.31547677516937256,
             0.0682094395160675
            ],
            [
             0,
             0.000005946307283011265,
             0.24075165390968323,
             0.02601522020995617,
             0.05973200500011444,
             0.01852225698530674,
             0,
             0.08745745569467545,
             0.25993597507476807,
             0.3268890380859375,
             0.2216065227985382,
             0.003808707930147648
            ],
            [
             0,
             0.0002586725167930126,
             0.00633477047085762,
             0.0001192389681818895,
             0.0024679964408278465,
             0.00004155849092057906,
             0,
             0.028165306895971298,
             0.22640442848205566,
             0.29400914907455444,
             0.2216443121433258,
             0.00010229538747807965
            ],
            [
             0,
             0,
             0.0002910732582677156,
             0,
             0.00004998326039640233,
             0,
             0,
             0,
             0.21020686626434326,
             0.2644091844558716,
             0.21308249235153198,
             0.003187075024470687
            ],
            [
             0,
             0,
             0,
             0,
             0,
             0,
             0,
             0.014035324566066265,
             0.18460077047348022,
             0.23780199885368347,
             0.21166546642780304,
             0.18055233359336853
            ]
           ]
          }
         ],
         "layout": {
          "title": {
           "text": "Double Q-learning: Maximal Q-values for Step 79000"
          }
         },
         "name": "frame_79",
         "traces": [
          0
         ]
        },
        {
         "data": [
          {
           "type": "heatmap",
           "z": [
            [
             0,
             1.163615345954895,
             1.0466516017913818,
             0.69184410572052,
             0.02919088862836361,
             0.010205556638538837,
             0.052118927240371704,
             0.0016988940769806504,
             0.045896753668785095,
             0,
             0,
             0
            ],
            [
             0.38086795806884766,
             1.0069891214370728,
             0.9416203498840332,
             0.8412517309188843,
             0.6384145021438599,
             0.4873278737068176,
             0.45475876331329346,
             0.399103581905365,
             0.39225172996520996,
             0.30268824100494385,
             0.00842666532844305,
             0
            ],
            [
             0.0198983084410429,
             0.6892185211181641,
             0.8472703695297241,
             0.7623350024223328,
             0.6859666109085083,
             0.6172398328781128,
             0.555283784866333,
             0.4996201992034912,
             0.44947946071624756,
             0.404396653175354,
             0.3068132698535919,
             0.003304950427263975
            ],
            [
             0,
             0.039341606199741364,
             0.7473289966583252,
             0.6079792976379395,
             0.5994501113891602,
             0.4709033668041229,
             0.4522489607334137,
             0.4444604516029358,
             0.37781649827957153,
             0.3637372553348541,
             0.31573837995529175,
             0.0682094395160675
            ],
            [
             0,
             0.000005946307283011265,
             0.24075165390968323,
             0.02601522020995617,
             0.05973200500011444,
             0.01852225698530674,
             0,
             0.08745745569467545,
             0.260642945766449,
             0.32722359895706177,
             0.2216065227985382,
             0.003808707930147648
            ],
            [
             0,
             0.0002586725167930126,
             0.00633477047085762,
             0.0001192389681818895,
             0.0024679964408278465,
             0.00004155849092057906,
             0,
             0.028165306895971298,
             0.22640442848205566,
             0.29430872201919556,
             0.222768634557724,
             0.00010229538747807965
            ],
            [
             0,
             0,
             0.0002910732582677156,
             0,
             0.00004998326039640233,
             0,
             0,
             0,
             0.21298931539058685,
             0.2647404968738556,
             0.2133566439151764,
             0.003187075024470687
            ],
            [
             0,
             0,
             0,
             0,
             0,
             0,
             0,
             0.014035324566066265,
             0.1854516565799713,
             0.23811811208724976,
             0.21247459948062897,
             0.18299786746501923
            ]
           ]
          }
         ],
         "layout": {
          "title": {
           "text": "Double Q-learning: Maximal Q-values for Step 80000"
          }
         },
         "name": "frame_80",
         "traces": [
          0
         ]
        },
        {
         "data": [
          {
           "type": "heatmap",
           "z": [
            [
             0,
             1.1652429103851318,
             1.0478034019470215,
             0.6972719430923462,
             0.02919088862836361,
             0.010205556638538837,
             0.052118927240371704,
             0.0016988940769806504,
             0.045896753668785095,
             0,
             0,
             0
            ],
            [
             0.38086795806884766,
             1.0118097066879272,
             0.9425222277641296,
             0.8419620394706726,
             0.6384145021438599,
             0.4873278737068176,
             0.45541778206825256,
             0.399103581905365,
             0.39225172996520996,
             0.30268824100494385,
             0.00842666532844305,
             0
            ],
            [
             0.0198983084410429,
             0.6892185211181641,
             0.8478893637657166,
             0.7628340721130371,
             0.6862818598747253,
             0.6175093650817871,
             0.5555894374847412,
             0.4999048709869385,
             0.44974756240844727,
             0.40464380383491516,
             0.30785536766052246,
             0.003304950427263975
            ],
            [
             0,
             0.039341606199741364,
             0.7475115060806274,
             0.6079792976379395,
             0.6008120179176331,
             0.47344428300857544,
             0.4522489607334137,
             0.44507503509521484,
             0.3805047869682312,
             0.36403584480285645,
             0.31893396377563477,
             0.0682094395160675
            ],
            [
             0,
             0.000005946307283011265,
             0.24075165390968323,
             0.02601522020995617,
             0.05973200500011444,
             0.01852225698530674,
             0,
             0.08745745569467545,
             0.2612907290458679,
             0.32752180099487305,
             0.23070409893989563,
             0.003808707930147648
            ],
            [
             0,
             0.0002586725167930126,
             0.00633477047085762,
             0.0001192389681818895,
             0.0024679964408278465,
             0.00004155849092057906,
             0,
             0.028165306895971298,
             0.22640442848205566,
             0.2945748567581177,
             0.2287537157535553,
             0.00010229538747807965
            ],
            [
             0,
             0,
             0.0002910732582677156,
             0,
             0.00004998326039640233,
             0,
             0,
             0,
             0.2155247926712036,
             0.26502951979637146,
             0.2133566439151764,
             0.003187075024470687
            ],
            [
             0,
             0,
             0,
             0,
             0,
             0,
             0,
             0.014035324566066265,
             0.1854516565799713,
             0.23839296400547028,
             0.2130606472492218,
             0.18382079899311066
            ]
           ]
          }
         ],
         "layout": {
          "title": {
           "text": "Double Q-learning: Maximal Q-values for Step 81000"
          }
         },
         "name": "frame_81",
         "traces": [
          0
         ]
        },
        {
         "data": [
          {
           "type": "heatmap",
           "z": [
            [
             0,
             1.1655488014221191,
             1.0485526323318481,
             0.6972719430923462,
             0.02919088862836361,
             0.010205556638538837,
             0.052118927240371704,
             0.0016988940769806504,
             0.045896753668785095,
             0,
             0,
             0
            ],
            [
             0.38086795806884766,
             1.0155057907104492,
             0.943374514579773,
             0.8426929712295532,
             0.6409060955047607,
             0.49284207820892334,
             0.45541778206825256,
             0.4041903018951416,
             0.3935095965862274,
             0.30268824100494385,
             0.00842666532844305,
             0
            ],
            [
             0.0198983084410429,
             0.6957458257675171,
             0.84857577085495,
             0.7634418606758118,
             0.6868484020233154,
             0.6179025173187256,
             0.5559136867523193,
             0.5001897215843201,
             0.45001909136772156,
             0.4049047827720642,
             0.3134934604167938,
             0.003304950427263975
            ],
            [
             0,
             0.039341606199741364,
             0.7475115060806274,
             0.6079792976379395,
             0.6008120179176331,
             0.47344428300857544,
             0.4532386064529419,
             0.44537976384162903,
             0.3816268742084503,
             0.3642946481704712,
             0.3198147118091583,
             0.0682094395160675
            ],
            [
             0,
             0.000005946307283011265,
             0.24075165390968323,
             0.02601522020995617,
             0.05973200500011444,
             0.01852225698530674,
             0,
             0.08745745569467545,
             0.2665534019470215,
             0.32775557041168213,
             0.23070409893989563,
             0.003808707930147648
            ],
            [
             0,
             0.0002586725167930126,
             0.00633477047085762,
             0.0001192389681818895,
             0.0024679964408278465,
             0.00004155849092057906,
             0,
             0.028165306895971298,
             0.2271418571472168,
             0.29484814405441284,
             0.2316344827413559,
             0.00010229538747807965
            ],
            [
             0,
             0,
             0.0002910732582677156,
             0,
             0.00004998326039640233,
             0,
             0,
             0,
             0.2158057689666748,
             0.26525723934173584,
             0.2133566439151764,
             0.003187075024470687
            ],
            [
             0,
             0,
             0,
             0,
             0,
             0,
             0,
             0.014035324566066265,
             0.1854516565799713,
             0.23860260844230652,
             0.2134495973587036,
             0.18442237377166748
            ]
           ]
          }
         ],
         "layout": {
          "title": {
           "text": "Double Q-learning: Maximal Q-values for Step 82000"
          }
         },
         "name": "frame_82",
         "traces": [
          0
         ]
        },
        {
         "data": [
          {
           "type": "heatmap",
           "z": [
            [
             0,
             1.1668310165405273,
             1.0495989322662354,
             0.7046573162078857,
             0.02919088862836361,
             0.034139275550842285,
             0.06793371587991714,
             0.004690703470259905,
             0.045896753668785095,
             0,
             0,
             0
            ],
            [
             0.38086795806884766,
             1.0156679153442383,
             0.9442626237869263,
             0.845643162727356,
             0.6600895524024963,
             0.4954078793525696,
             0.4604905843734741,
             0.4041903018951416,
             0.3954077959060669,
             0.3081868290901184,
             0.00842666532844305,
             0
            ],
            [
             0.0198983084410429,
             0.6966845393180847,
             0.8491864204406738,
             0.7639248371124268,
             0.6872532367706299,
             0.6183350086212158,
             0.5563375949859619,
             0.5005523562431335,
             0.4502556025981903,
             0.40511101484298706,
             0.31930017471313477,
             0.003304950427263975
            ],
            [
             0,
             0.039341606199741364,
             0.7475115060806274,
             0.6079792976379395,
             0.6025724411010742,
             0.47596561908721924,
             0.4541526436805725,
             0.4456220865249634,
             0.3822003901004791,
             0.3645021319389343,
             0.32062700390815735,
             0.0682094395160675
            ],
            [
             0,
             0.000005946307283011265,
             0.24075165390968323,
             0.02601522020995617,
             0.05973200500011444,
             0.01852225698530674,
             0,
             0.10282900184392929,
             0.267150342464447,
             0.32795843482017517,
             0.23248136043548584,
             0.003808707930147648
            ],
            [
             0,
             0.0002586725167930126,
             0.00633477047085762,
             0.0001192389681818895,
             0.0024679964408278465,
             0.00004155849092057906,
             0,
             0.028165306895971298,
             0.23158913850784302,
             0.29507097601890564,
             0.23572541773319244,
             0.00010229538747807965
            ],
            [
             0,
             0,
             0.0002910732582677156,
             0,
             0.00004998326039640233,
             0,
             0,
             0,
             0.2181074470281601,
             0.2654625177383423,
             0.2133566439151764,
             0.003187075024470687
            ],
            [
             0,
             0,
             0,
             0,
             0,
             0,
             0,
             0.014035324566066265,
             0.1854516565799713,
             0.2388160079717636,
             0.21362626552581787,
             0.18557408452033997
            ]
           ]
          }
         ],
         "layout": {
          "title": {
           "text": "Double Q-learning: Maximal Q-values for Step 83000"
          }
         },
         "name": "frame_83",
         "traces": [
          0
         ]
        },
        {
         "data": [
          {
           "type": "heatmap",
           "z": [
            [
             0,
             1.167104721069336,
             1.0501770973205566,
             0.7046573162078857,
             0.02919088862836361,
             0.034139275550842285,
             0.06793371587991714,
             0.004690703470259905,
             0.045896753668785095,
             0,
             0,
             0
            ],
            [
             0.38086795806884766,
             1.0189629793167114,
             0.9449732899665833,
             0.8458065390586853,
             0.6616312265396118,
             0.49651145935058594,
             0.4610257148742676,
             0.4041903018951416,
             0.3960806727409363,
             0.3081868290901184,
             0.00842666532844305,
             0
            ],
            [
             0.0198983084410429,
             0.6966845393180847,
             0.8500727415084839,
             0.7647231817245483,
             0.6878578662872314,
             0.618860125541687,
             0.5566274523735046,
             0.5008292198181152,
             0.45056724548339844,
             0.40540799498558044,
             0.31930017471313477,
             0.003304950427263975
            ],
            [
             0,
             0.039341606199741364,
             0.7504740953445435,
             0.6144824028015137,
             0.6037096977233887,
             0.47596561908721924,
             0.45499950647354126,
             0.4462485909461975,
             0.3843591511249542,
             0.3647318482398987,
             0.3223510980606079,
             0.0682094395160675
            ],
            [
             0,
             0.000005946307283011265,
             0.24075165390968323,
             0.02601522020995617,
             0.05973200500011444,
             0.01852225698530674,
             0,
             0.10282900184392929,
             0.2676917314529419,
             0.3281518816947937,
             0.23818634450435638,
             0.003808707930147648
            ],
            [
             0,
             0.0002586725167930126,
             0.00633477047085762,
             0.0001192389681818895,
             0.0024679964408278465,
             0.00004155849092057906,
             0,
             0.028165306895971298,
             0.2359759658575058,
             0.29524943232536316,
             0.23572541773319244,
             0.00010229538747807965
            ],
            [
             0,
             0,
             0.0002910732582677156,
             0,
             0.00004998326039640233,
             0,
             0,
             0,
             0.21835020184516907,
             0.265644371509552,
             0.21363310515880585,
             0.011719374917447567
            ],
            [
             0,
             0,
             0,
             0,
             0,
             0,
             0,
             0.014035324566066265,
             0.1854516565799713,
             0.2389969825744629,
             0.21389539539813995,
             0.18590080738067627
            ]
           ]
          }
         ],
         "layout": {
          "title": {
           "text": "Double Q-learning: Maximal Q-values for Step 84000"
          }
         },
         "name": "frame_84",
         "traces": [
          0
         ]
        },
        {
         "data": [
          {
           "type": "heatmap",
           "z": [
            [
             0,
             1.1677109003067017,
             1.050647497177124,
             0.7069716453552246,
             0.02919088862836361,
             0.034139275550842285,
             0.06793371587991714,
             0.004690703470259905,
             0.045896753668785095,
             0,
             0,
             0
            ],
            [
             0.38086795806884766,
             1.0219292640686035,
             0.9453521370887756,
             0.8464335203170776,
             0.6630557775497437,
             0.5015751123428345,
             0.46241259574890137,
             0.40485072135925293,
             0.3964204788208008,
             0.3105614185333252,
             0.00842666532844305,
             0
            ],
            [
             0.0198983084410429,
             0.6992216110229492,
             0.8506165146827698,
             0.7653297185897827,
             0.6884329319000244,
             0.6193833947181702,
             0.5571991205215454,
             0.5013000965118408,
             0.45096445083618164,
             0.40567493438720703,
             0.31930017471313477,
             0.003304950427263975
            ],
            [
             0,
             0.039341606199741364,
             0.7504740953445435,
             0.6144824028015137,
             0.6042400598526001,
             0.47596561908721924,
             0.45499950647354126,
             0.44679856300354004,
             0.38649243116378784,
             0.3649643659591675,
             0.3228451609611511,
             0.0682094395160675
            ],
            [
             0,
             0.000005946307283011265,
             0.24075165390968323,
             0.02601522020995617,
             0.05973200500011444,
             0.01852225698530674,
             0,
             0.10282900184392929,
             0.27047640085220337,
             0.3283803164958954,
             0.24177679419517517,
             0.003808707930147648
            ],
            [
             0,
             0.0002586725167930126,
             0.00633477047085762,
             0.0001192389681818895,
             0.0024679964408278465,
             0.00004155849092057906,
             0,
             0.028165306895971298,
             0.2363979071378708,
             0.29542475938796997,
             0.23572541773319244,
             0.00010229538747807965
            ],
            [
             0,
             0,
             0.0002910732582677156,
             0,
             0.00004998326039640233,
             0,
             0,
             0,
             0.2185763120651245,
             0.2658126950263977,
             0.21388426423072815,
             0.011719374917447567
            ],
            [
             0,
             0,
             0,
             0,
             0,
             0,
             0,
             0.014035324566066265,
             0.1879996955394745,
             0.23914039134979248,
             0.21433091163635254,
             0.18657587468624115
            ]
           ]
          }
         ],
         "layout": {
          "title": {
           "text": "Double Q-learning: Maximal Q-values for Step 85000"
          }
         },
         "name": "frame_85",
         "traces": [
          0
         ]
        },
        {
         "data": [
          {
           "type": "heatmap",
           "z": [
            [
             0,
             1.1685090065002441,
             1.051180362701416,
             0.7114715576171875,
             0.02919088862836361,
             0.034139275550842285,
             0.06793371587991714,
             0.004690703470259905,
             0.062445007264614105,
             0,
             0,
             0
            ],
            [
             0.38086795806884766,
             1.0223345756530762,
             0.9457569718360901,
             0.8468896746635437,
             0.6630557775497437,
             0.5015751123428345,
             0.46241259574890137,
             0.40485072135925293,
             0.39731666445732117,
             0.31744813919067383,
             0.00842666532844305,
             0
            ],
            [
             0.0198983084410429,
             0.6999225616455078,
             0.851000964641571,
             0.7656698822975159,
             0.6889395713806152,
             0.6198773980140686,
             0.5576459169387817,
             0.5016818642616272,
             0.45124348998069763,
             0.40596771240234375,
             0.31962430477142334,
             0.003304950427263975
            ],
            [
             0,
             0.039341606199741364,
             0.7508227825164795,
             0.6144824028015137,
             0.6042400598526001,
             0.47596561908721924,
             0.45583248138427734,
             0.44764775037765503,
             0.386959433555603,
             0.3652188181877136,
             0.32341107726097107,
             0.0682094395160675
            ],
            [
             0,
             0.000005946307283011265,
             0.24075165390968323,
             0.02601522020995617,
             0.05973200500011444,
             0.01852225698530674,
             0,
             0.1189437061548233,
             0.27047640085220337,
             0.328586220741272,
             0.24177679419517517,
             0.003808707930147648
            ],
            [
             0,
             0.0002586725167930126,
             0.00633477047085762,
             0.0001192389681818895,
             0.0024679964408278465,
             0.00004155849092057906,
             0,
             0.028165306895971298,
             0.23678556084632874,
             0.2956070899963379,
             0.23933887481689453,
             0.00010229538747807965
            ],
            [
             0,
             0,
             0.0002910732582677156,
             0,
             0.00004998326039640233,
             0,
             0,
             0,
             0.22099730372428894,
             0.265971302986145,
             0.21619340777397156,
             0.011719374917447567
            ],
            [
             0,
             0,
             0,
             0,
             0,
             0,
             0,
             0.014035324566066265,
             0.18881292641162872,
             0.23928508162498474,
             0.2145456224679947,
             0.18771207332611084
            ]
           ]
          }
         ],
         "layout": {
          "title": {
           "text": "Double Q-learning: Maximal Q-values for Step 86000"
          }
         },
         "name": "frame_86",
         "traces": [
          0
         ]
        },
        {
         "data": [
          {
           "type": "heatmap",
           "z": [
            [
             0,
             1.168910264968872,
             1.0518004894256592,
             0.713415265083313,
             0.02919088862836361,
             0.034139275550842285,
             0.06793371587991714,
             0.004690703470259905,
             0.062445007264614105,
             0,
             0,
             0
            ],
            [
             0.38086795806884766,
             1.0254721641540527,
             0.9463593363761902,
             0.84739089012146,
             0.6630557775497437,
             0.5043637752532959,
             0.4632296562194824,
             0.4054718017578125,
             0.3984418213367462,
             0.32336485385894775,
             0.00842666532844305,
             0
            ],
            [
             0.0198983084410429,
             0.7011661529541016,
             0.8514701128005981,
             0.7660536170005798,
             0.689231276512146,
             0.6201606392860413,
             0.5579314827919006,
             0.5019948482513428,
             0.4515950679779053,
             0.4062768220901489,
             0.31962430477142334,
             0.003304950427263975
            ],
            [
             0,
             0.039341606199741364,
             0.7530822157859802,
             0.6144824028015137,
             0.6042400598526001,
             0.47596561908721924,
             0.45583248138427734,
             0.44840186834335327,
             0.3900485038757324,
             0.3654816746711731,
             0.32444167137145996,
             0.0682094395160675
            ],
            [
             0,
             0.000005946307283011265,
             0.26986151933670044,
             0.029118109494447708,
             0.05973200500011444,
             0.01852225698530674,
             0,
             0.1189437061548233,
             0.27255475521087646,
             0.3288009464740753,
             0.2467670738697052,
             0.003808707930147648
            ],
            [
             0,
             0.0002586725167930126,
             0.00633477047085762,
             0.0001192389681818895,
             0.0024679964408278465,
             0.00004155849092057906,
             0,
             0.028165306895971298,
             0.23678556084632874,
             0.2957935631275177,
             0.24040308594703674,
             0.00010229538747807965
            ],
            [
             0,
             0,
             0.0002910732582677156,
             0,
             0.00004998326039640233,
             0,
             0,
             0,
             0.22436891496181488,
             0.266155481338501,
             0.22061601281166077,
             0.011719374917447567
            ],
            [
             0,
             0,
             0,
             0,
             0,
             0,
             0,
             0.014035324566066265,
             0.18881292641162872,
             0.23943720757961273,
             0.21467208862304688,
             0.18781261146068573
            ]
           ]
          }
         ],
         "layout": {
          "title": {
           "text": "Double Q-learning: Maximal Q-values for Step 87000"
          }
         },
         "name": "frame_87",
         "traces": [
          0
         ]
        },
        {
         "data": [
          {
           "type": "heatmap",
           "z": [
            [
             0,
             1.1694254875183105,
             1.0520894527435303,
             0.7142791748046875,
             0.02919088862836361,
             0.034139275550842285,
             0.06793371587991714,
             0.004690703470259905,
             0.062445007264614105,
             0,
             0,
             0
            ],
            [
             0.38086795806884766,
             1.0258293151855469,
             0.9467436075210571,
             0.8478469252586365,
             0.6644096374511719,
             0.5051197409629822,
             0.4671350419521332,
             0.4054718017578125,
             0.39866816997528076,
             0.32336485385894775,
             0.00842666532844305,
             0
            ],
            [
             0.0198983084410429,
             0.7086474299430847,
             0.8519076108932495,
             0.766508936882019,
             0.6896494030952454,
             0.6204897165298462,
             0.5582296252250671,
             0.5022566318511963,
             0.4518994390964508,
             0.4065874516963959,
             0.3242422342300415,
             0.015824539586901665
            ],
            [
             0,
             0.039341606199741364,
             0.7530822157859802,
             0.6144824028015137,
             0.6058611869812012,
             0.480568528175354,
             0.45583248138427734,
             0.448816180229187,
             0.3933059871196747,
             0.3657726049423218,
             0.32444167137145996,
             0.0682094395160675
            ],
            [
             0,
             0.000005946307283011265,
             0.26986151933670044,
             0.029118109494447708,
             0.05973200500011444,
             0.01852225698530674,
             0,
             0.1189437061548233,
             0.2734358310699463,
             0.32906824350357056,
             0.2467670738697052,
             0.003808707930147648
            ],
            [
             0,
             0.0002586725167930126,
             0.00633477047085762,
             0.0001192389681818895,
             0.0024679964408278465,
             0.00004155849092057906,
             0,
             0.028165306895971298,
             0.23678556084632874,
             0.2960360646247864,
             0.24040308594703674,
             0.00010229538747807965
            ],
            [
             0,
             0,
             0.0002910732582677156,
             0,
             0.00004998326039640233,
             0,
             0,
             0,
             0.22464054822921753,
             0.2663447856903076,
             0.22061601281166077,
             0.011719374917447567
            ],
            [
             0,
             0,
             0,
             0,
             0,
             0,
             0,
             0.014035324566066265,
             0.18918117880821228,
             0.23960638046264648,
             0.21487736701965332,
             0.18844544887542725
            ]
           ]
          }
         ],
         "layout": {
          "title": {
           "text": "Double Q-learning: Maximal Q-values for Step 88000"
          }
         },
         "name": "frame_88",
         "traces": [
          0
         ]
        },
        {
         "data": [
          {
           "type": "heatmap",
           "z": [
            [
             0,
             1.1696958541870117,
             1.052505373954773,
             0.7142791748046875,
             0.02919088862836361,
             0.034139275550842285,
             0.06793371587991714,
             0.004690703470259905,
             0.062445007264614105,
             0,
             0,
             0
            ],
            [
             0.38086795806884766,
             1.02834153175354,
             0.9470632076263428,
             0.8480998277664185,
             0.6730234622955322,
             0.5051197409629822,
             0.46747875213623047,
             0.4054718017578125,
             0.3988938331604004,
             0.3250683844089508,
             0.00842666532844305,
             0
            ],
            [
             0.0198983084410429,
             0.7140585780143738,
             0.8521823287010193,
             0.766779363155365,
             0.6899722814559937,
             0.6208363771438599,
             0.5585666298866272,
             0.5025331974029541,
             0.4520840644836426,
             0.4067988991737366,
             0.3242422342300415,
             0.015824539586901665
            ],
            [
             0,
             0.039341606199741364,
             0.7565150260925293,
             0.616396427154541,
             0.6068309545516968,
             0.480568528175354,
             0.45662060379981995,
             0.44928741455078125,
             0.39397144317626953,
             0.36600059270858765,
             0.3249284029006958,
             0.0682094395160675
            ],
            [
             0,
             0.000005946307283011265,
             0.26986151933670044,
             0.029118109494447708,
             0.05973200500011444,
             0.01852225698530674,
             0,
             0.1189437061548233,
             0.2734358310699463,
             0.32926738262176514,
             0.24835114181041718,
             0.003808707930147648
            ],
            [
             0,
             0.0002586725167930126,
             0.00633477047085762,
             0.0001192389681818895,
             0.0024679964408278465,
             0.00004155849092057906,
             0,
             0.0369950495660305,
             0.23717519640922546,
             0.2962219715118408,
             0.2408728003501892,
             0.00010229538747807965
            ],
            [
             0,
             0,
             0.0002910732582677156,
             0,
             0.00004998326039640233,
             0,
             0,
             0,
             0.22475983202457428,
             0.2665262520313263,
             0.2256491780281067,
             0.011719374917447567
            ],
            [
             0,
             0,
             0,
             0,
             0,
             0,
             0,
             0.014035324566066265,
             0.1918327510356903,
             0.23974809050559998,
             0.21501070261001587,
             0.18873608112335205
            ]
           ]
          }
         ],
         "layout": {
          "title": {
           "text": "Double Q-learning: Maximal Q-values for Step 89000"
          }
         },
         "name": "frame_89",
         "traces": [
          0
         ]
        },
        {
         "data": [
          {
           "type": "heatmap",
           "z": [
            [
             0,
             1.169804334640503,
             1.0527665615081787,
             0.7142791748046875,
             0.02919088862836361,
             0.034139275550842285,
             0.06793371587991714,
             0.004690703470259905,
             0.062445007264614105,
             0,
             0,
             0
            ],
            [
             0.38086795806884766,
             1.02834153175354,
             0.9473532438278198,
             0.8483591079711914,
             0.6764149069786072,
             0.5191095471382141,
             0.47069668769836426,
             0.4101657271385193,
             0.40024465322494507,
             0.3299620747566223,
             0.00842666532844305,
             0
            ],
            [
             0.0198983084410429,
             0.7148736715316772,
             0.8525119423866272,
             0.7671205997467041,
             0.6902652978897095,
             0.6211115121841431,
             0.5588586330413818,
             0.5028072595596313,
             0.4523801803588867,
             0.4070287346839905,
             0.3245326280593872,
             0.015824539586901665
            ],
            [
             0,
             0.039341606199741364,
             0.7572581768035889,
             0.6209651231765747,
             0.6068309545516968,
             0.480568528175354,
             0.4612378478050232,
             0.4499166011810303,
             0.3952678143978119,
             0.36619657278060913,
             0.3256608545780182,
             0.0682094395160675
            ],
            [
             0,
             0.000005946307283011265,
             0.26986151933670044,
             0.029118109494447708,
             0.05973200500011444,
             0.01852225698530674,
             0,
             0.1189437061548233,
             0.2734358310699463,
             0.3294624090194702,
             0.25133392214775085,
             0.003808707930147648
            ],
            [
             0,
             0.0002586725167930126,
             0.00633477047085762,
             0.0001192389681818895,
             0.0024679964408278465,
             0.00004155849092057906,
             0,
             0.0369950495660305,
             0.23975643515586853,
             0.29642754793167114,
             0.2417064905166626,
             0.00010229538747807965
            ],
            [
             0,
             0,
             0.0002910732582677156,
             0,
             0.00004998326039640233,
             0,
             0,
             0,
             0.2249724566936493,
             0.2667073607444763,
             0.22708037495613098,
             0.011719374917447567
            ],
            [
             0,
             0,
             0,
             0,
             0,
             0,
             0,
             0.014035324566066265,
             0.1921546757221222,
             0.2399267852306366,
             0.21512764692306519,
             0.1887957751750946
            ]
           ]
          }
         ],
         "layout": {
          "title": {
           "text": "Double Q-learning: Maximal Q-values for Step 90000"
          }
         },
         "name": "frame_90",
         "traces": [
          0
         ]
        },
        {
         "data": [
          {
           "type": "heatmap",
           "z": [
            [
             0,
             1.1701335906982422,
             1.0529212951660156,
             0.715089738368988,
             0.02919088862836361,
             0.034139275550842285,
             0.06793371587991714,
             0.004690703470259905,
             0.062445007264614105,
             0,
             0,
             0
            ],
            [
             0.38086795806884766,
             1.0285319089889526,
             0.9475216865539551,
             0.8488551378250122,
             0.6764149069786072,
             0.5207114219665527,
             0.4739360511302948,
             0.4101657271385193,
             0.4009363055229187,
             0.3299620747566223,
             0.00842666532844305,
             0
            ],
            [
             0.0198983084410429,
             0.7155506014823914,
             0.852694034576416,
             0.7673025131225586,
             0.6904953718185425,
             0.6213115453720093,
             0.559065580368042,
             0.5030760765075684,
             0.45265108346939087,
             0.40727120637893677,
             0.3245326280593872,
             0.015824539586901665
            ],
            [
             0,
             0.039341606199741364,
             0.758882999420166,
             0.6251065731048584,
             0.6076666116714478,
             0.48257672786712646,
             0.4647558331489563,
             0.4500505328178406,
             0.3952678143978119,
             0.3664383888244629,
             0.32606029510498047,
             0.07983271777629852
            ],
            [
             0,
             0.000005946307283011265,
             0.26986151933670044,
             0.029118109494447708,
             0.05973200500011444,
             0.01852225698530674,
             0,
             0.1189437061548233,
             0.2734358310699463,
             0.32969868183135986,
             0.2528119683265686,
             0.006214679218828678
            ],
            [
             0,
             0.0002586725167930126,
             0.00633477047085762,
             0.0001192389681818895,
             0.0024679964408278465,
             0.00004155849092057906,
             0,
             0.0369950495660305,
             0.2404780089855194,
             0.2965965270996094,
             0.24579544365406036,
             0.00010229538747807965
            ],
            [
             0,
             0,
             0.0002910732582677156,
             0,
             0.00004998326039640233,
             0,
             0,
             0,
             0.22638732194900513,
             0.26686203479766846,
             0.22941376268863678,
             0.011719374917447567
            ],
            [
             0,
             0,
             0,
             0,
             0,
             0,
             0,
             0.014035324566066265,
             0.1961248815059662,
             0.24007712304592133,
             0.2153034806251526,
             0.18934568762779236
            ]
           ]
          }
         ],
         "layout": {
          "title": {
           "text": "Double Q-learning: Maximal Q-values for Step 91000"
          }
         },
         "name": "frame_91",
         "traces": [
          0
         ]
        },
        {
         "data": [
          {
           "type": "heatmap",
           "z": [
            [
             0,
             1.1709935665130615,
             1.0534919500350952,
             0.7158520817756653,
             0.02919088862836361,
             0.034139275550842285,
             0.06793371587991714,
             0.004690703470259905,
             0.062445007264614105,
             0,
             0,
             0
            ],
            [
             0.4147132635116577,
             1.0308421850204468,
             0.9478856325149536,
             0.8493708372116089,
             0.6842359304428101,
             0.5211458802223206,
             0.4739360511302948,
             0.4138810634613037,
             0.4015934467315674,
             0.33309119939804077,
             0.00842666532844305,
             0
            ],
            [
             0.030111785978078842,
             0.7161060571670532,
             0.8528949618339539,
             0.7674665451049805,
             0.6906304359436035,
             0.6214890480041504,
             0.5592665672302246,
             0.5032608509063721,
             0.4528454542160034,
             0.4074708819389343,
             0.3250671625137329,
             0.015824539586901665
            ],
            [
             0,
             0.039341606199741364,
             0.7596995234489441,
             0.6308953762054443,
             0.6076666116714478,
             0.48257672786712646,
             0.4654352366924286,
             0.45011618733406067,
             0.3960387110710144,
             0.36662906408309937,
             0.3264411389827728,
             0.09072078764438629
            ],
            [
             0,
             0.000005946307283011265,
             0.26986151933670044,
             0.029118109494447708,
             0.05973200500011444,
             0.01852225698530674,
             0,
             0.1189437061548233,
             0.2761344909667969,
             0.32986605167388916,
             0.25688880681991577,
             0.006214679218828678
            ],
            [
             0,
             0.0002586725167930126,
             0.00633477047085762,
             0.0001192389681818895,
             0.0024679964408278465,
             0.00004155849092057906,
             0,
             0.0369950495660305,
             0.2431267499923706,
             0.29680246114730835,
             0.24682007730007172,
             0.00010229538747807965
            ],
            [
             0,
             0,
             0.0002910732582677156,
             0,
             0.00004998326039640233,
             0,
             0,
             0,
             0.22638732194900513,
             0.2670435309410095,
             0.23034612834453583,
             0.011719374917447567
            ],
            [
             0,
             0,
             0,
             0,
             0,
             0,
             0,
             0.014035324566066265,
             0.1961248815059662,
             0.24024225771427155,
             0.21551325917243958,
             0.19020313024520874
            ]
           ]
          }
         ],
         "layout": {
          "title": {
           "text": "Double Q-learning: Maximal Q-values for Step 92000"
          }
         },
         "name": "frame_92",
         "traces": [
          0
         ]
        },
        {
         "data": [
          {
           "type": "heatmap",
           "z": [
            [
             0,
             1.1711781024932861,
             1.053902506828308,
             0.7165684700012207,
             0.02919088862836361,
             0.034139275550842285,
             0.06793371587991714,
             0.004690703470259905,
             0.062445007264614105,
             0,
             0,
             0
            ],
            [
             0.4726502299308777,
             1.0333309173583984,
             0.9483781456947327,
             0.8501889705657959,
             0.6922699213027954,
             0.5245698094367981,
             0.4765719771385193,
             0.4144384264945984,
             0.4021960496902466,
             0.33309119939804077,
             0.00842666532844305,
             0
            ],
            [
             0.030111785978078842,
             0.7161060571670532,
             0.853263258934021,
             0.7677890062332153,
             0.6908549666404724,
             0.621658205986023,
             0.5594220161437988,
             0.5033903121948242,
             0.4529855251312256,
             0.40761539340019226,
             0.3290071487426758,
             0.015824539586901665
            ],
            [
             0,
             0.039341606199741364,
             0.7605080604553223,
             0.6308953762054443,
             0.6080330610275269,
             0.4872016906738281,
             0.46660399436950684,
             0.45083725452423096,
             0.39801400899887085,
             0.36678725481033325,
             0.3264411389827728,
             0.09072078764438629
            ],
            [
             0,
             0.000005946307283011265,
             0.26986151933670044,
             0.029118109494447708,
             0.05973200500011444,
             0.01852225698530674,
             0,
             0.1189437061548233,
             0.27646884322166443,
             0.3300403356552124,
             0.25688880681991577,
             0.006214679218828678
            ],
            [
             0,
             0.0002586725167930126,
             0.00633477047085762,
             0.0001192389681818895,
             0.0024679964408278465,
             0.00004155849092057906,
             0,
             0.04678743705153465,
             0.24367985129356384,
             0.2969355285167694,
             0.24710460007190704,
             0.00010229538747807965
            ],
            [
             0,
             0,
             0.0002910732582677156,
             0,
             0.00004998326039640233,
             0,
             0,
             0,
             0.22638732194900513,
             0.2671876549720764,
             0.2305028736591339,
             0.011719374917447567
            ],
            [
             0,
             0,
             0,
             0,
             0,
             0,
             0,
             0.014035324566066265,
             0.19782805442810059,
             0.2404034435749054,
             0.21570637822151184,
             0.1902536153793335
            ]
           ]
          }
         ],
         "layout": {
          "title": {
           "text": "Double Q-learning: Maximal Q-values for Step 93000"
          }
         },
         "name": "frame_93",
         "traces": [
          0
         ]
        },
        {
         "data": [
          {
           "type": "heatmap",
           "z": [
            [
             0,
             1.17123281955719,
             1.0540324449539185,
             0.7179577946662903,
             0.02919088862836361,
             0.034139275550842285,
             0.06793371587991714,
             0.004690703470259905,
             0.062445007264614105,
             0,
             0,
             0
            ],
            [
             0.4726502299308777,
             1.0355503559112549,
             0.948574423789978,
             0.8509330153465271,
             0.6922699213027954,
             0.5249873399734497,
             0.4810886085033417,
             0.4144384264945984,
             0.4023682475090027,
             0.33309119939804077,
             0.00842666532844305,
             0
            ],
            [
             0.030111785978078842,
             0.7161060571670532,
             0.853549599647522,
             0.768108606338501,
             0.6911414861679077,
             0.6219149827957153,
             0.5596190690994263,
             0.5035609006881714,
             0.45312708616256714,
             0.40773940086364746,
             0.32925063371658325,
             0.015824539586901665
            ],
            [
             0,
             0.039341606199741364,
             0.7616789937019348,
             0.6380549669265747,
             0.60941481590271,
             0.49139711260795593,
             0.467110276222229,
             0.45094263553619385,
             0.39840245246887207,
             0.36691099405288696,
             0.32658880949020386,
             0.09072078764438629
            ],
            [
             0,
             0.000005946307283011265,
             0.26986151933670044,
             0.029118109494447708,
             0.05973200500011444,
             0.01852225698530674,
             0,
             0.1189437061548233,
             0.27646884322166443,
             0.33016520738601685,
             0.25688880681991577,
             0.006214679218828678
            ],
            [
             0,
             0.0002586725167930126,
             0.00633477047085762,
             0.0001192389681818895,
             0.0024679964408278465,
             0.00004155849092057906,
             0,
             0.04678743705153465,
             0.24414637684822083,
             0.29707932472229004,
             0.24710460007190704,
             0.00010229538747807965
            ],
            [
             0,
             0,
             0.0002910732582677156,
             0,
             0.00004998326039640233,
             0,
             0,
             0,
             0.22638732194900513,
             0.26731082797050476,
             0.2313583493232727,
             0.011719374917447567
            ],
            [
             0,
             0,
             0,
             0,
             0,
             0,
             0,
             0.014035324566066265,
             0.1981501579284668,
             0.24052506685256958,
             0.2158409059047699,
             0.1903587430715561
            ]
           ]
          }
         ],
         "layout": {
          "title": {
           "text": "Double Q-learning: Maximal Q-values for Step 94000"
          }
         },
         "name": "frame_94",
         "traces": [
          0
         ]
        },
        {
         "data": [
          {
           "type": "heatmap",
           "z": [
            [
             0,
             1.171302318572998,
             1.054142713546753,
             0.7227681279182434,
             0.02919088862836361,
             0.034139275550842285,
             0.06793371587991714,
             0.004690703470259905,
             0.07760649919509888,
             0,
             0,
             0
            ],
            [
             0.4726502299308777,
             1.0355503559112549,
             0.9486801028251648,
             0.8516726493835449,
             0.6942104697227478,
             0.5249873399734497,
             0.4810886085033417,
             0.41542163491249084,
             0.40267640352249146,
             0.33477866649627686,
             0.00842666532844305,
             0
            ],
            [
             0.030111785978078842,
             0.7163951396942139,
             0.8537400364875793,
             0.7682883739471436,
             0.6912796497344971,
             0.6220911145210266,
             0.5598030090332031,
             0.5037513375282288,
             0.45326465368270874,
             0.40787437558174133,
             0.32947075366973877,
             0.015824539586901665
            ],
            [
             0,
             0.06737368553876877,
             0.7629347443580627,
             0.6440576314926147,
             0.6103045344352722,
             0.49525994062423706,
             0.46800583600997925,
             0.45100992918014526,
             0.39871710538864136,
             0.36702972650527954,
             0.32758915424346924,
             0.09072078764438629
            ],
            [
             0,
             0.000005946307283011265,
             0.26986151933670044,
             0.029118109494447708,
             0.05973200500011444,
             0.01852225698530674,
             0,
             0.13367071747779846,
             0.27677732706069946,
             0.3302685022354126,
             0.26174843311309814,
             0.006214679218828678
            ],
            [
             0,
             0.0002586725167930126,
             0.00633477047085762,
             0.0001192389681818895,
             0.0024679964408278465,
             0.00004155849092057906,
             0,
             0.04678743705153465,
             0.2443511188030243,
             0.2971974313259125,
             0.24886783957481384,
             0.00010229538747807965
            ],
            [
             0,
             0,
             0.0002910732582677156,
             0,
             0.00004998326039640233,
             0,
             0,
             0,
             0.22769248485565186,
             0.26742830872535706,
             0.2321382462978363,
             0.011719374917447567
            ],
            [
             0,
             0,
             0,
             0,
             0,
             0,
             0,
             0.014035324566066265,
             0.19870850443840027,
             0.24062331020832062,
             0.21600905060768127,
             0.19048020243644714
            ]
           ]
          }
         ],
         "layout": {
          "title": {
           "text": "Double Q-learning: Maximal Q-values for Step 95000"
          }
         },
         "name": "frame_95",
         "traces": [
          0
         ]
        },
        {
         "data": [
          {
           "type": "heatmap",
           "z": [
            [
             0,
             1.1714481115341187,
             1.054235577583313,
             0.7227681279182434,
             0.02919088862836361,
             0.034139275550842285,
             0.06793371587991714,
             0.004690703470259905,
             0.09127787500619888,
             0,
             0,
             0
            ],
            [
             0.5178290009498596,
             1.0355503559112549,
             0.9487564563751221,
             0.8519218564033508,
             0.6942104697227478,
             0.5312771797180176,
             0.4836733341217041,
             0.4158441424369812,
             0.4033429026603699,
             0.3376641869544983,
             0.00842666532844305,
             0
            ],
            [
             0.030111785978078842,
             0.7163951396942139,
             0.853844165802002,
             0.7684088945388794,
             0.691484808921814,
             0.6222681999206543,
             0.5599555373191833,
             0.5038903951644897,
             0.45342928171157837,
             0.40801525115966797,
             0.32947075366973877,
             0.015824539586901665
            ],
            [
             0,
             0.06737368553876877,
             0.7629347443580627,
             0.6440576314926147,
             0.6107689738273621,
             0.49525994062423706,
             0.4719451069831848,
             0.4510456323623657,
             0.398851215839386,
             0.3671315908432007,
             0.32775211334228516,
             0.09072078764438629
            ],
            [
             0,
             0.000005946307283011265,
             0.26986151933670044,
             0.029118109494447708,
             0.05973200500011444,
             0.01852225698530674,
             0,
             0.13367071747779846,
             0.2770642638206482,
             0.3303704261779785,
             0.2627883553504944,
             0.006214679218828678
            ],
            [
             0,
             0.0002586725167930126,
             0.00633477047085762,
             0.0001192389681818895,
             0.0024679964408278465,
             0.00004155849092057906,
             0,
             0.04678743705153465,
             0.24470806121826172,
             0.29728788137435913,
             0.25072935223579407,
             0.00010229538747807965
            ],
            [
             0,
             0,
             0.0002910732582677156,
             0,
             0.00004998326039640233,
             0,
             0,
             0,
             0.22769248485565186,
             0.2675081491470337,
             0.2321382462978363,
             0.011719374917447567
            ],
            [
             0,
             0,
             0,
             0,
             0,
             0,
             0,
             0.014035324566066265,
             0.19916900992393494,
             0.24070614576339722,
             0.21606731414794922,
             0.19087646901607513
            ]
           ]
          }
         ],
         "layout": {
          "title": {
           "text": "Double Q-learning: Maximal Q-values for Step 96000"
          }
         },
         "name": "frame_96",
         "traces": [
          0
         ]
        },
        {
         "data": [
          {
           "type": "heatmap",
           "z": [
            [
             0,
             1.1717641353607178,
             1.0544432401657104,
             0.7227681279182434,
             0.02919088862836361,
             0.034139275550842285,
             0.06793371587991714,
             0.004690703470259905,
             0.09127787500619888,
             0,
             0,
             0
            ],
            [
             0.5178290009498596,
             1.0358411073684692,
             0.9489048719406128,
             0.8523027896881104,
             0.7022644281387329,
             0.5338102579116821,
             0.48570770025253296,
             0.4158441424369812,
             0.4034610986709595,
             0.3376641869544983,
             0.00842666532844305,
             0
            ],
            [
             0.030111785978078842,
             0.7260416150093079,
             0.853941023349762,
             0.7684776782989502,
             0.691579282283783,
             0.6223775148391724,
             0.5600936412811279,
             0.5040343999862671,
             0.45356878638267517,
             0.4081532061100006,
             0.32968223094940186,
             0.015824539586901665
            ],
            [
             0,
             0.06737368553876877,
             0.7641286253929138,
             0.648330807685852,
             0.6113543510437012,
             0.49887120723724365,
             0.47482866048812866,
             0.45110824704170227,
             0.398851215839386,
             0.3672746419906616,
             0.3280942440032959,
             0.09072078764438629
            ],
            [
             0,
             0.000005946307283011265,
             0.26986151933670044,
             0.029118109494447708,
             0.08243968337774277,
             0.01852225698530674,
             0,
             0.13367071747779846,
             0.2775608003139496,
             0.3304879665374756,
             0.26460015773773193,
             0.006214679218828678
            ],
            [
             0,
             0.0002586725167930126,
             0.00633477047085762,
             0.0001192389681818895,
             0.0024679964408278465,
             0.00004155849092057906,
             0,
             0.04678743705153465,
             0.24684017896652222,
             0.29737842082977295,
             0.2509775757789612,
             0.00010229538747807965
            ],
            [
             0,
             0,
             0.0002910732582677156,
             0,
             0.00004998326039640233,
             0,
             0,
             0,
             0.22782257199287415,
             0.2675882577896118,
             0.23284514248371124,
             0.011719374917447567
            ],
            [
             0,
             0,
             0,
             0,
             0,
             0,
             0,
             0.014035324566066265,
             0.2009182572364807,
             0.240788996219635,
             0.21608582139015198,
             0.19087646901607513
            ]
           ]
          }
         ],
         "layout": {
          "title": {
           "text": "Double Q-learning: Maximal Q-values for Step 97000"
          }
         },
         "name": "frame_97",
         "traces": [
          0
         ]
        },
        {
         "data": [
          {
           "type": "heatmap",
           "z": [
            [
             0,
             1.171783685684204,
             1.0545706748962402,
             0.7272145748138428,
             0.02919088862836361,
             0.034139275550842285,
             0.06793371587991714,
             0.004690703470259905,
             0.10613511502742767,
             0,
             0,
             0
            ],
            [
             0.5178290009498596,
             1.035966157913208,
             0.9490784406661987,
             0.8527898788452148,
             0.7139366865158081,
             0.5364442467689514,
             0.48621729016304016,
             0.41623055934906006,
             0.4042259156703949,
             0.33896321058273315,
             0.00842666532844305,
             0
            ],
            [
             0.030111785978078842,
             0.7305247783660889,
             0.854081392288208,
             0.7685991525650024,
             0.6916804313659668,
             0.6224656105041504,
             0.5601762533187866,
             0.5041220188140869,
             0.4536384344100952,
             0.4082382321357727,
             0.33004993200302124,
             0.015824539586901665
            ],
            [
             0,
             0.06737368553876877,
             0.764796257019043,
             0.6544323563575745,
             0.6140897274017334,
             0.5057294368743896,
             0.4797620475292206,
             0.4514203667640686,
             0.3996797502040863,
             0.3673597574234009,
             0.3282204866409302,
             0.09072078764438629
            ],
            [
             0,
             0.000005946307283011265,
             0.26986151933670044,
             0.029118109494447708,
             0.08243968337774277,
             0.01852225698530674,
             0,
             0.13367071747779846,
             0.2779681086540222,
             0.33057984709739685,
             0.2653725743293762,
             0.006214679218828678
            ],
            [
             0,
             0.0002586725167930126,
             0.00633477047085762,
             0.0001192389681818895,
             0.0024679964408278465,
             0.00004155849092057906,
             0,
             0.04678743705153465,
             0.24876365065574646,
             0.29746484756469727,
             0.25120633840560913,
             0.00010229538747807965
            ],
            [
             0,
             0,
             0.0002910732582677156,
             0,
             0.00004998326039640233,
             0,
             0,
             0,
             0.23039764165878296,
             0.26767784357070923,
             0.23284514248371124,
             0.011719374917447567
            ],
            [
             0,
             0,
             0,
             0,
             0,
             0,
             0,
             0.014035324566066265,
             0.2009182572364807,
             0.24086692929267883,
             0.2161274552345276,
             0.1909090280532837
            ]
           ]
          }
         ],
         "layout": {
          "title": {
           "text": "Double Q-learning: Maximal Q-values for Step 98000"
          }
         },
         "name": "frame_98",
         "traces": [
          0
         ]
        },
        {
         "data": [
          {
           "type": "heatmap",
           "z": [
            [
             0,
             1.1718401908874512,
             1.054628610610962,
             0.7278416156768799,
             0.02919088862836361,
             0.034139275550842285,
             0.06793371587991714,
             0.004690703470259905,
             0.10613511502742767,
             0,
             0,
             0
            ],
            [
             0.5178290009498596,
             1.0392937660217285,
             0.9491364359855652,
             0.852910041809082,
             0.7152559757232666,
             0.536763608455658,
             0.4869779050350189,
             0.41623055934906006,
             0.4044437110424042,
             0.34143003821372986,
             0.00842666532844305,
             0
            ],
            [
             0.030111785978078842,
             0.7305247783660889,
             0.8541678786277771,
             0.7687129974365234,
             0.6917835474014282,
             0.6225640773773193,
             0.560258150100708,
             0.5041934251785278,
             0.45373451709747314,
             0.408322811126709,
             0.333787739276886,
             0.015824539586901665
            ],
            [
             0,
             0.06737368553876877,
             0.7648971676826477,
             0.6558690071105957,
             0.6147880554199219,
             0.5086531639099121,
             0.48009729385375977,
             0.45148566365242004,
             0.40022337436676025,
             0.3674393892288208,
             0.3285149931907654,
             0.09072078764438629
            ],
            [
             0,
             0.000005946307283011265,
             0.29641133546829224,
             0.029118109494447708,
             0.08243968337774277,
             0.01852225698530674,
             0,
             0.13367071747779846,
             0.27814310789108276,
             0.3306581974029541,
             0.26838046312332153,
             0.006214679218828678
            ],
            [
             0,
             0.0002586725167930126,
             0.00633477047085762,
             0.0001192389681818895,
             0.0024679964408278465,
             0.00004155849092057906,
             0,
             0.04678743705153465,
             0.25066351890563965,
             0.2975274920463562,
             0.25141677260398865,
             0.00010229538747807965
            ],
            [
             0,
             0,
             0.0002910732582677156,
             0,
             0.00004998326039640233,
             0,
             0,
             0,
             0.23145253956317902,
             0.26775121688842773,
             0.2340737283229828,
             0.011719374917447567
            ],
            [
             0,
             0,
             0,
             0,
             0,
             0,
             0,
             0.014035324566066265,
             0.2009182572364807,
             0.24093979597091675,
             0.2162615954875946,
             0.19100001454353333
            ]
           ]
          }
         ],
         "layout": {
          "title": {
           "text": "Double Q-learning: Maximal Q-values for Step 99000"
          }
         },
         "name": "frame_99",
         "traces": [
          0
         ]
        },
        {
         "data": [
          {
           "type": "heatmap",
           "z": [
            [
             0,
             1.1719028949737549,
             1.0546913146972656,
             0.7289519309997559,
             0.02919088862836361,
             0.05676709860563278,
             0.06793371587991714,
             0.004690703470259905,
             0.10613511502742767,
             0,
             0,
             0
            ],
            [
             0.5178290009498596,
             1.0407124757766724,
             0.9491820335388184,
             0.853344202041626,
             0.7205055952072144,
             0.5388305187225342,
             0.48738276958465576,
             0.41963547468185425,
             0.4046180844306946,
             0.3447774052619934,
             0.00842666532844305,
             0
            ],
            [
             0.030111785978078842,
             0.7307469844818115,
             0.8542392253875732,
             0.7687793970108032,
             0.6918598413467407,
             0.6226474642753601,
             0.5603334903717041,
             0.5042597055435181,
             0.45379555225372314,
             0.4083821475505829,
             0.33393150568008423,
             0.015824539586901665
            ],
            [
             0,
             0.06737368553876877,
             0.765078604221344,
             0.6571620106697083,
             0.615086555480957,
             0.51048743724823,
             0.4806768298149109,
             0.45212751626968384,
             0.4019857347011566,
             0.3675083816051483,
             0.3287378251552582,
             0.10061579942703247
            ],
            [
             0,
             0.000005946307283011265,
             0.29641133546829224,
             0.029118109494447708,
             0.08243968337774277,
             0.01852225698530674,
             0,
             0.13367071747779846,
             0.27814310789108276,
             0.3307291567325592,
             0.26903754472732544,
             0.006214679218828678
            ],
            [
             0,
             0.0002586725167930126,
             0.00633477047085762,
             0.0001192389681818895,
             0.0024679964408278465,
             0.00004155849092057906,
             0,
             0.05575787276029587,
             0.2508157193660736,
             0.297621488571167,
             0.2532343566417694,
             0.00010229538747807965
            ],
            [
             0,
             0,
             0.0002910732582677156,
             0,
             0.00004998326039640233,
             0,
             0,
             0.01080280914902687,
             0.23153568804264069,
             0.26782238483428955,
             0.23423981666564941,
             0.019838303327560425
            ],
            [
             0,
             0,
             0,
             0,
             0,
             0,
             0,
             0.014035324566066265,
             0.2009182572364807,
             0.24100419878959656,
             0.21632298827171326,
             0.19102835655212402
            ]
           ]
          }
         ],
         "layout": {
          "title": {
           "text": "Double Q-learning: Maximal Q-values for Step 100000"
          }
         },
         "name": "frame_100",
         "traces": [
          0
         ]
        }
       ],
       "layout": {
        "height": 600,
        "template": {
         "data": {
          "bar": [
           {
            "error_x": {
             "color": "#2a3f5f"
            },
            "error_y": {
             "color": "#2a3f5f"
            },
            "marker": {
             "line": {
              "color": "#E5ECF6",
              "width": 0.5
             },
             "pattern": {
              "fillmode": "overlay",
              "size": 10,
              "solidity": 0.2
             }
            },
            "type": "bar"
           }
          ],
          "barpolar": [
           {
            "marker": {
             "line": {
              "color": "#E5ECF6",
              "width": 0.5
             },
             "pattern": {
              "fillmode": "overlay",
              "size": 10,
              "solidity": 0.2
             }
            },
            "type": "barpolar"
           }
          ],
          "carpet": [
           {
            "aaxis": {
             "endlinecolor": "#2a3f5f",
             "gridcolor": "white",
             "linecolor": "white",
             "minorgridcolor": "white",
             "startlinecolor": "#2a3f5f"
            },
            "baxis": {
             "endlinecolor": "#2a3f5f",
             "gridcolor": "white",
             "linecolor": "white",
             "minorgridcolor": "white",
             "startlinecolor": "#2a3f5f"
            },
            "type": "carpet"
           }
          ],
          "choropleth": [
           {
            "colorbar": {
             "outlinewidth": 0,
             "ticks": ""
            },
            "type": "choropleth"
           }
          ],
          "contour": [
           {
            "colorbar": {
             "outlinewidth": 0,
             "ticks": ""
            },
            "colorscale": [
             [
              0,
              "#0d0887"
             ],
             [
              0.1111111111111111,
              "#46039f"
             ],
             [
              0.2222222222222222,
              "#7201a8"
             ],
             [
              0.3333333333333333,
              "#9c179e"
             ],
             [
              0.4444444444444444,
              "#bd3786"
             ],
             [
              0.5555555555555556,
              "#d8576b"
             ],
             [
              0.6666666666666666,
              "#ed7953"
             ],
             [
              0.7777777777777778,
              "#fb9f3a"
             ],
             [
              0.8888888888888888,
              "#fdca26"
             ],
             [
              1,
              "#f0f921"
             ]
            ],
            "type": "contour"
           }
          ],
          "contourcarpet": [
           {
            "colorbar": {
             "outlinewidth": 0,
             "ticks": ""
            },
            "type": "contourcarpet"
           }
          ],
          "heatmap": [
           {
            "colorbar": {
             "outlinewidth": 0,
             "ticks": ""
            },
            "colorscale": [
             [
              0,
              "#0d0887"
             ],
             [
              0.1111111111111111,
              "#46039f"
             ],
             [
              0.2222222222222222,
              "#7201a8"
             ],
             [
              0.3333333333333333,
              "#9c179e"
             ],
             [
              0.4444444444444444,
              "#bd3786"
             ],
             [
              0.5555555555555556,
              "#d8576b"
             ],
             [
              0.6666666666666666,
              "#ed7953"
             ],
             [
              0.7777777777777778,
              "#fb9f3a"
             ],
             [
              0.8888888888888888,
              "#fdca26"
             ],
             [
              1,
              "#f0f921"
             ]
            ],
            "type": "heatmap"
           }
          ],
          "heatmapgl": [
           {
            "colorbar": {
             "outlinewidth": 0,
             "ticks": ""
            },
            "colorscale": [
             [
              0,
              "#0d0887"
             ],
             [
              0.1111111111111111,
              "#46039f"
             ],
             [
              0.2222222222222222,
              "#7201a8"
             ],
             [
              0.3333333333333333,
              "#9c179e"
             ],
             [
              0.4444444444444444,
              "#bd3786"
             ],
             [
              0.5555555555555556,
              "#d8576b"
             ],
             [
              0.6666666666666666,
              "#ed7953"
             ],
             [
              0.7777777777777778,
              "#fb9f3a"
             ],
             [
              0.8888888888888888,
              "#fdca26"
             ],
             [
              1,
              "#f0f921"
             ]
            ],
            "type": "heatmapgl"
           }
          ],
          "histogram": [
           {
            "marker": {
             "pattern": {
              "fillmode": "overlay",
              "size": 10,
              "solidity": 0.2
             }
            },
            "type": "histogram"
           }
          ],
          "histogram2d": [
           {
            "colorbar": {
             "outlinewidth": 0,
             "ticks": ""
            },
            "colorscale": [
             [
              0,
              "#0d0887"
             ],
             [
              0.1111111111111111,
              "#46039f"
             ],
             [
              0.2222222222222222,
              "#7201a8"
             ],
             [
              0.3333333333333333,
              "#9c179e"
             ],
             [
              0.4444444444444444,
              "#bd3786"
             ],
             [
              0.5555555555555556,
              "#d8576b"
             ],
             [
              0.6666666666666666,
              "#ed7953"
             ],
             [
              0.7777777777777778,
              "#fb9f3a"
             ],
             [
              0.8888888888888888,
              "#fdca26"
             ],
             [
              1,
              "#f0f921"
             ]
            ],
            "type": "histogram2d"
           }
          ],
          "histogram2dcontour": [
           {
            "colorbar": {
             "outlinewidth": 0,
             "ticks": ""
            },
            "colorscale": [
             [
              0,
              "#0d0887"
             ],
             [
              0.1111111111111111,
              "#46039f"
             ],
             [
              0.2222222222222222,
              "#7201a8"
             ],
             [
              0.3333333333333333,
              "#9c179e"
             ],
             [
              0.4444444444444444,
              "#bd3786"
             ],
             [
              0.5555555555555556,
              "#d8576b"
             ],
             [
              0.6666666666666666,
              "#ed7953"
             ],
             [
              0.7777777777777778,
              "#fb9f3a"
             ],
             [
              0.8888888888888888,
              "#fdca26"
             ],
             [
              1,
              "#f0f921"
             ]
            ],
            "type": "histogram2dcontour"
           }
          ],
          "mesh3d": [
           {
            "colorbar": {
             "outlinewidth": 0,
             "ticks": ""
            },
            "type": "mesh3d"
           }
          ],
          "parcoords": [
           {
            "line": {
             "colorbar": {
              "outlinewidth": 0,
              "ticks": ""
             }
            },
            "type": "parcoords"
           }
          ],
          "pie": [
           {
            "automargin": true,
            "type": "pie"
           }
          ],
          "scatter": [
           {
            "fillpattern": {
             "fillmode": "overlay",
             "size": 10,
             "solidity": 0.2
            },
            "type": "scatter"
           }
          ],
          "scatter3d": [
           {
            "line": {
             "colorbar": {
              "outlinewidth": 0,
              "ticks": ""
             }
            },
            "marker": {
             "colorbar": {
              "outlinewidth": 0,
              "ticks": ""
             }
            },
            "type": "scatter3d"
           }
          ],
          "scattercarpet": [
           {
            "marker": {
             "colorbar": {
              "outlinewidth": 0,
              "ticks": ""
             }
            },
            "type": "scattercarpet"
           }
          ],
          "scattergeo": [
           {
            "marker": {
             "colorbar": {
              "outlinewidth": 0,
              "ticks": ""
             }
            },
            "type": "scattergeo"
           }
          ],
          "scattergl": [
           {
            "marker": {
             "colorbar": {
              "outlinewidth": 0,
              "ticks": ""
             }
            },
            "type": "scattergl"
           }
          ],
          "scattermapbox": [
           {
            "marker": {
             "colorbar": {
              "outlinewidth": 0,
              "ticks": ""
             }
            },
            "type": "scattermapbox"
           }
          ],
          "scatterpolar": [
           {
            "marker": {
             "colorbar": {
              "outlinewidth": 0,
              "ticks": ""
             }
            },
            "type": "scatterpolar"
           }
          ],
          "scatterpolargl": [
           {
            "marker": {
             "colorbar": {
              "outlinewidth": 0,
              "ticks": ""
             }
            },
            "type": "scatterpolargl"
           }
          ],
          "scatterternary": [
           {
            "marker": {
             "colorbar": {
              "outlinewidth": 0,
              "ticks": ""
             }
            },
            "type": "scatterternary"
           }
          ],
          "surface": [
           {
            "colorbar": {
             "outlinewidth": 0,
             "ticks": ""
            },
            "colorscale": [
             [
              0,
              "#0d0887"
             ],
             [
              0.1111111111111111,
              "#46039f"
             ],
             [
              0.2222222222222222,
              "#7201a8"
             ],
             [
              0.3333333333333333,
              "#9c179e"
             ],
             [
              0.4444444444444444,
              "#bd3786"
             ],
             [
              0.5555555555555556,
              "#d8576b"
             ],
             [
              0.6666666666666666,
              "#ed7953"
             ],
             [
              0.7777777777777778,
              "#fb9f3a"
             ],
             [
              0.8888888888888888,
              "#fdca26"
             ],
             [
              1,
              "#f0f921"
             ]
            ],
            "type": "surface"
           }
          ],
          "table": [
           {
            "cells": {
             "fill": {
              "color": "#EBF0F8"
             },
             "line": {
              "color": "white"
             }
            },
            "header": {
             "fill": {
              "color": "#C8D4E3"
             },
             "line": {
              "color": "white"
             }
            },
            "type": "table"
           }
          ]
         },
         "layout": {
          "annotationdefaults": {
           "arrowcolor": "#2a3f5f",
           "arrowhead": 0,
           "arrowwidth": 1
          },
          "autotypenumbers": "strict",
          "coloraxis": {
           "colorbar": {
            "outlinewidth": 0,
            "ticks": ""
           }
          },
          "colorscale": {
           "diverging": [
            [
             0,
             "#8e0152"
            ],
            [
             0.1,
             "#c51b7d"
            ],
            [
             0.2,
             "#de77ae"
            ],
            [
             0.3,
             "#f1b6da"
            ],
            [
             0.4,
             "#fde0ef"
            ],
            [
             0.5,
             "#f7f7f7"
            ],
            [
             0.6,
             "#e6f5d0"
            ],
            [
             0.7,
             "#b8e186"
            ],
            [
             0.8,
             "#7fbc41"
            ],
            [
             0.9,
             "#4d9221"
            ],
            [
             1,
             "#276419"
            ]
           ],
           "sequential": [
            [
             0,
             "#0d0887"
            ],
            [
             0.1111111111111111,
             "#46039f"
            ],
            [
             0.2222222222222222,
             "#7201a8"
            ],
            [
             0.3333333333333333,
             "#9c179e"
            ],
            [
             0.4444444444444444,
             "#bd3786"
            ],
            [
             0.5555555555555556,
             "#d8576b"
            ],
            [
             0.6666666666666666,
             "#ed7953"
            ],
            [
             0.7777777777777778,
             "#fb9f3a"
            ],
            [
             0.8888888888888888,
             "#fdca26"
            ],
            [
             1,
             "#f0f921"
            ]
           ],
           "sequentialminus": [
            [
             0,
             "#0d0887"
            ],
            [
             0.1111111111111111,
             "#46039f"
            ],
            [
             0.2222222222222222,
             "#7201a8"
            ],
            [
             0.3333333333333333,
             "#9c179e"
            ],
            [
             0.4444444444444444,
             "#bd3786"
            ],
            [
             0.5555555555555556,
             "#d8576b"
            ],
            [
             0.6666666666666666,
             "#ed7953"
            ],
            [
             0.7777777777777778,
             "#fb9f3a"
            ],
            [
             0.8888888888888888,
             "#fdca26"
            ],
            [
             1,
             "#f0f921"
            ]
           ]
          },
          "colorway": [
           "#636efa",
           "#EF553B",
           "#00cc96",
           "#ab63fa",
           "#FFA15A",
           "#19d3f3",
           "#FF6692",
           "#B6E880",
           "#FF97FF",
           "#FECB52"
          ],
          "font": {
           "color": "#2a3f5f"
          },
          "geo": {
           "bgcolor": "white",
           "lakecolor": "white",
           "landcolor": "#E5ECF6",
           "showlakes": true,
           "showland": true,
           "subunitcolor": "white"
          },
          "hoverlabel": {
           "align": "left"
          },
          "hovermode": "closest",
          "mapbox": {
           "style": "light"
          },
          "paper_bgcolor": "white",
          "plot_bgcolor": "#E5ECF6",
          "polar": {
           "angularaxis": {
            "gridcolor": "white",
            "linecolor": "white",
            "ticks": ""
           },
           "bgcolor": "#E5ECF6",
           "radialaxis": {
            "gridcolor": "white",
            "linecolor": "white",
            "ticks": ""
           }
          },
          "scene": {
           "xaxis": {
            "backgroundcolor": "#E5ECF6",
            "gridcolor": "white",
            "gridwidth": 2,
            "linecolor": "white",
            "showbackground": true,
            "ticks": "",
            "zerolinecolor": "white"
           },
           "yaxis": {
            "backgroundcolor": "#E5ECF6",
            "gridcolor": "white",
            "gridwidth": 2,
            "linecolor": "white",
            "showbackground": true,
            "ticks": "",
            "zerolinecolor": "white"
           },
           "zaxis": {
            "backgroundcolor": "#E5ECF6",
            "gridcolor": "white",
            "gridwidth": 2,
            "linecolor": "white",
            "showbackground": true,
            "ticks": "",
            "zerolinecolor": "white"
           }
          },
          "shapedefaults": {
           "line": {
            "color": "#2a3f5f"
           }
          },
          "ternary": {
           "aaxis": {
            "gridcolor": "white",
            "linecolor": "white",
            "ticks": ""
           },
           "baxis": {
            "gridcolor": "white",
            "linecolor": "white",
            "ticks": ""
           },
           "bgcolor": "#E5ECF6",
           "caxis": {
            "gridcolor": "white",
            "linecolor": "white",
            "ticks": ""
           }
          },
          "title": {
           "x": 0.05
          },
          "xaxis": {
           "automargin": true,
           "gridcolor": "white",
           "linecolor": "white",
           "ticks": "",
           "title": {
            "standoff": 15
           },
           "zerolinecolor": "white",
           "zerolinewidth": 2
          },
          "yaxis": {
           "automargin": true,
           "gridcolor": "white",
           "linecolor": "white",
           "ticks": "",
           "title": {
            "standoff": 15
           },
           "zerolinecolor": "white",
           "zerolinewidth": 2
          }
         }
        },
        "title": {
         "text": "Double Q-learning: Maximal Q-values for Step 0"
        },
        "updatemenus": [
         {
          "buttons": [
           {
            "args": [
             null,
             {
              "frame": {
               "duration": 50,
               "redraw": true
              },
              "fromcurrent": true
             }
            ],
            "label": "Play",
            "method": "animate"
           },
           {
            "args": [
             [
              null
             ],
             {
              "frame": {
               "duration": 0,
               "redraw": false
              }
             }
            ],
            "label": "Pause",
            "method": "relayout"
           }
          ],
          "type": "buttons"
         }
        ],
        "width": 800,
        "xaxis": {
         "range": [
          0,
          12
         ],
         "title": {
          "text": "X Coordinate"
         }
        },
        "yaxis": {
         "autorange": false,
         "range": [
          8,
          0
         ],
         "title": {
          "text": "Y Coordinate"
         }
        }
       }
      }
     },
     "metadata": {},
     "output_type": "display_data"
    },
    {
     "data": {
      "application/vnd.plotly.v1+json": {
       "config": {
        "plotlyServerURL": "https://plotly.com"
       },
       "data": [
        {
         "coloraxis": "coloraxis",
         "hovertemplate": "1: %{x}<br>y: %{y}<br>color: %{z}<extra></extra>",
         "name": "0",
         "type": "heatmap",
         "x": [
          0,
          1,
          2,
          3,
          4,
          5,
          6,
          7,
          8,
          9,
          10,
          11,
          12
         ],
         "xaxis": "x",
         "y": [
          0,
          1,
          2,
          3,
          4,
          5,
          6,
          7,
          8
         ],
         "yaxis": "y",
         "z": [
          [
           0,
           3502,
           3505,
           136,
           66,
           100,
           134,
           140,
           199,
           215,
           254,
           304,
           271
          ],
          [
           23,
           196,
           3628,
           404,
           167,
           182,
           241,
           250,
           403,
           335,
           272,
           297,
           300
          ],
          [
           26,
           127,
           3474,
           3382,
           3551,
           3530,
           3637,
           3680,
           3565,
           3553,
           375,
           330,
           342
          ],
          [
           41,
           32,
           252,
           169,
           268,
           202,
           256,
           505,
           478,
           3659,
           487,
           393,
           398
          ],
          [
           37,
           45,
           82,
           77,
           101,
           137,
           188,
           264,
           396,
           3733,
           471,
           458,
           523
          ],
          [
           67,
           79,
           82,
           82,
           116,
           137,
           168,
           276,
           482,
           3877,
           526,
           490,
           556
          ],
          [
           81,
           92,
           113,
           110,
           140,
           148,
           185,
           292,
           500,
           3974,
           679,
           616,
           674
          ],
          [
           89,
           110,
           148,
           150,
           175,
           198,
           231,
           285,
           442,
           3944,
           957,
           928,
           962
          ],
          [
           107,
           99,
           124,
           157,
           184,
           203,
           276,
           316,
           440,
           3721,
           3833,
           4132,
           4499
          ]
         ]
        }
       ],
       "layout": {
        "coloraxis": {
         "colorscale": [
          [
           0,
           "#0d0887"
          ],
          [
           0.1111111111111111,
           "#46039f"
          ],
          [
           0.2222222222222222,
           "#7201a8"
          ],
          [
           0.3333333333333333,
           "#9c179e"
          ],
          [
           0.4444444444444444,
           "#bd3786"
          ],
          [
           0.5555555555555556,
           "#d8576b"
          ],
          [
           0.6666666666666666,
           "#ed7953"
          ],
          [
           0.7777777777777778,
           "#fb9f3a"
          ],
          [
           0.8888888888888888,
           "#fdca26"
          ],
          [
           1,
           "#f0f921"
          ]
         ]
        },
        "template": {
         "data": {
          "bar": [
           {
            "error_x": {
             "color": "#2a3f5f"
            },
            "error_y": {
             "color": "#2a3f5f"
            },
            "marker": {
             "line": {
              "color": "#E5ECF6",
              "width": 0.5
             },
             "pattern": {
              "fillmode": "overlay",
              "size": 10,
              "solidity": 0.2
             }
            },
            "type": "bar"
           }
          ],
          "barpolar": [
           {
            "marker": {
             "line": {
              "color": "#E5ECF6",
              "width": 0.5
             },
             "pattern": {
              "fillmode": "overlay",
              "size": 10,
              "solidity": 0.2
             }
            },
            "type": "barpolar"
           }
          ],
          "carpet": [
           {
            "aaxis": {
             "endlinecolor": "#2a3f5f",
             "gridcolor": "white",
             "linecolor": "white",
             "minorgridcolor": "white",
             "startlinecolor": "#2a3f5f"
            },
            "baxis": {
             "endlinecolor": "#2a3f5f",
             "gridcolor": "white",
             "linecolor": "white",
             "minorgridcolor": "white",
             "startlinecolor": "#2a3f5f"
            },
            "type": "carpet"
           }
          ],
          "choropleth": [
           {
            "colorbar": {
             "outlinewidth": 0,
             "ticks": ""
            },
            "type": "choropleth"
           }
          ],
          "contour": [
           {
            "colorbar": {
             "outlinewidth": 0,
             "ticks": ""
            },
            "colorscale": [
             [
              0,
              "#0d0887"
             ],
             [
              0.1111111111111111,
              "#46039f"
             ],
             [
              0.2222222222222222,
              "#7201a8"
             ],
             [
              0.3333333333333333,
              "#9c179e"
             ],
             [
              0.4444444444444444,
              "#bd3786"
             ],
             [
              0.5555555555555556,
              "#d8576b"
             ],
             [
              0.6666666666666666,
              "#ed7953"
             ],
             [
              0.7777777777777778,
              "#fb9f3a"
             ],
             [
              0.8888888888888888,
              "#fdca26"
             ],
             [
              1,
              "#f0f921"
             ]
            ],
            "type": "contour"
           }
          ],
          "contourcarpet": [
           {
            "colorbar": {
             "outlinewidth": 0,
             "ticks": ""
            },
            "type": "contourcarpet"
           }
          ],
          "heatmap": [
           {
            "colorbar": {
             "outlinewidth": 0,
             "ticks": ""
            },
            "colorscale": [
             [
              0,
              "#0d0887"
             ],
             [
              0.1111111111111111,
              "#46039f"
             ],
             [
              0.2222222222222222,
              "#7201a8"
             ],
             [
              0.3333333333333333,
              "#9c179e"
             ],
             [
              0.4444444444444444,
              "#bd3786"
             ],
             [
              0.5555555555555556,
              "#d8576b"
             ],
             [
              0.6666666666666666,
              "#ed7953"
             ],
             [
              0.7777777777777778,
              "#fb9f3a"
             ],
             [
              0.8888888888888888,
              "#fdca26"
             ],
             [
              1,
              "#f0f921"
             ]
            ],
            "type": "heatmap"
           }
          ],
          "heatmapgl": [
           {
            "colorbar": {
             "outlinewidth": 0,
             "ticks": ""
            },
            "colorscale": [
             [
              0,
              "#0d0887"
             ],
             [
              0.1111111111111111,
              "#46039f"
             ],
             [
              0.2222222222222222,
              "#7201a8"
             ],
             [
              0.3333333333333333,
              "#9c179e"
             ],
             [
              0.4444444444444444,
              "#bd3786"
             ],
             [
              0.5555555555555556,
              "#d8576b"
             ],
             [
              0.6666666666666666,
              "#ed7953"
             ],
             [
              0.7777777777777778,
              "#fb9f3a"
             ],
             [
              0.8888888888888888,
              "#fdca26"
             ],
             [
              1,
              "#f0f921"
             ]
            ],
            "type": "heatmapgl"
           }
          ],
          "histogram": [
           {
            "marker": {
             "pattern": {
              "fillmode": "overlay",
              "size": 10,
              "solidity": 0.2
             }
            },
            "type": "histogram"
           }
          ],
          "histogram2d": [
           {
            "colorbar": {
             "outlinewidth": 0,
             "ticks": ""
            },
            "colorscale": [
             [
              0,
              "#0d0887"
             ],
             [
              0.1111111111111111,
              "#46039f"
             ],
             [
              0.2222222222222222,
              "#7201a8"
             ],
             [
              0.3333333333333333,
              "#9c179e"
             ],
             [
              0.4444444444444444,
              "#bd3786"
             ],
             [
              0.5555555555555556,
              "#d8576b"
             ],
             [
              0.6666666666666666,
              "#ed7953"
             ],
             [
              0.7777777777777778,
              "#fb9f3a"
             ],
             [
              0.8888888888888888,
              "#fdca26"
             ],
             [
              1,
              "#f0f921"
             ]
            ],
            "type": "histogram2d"
           }
          ],
          "histogram2dcontour": [
           {
            "colorbar": {
             "outlinewidth": 0,
             "ticks": ""
            },
            "colorscale": [
             [
              0,
              "#0d0887"
             ],
             [
              0.1111111111111111,
              "#46039f"
             ],
             [
              0.2222222222222222,
              "#7201a8"
             ],
             [
              0.3333333333333333,
              "#9c179e"
             ],
             [
              0.4444444444444444,
              "#bd3786"
             ],
             [
              0.5555555555555556,
              "#d8576b"
             ],
             [
              0.6666666666666666,
              "#ed7953"
             ],
             [
              0.7777777777777778,
              "#fb9f3a"
             ],
             [
              0.8888888888888888,
              "#fdca26"
             ],
             [
              1,
              "#f0f921"
             ]
            ],
            "type": "histogram2dcontour"
           }
          ],
          "mesh3d": [
           {
            "colorbar": {
             "outlinewidth": 0,
             "ticks": ""
            },
            "type": "mesh3d"
           }
          ],
          "parcoords": [
           {
            "line": {
             "colorbar": {
              "outlinewidth": 0,
              "ticks": ""
             }
            },
            "type": "parcoords"
           }
          ],
          "pie": [
           {
            "automargin": true,
            "type": "pie"
           }
          ],
          "scatter": [
           {
            "fillpattern": {
             "fillmode": "overlay",
             "size": 10,
             "solidity": 0.2
            },
            "type": "scatter"
           }
          ],
          "scatter3d": [
           {
            "line": {
             "colorbar": {
              "outlinewidth": 0,
              "ticks": ""
             }
            },
            "marker": {
             "colorbar": {
              "outlinewidth": 0,
              "ticks": ""
             }
            },
            "type": "scatter3d"
           }
          ],
          "scattercarpet": [
           {
            "marker": {
             "colorbar": {
              "outlinewidth": 0,
              "ticks": ""
             }
            },
            "type": "scattercarpet"
           }
          ],
          "scattergeo": [
           {
            "marker": {
             "colorbar": {
              "outlinewidth": 0,
              "ticks": ""
             }
            },
            "type": "scattergeo"
           }
          ],
          "scattergl": [
           {
            "marker": {
             "colorbar": {
              "outlinewidth": 0,
              "ticks": ""
             }
            },
            "type": "scattergl"
           }
          ],
          "scattermapbox": [
           {
            "marker": {
             "colorbar": {
              "outlinewidth": 0,
              "ticks": ""
             }
            },
            "type": "scattermapbox"
           }
          ],
          "scatterpolar": [
           {
            "marker": {
             "colorbar": {
              "outlinewidth": 0,
              "ticks": ""
             }
            },
            "type": "scatterpolar"
           }
          ],
          "scatterpolargl": [
           {
            "marker": {
             "colorbar": {
              "outlinewidth": 0,
              "ticks": ""
             }
            },
            "type": "scatterpolargl"
           }
          ],
          "scatterternary": [
           {
            "marker": {
             "colorbar": {
              "outlinewidth": 0,
              "ticks": ""
             }
            },
            "type": "scatterternary"
           }
          ],
          "surface": [
           {
            "colorbar": {
             "outlinewidth": 0,
             "ticks": ""
            },
            "colorscale": [
             [
              0,
              "#0d0887"
             ],
             [
              0.1111111111111111,
              "#46039f"
             ],
             [
              0.2222222222222222,
              "#7201a8"
             ],
             [
              0.3333333333333333,
              "#9c179e"
             ],
             [
              0.4444444444444444,
              "#bd3786"
             ],
             [
              0.5555555555555556,
              "#d8576b"
             ],
             [
              0.6666666666666666,
              "#ed7953"
             ],
             [
              0.7777777777777778,
              "#fb9f3a"
             ],
             [
              0.8888888888888888,
              "#fdca26"
             ],
             [
              1,
              "#f0f921"
             ]
            ],
            "type": "surface"
           }
          ],
          "table": [
           {
            "cells": {
             "fill": {
              "color": "#EBF0F8"
             },
             "line": {
              "color": "white"
             }
            },
            "header": {
             "fill": {
              "color": "#C8D4E3"
             },
             "line": {
              "color": "white"
             }
            },
            "type": "table"
           }
          ]
         },
         "layout": {
          "annotationdefaults": {
           "arrowcolor": "#2a3f5f",
           "arrowhead": 0,
           "arrowwidth": 1
          },
          "autotypenumbers": "strict",
          "coloraxis": {
           "colorbar": {
            "outlinewidth": 0,
            "ticks": ""
           }
          },
          "colorscale": {
           "diverging": [
            [
             0,
             "#8e0152"
            ],
            [
             0.1,
             "#c51b7d"
            ],
            [
             0.2,
             "#de77ae"
            ],
            [
             0.3,
             "#f1b6da"
            ],
            [
             0.4,
             "#fde0ef"
            ],
            [
             0.5,
             "#f7f7f7"
            ],
            [
             0.6,
             "#e6f5d0"
            ],
            [
             0.7,
             "#b8e186"
            ],
            [
             0.8,
             "#7fbc41"
            ],
            [
             0.9,
             "#4d9221"
            ],
            [
             1,
             "#276419"
            ]
           ],
           "sequential": [
            [
             0,
             "#0d0887"
            ],
            [
             0.1111111111111111,
             "#46039f"
            ],
            [
             0.2222222222222222,
             "#7201a8"
            ],
            [
             0.3333333333333333,
             "#9c179e"
            ],
            [
             0.4444444444444444,
             "#bd3786"
            ],
            [
             0.5555555555555556,
             "#d8576b"
            ],
            [
             0.6666666666666666,
             "#ed7953"
            ],
            [
             0.7777777777777778,
             "#fb9f3a"
            ],
            [
             0.8888888888888888,
             "#fdca26"
            ],
            [
             1,
             "#f0f921"
            ]
           ],
           "sequentialminus": [
            [
             0,
             "#0d0887"
            ],
            [
             0.1111111111111111,
             "#46039f"
            ],
            [
             0.2222222222222222,
             "#7201a8"
            ],
            [
             0.3333333333333333,
             "#9c179e"
            ],
            [
             0.4444444444444444,
             "#bd3786"
            ],
            [
             0.5555555555555556,
             "#d8576b"
            ],
            [
             0.6666666666666666,
             "#ed7953"
            ],
            [
             0.7777777777777778,
             "#fb9f3a"
            ],
            [
             0.8888888888888888,
             "#fdca26"
            ],
            [
             1,
             "#f0f921"
            ]
           ]
          },
          "colorway": [
           "#636efa",
           "#EF553B",
           "#00cc96",
           "#ab63fa",
           "#FFA15A",
           "#19d3f3",
           "#FF6692",
           "#B6E880",
           "#FF97FF",
           "#FECB52"
          ],
          "font": {
           "color": "#2a3f5f"
          },
          "geo": {
           "bgcolor": "white",
           "lakecolor": "white",
           "landcolor": "#E5ECF6",
           "showlakes": true,
           "showland": true,
           "subunitcolor": "white"
          },
          "hoverlabel": {
           "align": "left"
          },
          "hovermode": "closest",
          "mapbox": {
           "style": "light"
          },
          "paper_bgcolor": "white",
          "plot_bgcolor": "#E5ECF6",
          "polar": {
           "angularaxis": {
            "gridcolor": "white",
            "linecolor": "white",
            "ticks": ""
           },
           "bgcolor": "#E5ECF6",
           "radialaxis": {
            "gridcolor": "white",
            "linecolor": "white",
            "ticks": ""
           }
          },
          "scene": {
           "xaxis": {
            "backgroundcolor": "#E5ECF6",
            "gridcolor": "white",
            "gridwidth": 2,
            "linecolor": "white",
            "showbackground": true,
            "ticks": "",
            "zerolinecolor": "white"
           },
           "yaxis": {
            "backgroundcolor": "#E5ECF6",
            "gridcolor": "white",
            "gridwidth": 2,
            "linecolor": "white",
            "showbackground": true,
            "ticks": "",
            "zerolinecolor": "white"
           },
           "zaxis": {
            "backgroundcolor": "#E5ECF6",
            "gridcolor": "white",
            "gridwidth": 2,
            "linecolor": "white",
            "showbackground": true,
            "ticks": "",
            "zerolinecolor": "white"
           }
          },
          "shapedefaults": {
           "line": {
            "color": "#2a3f5f"
           }
          },
          "ternary": {
           "aaxis": {
            "gridcolor": "white",
            "linecolor": "white",
            "ticks": ""
           },
           "baxis": {
            "gridcolor": "white",
            "linecolor": "white",
            "ticks": ""
           },
           "bgcolor": "#E5ECF6",
           "caxis": {
            "gridcolor": "white",
            "linecolor": "white",
            "ticks": ""
           }
          },
          "title": {
           "x": 0.05
          },
          "xaxis": {
           "automargin": true,
           "gridcolor": "white",
           "linecolor": "white",
           "ticks": "",
           "title": {
            "standoff": 15
           },
           "zerolinecolor": "white",
           "zerolinewidth": 2
          },
          "yaxis": {
           "automargin": true,
           "gridcolor": "white",
           "linecolor": "white",
           "ticks": "",
           "title": {
            "standoff": 15
           },
           "zerolinecolor": "white",
           "zerolinewidth": 2
          }
         }
        },
        "title": {
         "text": "State visit count"
        },
        "xaxis": {
         "anchor": "y",
         "constrain": "domain",
         "domain": [
          0,
          1
         ],
         "scaleanchor": "y",
         "title": {
          "text": "1"
         }
        },
        "yaxis": {
         "anchor": "x",
         "autorange": "reversed",
         "constrain": "domain",
         "domain": [
          0,
          1
         ]
        }
       }
      }
     },
     "metadata": {},
     "output_type": "display_data"
    }
   ],
   "source": [
    "env_states, action_keys, obs, rewards, done, q1, q2 = double_rollout(key, TIME_STEPS, N_ACTIONS, GRID_SIZE, env, agent, policy)\n",
    "animated_heatmap(\n",
    "                 jnp.mean(jnp.array([q1,q2]), axis=0), \n",
    "                 dims=jnp.asarray(GRID_SIZE), \n",
    "                 agent_name=\"Double Q-learning\", \n",
    "                 sample_freq=1000, \n",
    "                 log_scale=False\n",
    "                )\n",
    "plot_path(obs)"
   ]
  },
  {
   "cell_type": "code",
   "execution_count": 4,
   "metadata": {},
   "outputs": [
    {
     "data": {
      "text/plain": [
       "Array(3256, dtype=int32)"
      ]
     },
     "execution_count": 4,
     "metadata": {},
     "output_type": "execute_result"
    }
   ],
   "source": [
    "rewards.sum()"
   ]
  }
 ],
 "metadata": {
  "kernelspec": {
   "display_name": "jax-rl-KPtyfD6I-py3.10",
   "language": "python",
   "name": "python3"
  },
  "language_info": {
   "codemirror_mode": {
    "name": "ipython",
    "version": 3
   },
   "file_extension": ".py",
   "mimetype": "text/x-python",
   "name": "python",
   "nbconvert_exporter": "python",
   "pygments_lexer": "ipython3",
   "version": "3.10.7"
  }
 },
 "nbformat": 4,
 "nbformat_minor": 2
}
