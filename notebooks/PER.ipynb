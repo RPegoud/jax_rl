{
 "cells": [
  {
   "cell_type": "code",
   "execution_count": 1,
   "metadata": {},
   "outputs": [
    {
     "name": "stderr",
     "output_type": "stream",
     "text": [
      "c:\\Users\\ryanp\\AppData\\Local\\pypoetry\\Cache\\virtualenvs\\jax-rl-KPtyfD6I-py3.10\\lib\\site-packages\\tqdm\\auto.py:21: TqdmWarning: IProgress not found. Please update jupyter and ipywidgets. See https://ipywidgets.readthedocs.io/en/stable/user_install.html\n",
      "  from .autonotebook import tqdm as notebook_tqdm\n"
     ]
    }
   ],
   "source": [
    "import sys\n",
    "import jax\n",
    "import jax.numpy as jnp\n",
    "import pandas as pd\n",
    "import plotly.express as px\n",
    "import plotly.graph_objects as go\n",
    "import optax\n",
    "import haiku as hk\n",
    "import plotly.graph_objects as go\n",
    "import numpy as np\n",
    "\n",
    "from functools import partial\n",
    "from jax import random, vmap, lax, tree_map\n",
    "from chex import dataclass\n",
    "from jax_tqdm import loop_tqdm\n",
    "from typing import Tuple, List, Dict\n",
    "\n",
    "sys.path.append(\"../\")\n",
    "from jym import (\n",
    "    Breakout,\n",
    "    DQN,\n",
    "    UniformReplayBuffer,\n",
    "    minatar_rollout,\n",
    "    SumTree,\n",
    "    Experience,\n",
    "    PrioritizedExperienceReplay,\n",
    ")"
   ]
  },
  {
   "cell_type": "code",
   "execution_count": 2,
   "metadata": {},
   "outputs": [
    {
     "data": {
      "text/plain": [
       "{'action': (64,),\n",
       " 'done': (64,),\n",
       " 'next_state': (64, 10, 10, 4),\n",
       " 'priority': (64,),\n",
       " 'reward': (64,),\n",
       " 'state': (64, 10, 10, 4)}"
      ]
     },
     "execution_count": 2,
     "metadata": {},
     "output_type": "execute_result"
    }
   ],
   "source": [
    "BUFFER_SIZE = 64\n",
    "BATCH_SIZE = 8\n",
    "DISCOUNT = 0.99\n",
    "STATE_SHAPE = (10, 10, 4)\n",
    "N_ACTIONS = 3\n",
    "RANDOM_SEED = 0\n",
    "\n",
    "CONV_LAYER_PARAMS = {\n",
    "    \"output_channels\": 16,\n",
    "    \"kernel_shape\": 3,\n",
    "    \"stride\": 1,\n",
    "}\n",
    "\n",
    "MLP_PARAMS = {\n",
    "    \"output_sizes\": [128, N_ACTIONS],\n",
    "    \"activation\": jax.nn.relu,\n",
    "    \"activate_final\": False,\n",
    "}\n",
    "\n",
    "OPTIMIZER_PARAMS = {\n",
    "    \"learning_rate\": 1e-4,\n",
    "    \"decay\": 0.95,  # named `smoothing constant` in the paper\n",
    "    \"centered\": True,\n",
    "    \"eps\": 10e-2,\n",
    "}\n",
    "\n",
    "EPSILON_DECAY_PARAMS = {\n",
    "    \"epsilon_start\": 0.1,\n",
    "    \"epsilon_end\": 0,\n",
    "    \"decay_period\": 100_000,\n",
    "}\n",
    "\n",
    "buffer_state = {\n",
    "    \"state\": jnp.empty((BUFFER_SIZE, *STATE_SHAPE), dtype=jnp.float32),\n",
    "    \"action\": jnp.empty((BUFFER_SIZE,), dtype=jnp.int32),\n",
    "    \"reward\": jnp.empty((BUFFER_SIZE,), dtype=jnp.int32),\n",
    "    \"next_state\": jnp.empty((BUFFER_SIZE, *STATE_SHAPE), dtype=jnp.float32),\n",
    "    \"done\": jnp.empty((BUFFER_SIZE,), dtype=jnp.bool_),\n",
    "    \"priority\": jnp.empty((BUFFER_SIZE), dtype=jnp.float32),\n",
    "}\n",
    "jax.tree_map(lambda x: x.shape, buffer_state)"
   ]
  },
  {
   "cell_type": "code",
   "execution_count": 3,
   "metadata": {},
   "outputs": [
    {
     "name": "stderr",
     "output_type": "stream",
     "text": [
      "c:\\Users\\ryanp\\AppData\\Local\\pypoetry\\Cache\\virtualenvs\\jax-rl-KPtyfD6I-py3.10\\lib\\site-packages\\jax\\_src\\ops\\scatter.py:94: FutureWarning: scatter inputs have incompatible types: cannot safely cast value from dtype=int32 to dtype=bool with jax_numpy_dtype_promotion='standard'. In future JAX releases this will result in an error.\n",
      "  warnings.warn(\n",
      "c:\\Users\\ryanp\\AppData\\Local\\pypoetry\\Cache\\virtualenvs\\jax-rl-KPtyfD6I-py3.10\\lib\\site-packages\\jax\\_src\\ops\\scatter.py:94: FutureWarning: scatter inputs have incompatible types: cannot safely cast value from dtype=float32 to dtype=bool with jax_numpy_dtype_promotion='standard'. In future JAX releases this will result in an error.\n",
      "  warnings.warn(\n"
     ]
    }
   ],
   "source": [
    "key = random.PRNGKey(0)\n",
    "env = Breakout()\n",
    "state, obs, env_key = env.reset(key)"
   ]
  },
  {
   "cell_type": "code",
   "execution_count": 4,
   "metadata": {},
   "outputs": [],
   "source": [
    "per = PrioritizedExperienceReplay(BUFFER_SIZE, BATCH_SIZE, 0.5, 0.5)\n",
    "tree_state = jnp.zeros(2 * BUFFER_SIZE - 1)\n",
    "\n",
    "\n",
    "@hk.transform\n",
    "def model(x):\n",
    "    \"\"\"\n",
    "    MinAtar version of DQN\n",
    "    ref: https://github.com/kenjyoung/MinAtar/blob/master/examples/dqn.py\n",
    "    \"\"\"\n",
    "    conv_layer = hk.Conv2D(**CONV_LAYER_PARAMS)\n",
    "    fc = hk.nets.MLP(**MLP_PARAMS)\n",
    "\n",
    "    x = jax.nn.relu(conv_layer(x))\n",
    "    x = x.reshape(-1)\n",
    "    return fc(x)\n",
    "\n",
    "\n",
    "def linear_decay(\n",
    "    epsilon_start: float,\n",
    "    epsilon_end: float,\n",
    "    current_step: int,\n",
    "    decay_period: int,\n",
    ") -> float:\n",
    "    decay_rate = (epsilon_start - epsilon_end) / decay_period\n",
    "    new_epsilon = epsilon_start - current_step * decay_rate\n",
    "    return jnp.maximum(jnp.float32(epsilon_end), new_epsilon)\n",
    "\n",
    "\n",
    "online_key, target_key = vmap(random.PRNGKey)(jnp.arange(2) + RANDOM_SEED)\n",
    "\n",
    "online_net_params = model.init(online_key, random.normal(online_key, env.obs_shape))\n",
    "target_net_params = model.init(target_key, random.normal(target_key, env.obs_shape))\n",
    "\n",
    "optimizer = optax.rmsprop(**OPTIMIZER_PARAMS)\n",
    "optimizer_state = optimizer.init(online_net_params)\n",
    "\n",
    "agent = DQN(model, DISCOUNT, len(env.actions))"
   ]
  },
  {
   "cell_type": "code",
   "execution_count": 5,
   "metadata": {},
   "outputs": [],
   "source": [
    "random_seed = 1\n",
    "timesteps = 10\n",
    "state_shape = (10, 10, 4)\n",
    "\n",
    "i = 0\n",
    "\n",
    "init_key, action_key, buffer_key = vmap(random.PRNGKey)(jnp.arange(3) + random_seed)\n",
    "state, obs, env_key = env.reset(init_key)\n",
    "all_actions = jnp.zeros([timesteps])\n",
    "all_obs = jnp.zeros([timesteps, *state_shape])\n",
    "all_rewards = jnp.zeros([timesteps], dtype=jnp.float32)\n",
    "all_done = jnp.zeros([timesteps], dtype=jnp.bool_)\n",
    "losses = jnp.zeros([timesteps], dtype=jnp.float32)\n",
    "\n",
    "model_params = model.init(init_key, jnp.zeros(state_shape))\n",
    "target_net_params = model.init(action_key, jnp.zeros(state_shape))\n",
    "optimizer_state = optimizer.init(model_params)\n",
    "replay_buffer = PrioritizedExperienceReplay(BUFFER_SIZE, BATCH_SIZE, 0.5, 0.5)"
   ]
  },
  {
   "cell_type": "code",
   "execution_count": 6,
   "metadata": {},
   "outputs": [
    {
     "name": "stderr",
     "output_type": "stream",
     "text": [
      "c:\\Users\\ryanp\\AppData\\Local\\pypoetry\\Cache\\virtualenvs\\jax-rl-KPtyfD6I-py3.10\\lib\\site-packages\\jax\\_src\\ops\\scatter.py:94: FutureWarning: scatter inputs have incompatible types: cannot safely cast value from dtype=int32 to dtype=bool with jax_numpy_dtype_promotion='standard'. In future JAX releases this will result in an error.\n",
      "  warnings.warn(\n",
      "c:\\Users\\ryanp\\AppData\\Local\\pypoetry\\Cache\\virtualenvs\\jax-rl-KPtyfD6I-py3.10\\lib\\site-packages\\jax\\_src\\ops\\scatter.py:94: FutureWarning: scatter inputs have incompatible types: cannot safely cast value from dtype=float32 to dtype=bool with jax_numpy_dtype_promotion='standard'. In future JAX releases this will result in an error.\n",
      "  warnings.warn(\n",
      "c:\\Users\\ryanp\\AppData\\Local\\pypoetry\\Cache\\virtualenvs\\jax-rl-KPtyfD6I-py3.10\\lib\\site-packages\\jax\\_src\\ops\\scatter.py:94: FutureWarning: scatter inputs have incompatible types: cannot safely cast value from dtype=float32 to dtype=int32 with jax_numpy_dtype_promotion='standard'. In future JAX releases this will result in an error.\n",
      "  warnings.warn(\n"
     ]
    }
   ],
   "source": [
    "for i in range(BUFFER_SIZE):\n",
    "    action, action_key = agent.act(action_key, model_params, obs, 1.0)\n",
    "    state, next_state, reward, done, env_key = env.step(state, env_key, action)\n",
    "    experience = Experience(\n",
    "        state=env._get_obs(state),\n",
    "        action=action,\n",
    "        reward=reward,\n",
    "        next_state=next_state,\n",
    "        done=done,\n",
    "    )\n",
    "\n",
    "    buffer_state, tree_state = replay_buffer.add(\n",
    "        tree_state, buffer_state, i, experience\n",
    "    )"
   ]
  },
  {
   "cell_type": "code",
   "execution_count": 7,
   "metadata": {},
   "outputs": [],
   "source": [
    "experiences_batch, sample_indexes, importance_weights, buffer_key = replay_buffer.sample(\n",
    "    buffer_key,\n",
    "    buffer_state,\n",
    "    tree_state,\n",
    ")"
   ]
  },
  {
   "cell_type": "code",
   "execution_count": 8,
   "metadata": {},
   "outputs": [
    {
     "data": {
      "text/plain": [
       "Array([-0.00016929, -0.01929694,  0.08988249,  0.05142684, -0.09290352,\n",
       "        0.0850728 ,  0.11186595,  0.09584332], dtype=float32)"
      ]
     },
     "execution_count": 8,
     "metadata": {},
     "output_type": "execute_result"
    }
   ],
   "source": [
    "@partial(vmap, in_axes=(None, None, None, None))\n",
    "def compute_td_error(\n",
    "    model: hk.Transformed,\n",
    "    online_net_params: dict,\n",
    "    target_net_params: dict,\n",
    "    discount: float,\n",
    "    state: jnp.ndarray,\n",
    "    action: jnp.ndarray,\n",
    "    reward: jnp.ndarray,\n",
    "    next_state: jnp.ndarray,\n",
    "    done: jnp.ndarray,\n",
    "    priority: jnp.ndarray,  # unused\n",
    ") -> List[float]:\n",
    "    td_target = (\n",
    "        (1 - done)\n",
    "        * discount\n",
    "        * jnp.max(model.apply(target_net_params, None, next_state))\n",
    "    )\n",
    "    prediction = model.apply(online_net_params, None, state)[action]\n",
    "    return reward + td_target - prediction\n",
    "\n",
    "\n",
    "td_errors = compute_td_error(\n",
    "    model, online_net_params, target_net_params, DISCOUNT, **experiences_batch\n",
    ")\n",
    "td_errors"
   ]
  },
  {
   "cell_type": "code",
   "execution_count": 9,
   "metadata": {},
   "outputs": [
    {
     "data": {
      "text/plain": [
       "Array([ 5.63217201e+01,  2.90928230e+01,  2.72288990e+01,  1.50898829e+01,\n",
       "        1.40029402e+01,  1.21438265e+01,  1.50850725e+01,  8.00000000e+00,\n",
       "        7.08988237e+00,  8.00000000e+00,  6.00293970e+00,  6.11169672e+00,\n",
       "        6.03213024e+00,  8.00000000e+00,  7.08507299e+00,  4.00000000e+00,\n",
       "        4.00000000e+00,  3.08988237e+00,  4.00000000e+00,  4.00000000e+00,\n",
       "        4.00000000e+00,  4.00000000e+00,  2.00293970e+00,  4.00000000e+00,\n",
       "        2.11169672e+00,  3.05142689e+00,  2.98070312e+00,  4.00000000e+00,\n",
       "        4.00000000e+00,  4.00000000e+00,  3.08507276e+00,  2.00000000e+00,\n",
       "        2.00000000e+00,  2.00000000e+00,  2.00000000e+00,  2.00000000e+00,\n",
       "        1.08988249e+00,  2.00000000e+00,  2.00000000e+00,  2.00000000e+00,\n",
       "        2.00000000e+00,  2.00000000e+00,  2.00000000e+00,  2.00000000e+00,\n",
       "        2.00000000e+00,  2.93982029e-03,  2.00000000e+00,  2.00000000e+00,\n",
       "        2.00000000e+00,  9.99830723e-01,  1.11186600e+00,  2.00000000e+00,\n",
       "        1.05142689e+00,  9.80703115e-01,  2.00000000e+00,  2.00000000e+00,\n",
       "        2.00000000e+00,  2.00000000e+00,  2.00000000e+00,  2.00000000e+00,\n",
       "        2.00000000e+00,  1.08507276e+00,  2.00000000e+00,  1.00000000e+00,\n",
       "        1.00000000e+00,  1.00000000e+00,  1.00000000e+00,  1.00000000e+00,\n",
       "        1.00000000e+00,  1.00000000e+00,  1.00000000e+00,  1.00000000e+00,\n",
       "        1.00000000e+00,  8.98824856e-02,  1.00000000e+00,  1.00000000e+00,\n",
       "        1.00000000e+00,  1.00000000e+00,  1.00000000e+00,  1.00000000e+00,\n",
       "        1.00000000e+00,  1.00000000e+00,  1.00000000e+00,  1.00000000e+00,\n",
       "        1.00000000e+00,  1.00000000e+00,  1.00000000e+00,  1.00000000e+00,\n",
       "        1.00000000e+00,  1.00000000e+00,  1.00000000e+00, -9.29035246e-02,\n",
       "        9.58433151e-02,  1.00000000e+00,  1.00000000e+00,  1.00000000e+00,\n",
       "        1.00000000e+00,  1.00000000e+00,  1.00000000e+00, -1.69288600e-04,\n",
       "        1.00000000e+00,  1.11865953e-01,  1.00000000e+00,  1.00000000e+00,\n",
       "        1.00000000e+00,  5.14268391e-02,  1.00000000e+00, -1.92969386e-02,\n",
       "        1.00000000e+00,  1.00000000e+00,  1.00000000e+00,  1.00000000e+00,\n",
       "        1.00000000e+00,  1.00000000e+00,  1.00000000e+00,  1.00000000e+00,\n",
       "        1.00000000e+00,  1.00000000e+00,  1.00000000e+00,  1.00000000e+00,\n",
       "        1.00000000e+00,  1.00000000e+00,  1.00000000e+00,  1.00000000e+00,\n",
       "        8.50728005e-02,  1.00000000e+00,  1.00000000e+00], dtype=float32)"
      ]
     },
     "execution_count": 9,
     "metadata": {},
     "output_type": "execute_result"
    }
   ],
   "source": [
    "sum_tree = SumTree(BUFFER_SIZE, BATCH_SIZE)\n"
   ]
  }
 ],
 "metadata": {
  "kernelspec": {
   "display_name": "jax-rl-KPtyfD6I-py3.10",
   "language": "python",
   "name": "python3"
  },
  "language_info": {
   "codemirror_mode": {
    "name": "ipython",
    "version": 3
   },
   "file_extension": ".py",
   "mimetype": "text/x-python",
   "name": "python",
   "nbconvert_exporter": "python",
   "pygments_lexer": "ipython3",
   "version": "3.10.7"
  }
 },
 "nbformat": 4,
 "nbformat_minor": 2
}
