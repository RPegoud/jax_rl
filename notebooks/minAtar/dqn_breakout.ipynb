{
 "cells": [
  {
   "cell_type": "markdown",
   "metadata": {},
   "source": [
    "# ***Breakout with DQN***\n",
    "\n",
    "<div align=\"center\">\n",
    "    <img src=\"https://gymnasium.farama.org/_images/breakout.gif\">\n",
    "</div>\n",
    "\n",
    "## ***References***:\n",
    "* [Minatar](https://github.com/kenjyoung/MinAtar/blob/master/minatar/environments/breakout.py)\n",
    "* [Gymnax](https://github.com/RobertTLange/gymnax/blob/main/gymnax/environments/minatar/breakout.py)\n",
    "* [Gymnasium](https://gymnasium.farama.org/environments/atari/breakout/)"
   ]
  },
  {
   "cell_type": "code",
   "execution_count": 1,
   "metadata": {},
   "outputs": [
    {
     "name": "stderr",
     "output_type": "stream",
     "text": [
      "c:\\Users\\ryanp\\AppData\\Local\\pypoetry\\Cache\\virtualenvs\\jax-rl-KPtyfD6I-py3.10\\lib\\site-packages\\tqdm\\auto.py:21: TqdmWarning: IProgress not found. Please update jupyter and ipywidgets. See https://ipywidgets.readthedocs.io/en/stable/user_install.html\n",
      "  from .autonotebook import tqdm as notebook_tqdm\n"
     ]
    }
   ],
   "source": [
    "import jax\n",
    "import jax.numpy as jnp\n",
    "import pandas as pd\n",
    "import plotly.express as px\n",
    "import plotly.graph_objects as go\n",
    "import optax\n",
    "import haiku as hk\n",
    "import plotly.graph_objects as go\n",
    "import numpy as np\n",
    "\n",
    "from jax import random, vmap, lax\n",
    "\n",
    "from jax_tqdm import loop_tqdm\n",
    "\n",
    "import sys\n",
    "\n",
    "sys.path.append(\"../../\")\n",
    "\n",
    "from src import Breakout, DQN, UniformReplayBuffer, deep_rl_rollout"
   ]
  },
  {
   "cell_type": "code",
   "execution_count": 40,
   "metadata": {},
   "outputs": [],
   "source": [
    "# MinAtar Breakout params\n",
    "BATCH_SIZE = 32\n",
    "REPLAY_BUFFER_SIZE = 100_000\n",
    "TARGET_NETWORK_UPDATE_FREQ = 1000\n",
    "TRAINING_FREQ = 1\n",
    "NUM_FRAMES = 5_000_000\n",
    "FIRST_N_FRAMES = 100_000\n",
    "REPLAY_START_SIZE = 5000\n",
    "END_EPSILON = 0.1\n",
    "LEARNING_RATE = 0.00025\n",
    "GRAD_MOMENTUM = 0.95\n",
    "SQUARED_GRAD_MOMENTUM = 0.95\n",
    "MIN_SQUARED_GRAD = 0.01\n",
    "DISCOUNT = 0.99\n",
    "EPSILON = 1.0\n",
    "\n",
    "# other params\n",
    "RANDOM_SEED = 0"
   ]
  },
  {
   "cell_type": "code",
   "execution_count": 42,
   "metadata": {},
   "outputs": [
    {
     "data": {
      "text/plain": [
       "{'conv2_d': {'b': (16,), 'w': (3, 3, 4, 16)},\n",
       " 'mlp/~/linear_0': {'b': (128,), 'w': (1600, 128)},\n",
       " 'mlp/~/linear_1': {'b': (3,), 'w': (128, 3)}}"
      ]
     },
     "execution_count": 42,
     "metadata": {},
     "output_type": "execute_result"
    }
   ],
   "source": [
    "key = random.PRNGKey(0)\n",
    "env = Breakout()\n",
    "\n",
    "\n",
    "@hk.transform\n",
    "def model(x):\n",
    "    \"\"\"\n",
    "    MinAtar version of DQN\n",
    "    ref: https://github.com/kenjyoung/MinAtar/blob/master/examples/dqn.py\n",
    "    \"\"\"\n",
    "    conv_layer = hk.Conv2D(output_channels=16, kernel_shape=3, stride=1)\n",
    "    fc = hk.nets.MLP(\n",
    "        output_sizes=[128, env.n_actions],\n",
    "        activation=jax.nn.relu,\n",
    "        activate_final=False,\n",
    "    )\n",
    "\n",
    "    x = jax.nn.relu(conv_layer(x))\n",
    "    x = x.reshape(-1)\n",
    "    return fc(x)\n",
    "\n",
    "\n",
    "online_key, target_key = vmap(random.PRNGKey)(jnp.arange(2) + RANDOM_SEED)\n",
    "online_net_params = model.init(online_key, random.normal(online_key, env.obs_shape))\n",
    "target_net_params = model.init(target_key, random.normal(target_key, env.obs_shape))\n",
    "jax.tree_map(lambda x: x.shape, online_net_params)"
   ]
  },
  {
   "cell_type": "code",
   "execution_count": 44,
   "metadata": {},
   "outputs": [
    {
     "data": {
      "text/plain": [
       "Array([ 0.0912613 , -0.10809293, -0.02150637], dtype=float32)"
      ]
     },
     "execution_count": 44,
     "metadata": {},
     "output_type": "execute_result"
    }
   ],
   "source": [
    "state, env_state = env.reset(key)\n",
    "model.apply(online_net_params, None, state)"
   ]
  }
 ],
 "metadata": {
  "kernelspec": {
   "display_name": "jax-rl-KPtyfD6I-py3.10",
   "language": "python",
   "name": "python3"
  },
  "language_info": {
   "codemirror_mode": {
    "name": "ipython",
    "version": 3
   },
   "file_extension": ".py",
   "mimetype": "text/x-python",
   "name": "python",
   "nbconvert_exporter": "python",
   "pygments_lexer": "ipython3",
   "version": "3.10.7"
  }
 },
 "nbformat": 4,
 "nbformat_minor": 2
}
