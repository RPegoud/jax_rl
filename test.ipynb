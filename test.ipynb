{
 "cells": [
  {
   "cell_type": "code",
   "execution_count": 1,
   "metadata": {},
   "outputs": [
    {
     "name": "stderr",
     "output_type": "stream",
     "text": [
      "c:\\Users\\ryanp\\AppData\\Local\\pypoetry\\Cache\\virtualenvs\\grind-arc--jAx_NNy-py3.10\\lib\\site-packages\\tqdm\\auto.py:21: TqdmWarning: IProgress not found. Please update jupyter and ipywidgets. See https://ipywidgets.readthedocs.io/en/stable/user_install.html\n",
      "  from .autonotebook import tqdm as notebook_tqdm\n"
     ]
    }
   ],
   "source": [
    "import jax\n",
    "import jax.numpy as jnp\n",
    "import pandas as pd\n",
    "import plotly.express as px\n",
    "\n",
    "from jax import random, lax, jit, vmap, pmap\n",
    "from tqdm.auto import tqdm\n",
    "from functools import partial\n",
    "\n",
    "from policies import BasePolicy\n",
    "from agents import Q_learning\n",
    "from envs import GridWorld\n",
    "from policies import EpsilonGreedy"
   ]
  },
  {
   "cell_type": "code",
   "execution_count": 2,
   "metadata": {},
   "outputs": [
    {
     "name": "stderr",
     "output_type": "stream",
     "text": [
      "No GPU/TPU found, falling back to CPU. (Set TF_CPP_MIN_LOG_LEVEL=0 and rerun for more info.)\n"
     ]
    }
   ],
   "source": [
    "SEED = 2\n",
    "GRID_DIM = jnp.array([8, 8])\n",
    "INITIAL_STATE = jnp.array([8, 8])\n",
    "GOAL_STATE = jnp.array([0, 0])\n",
    "GRID_SIZE = jnp.array([8, 8])\n",
    "N_STATES = jnp.prod(GRID_DIM)\n",
    "N_ACTIONS = 4\n",
    "DISCOUNT = 0.9\n",
    "LEARNING_RATE = 0.1\n",
    "\n",
    "key = random.PRNGKey(SEED)\n",
    "\n",
    "env = GridWorld(INITIAL_STATE, GOAL_STATE, GRID_SIZE)\n",
    "policy = EpsilonGreedy(0.1)\n",
    "agent = Q_learning(\n",
    "    key,\n",
    "    N_STATES,\n",
    "    N_ACTIONS,\n",
    "    DISCOUNT,\n",
    "    LEARNING_RATE,\n",
    "    policy,\n",
    ")\n",
    "\n",
    "q_values = jnp.zeros([GRID_SIZE[0], GRID_SIZE[1], N_ACTIONS], dtype=jnp.float32)\n",
    "movements = jnp.array([[0, 1], [1, 0], [0, -1], [-1, 0]])\n",
    "\n",
    "env_state, obs = env.reset(key) \n",
    "done = False\n",
    "\n",
    "steps = []"
   ]
  },
  {
   "cell_type": "markdown",
   "metadata": {},
   "source": [
    "@jit\n",
    "def train_one_episode(key, q_values, env_state):\n",
    "    def cond_fun(loop_vars):\n",
    "        _, _, _, done = loop_vars\n",
    "        return ~done  # Continue looping while not done\n",
    "    \n",
    "    def body_fun(loop_vars):\n",
    "        key, q_values, env_state, _ = loop_vars\n",
    "        state, _ = env_state\n",
    "        action, key = policy(key, N_ACTIONS, q_values[tuple(state)])\n",
    "        movement = movements[action]\n",
    "        env_state, obs, reward, done_ = env.step(env_state, movement)\n",
    "        q_values = agent.update(state, action, reward, done_, obs, q_values)\n",
    "        return key, q_values, env_state, done_\n",
    "    \n",
    "    initial_state = key, q_values, env_state, jnp.array(False)\n",
    "    final_state = lax.while_loop(cond_fun, body_fun, initial_state)\n",
    "    return final_state[:3]  # Drop the `done` variable\n",
    "\n",
    "train_one_episode(key, q_values, env_state)\n"
   ]
  },
  {
   "cell_type": "code",
   "execution_count": 3,
   "metadata": {},
   "outputs": [
    {
     "name": "stderr",
     "output_type": "stream",
     "text": [
      "  0%|          | 0/400 [00:00<?, ?it/s]"
     ]
    },
    {
     "name": "stderr",
     "output_type": "stream",
     "text": [
      "  0%|          | 0/400 [00:00<?, ?it/s]\n"
     ]
    },
    {
     "name": "stdout",
     "output_type": "stream",
     "text": [
      "[0. 0. 0. 0.]\n"
     ]
    },
    {
     "ename": "ValueError",
     "evalue": "Non-hashable static arguments are not supported. An error occurred during a call to 'call' while trying to hash an object of type <class 'jaxlib.xla_extension.ArrayImpl'>, [8 8]. The error was:\nTypeError: unhashable type: 'ArrayImpl'\n",
     "output_type": "error",
     "traceback": [
      "\u001b[1;31m---------------------------------------------------------------------------\u001b[0m",
      "\u001b[1;31mValueError\u001b[0m                                Traceback (most recent call last)",
      "\u001b[1;32mc:\\Users\\ryanp\\OneDrive\\Bureau\\Taff\\grind_arc\\src\\jax_rl\\test.ipynb Cell 4\u001b[0m line \u001b[0;36m8\n\u001b[0;32m      <a href='vscode-notebook-cell:/c%3A/Users/ryanp/OneDrive/Bureau/Taff/grind_arc/src/jax_rl/test.ipynb#W3sZmlsZQ%3D%3D?line=5'>6</a>\u001b[0m state, _ \u001b[39m=\u001b[39m env_state\n\u001b[0;32m      <a href='vscode-notebook-cell:/c%3A/Users/ryanp/OneDrive/Bureau/Taff/grind_arc/src/jax_rl/test.ipynb#W3sZmlsZQ%3D%3D?line=6'>7</a>\u001b[0m \u001b[39mprint\u001b[39m(q_values[\u001b[39mtuple\u001b[39m(state)])\n\u001b[1;32m----> <a href='vscode-notebook-cell:/c%3A/Users/ryanp/OneDrive/Bureau/Taff/grind_arc/src/jax_rl/test.ipynb#W3sZmlsZQ%3D%3D?line=7'>8</a>\u001b[0m action, key \u001b[39m=\u001b[39m policy(key, N_ACTIONS, state, q_values)\n\u001b[0;32m      <a href='vscode-notebook-cell:/c%3A/Users/ryanp/OneDrive/Bureau/Taff/grind_arc/src/jax_rl/test.ipynb#W3sZmlsZQ%3D%3D?line=8'>9</a>\u001b[0m movement \u001b[39m=\u001b[39m movements[action]\n\u001b[0;32m     <a href='vscode-notebook-cell:/c%3A/Users/ryanp/OneDrive/Bureau/Taff/grind_arc/src/jax_rl/test.ipynb#W3sZmlsZQ%3D%3D?line=9'>10</a>\u001b[0m env_state, obs, reward, done \u001b[39m=\u001b[39m env\u001b[39m.\u001b[39mstep(env_state, movement)\n",
      "File \u001b[1;32mc:\\Users\\ryanp\\OneDrive\\Bureau\\Taff\\grind_arc\\src\\jax_rl\\policies\\base_policy.py:10\u001b[0m, in \u001b[0;36mBasePolicy.__call__\u001b[1;34m(self, *args, **kwargs)\u001b[0m\n\u001b[0;32m      9\u001b[0m \u001b[39mdef\u001b[39;00m \u001b[39m__call__\u001b[39m(\u001b[39mself\u001b[39m, \u001b[39m*\u001b[39margs: Any, \u001b[39m*\u001b[39m\u001b[39m*\u001b[39mkwargs: Any) \u001b[39m-\u001b[39m\u001b[39m>\u001b[39m Any:\n\u001b[1;32m---> 10\u001b[0m     \u001b[39mreturn\u001b[39;00m \u001b[39mself\u001b[39m\u001b[39m.\u001b[39mcall(\u001b[39m*\u001b[39margs, \u001b[39m*\u001b[39m\u001b[39m*\u001b[39mkwargs)\n",
      "\u001b[1;31mValueError\u001b[0m: Non-hashable static arguments are not supported. An error occurred during a call to 'call' while trying to hash an object of type <class 'jaxlib.xla_extension.ArrayImpl'>, [8 8]. The error was:\nTypeError: unhashable type: 'ArrayImpl'\n"
     ]
    }
   ],
   "source": [
    "\n",
    "for _ in tqdm(range(400)):\n",
    "    done = False\n",
    "    n_steps = 0\n",
    "\n",
    "    while not done:\n",
    "        state, _ = env_state\n",
    "        action, key = policy(key, N_ACTIONS, q_values[tuple(state)])\n",
    "        movement = movements[action]\n",
    "        env_state, obs, reward, done = env.step(env_state, movement)\n",
    "\n",
    "        q_values = agent.update(state, action, reward, done, obs, q_values)\n",
    "        n_steps+=1\n",
    "    steps.append(n_steps)\n",
    "\n",
    "\n",
    "px.imshow(pd.DataFrame(jnp.max(q_values, axis=2)).round(2))"
   ]
  },
  {
   "cell_type": "code",
   "execution_count": null,
   "metadata": {},
   "outputs": [],
   "source": [
    "v_step = jit(vmap(env.step, \n",
    "                  in_axes=((0, 0), 0), # ((env_state), action)\n",
    "                  out_axes=((0, 0), 0, 0, 0), # ((env_state), obs, reward, done)\n",
    "                  axis_name=\"batch_axis\"\n",
    "                  ))\n",
    "\n",
    "v_reset = jit(vmap(env.reset,\n",
    "                   out_axes=((0,0), 0), # ((env_state), obs)\n",
    "                   axis_name=\"batch_axis\"\n",
    "                   ))\n",
    "\n",
    "v_policy = jit(vmap(policy.call,\n",
    "                    in_axes= (0, None, 3),\n",
    "                    out_axes= (0, 0),\n",
    "                    axis_name=\"batch_axis\"\n",
    "                    ),\n",
    "                    static_argnums=(1)\n",
    "            )"
   ]
  },
  {
   "cell_type": "code",
   "execution_count": null,
   "metadata": {},
   "outputs": [],
   "source": [
    "def _greedy_action_fn(subkey, state, q_values):\n",
    "    \"\"\"\n",
    "    Selects the greedy action with random tie-break\n",
    "    \"\"\"\n",
    "    q_max = jnp.max(q_values[tuple(state)])\n",
    "    q_max_mask = jnp.equal(q_values, q_max)\n",
    "    p = q_max_mask / jnp.sum(q_max_mask)\n",
    "    jax.debug.print(\"{x}\", x=p.shape)\n",
    "    choice = random.choice(subkey, jnp.arange(q_values.shape[-1]), p=p)\n",
    "    return jnp.int32(choice)\n",
    "batch_greedy_action_fn = vmap(_greedy_action_fn, in_axes=(0, 0, 3))"
   ]
  },
  {
   "cell_type": "code",
   "execution_count": null,
   "metadata": {},
   "outputs": [
    {
     "ename": "ValueError",
     "evalue": "vmap got inconsistent sizes for array axes to be mapped:\n  * most axes (2 of them) had size 10, e.g. axis 0 of argument subkey of type uint32[10,2];\n  * one axis had size 2: axis 0 of argument state of type int32[2]",
     "output_type": "error",
     "traceback": [
      "\u001b[1;31m---------------------------------------------------------------------------\u001b[0m",
      "\u001b[1;31mValueError\u001b[0m                                Traceback (most recent call last)",
      "\u001b[1;32mc:\\Users\\ryanp\\OneDrive\\Bureau\\Taff\\grind_arc\\src\\jax_rl\\test.ipynb Cell 7\u001b[0m line \u001b[0;36m1\n\u001b[1;32m----> <a href='vscode-notebook-cell:/c%3A/Users/ryanp/OneDrive/Bureau/Taff/grind_arc/src/jax_rl/test.ipynb#X16sZmlsZQ%3D%3D?line=0'>1</a>\u001b[0m batch_greedy_action_fn(keys, state, q_values)\n",
      "    \u001b[1;31m[... skipping hidden 2 frame]\u001b[0m\n",
      "File \u001b[1;32mc:\\Users\\ryanp\\AppData\\Local\\pypoetry\\Cache\\virtualenvs\\grind-arc--jAx_NNy-py3.10\\lib\\site-packages\\jax\\_src\\api.py:1340\u001b[0m, in \u001b[0;36m_mapped_axis_size\u001b[1;34m(fn, tree, vals, dims, name)\u001b[0m\n\u001b[0;32m   1338\u001b[0m   \u001b[39melse\u001b[39;00m:\n\u001b[0;32m   1339\u001b[0m     msg\u001b[39m.\u001b[39mappend(\u001b[39mf\u001b[39m\u001b[39m\"\u001b[39m\u001b[39m  * some axes (\u001b[39m\u001b[39m{\u001b[39;00mct\u001b[39m}\u001b[39;00m\u001b[39m of them) had size \u001b[39m\u001b[39m{\u001b[39;00msz\u001b[39m}\u001b[39;00m\u001b[39m, e.g. axis \u001b[39m\u001b[39m{\u001b[39;00max\u001b[39m}\u001b[39;00m\u001b[39m of \u001b[39m\u001b[39m{\u001b[39;00mex\u001b[39m}\u001b[39;00m\u001b[39m;\u001b[39m\u001b[39m\\n\u001b[39;00m\u001b[39m\"\u001b[39m)\n\u001b[1;32m-> 1340\u001b[0m \u001b[39mraise\u001b[39;00m \u001b[39mValueError\u001b[39;00m(\u001b[39m'\u001b[39m\u001b[39m'\u001b[39m\u001b[39m.\u001b[39mjoin(msg)[:\u001b[39m-\u001b[39m\u001b[39m2\u001b[39m])\n",
      "\u001b[1;31mValueError\u001b[0m: vmap got inconsistent sizes for array axes to be mapped:\n  * most axes (2 of them) had size 10, e.g. axis 0 of argument subkey of type uint32[10,2];\n  * one axis had size 2: axis 0 of argument state of type int32[2]"
     ]
    }
   ],
   "source": [
    "batch_greedy_action_fn(keys, state, q_values)"
   ]
  },
  {
   "cell_type": "code",
   "execution_count": null,
   "metadata": {},
   "outputs": [
    {
     "ename": "ValueError",
     "evalue": "p must be None or match the shape of a",
     "output_type": "error",
     "traceback": [
      "\u001b[1;31m---------------------------------------------------------------------------\u001b[0m",
      "\u001b[1;31mValueError\u001b[0m                                Traceback (most recent call last)",
      "\u001b[1;32mc:\\Users\\ryanp\\OneDrive\\Bureau\\Taff\\grind_arc\\src\\jax_rl\\test.ipynb Cell 6\u001b[0m line \u001b[0;36m8\n\u001b[0;32m      <a href='vscode-notebook-cell:/c%3A/Users/ryanp/OneDrive/Bureau/Taff/grind_arc/src/jax_rl/test.ipynb#W6sZmlsZQ%3D%3D?line=3'>4</a>\u001b[0m env_state, obs \u001b[39m=\u001b[39m v_reset(keys)\n\u001b[0;32m      <a href='vscode-notebook-cell:/c%3A/Users/ryanp/OneDrive/Bureau/Taff/grind_arc/src/jax_rl/test.ipynb#W6sZmlsZQ%3D%3D?line=4'>5</a>\u001b[0m q_values \u001b[39m=\u001b[39m jnp\u001b[39m.\u001b[39mzeros([GRID_SIZE[\u001b[39m0\u001b[39m], GRID_SIZE[\u001b[39m1\u001b[39m], N_ACTIONS, NUM_ENV], dtype\u001b[39m=\u001b[39mjnp\u001b[39m.\u001b[39mfloat32)\n\u001b[1;32m----> <a href='vscode-notebook-cell:/c%3A/Users/ryanp/OneDrive/Bureau/Taff/grind_arc/src/jax_rl/test.ipynb#W6sZmlsZQ%3D%3D?line=7'>8</a>\u001b[0m action \u001b[39m=\u001b[39m v_policy(keys, N_ACTIONS, q_values) \u001b[39m#random.randint(keys[0], (NUM_ENV, ), 0, N_ACTIONS)\u001b[39;00m\n\u001b[0;32m      <a href='vscode-notebook-cell:/c%3A/Users/ryanp/OneDrive/Bureau/Taff/grind_arc/src/jax_rl/test.ipynb#W6sZmlsZQ%3D%3D?line=8'>9</a>\u001b[0m env_state,obs, reward, done \u001b[39m=\u001b[39m v_step(env_state, action)\n",
      "    \u001b[1;31m[... skipping hidden 27 frame]\u001b[0m\n",
      "File \u001b[1;32mc:\\Users\\ryanp\\OneDrive\\Bureau\\Taff\\grind_arc\\src\\jax_rl\\policies\\epsilon_greedy.py:34\u001b[0m, in \u001b[0;36mEpsilonGreedy.call\u001b[1;34m(self, key, n_actions, q_values)\u001b[0m\n\u001b[0;32m     32\u001b[0m explore \u001b[39m=\u001b[39m random\u001b[39m.\u001b[39muniform(key) \u001b[39m<\u001b[39m \u001b[39mself\u001b[39m\u001b[39m.\u001b[39mepsilon\n\u001b[0;32m     33\u001b[0m key, subkey \u001b[39m=\u001b[39m random\u001b[39m.\u001b[39msplit(key)\n\u001b[1;32m---> 34\u001b[0m action \u001b[39m=\u001b[39m lax\u001b[39m.\u001b[39;49mcond(\n\u001b[0;32m     35\u001b[0m     explore,\n\u001b[0;32m     36\u001b[0m     _random_action_fn,\n\u001b[0;32m     37\u001b[0m     _greedy_action_fn,\n\u001b[0;32m     38\u001b[0m     operand\u001b[39m=\u001b[39;49msubkey,\n\u001b[0;32m     39\u001b[0m )\n\u001b[0;32m     41\u001b[0m \u001b[39mreturn\u001b[39;00m action, subkey\n",
      "    \u001b[1;31m[... skipping hidden 13 frame]\u001b[0m\n",
      "File \u001b[1;32mc:\\Users\\ryanp\\OneDrive\\Bureau\\Taff\\grind_arc\\src\\jax_rl\\policies\\epsilon_greedy.py:29\u001b[0m, in \u001b[0;36mEpsilonGreedy.call.<locals>._greedy_action_fn\u001b[1;34m(subkey)\u001b[0m\n\u001b[0;32m     27\u001b[0m q_max_mask \u001b[39m=\u001b[39m jnp\u001b[39m.\u001b[39mequal(q_values, q_max)\n\u001b[0;32m     28\u001b[0m p \u001b[39m=\u001b[39m q_max_mask \u001b[39m/\u001b[39m q_max_mask\u001b[39m.\u001b[39msum()\n\u001b[1;32m---> 29\u001b[0m choice \u001b[39m=\u001b[39m random\u001b[39m.\u001b[39;49mchoice(subkey, jnp\u001b[39m.\u001b[39;49marange(n_actions), p\u001b[39m=\u001b[39;49mp)\n\u001b[0;32m     30\u001b[0m \u001b[39mreturn\u001b[39;00m jnp\u001b[39m.\u001b[39mint32(choice)\n",
      "File \u001b[1;32mc:\\Users\\ryanp\\AppData\\Local\\pypoetry\\Cache\\virtualenvs\\grind-arc--jAx_NNy-py3.10\\lib\\site-packages\\jax\\_src\\random.py:606\u001b[0m, in \u001b[0;36mchoice\u001b[1;34m(key, a, shape, replace, p, axis)\u001b[0m\n\u001b[0;32m    604\u001b[0m p_arr, \u001b[39m=\u001b[39m promote_dtypes_inexact(p)\n\u001b[0;32m    605\u001b[0m \u001b[39mif\u001b[39;00m p_arr\u001b[39m.\u001b[39mshape \u001b[39m!=\u001b[39m (n_inputs,):\n\u001b[1;32m--> 606\u001b[0m   \u001b[39mraise\u001b[39;00m \u001b[39mValueError\u001b[39;00m(\u001b[39m\"\u001b[39m\u001b[39mp must be None or match the shape of a\u001b[39m\u001b[39m\"\u001b[39m)\n\u001b[0;32m    607\u001b[0m \u001b[39mif\u001b[39;00m replace:\n\u001b[0;32m    608\u001b[0m   p_cuml \u001b[39m=\u001b[39m jnp\u001b[39m.\u001b[39mcumsum(p_arr)\n",
      "\u001b[1;31mValueError\u001b[0m: p must be None or match the shape of a"
     ]
    }
   ],
   "source": [
    "NUM_ENV = 10\n",
    "key = random.PRNGKey(SEED)\n",
    "keys = random.split(key, NUM_ENV)\n",
    "env_state, obs = v_reset(keys)\n",
    "q_values = jnp.zeros([GRID_SIZE[0], GRID_SIZE[1], N_ACTIONS, NUM_ENV], dtype=jnp.float32)\n",
    "\n",
    "\n",
    "action = v_policy(keys, N_ACTIONS, q_values)\n",
    "env_state,obs, reward, done = v_step(env_state, action)"
   ]
  },
  {
   "cell_type": "code",
   "execution_count": null,
   "metadata": {},
   "outputs": [],
   "source": []
  }
 ],
 "metadata": {
  "kernelspec": {
   "display_name": "grind-arc--jAx_NNy-py3.10",
   "language": "python",
   "name": "python3"
  },
  "language_info": {
   "codemirror_mode": {
    "name": "ipython",
    "version": 3
   },
   "file_extension": ".py",
   "mimetype": "text/x-python",
   "name": "python",
   "nbconvert_exporter": "python",
   "pygments_lexer": "ipython3",
   "version": "3.10.7"
  },
  "orig_nbformat": 4
 },
 "nbformat": 4,
 "nbformat_minor": 2
}
