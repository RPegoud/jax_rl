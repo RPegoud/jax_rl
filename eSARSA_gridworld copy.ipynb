{
 "cells": [
  {
   "cell_type": "markdown",
   "metadata": {},
   "source": [
    "# ⚡***Lightning fast parallelized training with*** <img src='https://upload.wikimedia.org/wikipedia/commons/8/86/Google_JAX_logo.svg' alt=\"Environment\" width=\"60\" />\n",
    "\n",
    "## **2) Expected SARSA with Softmax policy on a GridWorld**"
   ]
  },
  {
   "cell_type": "code",
   "execution_count": 1,
   "metadata": {},
   "outputs": [
    {
     "name": "stderr",
     "output_type": "stream",
     "text": [
      "c:\\Users\\ryanp\\AppData\\Local\\pypoetry\\Cache\\virtualenvs\\jax-rl-KPtyfD6I-py3.10\\lib\\site-packages\\tqdm\\auto.py:21: TqdmWarning: IProgress not found. Please update jupyter and ipywidgets. See https://ipywidgets.readthedocs.io/en/stable/user_install.html\n",
      "  from .autonotebook import tqdm as notebook_tqdm\n"
     ]
    }
   ],
   "source": [
    "import jax\n",
    "import jax.numpy as jnp\n",
    "import pandas as pd\n",
    "import plotly.express as px\n",
    "\n",
    "from jax import random, lax, jit, vmap, pmap\n",
    "from tqdm.auto import tqdm\n",
    "from functools import partial\n",
    "from jax_tqdm import loop_tqdm\n",
    "import plotly.graph_objects as go\n",
    "from plotly.subplots import make_subplots\n",
    "\n",
    "\n",
    "from src import GridWorld, Softmax_policy"
   ]
  },
  {
   "cell_type": "code",
   "execution_count": 2,
   "metadata": {},
   "outputs": [
    {
     "name": "stderr",
     "output_type": "stream",
     "text": [
      "No GPU/TPU found, falling back to CPU. (Set TF_CPP_MIN_LOG_LEVEL=0 and rerun for more info.)\n"
     ]
    }
   ],
   "source": [
    "SEED = 2\n",
    "INITIAL_STATE = jnp.array([8, 12])\n",
    "GOAL_STATE = jnp.array([0, 0])\n",
    "GRID_SIZE = jnp.array([8, 12])\n",
    "N_STATES = jnp.prod(GRID_SIZE)\n",
    "N_ACTIONS = 4\n",
    "DISCOUNT = 0.9\n",
    "LEARNING_RATE = 0.1\n",
    "\n",
    "key = random.PRNGKey(SEED)\n",
    "\n",
    "env = GridWorld(INITIAL_STATE, GOAL_STATE, GRID_SIZE)\n",
    "policy = Softmax_policy(0.1)\n",
    "# agent = Q_learning(\n",
    "#     key,\n",
    "#     N_STATES,\n",
    "#     N_ACTIONS, \n",
    "#     DISCOUNT,\n",
    "#     LEARNING_RATE,\n",
    "# )"
   ]
  },
  {
   "cell_type": "code",
   "execution_count": 34,
   "metadata": {},
   "outputs": [
    {
     "name": "stderr",
     "output_type": "stream",
     "text": [
      "Running for 3,000,000 iterations: 100%|██████████| 3000000/3000000 [00:03<00:00, 924042.76it/s] \n"
     ]
    }
   ],
   "source": [
    "TIME_STEPS = 3_000_000\n",
    "key = random.PRNGKey(SEED)\n",
    "\n",
    "def single_agent_rollout(key: random.PRNGKey, timesteps:int):\n",
    "\n",
    "    @loop_tqdm(TIME_STEPS)\n",
    "    @jit\n",
    "    def fori_body(i:int, val:tuple):\n",
    "        env_states, action_key, all_obs, all_rewards, all_done, all_q_values = val\n",
    "        states, _ = env_states\n",
    "        q_values = all_q_values[i, :, :, :]\n",
    "        \n",
    "        # action selection, step and q-update\n",
    "        actions, action_key = policy(action_key, N_ACTIONS, states, q_values)\n",
    "        env_states, obs, rewards, done = env.step(env_states, actions)\n",
    "        q_values = agent.update(states, actions, rewards, done, obs, q_values)     \n",
    "           \n",
    "        # update observations, rewards, done flag and q_values\n",
    "        all_obs = all_obs.at[i].set(obs)\n",
    "        all_rewards = all_rewards.at[i].set(rewards)\n",
    "        all_done = all_done.at[i].set(done)\n",
    "        all_q_values = all_q_values.at[i+1, :, :, :].set(q_values)\n",
    "\n",
    "        val = (env_states, action_key, all_obs, all_rewards, all_done, all_q_values)\n",
    "        return val\n",
    "\n",
    "    # initialize obs, rewards, done and q_values with an added time index\n",
    "    all_obs = jnp.zeros([timesteps, 2])\n",
    "    all_rewards = jnp.zeros([timesteps], dtype=jnp.int32)\n",
    "    all_done = jnp.zeros([timesteps], dtype=jnp.bool_)\n",
    "    # q_values has first dimension = timesteps +1, as the update targets time step t+1\n",
    "    all_q_values = jnp.zeros([timesteps+1, GRID_SIZE[0], GRID_SIZE[1], N_ACTIONS], dtype=jnp.float32)\n",
    "\n",
    "    # random keys used for policy / action selection\n",
    "    action_key = random.PRNGKey(0)\n",
    "    env_states, _ = env.reset(key)\n",
    "    \n",
    "    val_init = (env_states, action_key, all_obs, all_rewards, all_done, all_q_values)\n",
    "    val = lax.fori_loop(0, timesteps, fori_body, val_init)\n",
    "    \n",
    "    return val\n",
    "\n",
    "env_states, action_keys, obs, rewards, done, q_values = single_agent_rollout(key, TIME_STEPS)"
   ]
  },
  {
   "cell_type": "code",
   "execution_count": 4,
   "metadata": {},
   "outputs": [
    {
     "data": {
      "application/vnd.plotly.v1+json": {
       "config": {
        "plotlyServerURL": "https://plotly.com"
       },
       "data": [
        {
         "coloraxis": "coloraxis",
         "hovertemplate": "x: %{x}<br>y: %{y}<br>color: %{z}<extra></extra>",
         "name": "0",
         "type": "heatmap",
         "xaxis": "x",
         "yaxis": "y",
         "z": [
          [
           0,
           1.4659671783447266,
           1.2887850999832153,
           1.1429839134216309,
           1.0260428190231323,
           0.754501461982727,
           0.6652787327766418,
           0.30012309551239014,
           0.43429049849510193,
           0.0908469557762146,
           0,
           0
          ],
          [
           1.389027714729309,
           1.3206634521484375,
           1.1780842542648315,
           1.0392130613327026,
           0.9298763871192932,
           0.8360998034477234,
           0.7535709142684937,
           0.5491287708282471,
           0.4934149384498596,
           0.44067415595054626,
           0.2022542953491211,
           0
          ],
          [
           1.2557123899459839,
           1.1511768102645874,
           1.050982117652893,
           0.9357343912124634,
           0.8395195007324219,
           0.7541770935058594,
           0.679390013217926,
           0.6140453815460205,
           0.5513784885406494,
           0.49402379989624023,
           0.3633364140987396,
           0.3264540135860443
          ],
          [
           1.1385599374771118,
           1.028114676475525,
           0.9414872527122498,
           0.8449732065200806,
           0.7596912980079651,
           0.6826159954071045,
           0.6139332056045532,
           0.5523476004600525,
           0.49744904041290283,
           0.44972074031829834,
           0.40588271617889404,
           0.36471280455589294
          ],
          [
           1.014136552810669,
           0.9257529973983765,
           0.840384304523468,
           0.7577968835830688,
           0.6829681396484375,
           0.6141433715820312,
           0.5528416633605957,
           0.4980735182762146,
           0.44873714447021484,
           0.40458518266677856,
           0.3647432327270508,
           0.32821404933929443
          ],
          [
           0.860606849193573,
           0.8346109986305237,
           0.7527803182601929,
           0.6814398765563965,
           0.6144817471504211,
           0.553371250629425,
           0.49828624725341797,
           0.4487222135066986,
           0.404143363237381,
           0.364274263381958,
           0.32856470346450806,
           0.2958398163318634
          ],
          [
           0.6769073009490967,
           0.7450962662696838,
           0.6780623197555542,
           0.6143020391464233,
           0.5546767711639404,
           0.49953094124794006,
           0.4496702253818512,
           0.4042969048023224,
           0.36431777477264404,
           0.3280389606952667,
           0.29562219977378845,
           0.2664690911769867
          ],
          [
           0.5590538382530212,
           0.6712818145751953,
           0.6069037914276123,
           0.5549595952033997,
           0.4997958540916443,
           0.4501180052757263,
           0.40544983744621277,
           0.3646126389503479,
           0.3281644582748413,
           0.2957788407802582,
           0.2661874294281006,
           0.23943321406841278
          ]
         ]
        }
       ],
       "layout": {
        "coloraxis": {
         "colorscale": [
          [
           0,
           "#0d0887"
          ],
          [
           0.1111111111111111,
           "#46039f"
          ],
          [
           0.2222222222222222,
           "#7201a8"
          ],
          [
           0.3333333333333333,
           "#9c179e"
          ],
          [
           0.4444444444444444,
           "#bd3786"
          ],
          [
           0.5555555555555556,
           "#d8576b"
          ],
          [
           0.6666666666666666,
           "#ed7953"
          ],
          [
           0.7777777777777778,
           "#fb9f3a"
          ],
          [
           0.8888888888888888,
           "#fdca26"
          ],
          [
           1,
           "#f0f921"
          ]
         ]
        },
        "template": {
         "data": {
          "bar": [
           {
            "error_x": {
             "color": "#2a3f5f"
            },
            "error_y": {
             "color": "#2a3f5f"
            },
            "marker": {
             "line": {
              "color": "#E5ECF6",
              "width": 0.5
             },
             "pattern": {
              "fillmode": "overlay",
              "size": 10,
              "solidity": 0.2
             }
            },
            "type": "bar"
           }
          ],
          "barpolar": [
           {
            "marker": {
             "line": {
              "color": "#E5ECF6",
              "width": 0.5
             },
             "pattern": {
              "fillmode": "overlay",
              "size": 10,
              "solidity": 0.2
             }
            },
            "type": "barpolar"
           }
          ],
          "carpet": [
           {
            "aaxis": {
             "endlinecolor": "#2a3f5f",
             "gridcolor": "white",
             "linecolor": "white",
             "minorgridcolor": "white",
             "startlinecolor": "#2a3f5f"
            },
            "baxis": {
             "endlinecolor": "#2a3f5f",
             "gridcolor": "white",
             "linecolor": "white",
             "minorgridcolor": "white",
             "startlinecolor": "#2a3f5f"
            },
            "type": "carpet"
           }
          ],
          "choropleth": [
           {
            "colorbar": {
             "outlinewidth": 0,
             "ticks": ""
            },
            "type": "choropleth"
           }
          ],
          "contour": [
           {
            "colorbar": {
             "outlinewidth": 0,
             "ticks": ""
            },
            "colorscale": [
             [
              0,
              "#0d0887"
             ],
             [
              0.1111111111111111,
              "#46039f"
             ],
             [
              0.2222222222222222,
              "#7201a8"
             ],
             [
              0.3333333333333333,
              "#9c179e"
             ],
             [
              0.4444444444444444,
              "#bd3786"
             ],
             [
              0.5555555555555556,
              "#d8576b"
             ],
             [
              0.6666666666666666,
              "#ed7953"
             ],
             [
              0.7777777777777778,
              "#fb9f3a"
             ],
             [
              0.8888888888888888,
              "#fdca26"
             ],
             [
              1,
              "#f0f921"
             ]
            ],
            "type": "contour"
           }
          ],
          "contourcarpet": [
           {
            "colorbar": {
             "outlinewidth": 0,
             "ticks": ""
            },
            "type": "contourcarpet"
           }
          ],
          "heatmap": [
           {
            "colorbar": {
             "outlinewidth": 0,
             "ticks": ""
            },
            "colorscale": [
             [
              0,
              "#0d0887"
             ],
             [
              0.1111111111111111,
              "#46039f"
             ],
             [
              0.2222222222222222,
              "#7201a8"
             ],
             [
              0.3333333333333333,
              "#9c179e"
             ],
             [
              0.4444444444444444,
              "#bd3786"
             ],
             [
              0.5555555555555556,
              "#d8576b"
             ],
             [
              0.6666666666666666,
              "#ed7953"
             ],
             [
              0.7777777777777778,
              "#fb9f3a"
             ],
             [
              0.8888888888888888,
              "#fdca26"
             ],
             [
              1,
              "#f0f921"
             ]
            ],
            "type": "heatmap"
           }
          ],
          "heatmapgl": [
           {
            "colorbar": {
             "outlinewidth": 0,
             "ticks": ""
            },
            "colorscale": [
             [
              0,
              "#0d0887"
             ],
             [
              0.1111111111111111,
              "#46039f"
             ],
             [
              0.2222222222222222,
              "#7201a8"
             ],
             [
              0.3333333333333333,
              "#9c179e"
             ],
             [
              0.4444444444444444,
              "#bd3786"
             ],
             [
              0.5555555555555556,
              "#d8576b"
             ],
             [
              0.6666666666666666,
              "#ed7953"
             ],
             [
              0.7777777777777778,
              "#fb9f3a"
             ],
             [
              0.8888888888888888,
              "#fdca26"
             ],
             [
              1,
              "#f0f921"
             ]
            ],
            "type": "heatmapgl"
           }
          ],
          "histogram": [
           {
            "marker": {
             "pattern": {
              "fillmode": "overlay",
              "size": 10,
              "solidity": 0.2
             }
            },
            "type": "histogram"
           }
          ],
          "histogram2d": [
           {
            "colorbar": {
             "outlinewidth": 0,
             "ticks": ""
            },
            "colorscale": [
             [
              0,
              "#0d0887"
             ],
             [
              0.1111111111111111,
              "#46039f"
             ],
             [
              0.2222222222222222,
              "#7201a8"
             ],
             [
              0.3333333333333333,
              "#9c179e"
             ],
             [
              0.4444444444444444,
              "#bd3786"
             ],
             [
              0.5555555555555556,
              "#d8576b"
             ],
             [
              0.6666666666666666,
              "#ed7953"
             ],
             [
              0.7777777777777778,
              "#fb9f3a"
             ],
             [
              0.8888888888888888,
              "#fdca26"
             ],
             [
              1,
              "#f0f921"
             ]
            ],
            "type": "histogram2d"
           }
          ],
          "histogram2dcontour": [
           {
            "colorbar": {
             "outlinewidth": 0,
             "ticks": ""
            },
            "colorscale": [
             [
              0,
              "#0d0887"
             ],
             [
              0.1111111111111111,
              "#46039f"
             ],
             [
              0.2222222222222222,
              "#7201a8"
             ],
             [
              0.3333333333333333,
              "#9c179e"
             ],
             [
              0.4444444444444444,
              "#bd3786"
             ],
             [
              0.5555555555555556,
              "#d8576b"
             ],
             [
              0.6666666666666666,
              "#ed7953"
             ],
             [
              0.7777777777777778,
              "#fb9f3a"
             ],
             [
              0.8888888888888888,
              "#fdca26"
             ],
             [
              1,
              "#f0f921"
             ]
            ],
            "type": "histogram2dcontour"
           }
          ],
          "mesh3d": [
           {
            "colorbar": {
             "outlinewidth": 0,
             "ticks": ""
            },
            "type": "mesh3d"
           }
          ],
          "parcoords": [
           {
            "line": {
             "colorbar": {
              "outlinewidth": 0,
              "ticks": ""
             }
            },
            "type": "parcoords"
           }
          ],
          "pie": [
           {
            "automargin": true,
            "type": "pie"
           }
          ],
          "scatter": [
           {
            "fillpattern": {
             "fillmode": "overlay",
             "size": 10,
             "solidity": 0.2
            },
            "type": "scatter"
           }
          ],
          "scatter3d": [
           {
            "line": {
             "colorbar": {
              "outlinewidth": 0,
              "ticks": ""
             }
            },
            "marker": {
             "colorbar": {
              "outlinewidth": 0,
              "ticks": ""
             }
            },
            "type": "scatter3d"
           }
          ],
          "scattercarpet": [
           {
            "marker": {
             "colorbar": {
              "outlinewidth": 0,
              "ticks": ""
             }
            },
            "type": "scattercarpet"
           }
          ],
          "scattergeo": [
           {
            "marker": {
             "colorbar": {
              "outlinewidth": 0,
              "ticks": ""
             }
            },
            "type": "scattergeo"
           }
          ],
          "scattergl": [
           {
            "marker": {
             "colorbar": {
              "outlinewidth": 0,
              "ticks": ""
             }
            },
            "type": "scattergl"
           }
          ],
          "scattermapbox": [
           {
            "marker": {
             "colorbar": {
              "outlinewidth": 0,
              "ticks": ""
             }
            },
            "type": "scattermapbox"
           }
          ],
          "scatterpolar": [
           {
            "marker": {
             "colorbar": {
              "outlinewidth": 0,
              "ticks": ""
             }
            },
            "type": "scatterpolar"
           }
          ],
          "scatterpolargl": [
           {
            "marker": {
             "colorbar": {
              "outlinewidth": 0,
              "ticks": ""
             }
            },
            "type": "scatterpolargl"
           }
          ],
          "scatterternary": [
           {
            "marker": {
             "colorbar": {
              "outlinewidth": 0,
              "ticks": ""
             }
            },
            "type": "scatterternary"
           }
          ],
          "surface": [
           {
            "colorbar": {
             "outlinewidth": 0,
             "ticks": ""
            },
            "colorscale": [
             [
              0,
              "#0d0887"
             ],
             [
              0.1111111111111111,
              "#46039f"
             ],
             [
              0.2222222222222222,
              "#7201a8"
             ],
             [
              0.3333333333333333,
              "#9c179e"
             ],
             [
              0.4444444444444444,
              "#bd3786"
             ],
             [
              0.5555555555555556,
              "#d8576b"
             ],
             [
              0.6666666666666666,
              "#ed7953"
             ],
             [
              0.7777777777777778,
              "#fb9f3a"
             ],
             [
              0.8888888888888888,
              "#fdca26"
             ],
             [
              1,
              "#f0f921"
             ]
            ],
            "type": "surface"
           }
          ],
          "table": [
           {
            "cells": {
             "fill": {
              "color": "#EBF0F8"
             },
             "line": {
              "color": "white"
             }
            },
            "header": {
             "fill": {
              "color": "#C8D4E3"
             },
             "line": {
              "color": "white"
             }
            },
            "type": "table"
           }
          ]
         },
         "layout": {
          "annotationdefaults": {
           "arrowcolor": "#2a3f5f",
           "arrowhead": 0,
           "arrowwidth": 1
          },
          "autotypenumbers": "strict",
          "coloraxis": {
           "colorbar": {
            "outlinewidth": 0,
            "ticks": ""
           }
          },
          "colorscale": {
           "diverging": [
            [
             0,
             "#8e0152"
            ],
            [
             0.1,
             "#c51b7d"
            ],
            [
             0.2,
             "#de77ae"
            ],
            [
             0.3,
             "#f1b6da"
            ],
            [
             0.4,
             "#fde0ef"
            ],
            [
             0.5,
             "#f7f7f7"
            ],
            [
             0.6,
             "#e6f5d0"
            ],
            [
             0.7,
             "#b8e186"
            ],
            [
             0.8,
             "#7fbc41"
            ],
            [
             0.9,
             "#4d9221"
            ],
            [
             1,
             "#276419"
            ]
           ],
           "sequential": [
            [
             0,
             "#0d0887"
            ],
            [
             0.1111111111111111,
             "#46039f"
            ],
            [
             0.2222222222222222,
             "#7201a8"
            ],
            [
             0.3333333333333333,
             "#9c179e"
            ],
            [
             0.4444444444444444,
             "#bd3786"
            ],
            [
             0.5555555555555556,
             "#d8576b"
            ],
            [
             0.6666666666666666,
             "#ed7953"
            ],
            [
             0.7777777777777778,
             "#fb9f3a"
            ],
            [
             0.8888888888888888,
             "#fdca26"
            ],
            [
             1,
             "#f0f921"
            ]
           ],
           "sequentialminus": [
            [
             0,
             "#0d0887"
            ],
            [
             0.1111111111111111,
             "#46039f"
            ],
            [
             0.2222222222222222,
             "#7201a8"
            ],
            [
             0.3333333333333333,
             "#9c179e"
            ],
            [
             0.4444444444444444,
             "#bd3786"
            ],
            [
             0.5555555555555556,
             "#d8576b"
            ],
            [
             0.6666666666666666,
             "#ed7953"
            ],
            [
             0.7777777777777778,
             "#fb9f3a"
            ],
            [
             0.8888888888888888,
             "#fdca26"
            ],
            [
             1,
             "#f0f921"
            ]
           ]
          },
          "colorway": [
           "#636efa",
           "#EF553B",
           "#00cc96",
           "#ab63fa",
           "#FFA15A",
           "#19d3f3",
           "#FF6692",
           "#B6E880",
           "#FF97FF",
           "#FECB52"
          ],
          "font": {
           "color": "#2a3f5f"
          },
          "geo": {
           "bgcolor": "white",
           "lakecolor": "white",
           "landcolor": "#E5ECF6",
           "showlakes": true,
           "showland": true,
           "subunitcolor": "white"
          },
          "hoverlabel": {
           "align": "left"
          },
          "hovermode": "closest",
          "mapbox": {
           "style": "light"
          },
          "paper_bgcolor": "white",
          "plot_bgcolor": "#E5ECF6",
          "polar": {
           "angularaxis": {
            "gridcolor": "white",
            "linecolor": "white",
            "ticks": ""
           },
           "bgcolor": "#E5ECF6",
           "radialaxis": {
            "gridcolor": "white",
            "linecolor": "white",
            "ticks": ""
           }
          },
          "scene": {
           "xaxis": {
            "backgroundcolor": "#E5ECF6",
            "gridcolor": "white",
            "gridwidth": 2,
            "linecolor": "white",
            "showbackground": true,
            "ticks": "",
            "zerolinecolor": "white"
           },
           "yaxis": {
            "backgroundcolor": "#E5ECF6",
            "gridcolor": "white",
            "gridwidth": 2,
            "linecolor": "white",
            "showbackground": true,
            "ticks": "",
            "zerolinecolor": "white"
           },
           "zaxis": {
            "backgroundcolor": "#E5ECF6",
            "gridcolor": "white",
            "gridwidth": 2,
            "linecolor": "white",
            "showbackground": true,
            "ticks": "",
            "zerolinecolor": "white"
           }
          },
          "shapedefaults": {
           "line": {
            "color": "#2a3f5f"
           }
          },
          "ternary": {
           "aaxis": {
            "gridcolor": "white",
            "linecolor": "white",
            "ticks": ""
           },
           "baxis": {
            "gridcolor": "white",
            "linecolor": "white",
            "ticks": ""
           },
           "bgcolor": "#E5ECF6",
           "caxis": {
            "gridcolor": "white",
            "linecolor": "white",
            "ticks": ""
           }
          },
          "title": {
           "x": 0.05
          },
          "xaxis": {
           "automargin": true,
           "gridcolor": "white",
           "linecolor": "white",
           "ticks": "",
           "title": {
            "standoff": 15
           },
           "zerolinecolor": "white",
           "zerolinewidth": 2
          },
          "yaxis": {
           "automargin": true,
           "gridcolor": "white",
           "linecolor": "white",
           "ticks": "",
           "title": {
            "standoff": 15
           },
           "zerolinecolor": "white",
           "zerolinewidth": 2
          }
         }
        },
        "title": {
         "text": "Maximal Q-value for each state"
        },
        "xaxis": {
         "anchor": "y",
         "constrain": "domain",
         "domain": [
          0,
          1
         ],
         "scaleanchor": "y"
        },
        "yaxis": {
         "anchor": "x",
         "autorange": "reversed",
         "constrain": "domain",
         "domain": [
          0,
          1
         ]
        }
       }
      }
     },
     "metadata": {},
     "output_type": "display_data"
    }
   ],
   "source": [
    "fig = px.imshow(jnp.max(q_values[-1], axis=-1), title=\"Maximal Q-value for each state\")\n",
    "fig.show()"
   ]
  },
  {
   "cell_type": "code",
   "execution_count": 5,
   "metadata": {},
   "outputs": [],
   "source": [
    "v_reset = jit(vmap(\n",
    "                env.reset,\n",
    "                out_axes=((0, 0), 0),  # ((env_state), obs)\n",
    "                axis_name=\"batch_axis\",\n",
    "            ))\n",
    "\n",
    "v_step = jit(vmap(\n",
    "                env.step,\n",
    "                in_axes=((0, 0), 0),  # ((env_state), action)\n",
    "                out_axes=((0, 0), 0, 0, 0),  # ((env_state), obs, reward, done)\n",
    "                axis_name=\"batch_axis\",\n",
    "            ))\n",
    "\n",
    "v_update = jit(vmap(\n",
    "                agent.update,\n",
    "                in_axes=(0, 0, 0, 0, 0, -1),\n",
    "                # iterate through the last dimension of \n",
    "                # agent.update's output (i.e. batch dim)\n",
    "                out_axes=-1,\n",
    "                axis_name=\"batch_axis\",\n",
    "                ))\n",
    "\n",
    "v_policy = jit(vmap(\n",
    "                policy.call,\n",
    "                in_axes=(0, None, 0, -1),  # (keys, n_actions, state, q_values)\n",
    "                axis_name=\"batch_axis\",\n",
    "                ),\n",
    "                static_argnums=(1,),\n",
    "            )"
   ]
  },
  {
   "cell_type": "code",
   "execution_count": 6,
   "metadata": {},
   "outputs": [],
   "source": [
    "def plot_performances(all_q_values: jnp.array, time_steps, n_env):\n",
    "    q_values_avg = pd.DataFrame(jnp.mean(all_q_values[-1], axis=[2,3]))\n",
    "    fig = make_subplots(\n",
    "        rows=1, cols=2,\n",
    "        subplot_titles=(\"Q-values as a surface\", \"Q-values as a heatmap\"),\n",
    "        column_widths=[0.5, 0.5],\n",
    "        specs=[[{'type': 'surface'}, {'type': 'heatmap'}]]\n",
    "    )\n",
    "\n",
    "    fig.add_trace(\n",
    "        go.Surface(z=q_values_avg),\n",
    "        row=1, col=1\n",
    "    ).add_trace(\n",
    "        go.Heatmap(z=q_values_avg),\n",
    "        row=1, col=2\n",
    "    )\n",
    "\n",
    "    fig.update_layout(\n",
    "        title_text=f\"Q-values averaged over {n_env} agents, {time_steps} individual training steps\",\n",
    "        height=600,\n",
    "    ).update_yaxes(autorange=\"reversed\", row=1, col=2)\n",
    "\n",
    "    fig.show()"
   ]
  },
  {
   "cell_type": "code",
   "execution_count": 7,
   "metadata": {},
   "outputs": [
    {
     "name": "stderr",
     "output_type": "stream",
     "text": [
      "Running for 100,000 iterations: 100%|██████████| 100000/100000 [00:03<00:00, 33085.88it/s]\n"
     ]
    },
    {
     "data": {
      "application/vnd.plotly.v1+json": {
       "config": {
        "plotlyServerURL": "https://plotly.com"
       },
       "data": [
        {
         "scene": "scene",
         "type": "surface",
         "z": [
          [
           0,
           1.1161680221557617,
           0.7447700500488281,
           0.43261831998825073,
           0.24474336206912994,
           0.15544788539409637,
           0.1136387437582016,
           0.05047496780753136,
           0.016149327158927917,
           0.005890540312975645,
           0.00001513890856585931,
           3.974188379508295e-15
          ],
          [
           0.9271606802940369,
           0.9786564111709595,
           0.7712700963020325,
           0.5473545789718628,
           0.36702457070350647,
           0.24825765192508698,
           0.17770595848560333,
           0.10092022269964218,
           0.04538773372769356,
           0.019019480794668198,
           0.00409331452101469,
           0.00011902221012860537
          ],
          [
           0.5908756852149963,
           0.772737443447113,
           0.7386166453361511,
           0.5912264585494995,
           0.44113990664482117,
           0.3457552194595337,
           0.2596413195133209,
           0.17983675003051758,
           0.1175590232014656,
           0.07839202135801315,
           0.050904951989650726,
           0.020364904776215553
          ],
          [
           0.33274707198143005,
           0.5192350745201111,
           0.5914368033409119,
           0.6334542036056519,
           0.5540469288825989,
           0.4791896641254425,
           0.3981844484806061,
           0.3250630795955658,
           0.2675291895866394,
           0.21121588349342346,
           0.17384935915470123,
           0.1178160011768341
          ],
          [
           0.10564331710338593,
           0.244784876704216,
           0.36476781964302063,
           0.5176931619644165,
           0.5289118885993958,
           0.4823978543281555,
           0.40731188654899597,
           0.3465549647808075,
           0.318305104970932,
           0.2616400718688965,
           0.2208501398563385,
           0.15852981805801392
          ],
          [
           0.03425446152687073,
           0.11379772424697876,
           0.16960746049880981,
           0.38321372866630554,
           0.4465102553367615,
           0.38273128867149353,
           0.33777815103530884,
           0.30857986211776733,
           0.30625006556510925,
           0.2480294555425644,
           0.20249707996845245,
           0.14956295490264893
          ],
          [
           0.012256206013262272,
           0.044829707592725754,
           0.10788410902023315,
           0.28673428297042847,
           0.35810890793800354,
           0.3164932429790497,
           0.26649922132492065,
           0.2610709071159363,
           0.2516036927700043,
           0.20437800884246826,
           0.17119480669498444,
           0.13112016022205353
          ],
          [
           0.0015879353741183877,
           0.015057040378451347,
           0.05057753995060921,
           0.20824262499809265,
           0.2512885630130768,
           0.22965344786643982,
           0.19479337334632874,
           0.18990245461463928,
           0.18689702451229095,
           0.16604964435100555,
           0.1438205987215042,
           0.10764211416244507
          ]
         ]
        },
        {
         "type": "heatmap",
         "xaxis": "x",
         "yaxis": "y",
         "z": [
          [
           0,
           1.1161680221557617,
           0.7447700500488281,
           0.43261831998825073,
           0.24474336206912994,
           0.15544788539409637,
           0.1136387437582016,
           0.05047496780753136,
           0.016149327158927917,
           0.005890540312975645,
           0.00001513890856585931,
           3.974188379508295e-15
          ],
          [
           0.9271606802940369,
           0.9786564111709595,
           0.7712700963020325,
           0.5473545789718628,
           0.36702457070350647,
           0.24825765192508698,
           0.17770595848560333,
           0.10092022269964218,
           0.04538773372769356,
           0.019019480794668198,
           0.00409331452101469,
           0.00011902221012860537
          ],
          [
           0.5908756852149963,
           0.772737443447113,
           0.7386166453361511,
           0.5912264585494995,
           0.44113990664482117,
           0.3457552194595337,
           0.2596413195133209,
           0.17983675003051758,
           0.1175590232014656,
           0.07839202135801315,
           0.050904951989650726,
           0.020364904776215553
          ],
          [
           0.33274707198143005,
           0.5192350745201111,
           0.5914368033409119,
           0.6334542036056519,
           0.5540469288825989,
           0.4791896641254425,
           0.3981844484806061,
           0.3250630795955658,
           0.2675291895866394,
           0.21121588349342346,
           0.17384935915470123,
           0.1178160011768341
          ],
          [
           0.10564331710338593,
           0.244784876704216,
           0.36476781964302063,
           0.5176931619644165,
           0.5289118885993958,
           0.4823978543281555,
           0.40731188654899597,
           0.3465549647808075,
           0.318305104970932,
           0.2616400718688965,
           0.2208501398563385,
           0.15852981805801392
          ],
          [
           0.03425446152687073,
           0.11379772424697876,
           0.16960746049880981,
           0.38321372866630554,
           0.4465102553367615,
           0.38273128867149353,
           0.33777815103530884,
           0.30857986211776733,
           0.30625006556510925,
           0.2480294555425644,
           0.20249707996845245,
           0.14956295490264893
          ],
          [
           0.012256206013262272,
           0.044829707592725754,
           0.10788410902023315,
           0.28673428297042847,
           0.35810890793800354,
           0.3164932429790497,
           0.26649922132492065,
           0.2610709071159363,
           0.2516036927700043,
           0.20437800884246826,
           0.17119480669498444,
           0.13112016022205353
          ],
          [
           0.0015879353741183877,
           0.015057040378451347,
           0.05057753995060921,
           0.20824262499809265,
           0.2512885630130768,
           0.22965344786643982,
           0.19479337334632874,
           0.18990245461463928,
           0.18689702451229095,
           0.16604964435100555,
           0.1438205987215042,
           0.10764211416244507
          ]
         ]
        }
       ],
       "layout": {
        "annotations": [
         {
          "font": {
           "size": 16
          },
          "showarrow": false,
          "text": "Q-values as a surface",
          "x": 0.225,
          "xanchor": "center",
          "xref": "paper",
          "y": 1,
          "yanchor": "bottom",
          "yref": "paper"
         },
         {
          "font": {
           "size": 16
          },
          "showarrow": false,
          "text": "Q-values as a heatmap",
          "x": 0.775,
          "xanchor": "center",
          "xref": "paper",
          "y": 1,
          "yanchor": "bottom",
          "yref": "paper"
         }
        ],
        "height": 600,
        "scene": {
         "domain": {
          "x": [
           0,
           0.45
          ],
          "y": [
           0,
           1
          ]
         }
        },
        "template": {
         "data": {
          "bar": [
           {
            "error_x": {
             "color": "#2a3f5f"
            },
            "error_y": {
             "color": "#2a3f5f"
            },
            "marker": {
             "line": {
              "color": "#E5ECF6",
              "width": 0.5
             },
             "pattern": {
              "fillmode": "overlay",
              "size": 10,
              "solidity": 0.2
             }
            },
            "type": "bar"
           }
          ],
          "barpolar": [
           {
            "marker": {
             "line": {
              "color": "#E5ECF6",
              "width": 0.5
             },
             "pattern": {
              "fillmode": "overlay",
              "size": 10,
              "solidity": 0.2
             }
            },
            "type": "barpolar"
           }
          ],
          "carpet": [
           {
            "aaxis": {
             "endlinecolor": "#2a3f5f",
             "gridcolor": "white",
             "linecolor": "white",
             "minorgridcolor": "white",
             "startlinecolor": "#2a3f5f"
            },
            "baxis": {
             "endlinecolor": "#2a3f5f",
             "gridcolor": "white",
             "linecolor": "white",
             "minorgridcolor": "white",
             "startlinecolor": "#2a3f5f"
            },
            "type": "carpet"
           }
          ],
          "choropleth": [
           {
            "colorbar": {
             "outlinewidth": 0,
             "ticks": ""
            },
            "type": "choropleth"
           }
          ],
          "contour": [
           {
            "colorbar": {
             "outlinewidth": 0,
             "ticks": ""
            },
            "colorscale": [
             [
              0,
              "#0d0887"
             ],
             [
              0.1111111111111111,
              "#46039f"
             ],
             [
              0.2222222222222222,
              "#7201a8"
             ],
             [
              0.3333333333333333,
              "#9c179e"
             ],
             [
              0.4444444444444444,
              "#bd3786"
             ],
             [
              0.5555555555555556,
              "#d8576b"
             ],
             [
              0.6666666666666666,
              "#ed7953"
             ],
             [
              0.7777777777777778,
              "#fb9f3a"
             ],
             [
              0.8888888888888888,
              "#fdca26"
             ],
             [
              1,
              "#f0f921"
             ]
            ],
            "type": "contour"
           }
          ],
          "contourcarpet": [
           {
            "colorbar": {
             "outlinewidth": 0,
             "ticks": ""
            },
            "type": "contourcarpet"
           }
          ],
          "heatmap": [
           {
            "colorbar": {
             "outlinewidth": 0,
             "ticks": ""
            },
            "colorscale": [
             [
              0,
              "#0d0887"
             ],
             [
              0.1111111111111111,
              "#46039f"
             ],
             [
              0.2222222222222222,
              "#7201a8"
             ],
             [
              0.3333333333333333,
              "#9c179e"
             ],
             [
              0.4444444444444444,
              "#bd3786"
             ],
             [
              0.5555555555555556,
              "#d8576b"
             ],
             [
              0.6666666666666666,
              "#ed7953"
             ],
             [
              0.7777777777777778,
              "#fb9f3a"
             ],
             [
              0.8888888888888888,
              "#fdca26"
             ],
             [
              1,
              "#f0f921"
             ]
            ],
            "type": "heatmap"
           }
          ],
          "heatmapgl": [
           {
            "colorbar": {
             "outlinewidth": 0,
             "ticks": ""
            },
            "colorscale": [
             [
              0,
              "#0d0887"
             ],
             [
              0.1111111111111111,
              "#46039f"
             ],
             [
              0.2222222222222222,
              "#7201a8"
             ],
             [
              0.3333333333333333,
              "#9c179e"
             ],
             [
              0.4444444444444444,
              "#bd3786"
             ],
             [
              0.5555555555555556,
              "#d8576b"
             ],
             [
              0.6666666666666666,
              "#ed7953"
             ],
             [
              0.7777777777777778,
              "#fb9f3a"
             ],
             [
              0.8888888888888888,
              "#fdca26"
             ],
             [
              1,
              "#f0f921"
             ]
            ],
            "type": "heatmapgl"
           }
          ],
          "histogram": [
           {
            "marker": {
             "pattern": {
              "fillmode": "overlay",
              "size": 10,
              "solidity": 0.2
             }
            },
            "type": "histogram"
           }
          ],
          "histogram2d": [
           {
            "colorbar": {
             "outlinewidth": 0,
             "ticks": ""
            },
            "colorscale": [
             [
              0,
              "#0d0887"
             ],
             [
              0.1111111111111111,
              "#46039f"
             ],
             [
              0.2222222222222222,
              "#7201a8"
             ],
             [
              0.3333333333333333,
              "#9c179e"
             ],
             [
              0.4444444444444444,
              "#bd3786"
             ],
             [
              0.5555555555555556,
              "#d8576b"
             ],
             [
              0.6666666666666666,
              "#ed7953"
             ],
             [
              0.7777777777777778,
              "#fb9f3a"
             ],
             [
              0.8888888888888888,
              "#fdca26"
             ],
             [
              1,
              "#f0f921"
             ]
            ],
            "type": "histogram2d"
           }
          ],
          "histogram2dcontour": [
           {
            "colorbar": {
             "outlinewidth": 0,
             "ticks": ""
            },
            "colorscale": [
             [
              0,
              "#0d0887"
             ],
             [
              0.1111111111111111,
              "#46039f"
             ],
             [
              0.2222222222222222,
              "#7201a8"
             ],
             [
              0.3333333333333333,
              "#9c179e"
             ],
             [
              0.4444444444444444,
              "#bd3786"
             ],
             [
              0.5555555555555556,
              "#d8576b"
             ],
             [
              0.6666666666666666,
              "#ed7953"
             ],
             [
              0.7777777777777778,
              "#fb9f3a"
             ],
             [
              0.8888888888888888,
              "#fdca26"
             ],
             [
              1,
              "#f0f921"
             ]
            ],
            "type": "histogram2dcontour"
           }
          ],
          "mesh3d": [
           {
            "colorbar": {
             "outlinewidth": 0,
             "ticks": ""
            },
            "type": "mesh3d"
           }
          ],
          "parcoords": [
           {
            "line": {
             "colorbar": {
              "outlinewidth": 0,
              "ticks": ""
             }
            },
            "type": "parcoords"
           }
          ],
          "pie": [
           {
            "automargin": true,
            "type": "pie"
           }
          ],
          "scatter": [
           {
            "fillpattern": {
             "fillmode": "overlay",
             "size": 10,
             "solidity": 0.2
            },
            "type": "scatter"
           }
          ],
          "scatter3d": [
           {
            "line": {
             "colorbar": {
              "outlinewidth": 0,
              "ticks": ""
             }
            },
            "marker": {
             "colorbar": {
              "outlinewidth": 0,
              "ticks": ""
             }
            },
            "type": "scatter3d"
           }
          ],
          "scattercarpet": [
           {
            "marker": {
             "colorbar": {
              "outlinewidth": 0,
              "ticks": ""
             }
            },
            "type": "scattercarpet"
           }
          ],
          "scattergeo": [
           {
            "marker": {
             "colorbar": {
              "outlinewidth": 0,
              "ticks": ""
             }
            },
            "type": "scattergeo"
           }
          ],
          "scattergl": [
           {
            "marker": {
             "colorbar": {
              "outlinewidth": 0,
              "ticks": ""
             }
            },
            "type": "scattergl"
           }
          ],
          "scattermapbox": [
           {
            "marker": {
             "colorbar": {
              "outlinewidth": 0,
              "ticks": ""
             }
            },
            "type": "scattermapbox"
           }
          ],
          "scatterpolar": [
           {
            "marker": {
             "colorbar": {
              "outlinewidth": 0,
              "ticks": ""
             }
            },
            "type": "scatterpolar"
           }
          ],
          "scatterpolargl": [
           {
            "marker": {
             "colorbar": {
              "outlinewidth": 0,
              "ticks": ""
             }
            },
            "type": "scatterpolargl"
           }
          ],
          "scatterternary": [
           {
            "marker": {
             "colorbar": {
              "outlinewidth": 0,
              "ticks": ""
             }
            },
            "type": "scatterternary"
           }
          ],
          "surface": [
           {
            "colorbar": {
             "outlinewidth": 0,
             "ticks": ""
            },
            "colorscale": [
             [
              0,
              "#0d0887"
             ],
             [
              0.1111111111111111,
              "#46039f"
             ],
             [
              0.2222222222222222,
              "#7201a8"
             ],
             [
              0.3333333333333333,
              "#9c179e"
             ],
             [
              0.4444444444444444,
              "#bd3786"
             ],
             [
              0.5555555555555556,
              "#d8576b"
             ],
             [
              0.6666666666666666,
              "#ed7953"
             ],
             [
              0.7777777777777778,
              "#fb9f3a"
             ],
             [
              0.8888888888888888,
              "#fdca26"
             ],
             [
              1,
              "#f0f921"
             ]
            ],
            "type": "surface"
           }
          ],
          "table": [
           {
            "cells": {
             "fill": {
              "color": "#EBF0F8"
             },
             "line": {
              "color": "white"
             }
            },
            "header": {
             "fill": {
              "color": "#C8D4E3"
             },
             "line": {
              "color": "white"
             }
            },
            "type": "table"
           }
          ]
         },
         "layout": {
          "annotationdefaults": {
           "arrowcolor": "#2a3f5f",
           "arrowhead": 0,
           "arrowwidth": 1
          },
          "autotypenumbers": "strict",
          "coloraxis": {
           "colorbar": {
            "outlinewidth": 0,
            "ticks": ""
           }
          },
          "colorscale": {
           "diverging": [
            [
             0,
             "#8e0152"
            ],
            [
             0.1,
             "#c51b7d"
            ],
            [
             0.2,
             "#de77ae"
            ],
            [
             0.3,
             "#f1b6da"
            ],
            [
             0.4,
             "#fde0ef"
            ],
            [
             0.5,
             "#f7f7f7"
            ],
            [
             0.6,
             "#e6f5d0"
            ],
            [
             0.7,
             "#b8e186"
            ],
            [
             0.8,
             "#7fbc41"
            ],
            [
             0.9,
             "#4d9221"
            ],
            [
             1,
             "#276419"
            ]
           ],
           "sequential": [
            [
             0,
             "#0d0887"
            ],
            [
             0.1111111111111111,
             "#46039f"
            ],
            [
             0.2222222222222222,
             "#7201a8"
            ],
            [
             0.3333333333333333,
             "#9c179e"
            ],
            [
             0.4444444444444444,
             "#bd3786"
            ],
            [
             0.5555555555555556,
             "#d8576b"
            ],
            [
             0.6666666666666666,
             "#ed7953"
            ],
            [
             0.7777777777777778,
             "#fb9f3a"
            ],
            [
             0.8888888888888888,
             "#fdca26"
            ],
            [
             1,
             "#f0f921"
            ]
           ],
           "sequentialminus": [
            [
             0,
             "#0d0887"
            ],
            [
             0.1111111111111111,
             "#46039f"
            ],
            [
             0.2222222222222222,
             "#7201a8"
            ],
            [
             0.3333333333333333,
             "#9c179e"
            ],
            [
             0.4444444444444444,
             "#bd3786"
            ],
            [
             0.5555555555555556,
             "#d8576b"
            ],
            [
             0.6666666666666666,
             "#ed7953"
            ],
            [
             0.7777777777777778,
             "#fb9f3a"
            ],
            [
             0.8888888888888888,
             "#fdca26"
            ],
            [
             1,
             "#f0f921"
            ]
           ]
          },
          "colorway": [
           "#636efa",
           "#EF553B",
           "#00cc96",
           "#ab63fa",
           "#FFA15A",
           "#19d3f3",
           "#FF6692",
           "#B6E880",
           "#FF97FF",
           "#FECB52"
          ],
          "font": {
           "color": "#2a3f5f"
          },
          "geo": {
           "bgcolor": "white",
           "lakecolor": "white",
           "landcolor": "#E5ECF6",
           "showlakes": true,
           "showland": true,
           "subunitcolor": "white"
          },
          "hoverlabel": {
           "align": "left"
          },
          "hovermode": "closest",
          "mapbox": {
           "style": "light"
          },
          "paper_bgcolor": "white",
          "plot_bgcolor": "#E5ECF6",
          "polar": {
           "angularaxis": {
            "gridcolor": "white",
            "linecolor": "white",
            "ticks": ""
           },
           "bgcolor": "#E5ECF6",
           "radialaxis": {
            "gridcolor": "white",
            "linecolor": "white",
            "ticks": ""
           }
          },
          "scene": {
           "xaxis": {
            "backgroundcolor": "#E5ECF6",
            "gridcolor": "white",
            "gridwidth": 2,
            "linecolor": "white",
            "showbackground": true,
            "ticks": "",
            "zerolinecolor": "white"
           },
           "yaxis": {
            "backgroundcolor": "#E5ECF6",
            "gridcolor": "white",
            "gridwidth": 2,
            "linecolor": "white",
            "showbackground": true,
            "ticks": "",
            "zerolinecolor": "white"
           },
           "zaxis": {
            "backgroundcolor": "#E5ECF6",
            "gridcolor": "white",
            "gridwidth": 2,
            "linecolor": "white",
            "showbackground": true,
            "ticks": "",
            "zerolinecolor": "white"
           }
          },
          "shapedefaults": {
           "line": {
            "color": "#2a3f5f"
           }
          },
          "ternary": {
           "aaxis": {
            "gridcolor": "white",
            "linecolor": "white",
            "ticks": ""
           },
           "baxis": {
            "gridcolor": "white",
            "linecolor": "white",
            "ticks": ""
           },
           "bgcolor": "#E5ECF6",
           "caxis": {
            "gridcolor": "white",
            "linecolor": "white",
            "ticks": ""
           }
          },
          "title": {
           "x": 0.05
          },
          "xaxis": {
           "automargin": true,
           "gridcolor": "white",
           "linecolor": "white",
           "ticks": "",
           "title": {
            "standoff": 15
           },
           "zerolinecolor": "white",
           "zerolinewidth": 2
          },
          "yaxis": {
           "automargin": true,
           "gridcolor": "white",
           "linecolor": "white",
           "ticks": "",
           "title": {
            "standoff": 15
           },
           "zerolinecolor": "white",
           "zerolinewidth": 2
          }
         }
        },
        "title": {
         "text": "Q-values averaged over 30 agents, 100000 individual training steps"
        },
        "xaxis": {
         "anchor": "y",
         "domain": [
          0.55,
          1
         ]
        },
        "yaxis": {
         "anchor": "x",
         "autorange": "reversed",
         "domain": [
          0,
          1
         ]
        }
       }
      }
     },
     "metadata": {},
     "output_type": "display_data"
    }
   ],
   "source": [
    "N_ENV = 30\n",
    "TIME_STEPS = 100_000\n",
    "key = random.PRNGKey(SEED)\n",
    "keys = random.split(key, N_ENV)\n",
    "\n",
    "@loop_tqdm(TIME_STEPS)\n",
    "@jit\n",
    "def fori_body(i:int, val:tuple):\n",
    "    env_states, action_keys, all_obs, all_rewards, all_done, all_q_values = val\n",
    "    states, _ = env_states\n",
    "    q_values = all_q_values[i, :, :, :, :]\n",
    "    actions, action_keys = v_policy(action_keys, N_ACTIONS, states, q_values)\n",
    "\n",
    "    env_states, obs, rewards, done = v_step(env_states, actions)\n",
    "    q_values = v_update(states, actions, rewards, done, obs, q_values)\n",
    "    \n",
    "    all_obs = all_obs.at[i].set(obs)\n",
    "    all_rewards = all_rewards.at[i].set(rewards)\n",
    "    all_done = all_done.at[i].set(done)\n",
    "    all_q_values = all_q_values.at[i+1, :, :, :, :].set(q_values)\n",
    "\n",
    "    val = (env_states, action_keys, all_obs, all_rewards, all_done, all_q_values)\n",
    "    return val\n",
    "\n",
    "def single_agent_rollout(keys, timesteps, n_env):\n",
    "    all_obs = jnp.zeros([timesteps, n_env, 2])\n",
    "    all_rewards = jnp.zeros([timesteps, n_env], dtype=jnp.int32)\n",
    "    all_done = jnp.zeros([timesteps, n_env], dtype=jnp.bool_)\n",
    "    # q_values has first dimension = timesteps +1, as the update targets time step t+1\n",
    "    all_q_values = jnp.zeros([timesteps+1, GRID_SIZE[0], GRID_SIZE[1], N_ACTIONS, n_env], dtype=jnp.float32)\n",
    "\n",
    "    action_keys = random.split(random.PRNGKey(0), n_env)\n",
    "    env_states, _ = v_reset(keys)\n",
    "    \n",
    "    val_init = (env_states, action_keys, all_obs, all_rewards, all_done, all_q_values)\n",
    "    val = lax.fori_loop(0, timesteps, fori_body, val_init)\n",
    "    env_states, action_keys, all_obs, all_reward, all_done, all_q_values = val\n",
    "    \n",
    "    return all_obs, all_reward, all_done, all_q_values\n",
    "\n",
    "all_obs, all_reward, all_done, all_q_values = single_agent_rollout(keys, TIME_STEPS, N_ENV)\n",
    "plot_performances(all_q_values, TIME_STEPS, N_ENV)"
   ]
  },
  {
   "cell_type": "code",
   "execution_count": 9,
   "metadata": {},
   "outputs": [
    {
     "data": {
      "text/plain": [
       "Array(6429.2, dtype=float32)"
      ]
     },
     "execution_count": 9,
     "metadata": {},
     "output_type": "execute_result"
    }
   ],
   "source": [
    "# Average number of episodes played\n",
    "jnp.sum(jnp.array(all_reward), axis=0).mean()"
   ]
  }
 ],
 "metadata": {
  "kernelspec": {
   "display_name": "grind-arc--jAx_NNy-py3.10",
   "language": "python",
   "name": "python3"
  },
  "language_info": {
   "codemirror_mode": {
    "name": "ipython",
    "version": 3
   },
   "file_extension": ".py",
   "mimetype": "text/x-python",
   "name": "python",
   "nbconvert_exporter": "python",
   "pygments_lexer": "ipython3",
   "version": "3.10.7"
  },
  "orig_nbformat": 4
 },
 "nbformat": 4,
 "nbformat_minor": 2
}
