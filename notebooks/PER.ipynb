{
 "cells": [
  {
   "cell_type": "code",
   "execution_count": 1,
   "metadata": {},
   "outputs": [
    {
     "name": "stderr",
     "output_type": "stream",
     "text": [
      "c:\\Users\\ryanp\\AppData\\Local\\pypoetry\\Cache\\virtualenvs\\jax-rl-KPtyfD6I-py3.10\\lib\\site-packages\\tqdm\\auto.py:21: TqdmWarning: IProgress not found. Please update jupyter and ipywidgets. See https://ipywidgets.readthedocs.io/en/stable/user_install.html\n",
      "  from .autonotebook import tqdm as notebook_tqdm\n"
     ]
    }
   ],
   "source": [
    "import sys\n",
    "import jax\n",
    "import jax.numpy as jnp\n",
    "import pandas as pd\n",
    "import plotly.express as px\n",
    "import plotly.graph_objects as go\n",
    "import optax\n",
    "import haiku as hk\n",
    "import plotly.graph_objects as go\n",
    "import numpy as np\n",
    "\n",
    "from jax import random, vmap, lax\n",
    "from chex import dataclass\n",
    "from jax_tqdm import loop_tqdm\n",
    "from typing import Tuple\n",
    "\n",
    "sys.path.append(\"../\")\n",
    "from src import Breakout, DQN, UniformReplayBuffer, minatar_rollout, BaseReplayBuffer"
   ]
  },
  {
   "cell_type": "code",
   "execution_count": 11,
   "metadata": {},
   "outputs": [],
   "source": [
    "@dataclass\n",
    "class Experience:\n",
    "    state: jnp.ndarray\n",
    "    action: int\n",
    "    reward: float\n",
    "    next_state: jnp.ndarray\n",
    "    done: bool\n",
    "    td_error: float\n",
    "\n",
    "\n",
    "class PrioritizedExperienceReplay(BaseReplayBuffer):\n",
    "    \"\"\"\n",
    "    Source: https://arxiv.org/pdf/1511.05952.pdf\n",
    "    \"\"\"\n",
    "\n",
    "    def __init__(\n",
    "        self, buffer_size: int, batch_size: int, alpha: float, beta: float\n",
    "    ) -> None:\n",
    "        super().__init__(buffer_size, batch_size)\n",
    "        self.alpha = alpha\n",
    "        self.beta = beta\n",
    "\n",
    "    def add(self, buffer_state: dict, experience: Experience, idx: int):\n",
    "        for field in experience:\n",
    "            # sumTree.add => tree, cursor => idx = cursor\n",
    "            buffer_state[field] = buffer_state[field].at[idx].set(experience[field])\n",
    "        return buffer_state\n",
    "\n",
    "    def sample(self):\n",
    "        # implement sampling prob\n",
    "        # compute importance sampling weight\n",
    "        # compute td error\n",
    "        # update transition priority\n",
    "        # accumulate weight change\n",
    "        pass\n",
    "\n",
    "    # def _compute_importance_sampling(self, prob:float):\n",
    "        # return jnp.power((self.buffer_size*prob), -self.beta) / jnp.max()\n",
    "\n",
    "    def _compute_td_error(\n",
    "        model: hk.Transformed,\n",
    "        online_net_params: dict,\n",
    "        target_net_params: dict,\n",
    "        discount: float,\n",
    "        experience: Experience,\n",
    "    ):\n",
    "        state, action, reward, next_state, done = experience\n",
    "        # TODO: check wheter 1-done belongs here\n",
    "        td_target = (\n",
    "            (1 - done)\n",
    "            * discount\n",
    "            * jnp.max(model.apply(target_net_params, None, next_state))\n",
    "        )\n",
    "        prediction = model.apply(online_net_params, None, state)[action]\n",
    "        return reward + td_target - prediction\n",
    "\n",
    "\n",
    "class SumTree:\n",
    "    def __init__(self, capacity: int) -> None:\n",
    "        \"\"\"\n",
    "        Args:\n",
    "            capacity (int): The maximum number of leaves (priorities/experiences)\n",
    "            the tree can hold.\n",
    "        \"\"\"\n",
    "        self.capacity = capacity\n",
    "\n",
    "    def add(\n",
    "        self, tree: jnp.ndarray, priority: float, cursor: int\n",
    "    ) -> Tuple[jnp.ndarray, int]:\n",
    "        \"\"\"\n",
    "        Add a new priority to the tree and update the cursor position.\n",
    "\n",
    "        Args:\n",
    "            tree (jnp.ndarray): The current state of the sum tree.\n",
    "            priority (float): The priority value of the new experience.\n",
    "            cursor (int): The current write cursor in the tree.\n",
    "\n",
    "        Returns:\n",
    "            Tuple[jnp.ndarray, int]: The updated tree and cursor.\n",
    "        \"\"\"\n",
    "        idx = cursor + self.capacity - 1\n",
    "        tree = self.update(tree, idx, priority)\n",
    "        cursor = lax.select(cursor + 1 >= self.capacity, cursor + 1, 0)\n",
    "        return tree, cursor\n",
    "\n",
    "    @staticmethod\n",
    "    def _propagate(tree: jnp.ndarray, idx: int, change: float) -> jnp.ndarray:\n",
    "        \"\"\"\n",
    "        Propagate the changes in priority up the tree from a given index.\n",
    "\n",
    "        Args:\n",
    "            tree (jnp.ndarray): The current state of the sum tree.\n",
    "            idx (int): The index of the tree where the priority was updated.\n",
    "            change (float): The amount of change in priority.\n",
    "\n",
    "        Returns:\n",
    "            jnp.ndarray: The updated tree after propagation.\n",
    "        \"\"\"\n",
    "\n",
    "        def _cond_fn(val: tuple):\n",
    "            idx, _ = val\n",
    "            return idx != 0\n",
    "\n",
    "        def _while_body(val: tuple):\n",
    "            idx, tree = val\n",
    "            parent_idx = (idx - 1) // 2\n",
    "            tree = tree.at[parent_idx].add(change)\n",
    "            return parent_idx, tree\n",
    "\n",
    "        val_init = (idx, tree)\n",
    "        _, tree = lax.while_loop(_cond_fn, _while_body, val_init)\n",
    "        return tree\n",
    "\n",
    "    def update(self, tree: jnp.ndarray, idx: int, priority: float) -> jnp.ndarray:\n",
    "        \"\"\"\n",
    "        Update a priority in the tree at a specific index and propagate the change.\n",
    "\n",
    "        Args:\n",
    "            tree (jnp.ndarray): The current state of the sum tree.\n",
    "            idx (int): The index in the tree where the priority is to be updated.\n",
    "            priority (float): The new priority value.\n",
    "\n",
    "        Returns:\n",
    "            jnp.ndarray: The updated tree after the priority change.\n",
    "        \"\"\"\n",
    "        change = priority - tree.at[idx].get()\n",
    "        tree = tree.at[idx].set(priority)\n",
    "        return self._propagate(tree, idx, change)\n",
    "\n",
    "    def get_leaf(self, tree: jnp.ndarray, value: float) -> Tuple[int, int, float]:\n",
    "        \"\"\"\n",
    "        Retrieve the index and value of a leaf based on a given value.\n",
    "\n",
    "        Args:\n",
    "            tree (jnp.ndarray): The current state of the sum tree.\n",
    "            value (float): A value to query the tree with.\n",
    "\n",
    "        Returns:\n",
    "            Tuple[int, int, float]: The index of the tree, index of the sample, and value of the leaf.\n",
    "        \"\"\"\n",
    "        idx = self._retrieve(tree, 0, value)\n",
    "        sample_idx = idx - len(tree) + 1\n",
    "        return idx, sample_idx, tree[idx]\n",
    "\n",
    "    def _retrieve(self, tree: jnp.ndarray, idx: int, value: float):\n",
    "        def is_leaf():\n",
    "            return idx\n",
    "\n",
    "        def is_not_leaf():\n",
    "            return lax.cond(\n",
    "                value <= tree[left],\n",
    "                lambda: self.retrieve(tree, left, value),\n",
    "                lambda: self.retrieve(tree, right, value - tree[left]),\n",
    "            )\n",
    "\n",
    "        left = 2 * idx + 1\n",
    "        right = left + 1\n",
    "        is_leaf_node = left >= len(tree)\n",
    "\n",
    "        return lax.cond(\n",
    "            is_leaf_node,\n",
    "            is_leaf,\n",
    "            is_not_leaf,\n",
    "        )"
   ]
  },
  {
   "cell_type": "code",
   "execution_count": 14,
   "metadata": {},
   "outputs": [
    {
     "name": "stdout",
     "output_type": "stream",
     "text": [
      "[0. 0. 0. 0. 0. 0. 0. 0.]\n",
      "[5. 0. 5. 0. 0. 0. 5. 0.]\n"
     ]
    },
    {
     "data": {
      "text/plain": [
       "(Array([7., 0., 7., 0., 0., 2., 5., 0.], dtype=float32),\n",
       " Array(0, dtype=int32, weak_type=True))"
      ]
     },
     "execution_count": 14,
     "metadata": {},
     "output_type": "execute_result"
    }
   ],
   "source": [
    "tree = jnp.zeros(8)\n",
    "sum_tree = SumTree(len(tree))\n",
    "# tree = sum_tree.propagate(tree, 5, 1)\n",
    "print(tree)\n",
    "tree = sum_tree.update(tree, 6, 5)\n",
    "print(tree)\n",
    "sum_tree.add(tree, 2, 4)"
   ]
  },
  {
   "cell_type": "code",
   "execution_count": null,
   "metadata": {},
   "outputs": [],
   "source": []
  },
  {
   "cell_type": "code",
   "execution_count": null,
   "metadata": {},
   "outputs": [
    {
     "name": "stderr",
     "output_type": "stream",
     "text": [
      "c:\\Users\\ryanp\\AppData\\Local\\pypoetry\\Cache\\virtualenvs\\jax-rl-KPtyfD6I-py3.10\\lib\\site-packages\\jax\\_src\\ops\\scatter.py:94: FutureWarning: scatter inputs have incompatible types: cannot safely cast value from dtype=int32 to dtype=bool with jax_numpy_dtype_promotion='standard'. In future JAX releases this will result in an error.\n",
      "  warnings.warn(\n",
      "c:\\Users\\ryanp\\AppData\\Local\\pypoetry\\Cache\\virtualenvs\\jax-rl-KPtyfD6I-py3.10\\lib\\site-packages\\jax\\_src\\ops\\scatter.py:94: FutureWarning: scatter inputs have incompatible types: cannot safely cast value from dtype=float32 to dtype=bool with jax_numpy_dtype_promotion='standard'. In future JAX releases this will result in an error.\n",
      "  warnings.warn(\n"
     ]
    }
   ],
   "source": [
    "key = random.PRNGKey(0)\n",
    "env = Breakout()\n",
    "state, obs, env_key = env.reset(key)"
   ]
  },
  {
   "cell_type": "code",
   "execution_count": null,
   "metadata": {},
   "outputs": [],
   "source": [
    "exp = Experience(\n",
    "    state=obs,\n",
    "    action=jnp.int32(\n",
    "        1,\n",
    "    ),\n",
    "    reward=jnp.float32(\n",
    "        1,\n",
    "    ),\n",
    "    next_state=obs,\n",
    "    done=jnp.bool_(False),\n",
    "    td_error=jnp.float32(\n",
    "        0.5,\n",
    "    ),\n",
    ")"
   ]
  },
  {
   "cell_type": "code",
   "execution_count": null,
   "metadata": {},
   "outputs": [
    {
     "data": {
      "text/plain": [
       "{'action': (100000,),\n",
       " 'done': (100000,),\n",
       " 'next_state': (100000, 10, 10, 4),\n",
       " 'reward': (100000,),\n",
       " 'state': (100000, 10, 10, 4),\n",
       " 'td_error': (100000,)}"
      ]
     },
     "execution_count": 6,
     "metadata": {},
     "output_type": "execute_result"
    }
   ],
   "source": [
    "BUFFER_SIZE = 100_000\n",
    "STATE_SHAPE = (10, 10, 4)\n",
    "\n",
    "per = PrioritizedExperienceReplay(BUFFER_SIZE, 32)\n",
    "buffer_state = {\n",
    "    \"state\": jnp.empty((BUFFER_SIZE, *STATE_SHAPE), dtype=jnp.float32),\n",
    "    \"action\": jnp.empty((BUFFER_SIZE,), dtype=jnp.int32),\n",
    "    \"reward\": jnp.empty((BUFFER_SIZE,), dtype=jnp.int32),\n",
    "    \"next_state\": jnp.empty((BUFFER_SIZE, *STATE_SHAPE), dtype=jnp.float32),\n",
    "    \"done\": jnp.empty((BUFFER_SIZE,), dtype=jnp.bool_),\n",
    "    \"td_error\": jnp.empty((BUFFER_SIZE), dtype=jnp.float32),\n",
    "}\n",
    "jax.tree_map(lambda x: x.shape, buffer_state)"
   ]
  },
  {
   "cell_type": "code",
   "execution_count": null,
   "metadata": {},
   "outputs": [],
   "source": []
  }
 ],
 "metadata": {
  "kernelspec": {
   "display_name": "jax-rl-KPtyfD6I-py3.10",
   "language": "python",
   "name": "python3"
  },
  "language_info": {
   "codemirror_mode": {
    "name": "ipython",
    "version": 3
   },
   "file_extension": ".py",
   "mimetype": "text/x-python",
   "name": "python",
   "nbconvert_exporter": "python",
   "pygments_lexer": "ipython3",
   "version": "3.10.7"
  }
 },
 "nbformat": 4,
 "nbformat_minor": 2
}
