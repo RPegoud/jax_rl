{
 "cells": [
  {
   "cell_type": "code",
   "execution_count": 1,
   "metadata": {},
   "outputs": [
    {
     "name": "stderr",
     "output_type": "stream",
     "text": [
      "c:\\Users\\ryanp\\AppData\\Local\\pypoetry\\Cache\\virtualenvs\\jax-rl-KPtyfD6I-py3.10\\lib\\site-packages\\tqdm\\auto.py:21: TqdmWarning: IProgress not found. Please update jupyter and ipywidgets. See https://ipywidgets.readthedocs.io/en/stable/user_install.html\n",
      "  from .autonotebook import tqdm as notebook_tqdm\n"
     ]
    }
   ],
   "source": [
    "import sys\n",
    "import jax\n",
    "import jax.numpy as jnp\n",
    "import pandas as pd\n",
    "import plotly.express as px\n",
    "import plotly.graph_objects as go\n",
    "import optax\n",
    "import haiku as hk\n",
    "import plotly.graph_objects as go\n",
    "import numpy as np\n",
    "import chex \n",
    "\n",
    "from functools import partial\n",
    "from jax import random, vmap, lax, tree_map\n",
    "from chex import dataclass\n",
    "from jax_tqdm import loop_tqdm\n",
    "from typing import Tuple, List, Dict\n",
    "\n",
    "sys.path.append(\"../../\")\n",
    "from jym import (\n",
    "    Breakout,\n",
    "    DQN_PER,\n",
    "    per_rollout,\n",
    "    SumTree,\n",
    "    Experience,\n",
    "    PrioritizedExperienceReplay,\n",
    ")"
   ]
  },
  {
   "cell_type": "code",
   "execution_count": 55,
   "metadata": {},
   "outputs": [
    {
     "name": "stdout",
     "output_type": "stream",
     "text": [
      "ball_x True\n",
      "last_x True\n",
      "ball_y True\n",
      "last_y True\n",
      "ball_dir True\n",
      "pos True\n",
      "brick_map True\n",
      "strike True\n",
      "time True\n",
      "done True\n"
     ]
    },
    {
     "name": "stderr",
     "output_type": "stream",
     "text": [
      "c:\\Users\\ryanp\\AppData\\Local\\pypoetry\\Cache\\virtualenvs\\jax-rl-KPtyfD6I-py3.10\\lib\\site-packages\\jax\\_src\\ops\\scatter.py:94: FutureWarning: scatter inputs have incompatible types: cannot safely cast value from dtype=float32 to dtype=int32 with jax_numpy_dtype_promotion='standard'. In future JAX releases this will result in an error.\n",
      "  warnings.warn(\n"
     ]
    }
   ],
   "source": [
    "@chex.dataclass\n",
    "class EnvState:\n",
    "    ball_x: int\n",
    "    last_x: int\n",
    "    ball_y: int\n",
    "    last_y: int\n",
    "    ball_dir: int\n",
    "    pos: int\n",
    "    brick_map: jnp.ndarray\n",
    "    strike: bool\n",
    "    time: int\n",
    "    done: bool\n",
    "\n",
    "@chex.dataclass\n",
    "class EnvState_:\n",
    "    ball_x: int\n",
    "    last_x: int\n",
    "    ball_y: int\n",
    "    last_y: int\n",
    "    ball_dir: int\n",
    "    pos: int\n",
    "    brick_map: jnp.ndarray\n",
    "    strike: bool\n",
    "    time: int\n",
    "    terminal: bool\n",
    "\n",
    "key = random.PRNGKey(0)\n",
    "env = Breakout()\n",
    "state, obs, env_key = env.reset(key)\n",
    "\n",
    "\n",
    "expected = {\"x\": 9, \"y\": 3, \"ball_dir\": 3}\n",
    "expected_state = EnvState(\n",
    "    ball_x=expected[\"x\"],\n",
    "    last_x=expected[\"x\"],\n",
    "    ball_y=expected[\"y\"],\n",
    "    last_y=expected[\"y\"],\n",
    "    ball_dir=expected[\"ball_dir\"],\n",
    "    pos=4,\n",
    "    brick_map=jnp.zeros((10, 10)).at[1:4, :].set(1),\n",
    "    strike=False,\n",
    "    time=0,\n",
    "    done=False,\n",
    ")\n",
    "\n",
    "for i in state:\n",
    "    print(i, jnp.all(state[i] == expected_state[i]))\n"
   ]
  },
  {
   "cell_type": "code",
   "execution_count": 3,
   "metadata": {},
   "outputs": [
    {
     "name": "stderr",
     "output_type": "stream",
     "text": [
      "c:\\Users\\ryanp\\AppData\\Local\\pypoetry\\Cache\\virtualenvs\\jax-rl-KPtyfD6I-py3.10\\lib\\site-packages\\jax\\_src\\ops\\scatter.py:94: FutureWarning: scatter inputs have incompatible types: cannot safely cast value from dtype=float32 to dtype=int32 with jax_numpy_dtype_promotion='standard'. In future JAX releases this will result in an error.\n",
      "  warnings.warn(\n"
     ]
    },
    {
     "data": {
      "text/plain": [
       "Array([[0., 0., 0., 0., 0., 0., 0., 0., 0., 0.],\n",
       "       [1., 1., 1., 1., 1., 1., 1., 1., 1., 1.],\n",
       "       [1., 1., 1., 1., 1., 1., 1., 1., 1., 1.],\n",
       "       [1., 1., 1., 1., 1., 1., 1., 1., 1., 3.],\n",
       "       [0., 0., 0., 0., 0., 0., 0., 0., 0., 0.],\n",
       "       [0., 0., 0., 0., 0., 0., 0., 0., 0., 0.],\n",
       "       [0., 0., 0., 0., 0., 0., 0., 0., 0., 0.],\n",
       "       [0., 0., 0., 0., 0., 0., 0., 0., 0., 0.],\n",
       "       [0., 0., 0., 0., 0., 0., 0., 0., 0., 0.],\n",
       "       [0., 0., 0., 0., 1., 0., 0., 0., 0., 0.]], dtype=float32)"
      ]
     },
     "execution_count": 3,
     "metadata": {},
     "output_type": "execute_result"
    }
   ],
   "source": [
    "env._get_obs(state).sum(axis=-1)"
   ]
  },
  {
   "cell_type": "markdown",
   "metadata": {},
   "source": [
    "def play_n_steps(n: int):\n",
    "    key = random.PRNGKey(0)\n",
    "    env = Breakout()\n",
    "    state, obs, env_key = env.reset(key)\n",
    "\n",
    "    for step in range(n):\n",
    "        print(f\"Game state, step {step}:\")\n",
    "        print(obs.sum(axis=-1))\n",
    "        action = int(input(\"Select an action:\"))\n",
    "        state, next_state, reward, done, env_key = env.step(state, env_key, action)\n",
    "    return state, obs\n",
    "\n",
    "state, obs = play_n_steps(15)"
   ]
  },
  {
   "cell_type": "code",
   "execution_count": 112,
   "metadata": {},
   "outputs": [],
   "source": [
    "expected = {\n",
    "    \"start_coord\": (0, 6),\n",
    "    \"ball_dir\": 3,\n",
    "    \"next_ball_dir\": 2,\n",
    "    \"next_coord\": (1, 7),\n",
    "}\n",
    "env = Breakout()\n",
    "state = EnvState_(\n",
    "    ball_x=expected[\"start_coord\"][0],\n",
    "    last_x=expected[\"start_coord\"][0],\n",
    "    ball_y=expected[\"start_coord\"][1],\n",
    "    last_y=expected[\"start_coord\"][1],\n",
    "    ball_dir=expected[\"ball_dir\"],\n",
    "    pos=9,\n",
    "    brick_map=jnp.zeros((10, 10)).at[1:4, :].set(1),\n",
    "    strike=False,\n",
    "    time=0,\n",
    "    terminal=False,\n",
    ")\n",
    "\n",
    "state_ = EnvState(\n",
    "    ball_x=expected[\"start_coord\"][0],\n",
    "    last_x=expected[\"start_coord\"][0],\n",
    "    ball_y=expected[\"start_coord\"][1],\n",
    "    last_y=expected[\"start_coord\"][1],\n",
    "    ball_dir=expected[\"ball_dir\"],\n",
    "    pos=4,\n",
    "    brick_map=jnp.zeros((10, 10)).at[1:4, :].set(1),\n",
    "    strike=False,\n",
    "    time=0,\n",
    "    done=False,\n",
    ")\n",
    "# state, new_x, new_y = env._agent_step(state, action=0)\n",
    "# print(state.ball_x, state.ball_y, new_x, new_y)\n",
    "# state, reward = env._step_ball_brick(state, new_x, new_y)\n",
    "# print(state.ball_x, state.ball_y)\n",
    "# state, new_x, new_y = env._agent_step(state, action=0)\n",
    "# print(state.ball_x, state.ball_y, new_x, new_y)\n",
    "# state, reward = env._step_ball_brick(state, new_x, new_y)\n",
    "# print(state.ball_x, state.ball_y)"
   ]
  },
  {
   "cell_type": "code",
   "execution_count": 104,
   "metadata": {},
   "outputs": [
    {
     "name": "stdout",
     "output_type": "stream",
     "text": [
      "0 6\n",
      "0 7\n",
      "0 7\n",
      "1 8\n",
      "1 8\n",
      "2 9\n",
      "2 9\n",
      "3 10\n",
      "3 10\n",
      "4 11\n",
      "4 11\n",
      "5 12\n",
      "5 12\n",
      "6 13\n",
      "6 13\n",
      "7 14\n",
      "7 14\n",
      "8 15\n",
      "8 15\n",
      "9 16\n",
      "9 16\n",
      "9 17\n",
      "9 17\n",
      "8 18\n",
      "8 18\n",
      "7 19\n",
      "7 19\n",
      "6 20\n",
      "6 20\n",
      "5 21\n",
      "5 21\n",
      "4 22\n",
      "4 22\n",
      "3 23\n",
      "3 23\n",
      "2 24\n",
      "2 24\n",
      "1 25\n",
      "1 25\n",
      "0 26\n"
     ]
    }
   ],
   "source": [
    "def step_agent_(state: EnvState, action: int) -> Tuple[EnvState, int, int]:\n",
    "    \"\"\"Helper that steps the agent and checks boundary conditions.\"\"\"\n",
    "    # Update player position\n",
    "    pos = (\n",
    "        # Action left & border condition\n",
    "        jnp.maximum(0, state.pos - 1) * (action == 1)\n",
    "        # Action right & border condition\n",
    "        + jnp.minimum(9, state.pos + 1) * (action == 3)\n",
    "        # Don't move player if not l/r chosen\n",
    "        + state.pos * jnp.logical_and(action != 1, action != 3)\n",
    "    )\n",
    "\n",
    "    # Update ball position - based on direction of movement\n",
    "    last_x = state.ball_x\n",
    "    last_y = state.ball_y\n",
    "    new_x = (\n",
    "        (state.ball_x - 1) * (state.ball_dir == 0)\n",
    "        + (state.ball_x + 1) * (state.ball_dir == 1)\n",
    "        + (state.ball_x + 1) * (state.ball_dir == 2)\n",
    "        + (state.ball_x - 1) * (state.ball_dir == 3)\n",
    "    )\n",
    "    new_y = (\n",
    "        (state.ball_y - 1) * (state.ball_dir == 0)\n",
    "        + (state.ball_y - 1) * (state.ball_dir == 1)\n",
    "        + (state.ball_y + 1) * (state.ball_dir == 2)\n",
    "        + (state.ball_y + 1) * (state.ball_dir == 3)\n",
    "    )\n",
    "\n",
    "    # Boundary conditions for x position\n",
    "    border_cond_x = jnp.logical_or(new_x < 0, new_x > 9)\n",
    "    new_x = jax.lax.select(\n",
    "        border_cond_x, (0 * (new_x < 0) + 9 * (new_x > 9)), new_x\n",
    "    )\n",
    "    # Reflect ball direction if bounced off at x border\n",
    "    ball_dir = jax.lax.select(\n",
    "        border_cond_x, jnp.array([1, 0, 3, 2])[state.ball_dir], state.ball_dir\n",
    "    )\n",
    "    return (\n",
    "        state.replace(\n",
    "            pos=pos,\n",
    "            last_x=last_x,\n",
    "            last_y=last_y,\n",
    "            ball_dir=ball_dir,\n",
    "        ),\n",
    "        new_x,\n",
    "        new_y,\n",
    "    )\n",
    "\n",
    "\n",
    "def step_ball_brick_(\n",
    "    state: EnvState, new_x: int, new_y: int\n",
    ") -> Tuple[EnvState, float]:\n",
    "    \"\"\"Helper that computes reward and termination cond. from brickmap.\"\"\"\n",
    "    reward = 0\n",
    "\n",
    "    # Reflect ball direction if bounced off at y border\n",
    "    border_cond1_y = new_y < 0\n",
    "    new_y = lax.select(border_cond1_y, 0, new_y)\n",
    "    ball_dir = lax.select(\n",
    "        border_cond1_y, jnp.array([3, 2, 1, 0])[state.ball_dir], state.ball_dir\n",
    "    )\n",
    "\n",
    "    # 1st NASTY ELIF BEGINS HERE... = Brick collision\n",
    "    strike_toggle = jnp.logical_and(\n",
    "        1 - border_cond1_y, state.brick_map[new_y, new_x] == 1\n",
    "    )\n",
    "    strike_bool = jnp.logical_and((1 - state.strike), strike_toggle)\n",
    "    reward += strike_bool * 1.0\n",
    "    strike = jax.lax.select(strike_toggle, strike_bool, False)\n",
    "\n",
    "    brick_map = jax.lax.select(\n",
    "        strike_bool, state.brick_map.at[new_y, new_x].set(0), state.brick_map\n",
    "    )\n",
    "    new_y = jax.lax.select(strike_bool, state.last_y, new_y)\n",
    "    ball_dir = jax.lax.select(\n",
    "        strike_bool, jnp.array([3, 2, 1, 0])[ball_dir], ball_dir\n",
    "    )\n",
    "\n",
    "    # 2nd NASTY ELIF BEGINS HERE... = Wall collision\n",
    "    brick_cond = jnp.logical_and(1 - strike_toggle, new_y == 9)\n",
    "\n",
    "    # Spawn new bricks if there are no more around - everything is collected\n",
    "    spawn_bricks = jnp.logical_and(\n",
    "        brick_cond, jnp.count_nonzero(brick_map) == 0\n",
    "    )\n",
    "    brick_map = jax.lax.select(\n",
    "        spawn_bricks, brick_map.at[1:4, :].set(1), brick_map\n",
    "    )\n",
    "\n",
    "    # Redirect ball because it collided with old player position\n",
    "    redirect_ball1 = jnp.logical_and(brick_cond, state.ball_x == state.pos)\n",
    "    ball_dir = jax.lax.select(\n",
    "        redirect_ball1, jnp.array([3, 2, 1, 0])[ball_dir], ball_dir\n",
    "    )\n",
    "    new_y = jax.lax.select(redirect_ball1, state.last_y, new_y)\n",
    "\n",
    "    # Redirect ball because it collided with new player position\n",
    "    redirect_ball2a = jnp.logical_and(brick_cond, 1 - redirect_ball1)\n",
    "    redirect_ball2 = jnp.logical_and(redirect_ball2a, new_x == state.pos)\n",
    "    ball_dir = jax.lax.select(\n",
    "        redirect_ball2, jnp.array([2, 3, 0, 1])[ball_dir], ball_dir\n",
    "    )\n",
    "    new_y = jax.lax.select(redirect_ball2, state.last_y, new_y)\n",
    "    redirect_cond = jnp.logical_and(1 - redirect_ball1, 1 - redirect_ball2)\n",
    "    terminal = jnp.logical_and(brick_cond, redirect_cond)\n",
    "\n",
    "    strike = jax.lax.select(1 - strike_toggle == 1, False, True)\n",
    "    return (\n",
    "        state.replace(\n",
    "            ball_dir=ball_dir,\n",
    "            brick_map=brick_map,\n",
    "            strike=strike,\n",
    "            ball_x=new_x,\n",
    "            ball_y=new_y,\n",
    "            terminal=terminal,\n",
    "        ),\n",
    "        reward,\n",
    "    )\n",
    "\n",
    "for _ in range(20):\n",
    "    state, new_x_, new_y_ = step_agent_(state, 0)\n",
    "    print(state.ball_x, state.ball_y)\n",
    "    state, reward = step_ball_brick_(state, new_x_, new_y_)\n",
    "    print(state.ball_x, state.ball_y)"
   ]
  },
  {
   "cell_type": "code",
   "execution_count": 113,
   "metadata": {},
   "outputs": [
    {
     "name": "stdout",
     "output_type": "stream",
     "text": [
      "0 7 False\n",
      "1 8 False\n",
      "2 9 True\n",
      "3 9 True\n",
      "4 9 False\n",
      "3 8 False\n",
      "2 7 False\n",
      "1 6 False\n",
      "0 5 False\n",
      "0 4 False\n",
      "1 4 False\n",
      "2 5 False\n",
      "3 6 False\n",
      "4 7 False\n",
      "5 8 False\n",
      "6 9 True\n",
      "7 9 True\n",
      "8 9 True\n",
      "9 9 True\n",
      "9 9 True\n"
     ]
    }
   ],
   "source": [
    "for _ in range(20):\n",
    "    state_, new_x_, new_y_ = env._agent_step(state_, 0)\n",
    "    state_, reward = env._step_ball_brick(state_, new_x_, new_y_)\n",
    "    print(state_.ball_x, state_.ball_y, state_.done)\n"
   ]
  },
  {
   "cell_type": "code",
   "execution_count": 11,
   "metadata": {},
   "outputs": [
    {
     "data": {
      "text/plain": [
       "(EnvState(ball_x=0, last_x=0, ball_y=6, last_y=6, ball_dir=Array(2, dtype=int32), pos=Array(4, dtype=int32, weak_type=True), brick_map=Array([[0., 0., 0., 0., 0., 0., 0., 0., 0., 0.],\n",
       "        [1., 1., 1., 1., 1., 1., 1., 1., 1., 1.],\n",
       "        [1., 1., 1., 1., 1., 1., 1., 1., 1., 1.],\n",
       "        [1., 1., 1., 1., 1., 1., 1., 1., 1., 1.],\n",
       "        [0., 0., 0., 0., 0., 0., 0., 0., 0., 0.],\n",
       "        [0., 0., 0., 0., 0., 0., 0., 0., 0., 0.],\n",
       "        [0., 0., 0., 0., 0., 0., 0., 0., 0., 0.],\n",
       "        [0., 0., 0., 0., 0., 0., 0., 0., 0., 0.],\n",
       "        [0., 0., 0., 0., 0., 0., 0., 0., 0., 0.],\n",
       "        [0., 0., 0., 0., 0., 0., 0., 0., 0., 0.]], dtype=float32), strike=False, time=0, done=False),\n",
       " Array(0, dtype=int32, weak_type=True),\n",
       " Array(7, dtype=int32, weak_type=True))"
      ]
     },
     "execution_count": 11,
     "metadata": {},
     "output_type": "execute_result"
    }
   ],
   "source": [
    "def _dont_move(pos):\n",
    "    return pos\n",
    "\n",
    "\n",
    "def _move_left(pos):\n",
    "    return jnp.clip(pos - 1, 0, 9)\n",
    "\n",
    "\n",
    "def _move_right(pos):\n",
    "    return jnp.clip(pos + 1, 0, 9)\n",
    "\n",
    "\n",
    "# Update agent's position based on the action\n",
    "pos = lax.switch(\n",
    "    0,\n",
    "    [_dont_move, _move_left, _move_right],\n",
    "    operand=state.pos,\n",
    ")\n",
    "last_x = state.ball_x\n",
    "last_y = state.ball_y\n",
    "\n",
    "# Update ball position based on its direction\n",
    "new_x = lax.cond(\n",
    "    # if the ball is moving right\n",
    "    jnp.isin(state.ball_dir, jnp.array([1, 2])),\n",
    "    lambda x: x + 1,\n",
    "    lambda x: x - 1,\n",
    "    operand=state.ball_x,\n",
    ")\n",
    "new_y = lax.cond(\n",
    "    # if the ball is moving up\n",
    "    jnp.isin(state.ball_dir, jnp.array([2, 3])),\n",
    "    lambda y: y + 1,\n",
    "    lambda y: y - 1,\n",
    "    operand=state.ball_y,\n",
    ")\n",
    "\n",
    "# Check if the ball's new position is within the grid boundaries\n",
    "border_cond_x = jnp.logical_or(new_x < 0, new_x > 9)\n",
    "new_x = jnp.clip(new_x, 0, 9)  # Ensure ball stays within the grid\n",
    "\n",
    "# Update ball's direction if it hits horizontal boundaries\n",
    "ball_dir = lax.select(\n",
    "    border_cond_x,\n",
    "    jnp.array([1, 0, 3, 2])[state.ball_dir],\n",
    "    state.ball_dir,\n",
    ")\n",
    "\n",
    "state, new_x, new_y = (\n",
    "    state.replace(\n",
    "        pos=pos,\n",
    "        last_x=last_x,\n",
    "        last_y=last_y,\n",
    "        ball_dir=ball_dir,\n",
    "    ),\n",
    "    new_x,\n",
    "    new_y,\n",
    ")\n",
    "state, new_x, new_y"
   ]
  },
  {
   "cell_type": "code",
   "execution_count": 7,
   "metadata": {},
   "outputs": [
    {
     "ename": "SyntaxError",
     "evalue": "invalid syntax (2389114725.py, line 1)",
     "output_type": "error",
     "traceback": [
      "\u001b[1;36m  Cell \u001b[1;32mIn[7], line 1\u001b[1;36m\u001b[0m\n\u001b[1;33m    assert\u001b[0m\n\u001b[1;37m          ^\u001b[0m\n\u001b[1;31mSyntaxError\u001b[0m\u001b[1;31m:\u001b[0m invalid syntax\n"
     ]
    }
   ],
   "source": [
    "assert"
   ]
  },
  {
   "cell_type": "code",
   "execution_count": 58,
   "metadata": {},
   "outputs": [
    {
     "data": {
      "text/plain": [
       "(Array(0, dtype=int32, weak_type=True), Array(7, dtype=int32, weak_type=True))"
      ]
     },
     "execution_count": 58,
     "metadata": {},
     "output_type": "execute_result"
    }
   ],
   "source": [
    "env = Breakout()\n",
    "expected = {\n",
    "    \"start_coord\": (0, 6),\n",
    "    \"ball_dir\": 3,\n",
    "    \"next_ball_dir\": 2,\n",
    "    \"next_coord\": (1, 7),\n",
    "}\n",
    "state = EnvState(\n",
    "    ball_x=expected[\"start_coord\"][0],\n",
    "    last_x=expected[\"start_coord\"][0],\n",
    "    ball_y=expected[\"start_coord\"][1],\n",
    "    last_y=expected[\"start_coord\"][1],\n",
    "    ball_dir=expected[\"ball_dir\"],\n",
    "    pos=4,\n",
    "    brick_map=jnp.zeros((10, 10)).at[1:4, :].set(1),\n",
    "    strike=False,\n",
    "    time=0,\n",
    "    done=False,\n",
    ")\n",
    "# new_x, new_y = expected[\"next_coord\"]\n",
    "state, new_x, new_y = env._agent_step(state, action=0)\n",
    "new_x, new_y\n"
   ]
  },
  {
   "cell_type": "code",
   "execution_count": null,
   "metadata": {},
   "outputs": [
    {
     "name": "stdout",
     "output_type": "stream",
     "text": [
      "7\n",
      "False\n",
      "7\n"
     ]
    }
   ],
   "source": [
    "reward = 0\n",
    "\n",
    "# Reflect the ball's direction if it hits the top border\n",
    "border_cond_y = new_y < 0\n",
    "print(new_y)\n",
    "new_y = jnp.clip(new_y, 0, 9)  # Ensure new_y remains within the grid\n",
    "\n",
    "print(border_cond_y)\n",
    "print(new_y)"
   ]
  },
  {
   "cell_type": "code",
   "execution_count": null,
   "metadata": {},
   "outputs": [
    {
     "name": "stdout",
     "output_type": "stream",
     "text": [
      "False False 0.0\n"
     ]
    }
   ],
   "source": [
    "\n",
    "# Check for collision with a brick\n",
    "strike_toggle = jnp.logical_and(\n",
    "    jnp.invert(border_cond_y), state.brick_map[new_y, new_x] == 1\n",
    ")\n",
    "strike_bool = jnp.logical_and(jnp.invert(state.strike), strike_toggle)\n",
    "reward += jnp.float32(strike_bool)  # Increment reward if a brick is struck\n",
    "\n",
    "print(strike_toggle, strike_bool, reward)"
   ]
  },
  {
   "cell_type": "code",
   "execution_count": null,
   "metadata": {},
   "outputs": [
    {
     "name": "stdout",
     "output_type": "stream",
     "text": [
      "7 2\n"
     ]
    }
   ],
   "source": [
    "\n",
    "# Remove the brick on collision\n",
    "brick_map = lax.select(\n",
    "    strike_bool, state.brick_map.at[new_y, new_x].set(0), state.brick_map\n",
    ")\n",
    "\n",
    "# Update ball position and direction post-collision with brick\n",
    "new_y = lax.select(strike_bool, state.last_y, new_y)\n",
    "ball_dir = lax.select(\n",
    "    strike_bool, jnp.array([3, 2, 1, 0])[state.ball_dir], state.ball_dir\n",
    ")\n",
    "print(new_y, ball_dir)"
   ]
  },
  {
   "cell_type": "code",
   "execution_count": null,
   "metadata": {},
   "outputs": [
    {
     "name": "stdout",
     "output_type": "stream",
     "text": [
      "False False\n"
     ]
    }
   ],
   "source": [
    "\n",
    "# Check for ball at the bottom row but not colliding with a brick\n",
    "brick_cond = jnp.logical_and(jnp.invert(strike_toggle), new_y == 9)\n",
    "\n",
    "# Spawn new bricks if all are cleared\n",
    "spawn_bricks = jnp.logical_and(brick_cond, jnp.count_nonzero(brick_map) == 0)\n",
    "brick_map = lax.select(spawn_bricks, brick_map.at[1:4, :].set(1), brick_map)\n",
    "print(brick_cond, spawn_bricks)"
   ]
  },
  {
   "cell_type": "code",
   "execution_count": null,
   "metadata": {},
   "outputs": [
    {
     "name": "stdout",
     "output_type": "stream",
     "text": [
      "False 2 7\n"
     ]
    }
   ],
   "source": [
    "\n",
    "# Handle ball collision with paddle's old position\n",
    "redirect_ball_old = jnp.logical_and(brick_cond, state.ball_x == state.pos)\n",
    "ball_dir = lax.select(redirect_ball_old, jnp.array([3, 2, 1, 0])[ball_dir], ball_dir)\n",
    "new_y = lax.select(redirect_ball_old, state.last_y, new_y)\n",
    "print(redirect_ball_old, ball_dir, new_y)"
   ]
  },
  {
   "cell_type": "code",
   "execution_count": null,
   "metadata": {},
   "outputs": [
    {
     "name": "stdout",
     "output_type": "stream",
     "text": [
      "False False 2 7\n"
     ]
    }
   ],
   "source": [
    "# Handle ball collision with paddle's new position\n",
    "collision_new_pos = jnp.logical_and(brick_cond, jnp.invert(redirect_ball_old))\n",
    "redirect_ball_new = jnp.logical_and(collision_new_pos, new_x == state.pos)\n",
    "ball_dir = lax.select(\n",
    "    redirect_ball_new, jnp.array([2, 3, 0, 1])[ball_dir], ball_dir\n",
    ")\n",
    "new_y = lax.select(redirect_ball_new, state.last_y, new_y)\n",
    "print(collision_new_pos, redirect_ball_new, ball_dir, new_y)"
   ]
  },
  {
   "cell_type": "code",
   "execution_count": null,
   "metadata": {},
   "outputs": [
    {
     "data": {
      "text/plain": [
       "Array(4, dtype=int32, weak_type=True)"
      ]
     },
     "execution_count": 14,
     "metadata": {},
     "output_type": "execute_result"
    }
   ],
   "source": [
    "state.pos"
   ]
  },
  {
   "cell_type": "code",
   "execution_count": null,
   "metadata": {},
   "outputs": [
    {
     "name": "stdout",
     "output_type": "stream",
     "text": [
      "False\n"
     ]
    }
   ],
   "source": [
    "\n",
    "# Check if ball missed the paddle\n",
    "not_redirected = jnp.logical_and(\n",
    "    jnp.invert(redirect_ball_old), jnp.invert(redirect_ball_new)\n",
    ")\n",
    "\n",
    "# The game ends if the ball is on the bottom row and is not being redirected\n",
    "done = jnp.logical_and(brick_cond, not_redirected)\n",
    "\n",
    "# Update the strike state\n",
    "strike = jnp.bool_(strike_toggle)\n",
    "\n",
    "print(done)\n",
    "\n",
    "new_state, reward = (\n",
    "    state.replace(\n",
    "        ball_dir=ball_dir,\n",
    "        brick_map=brick_map,\n",
    "        strike=strike,\n",
    "        ball_x=new_x,\n",
    "        ball_y=new_y,\n",
    "        done=done,\n",
    "    ),\n",
    "    reward,\n",
    ")\n",
    "\n",
    "assert new_state.done == jnp.array(False, dtype=jnp.bool_)\n",
    "assert reward == 0.0"
   ]
  },
  {
   "cell_type": "code",
   "execution_count": null,
   "metadata": {},
   "outputs": [
    {
     "data": {
      "text/plain": [
       "Array(0, dtype=int32, weak_type=True)"
      ]
     },
     "execution_count": 16,
     "metadata": {},
     "output_type": "execute_result"
    }
   ],
   "source": [
    "new_state.ball_x"
   ]
  }
 ],
 "metadata": {
  "kernelspec": {
   "display_name": "jax-rl-KPtyfD6I-py3.10",
   "language": "python",
   "name": "python3"
  },
  "language_info": {
   "codemirror_mode": {
    "name": "ipython",
    "version": 3
   },
   "file_extension": ".py",
   "mimetype": "text/x-python",
   "name": "python",
   "nbconvert_exporter": "python",
   "pygments_lexer": "ipython3",
   "version": "3.10.7"
  }
 },
 "nbformat": 4,
 "nbformat_minor": 2
}
