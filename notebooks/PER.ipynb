{
 "cells": [
  {
   "cell_type": "code",
   "execution_count": 1,
   "metadata": {},
   "outputs": [
    {
     "name": "stderr",
     "output_type": "stream",
     "text": [
      "c:\\Users\\ryanp\\AppData\\Local\\pypoetry\\Cache\\virtualenvs\\jax-rl-KPtyfD6I-py3.10\\lib\\site-packages\\tqdm\\auto.py:21: TqdmWarning: IProgress not found. Please update jupyter and ipywidgets. See https://ipywidgets.readthedocs.io/en/stable/user_install.html\n",
      "  from .autonotebook import tqdm as notebook_tqdm\n"
     ]
    }
   ],
   "source": [
    "import sys\n",
    "import jax\n",
    "import jax.numpy as jnp\n",
    "import pandas as pd\n",
    "import plotly.express as px\n",
    "import plotly.graph_objects as go\n",
    "import optax\n",
    "import haiku as hk\n",
    "import plotly.graph_objects as go\n",
    "import numpy as np\n",
    "\n",
    "from jax import random, vmap, lax\n",
    "from chex import dataclass\n",
    "from jax_tqdm import loop_tqdm\n",
    "from typing import Tuple, List\n",
    "\n",
    "sys.path.append(\"../\")\n",
    "from src import Breakout, DQN, UniformReplayBuffer, minatar_rollout, BaseReplayBuffer, SumTree"
   ]
  },
  {
   "cell_type": "code",
   "execution_count": 2,
   "metadata": {},
   "outputs": [
    {
     "data": {
      "text/plain": [
       "{'action': (100000,),\n",
       " 'done': (100000,),\n",
       " 'next_state': (100000, 10, 10, 4),\n",
       " 'reward': (100000,),\n",
       " 'state': (100000, 10, 10, 4),\n",
       " 'td_error': (100000,)}"
      ]
     },
     "execution_count": 2,
     "metadata": {},
     "output_type": "execute_result"
    }
   ],
   "source": [
    "BUFFER_SIZE = 100_000\n",
    "STATE_SHAPE = (10, 10, 4)\n",
    "\n",
    "buffer_state = {\n",
    "    \"state\": jnp.empty((BUFFER_SIZE, *STATE_SHAPE), dtype=jnp.float32),\n",
    "    \"action\": jnp.empty((BUFFER_SIZE,), dtype=jnp.int32),\n",
    "    \"reward\": jnp.empty((BUFFER_SIZE,), dtype=jnp.int32),\n",
    "    \"next_state\": jnp.empty((BUFFER_SIZE, *STATE_SHAPE), dtype=jnp.float32),\n",
    "    \"done\": jnp.empty((BUFFER_SIZE,), dtype=jnp.bool_),\n",
    "    \"td_error\": jnp.empty((BUFFER_SIZE), dtype=jnp.float32),\n",
    "}\n",
    "jax.tree_map(lambda x: x.shape, buffer_state)"
   ]
  },
  {
   "cell_type": "code",
   "execution_count": 3,
   "metadata": {},
   "outputs": [],
   "source": [
    "@dataclass\n",
    "class Experience:\n",
    "    state: jnp.ndarray\n",
    "    action: int\n",
    "    reward: float\n",
    "    next_state: jnp.ndarray\n",
    "    done: bool\n",
    "    td_error: float\n",
    "\n",
    "\n",
    "class PrioritizedExperienceReplay(BaseReplayBuffer):\n",
    "    \"\"\"\n",
    "    Source: https://arxiv.org/pdf/1511.05952.pdf\n",
    "    \"\"\"\n",
    "\n",
    "    def __init__(\n",
    "        self, buffer_size: int, batch_size: int, alpha: float, beta: float\n",
    "    ) -> None:\n",
    "        super().__init__(buffer_size, batch_size)\n",
    "        self.sum_tree = SumTree(buffer_size)\n",
    "        self.alpha = alpha\n",
    "        self.beta = beta\n",
    "\n",
    "    def add(self, buffer_state: dict, experience: Experience, idx: int):\n",
    "        for field in experience:\n",
    "            # sumTree.add => tree, cursor => idx = cursor\n",
    "            buffer_state[field] = buffer_state[field].at[idx].set(experience[field])\n",
    "        return buffer_state\n",
    "\n",
    "    def sample(self, tree: jnp.ndarray) -> List[Experience]:\n",
    "        # compute the sampling probability\n",
    "        priorities = tree[-self.buffer_size :]\n",
    "        N = jnp.count_nonzero(priorities)\n",
    "        probs = priorities**self.alpha\n",
    "        P = probs / tree[0]  # tree[0] = probs.sum()\n",
    "\n",
    "        # select sample indices based on P\n",
    "\n",
    "        # compute importance sampling weight\n",
    "        # compute td error\n",
    "        # update transition priority\n",
    "        # accumulate weight change\n",
    "        pass\n",
    "\n",
    "    # def _compute_importance_sampling(self, prob:float):\n",
    "    # return jnp.power((self.buffer_size*prob), -self.beta) / jnp.max()\n",
    "\n",
    "    def _compute_td_error(\n",
    "        model: hk.Transformed,\n",
    "        online_net_params: dict,\n",
    "        target_net_params: dict,\n",
    "        discount: float,\n",
    "        experience: Experience,\n",
    "    ):\n",
    "        state, action, reward, next_state, done = experience\n",
    "        # TODO: check wheter 1-done belongs here\n",
    "        td_target = (\n",
    "            (1 - done)\n",
    "            * discount\n",
    "            * jnp.max(model.apply(target_net_params, None, next_state))\n",
    "        )\n",
    "        prediction = model.apply(online_net_params, None, state)[action]\n",
    "        return reward + td_target - prediction\n"
   ]
  },
  {
   "cell_type": "code",
   "execution_count": 4,
   "metadata": {},
   "outputs": [
    {
     "name": "stdout",
     "output_type": "stream",
     "text": [
      "[3.4 1.2 2.2 0.  1.2 2.2 0.  0.  0.  0.5 0.7 1.2 1.  0.  0.  0.  0.  0.\n",
      " 0. ]\n"
     ]
    },
    {
     "data": {
      "text/plain": [
       "(Array(11, dtype=int32, weak_type=True),\n",
       " Array(2, dtype=int32, weak_type=True),\n",
       " Array(1.2, dtype=float32))"
      ]
     },
     "execution_count": 4,
     "metadata": {},
     "output_type": "execute_result"
    }
   ],
   "source": [
    "capacity = 10  # number of leaf nodes\n",
    "tree = jnp.zeros(2 * capacity - 1)  # parent + leaf nodes\n",
    "sum_tree = SumTree(capacity)\n",
    "tree, cursor = sum_tree.add(tree, 0.5, 0)\n",
    "tree, cursor = sum_tree.add(tree, 0.7, cursor)\n",
    "tree, cursor = sum_tree.add(tree, 1.2, cursor)\n",
    "tree, cursor = sum_tree.add(tree, 1, cursor)\n",
    "print(tree)\n",
    "idx, sample_idx, tree_idx = sum_tree.get_leaf(tree, 1.3)\n",
    "idx, sample_idx, tree_idx"
   ]
  },
  {
   "cell_type": "code",
   "execution_count": 5,
   "metadata": {},
   "outputs": [
    {
     "data": {
      "text/plain": [
       "(Array([15, 10, 11, 12, 14, 14, 14, 14, 14, 14], dtype=int32, weak_type=True),\n",
       " Array([6, 1, 2, 3, 5, 5, 5, 5, 5, 5], dtype=int32, weak_type=True),\n",
       " Array([0. , 0.7, 1.2, 1. , 0. , 0. , 0. , 0. , 0. , 0. ], dtype=float32))"
      ]
     },
     "execution_count": 5,
     "metadata": {},
     "output_type": "execute_result"
    }
   ],
   "source": [
    "vmap(sum_tree.get_leaf, in_axes=(None, 0))(tree, jnp.arange(10, dtype=jnp.float32))"
   ]
  },
  {
   "cell_type": "code",
   "execution_count": 6,
   "metadata": {},
   "outputs": [
    {
     "name": "stderr",
     "output_type": "stream",
     "text": [
      "c:\\Users\\ryanp\\AppData\\Local\\pypoetry\\Cache\\virtualenvs\\jax-rl-KPtyfD6I-py3.10\\lib\\site-packages\\jax\\_src\\ops\\scatter.py:94: FutureWarning: scatter inputs have incompatible types: cannot safely cast value from dtype=int32 to dtype=bool with jax_numpy_dtype_promotion='standard'. In future JAX releases this will result in an error.\n",
      "  warnings.warn(\n",
      "c:\\Users\\ryanp\\AppData\\Local\\pypoetry\\Cache\\virtualenvs\\jax-rl-KPtyfD6I-py3.10\\lib\\site-packages\\jax\\_src\\ops\\scatter.py:94: FutureWarning: scatter inputs have incompatible types: cannot safely cast value from dtype=float32 to dtype=bool with jax_numpy_dtype_promotion='standard'. In future JAX releases this will result in an error.\n",
      "  warnings.warn(\n"
     ]
    }
   ],
   "source": [
    "key = random.PRNGKey(0)\n",
    "env = Breakout()\n",
    "state, obs, env_key = env.reset(key)"
   ]
  },
  {
   "cell_type": "code",
   "execution_count": 7,
   "metadata": {},
   "outputs": [],
   "source": [
    "exp = Experience(\n",
    "    state=obs,\n",
    "    action=jnp.int32(\n",
    "        1,\n",
    "    ),\n",
    "    reward=jnp.float32(\n",
    "        1,\n",
    "    ),\n",
    "    next_state=obs,\n",
    "    done=jnp.bool_(False),\n",
    "    td_error=jnp.float32(\n",
    "        0.5,\n",
    "    ),\n",
    ")"
   ]
  }
 ],
 "metadata": {
  "kernelspec": {
   "display_name": "jax-rl-KPtyfD6I-py3.10",
   "language": "python",
   "name": "python3"
  },
  "language_info": {
   "codemirror_mode": {
    "name": "ipython",
    "version": 3
   },
   "file_extension": ".py",
   "mimetype": "text/x-python",
   "name": "python",
   "nbconvert_exporter": "python",
   "pygments_lexer": "ipython3",
   "version": "3.10.7"
  }
 },
 "nbformat": 4,
 "nbformat_minor": 2
}
