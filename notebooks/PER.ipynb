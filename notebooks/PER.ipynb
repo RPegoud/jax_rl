{
 "cells": [
  {
   "cell_type": "code",
   "execution_count": 11,
   "metadata": {},
   "outputs": [],
   "source": [
    "import sys\n",
    "import jax\n",
    "import jax.numpy as jnp\n",
    "import pandas as pd\n",
    "import plotly.express as px\n",
    "import plotly.graph_objects as go\n",
    "import optax\n",
    "import haiku as hk\n",
    "import plotly.graph_objects as go\n",
    "import numpy as np\n",
    "\n",
    "from functools import partial\n",
    "from jax import random, vmap, lax, tree_map\n",
    "from chex import dataclass\n",
    "from jax_tqdm import loop_tqdm\n",
    "from typing import Tuple, List\n",
    "\n",
    "sys.path.append(\"../\")\n",
    "from jym import (\n",
    "    Breakout,\n",
    "    DQN,\n",
    "    UniformReplayBuffer,\n",
    "    minatar_rollout,\n",
    "    SumTree,\n",
    "    Experience,\n",
    "    PrioritizedExperienceReplay\n",
    ")"
   ]
  },
  {
   "cell_type": "code",
   "execution_count": 12,
   "metadata": {},
   "outputs": [
    {
     "data": {
      "text/plain": [
       "{'action': (64,),\n",
       " 'done': (64,),\n",
       " 'next_state': (64, 10, 10, 4),\n",
       " 'priority': (64,),\n",
       " 'reward': (64,),\n",
       " 'state': (64, 10, 10, 4)}"
      ]
     },
     "execution_count": 12,
     "metadata": {},
     "output_type": "execute_result"
    }
   ],
   "source": [
    "BUFFER_SIZE = 64\n",
    "BATCH_SIZE = 8\n",
    "STATE_SHAPE = (10, 10, 4)\n",
    "\n",
    "buffer_state = {\n",
    "    \"state\": jnp.empty((BUFFER_SIZE, *STATE_SHAPE), dtype=jnp.float32),\n",
    "    \"action\": jnp.empty((BUFFER_SIZE,), dtype=jnp.int32),\n",
    "    \"reward\": jnp.empty((BUFFER_SIZE,), dtype=jnp.int32),\n",
    "    \"next_state\": jnp.empty((BUFFER_SIZE, *STATE_SHAPE), dtype=jnp.float32),\n",
    "    \"done\": jnp.empty((BUFFER_SIZE,), dtype=jnp.bool_),\n",
    "    \"priority\": jnp.empty((BUFFER_SIZE), dtype=jnp.float32),\n",
    "}\n",
    "jax.tree_map(lambda x: x.shape, buffer_state)"
   ]
  },
  {
   "cell_type": "code",
   "execution_count": 13,
   "metadata": {},
   "outputs": [
    {
     "name": "stderr",
     "output_type": "stream",
     "text": [
      "c:\\Users\\ryanp\\AppData\\Local\\pypoetry\\Cache\\virtualenvs\\jax-rl-KPtyfD6I-py3.10\\lib\\site-packages\\jax\\_src\\ops\\scatter.py:94: FutureWarning: scatter inputs have incompatible types: cannot safely cast value from dtype=int32 to dtype=bool with jax_numpy_dtype_promotion='standard'. In future JAX releases this will result in an error.\n",
      "  warnings.warn(\n",
      "c:\\Users\\ryanp\\AppData\\Local\\pypoetry\\Cache\\virtualenvs\\jax-rl-KPtyfD6I-py3.10\\lib\\site-packages\\jax\\_src\\ops\\scatter.py:94: FutureWarning: scatter inputs have incompatible types: cannot safely cast value from dtype=float32 to dtype=bool with jax_numpy_dtype_promotion='standard'. In future JAX releases this will result in an error.\n",
      "  warnings.warn(\n"
     ]
    }
   ],
   "source": [
    "key = random.PRNGKey(0)\n",
    "env = Breakout()\n",
    "state, obs, env_key = env.reset(key)"
   ]
  },
  {
   "cell_type": "code",
   "execution_count": 14,
   "metadata": {},
   "outputs": [],
   "source": [
    "exp = Experience(\n",
    "    state=obs,\n",
    "    action=jnp.int32(1),\n",
    "    reward=jnp.float32(1),\n",
    "    next_state=obs,\n",
    "    done=jnp.bool_(False),\n",
    ")\n",
    "\n",
    "per = PrioritizedExperienceReplay(BUFFER_SIZE, BATCH_SIZE, 0.5, 0.5)"
   ]
  },
  {
   "cell_type": "code",
   "execution_count": 15,
   "metadata": {},
   "outputs": [
    {
     "data": {
      "text/plain": [
       "Array([0., 0., 0., 0., 0., 0., 0., 0., 0., 0., 0., 0., 0., 0., 0., 0., 0.,\n",
       "       0., 0., 0., 0., 0., 0., 0., 0., 0., 0., 0., 0., 0., 0., 0., 0., 0.,\n",
       "       0., 0., 0., 0., 0., 0., 0., 0., 0., 0., 0., 0., 0., 0., 0., 0., 0.,\n",
       "       0., 0., 0., 0., 0., 0., 0., 0., 0., 0., 0., 0., 0., 0., 0., 0., 0.,\n",
       "       0., 0., 0., 0., 0., 0., 0., 0., 0., 0., 0., 0., 0., 0., 0., 0., 0.,\n",
       "       0., 0., 0., 0., 0., 0., 0., 0., 0., 0., 0., 0., 0., 0., 0., 0., 0.,\n",
       "       0., 0., 0., 0., 0., 0., 0., 0., 0., 0., 0., 0., 0., 0., 0., 0., 0.,\n",
       "       0., 0., 0., 0., 0., 0., 0., 0.], dtype=float32)"
      ]
     },
     "execution_count": 15,
     "metadata": {},
     "output_type": "execute_result"
    }
   ],
   "source": [
    "tree_state = jnp.zeros(2 * BUFFER_SIZE - 1)\n",
    "tree_state"
   ]
  }
 ],
 "metadata": {
  "kernelspec": {
   "display_name": "jax-rl-KPtyfD6I-py3.10",
   "language": "python",
   "name": "python3"
  },
  "language_info": {
   "codemirror_mode": {
    "name": "ipython",
    "version": 3
   },
   "file_extension": ".py",
   "mimetype": "text/x-python",
   "name": "python",
   "nbconvert_exporter": "python",
   "pygments_lexer": "ipython3",
   "version": "3.10.7"
  }
 },
 "nbformat": 4,
 "nbformat_minor": 2
}
