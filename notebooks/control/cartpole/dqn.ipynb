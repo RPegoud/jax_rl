{
 "cells": [
  {
   "cell_type": "code",
   "execution_count": 1,
   "metadata": {},
   "outputs": [
    {
     "name": "stderr",
     "output_type": "stream",
     "text": [
      "c:\\Users\\ryanp\\AppData\\Local\\pypoetry\\Cache\\virtualenvs\\jax-rl-KPtyfD6I-py3.10\\lib\\site-packages\\tqdm\\auto.py:21: TqdmWarning: IProgress not found. Please update jupyter and ipywidgets. See https://ipywidgets.readthedocs.io/en/stable/user_install.html\n",
      "  from .autonotebook import tqdm as notebook_tqdm\n"
     ]
    }
   ],
   "source": [
    "import jax\n",
    "import jax.numpy as jnp\n",
    "import pandas as pd\n",
    "import plotly.express as px\n",
    "import plotly.graph_objects as go\n",
    "\n",
    "from jax import random, lax, jit, vmap, pmap\n",
    "from functools import partial\n",
    "from jax_tqdm import loop_tqdm\n",
    "\n",
    "import sys\n",
    "\n",
    "sys.path.append(\"../../../\")\n",
    "\n",
    "from src import CartPole, DQN, EpsilonGreedy, MLP, UniformReplayBuffer"
   ]
  },
  {
   "cell_type": "code",
   "execution_count": 2,
   "metadata": {},
   "outputs": [],
   "source": [
    "SEED = 2\n",
    "DISCOUNT = 0.9\n",
    "LEARNING_RATE = 0.1\n",
    "N_ACTIONS = 2\n",
    "NEURONS_PER_LAYER = [4, 256, 1]\n",
    "BUFFER_SIZE = 9\n",
    "BATCH_SIZE = 5\n",
    "TIME_STEPS = 100_000\n",
    "STATE_SHAPE = 4"
   ]
  },
  {
   "cell_type": "code",
   "execution_count": 3,
   "metadata": {},
   "outputs": [
    {
     "data": {
      "text/plain": [
       "{'states': Array([[0., 0., 0., 0.],\n",
       "        [0., 0., 0., 0.],\n",
       "        [0., 0., 0., 0.],\n",
       "        [0., 0., 0., 0.],\n",
       "        [0., 0., 0., 0.],\n",
       "        [0., 0., 0., 0.],\n",
       "        [0., 0., 0., 0.],\n",
       "        [0., 0., 0., 0.],\n",
       "        [0., 0., 0., 0.]], dtype=float32),\n",
       " 'actions': Array([0, 0, 0, 0, 0, 0, 0, 0, 0], dtype=int32),\n",
       " 'rewards': Array([0, 0, 0, 0, 0, 0, 0, 0, 0], dtype=int32),\n",
       " 'next_states': Array([[0., 0., 0., 0.],\n",
       "        [0., 0., 0., 0.],\n",
       "        [0., 0., 0., 0.],\n",
       "        [0., 0., 0., 0.],\n",
       "        [0., 0., 0., 0.],\n",
       "        [0., 0., 0., 0.],\n",
       "        [0., 0., 0., 0.],\n",
       "        [0., 0., 0., 0.],\n",
       "        [0., 0., 0., 0.]], dtype=float32),\n",
       " 'dones': Array([False, False, False, False, False, False, False, False, False],      dtype=bool)}"
      ]
     },
     "execution_count": 3,
     "metadata": {},
     "output_type": "execute_result"
    }
   ],
   "source": [
    "buffer = {\n",
    "    \"states\": jnp.empty((BUFFER_SIZE, STATE_SHAPE), dtype=jnp.float32),\n",
    "    \"actions\": jnp.empty((BUFFER_SIZE,), dtype=jnp.int32),\n",
    "    \"rewards\": jnp.empty((BUFFER_SIZE,), dtype=jnp.int32),\n",
    "    \"next_states\": jnp.empty((BUFFER_SIZE, STATE_SHAPE), dtype=jnp.float32),\n",
    "    \"dones\": jnp.empty((BUFFER_SIZE,), dtype=jnp.bool_),\n",
    "}\n",
    "buffer"
   ]
  },
  {
   "cell_type": "code",
   "execution_count": 4,
   "metadata": {},
   "outputs": [],
   "source": [
    "key = random.PRNGKey(0)\n",
    "exp = (random.normal(key, (4,)), 1, 1, random.normal(key, (4,)), False)"
   ]
  },
  {
   "cell_type": "code",
   "execution_count": 5,
   "metadata": {},
   "outputs": [],
   "source": [
    "replay_buffer = UniformReplayBuffer(BUFFER_SIZE, BATCH_SIZE)"
   ]
  },
  {
   "cell_type": "code",
   "execution_count": 6,
   "metadata": {},
   "outputs": [
    {
     "data": {
      "text/plain": [
       "Array([[4146024105,  967050713],\n",
       "       [2718843009, 1272950319]], dtype=uint32)"
      ]
     },
     "execution_count": 6,
     "metadata": {},
     "output_type": "execute_result"
    }
   ],
   "source": [
    "random.split(key)"
   ]
  },
  {
   "cell_type": "code",
   "execution_count": 7,
   "metadata": {},
   "outputs": [
    {
     "data": {
      "text/plain": [
       "[(Array(1, dtype=int32),\n",
       "  Array(False, dtype=bool),\n",
       "  Array([ 1.8160863 , -0.75488514,  0.33988908, -0.53483534], dtype=float32),\n",
       "  Array(1, dtype=int32),\n",
       "  Array([ 1.8160863 , -0.75488514,  0.33988908, -0.53483534], dtype=float32)),\n",
       " (Array(1, dtype=int32),\n",
       "  Array(False, dtype=bool),\n",
       "  Array([ 1.8160863 , -0.75488514,  0.33988908, -0.53483534], dtype=float32),\n",
       "  Array(1, dtype=int32),\n",
       "  Array([ 1.8160863 , -0.75488514,  0.33988908, -0.53483534], dtype=float32)),\n",
       " (Array(1, dtype=int32),\n",
       "  Array(False, dtype=bool),\n",
       "  Array([ 1.8160863 , -0.75488514,  0.33988908, -0.53483534], dtype=float32),\n",
       "  Array(1, dtype=int32),\n",
       "  Array([ 1.8160863 , -0.75488514,  0.33988908, -0.53483534], dtype=float32)),\n",
       " (Array(1, dtype=int32),\n",
       "  Array(False, dtype=bool),\n",
       "  Array([ 1.8160863 , -0.75488514,  0.33988908, -0.53483534], dtype=float32),\n",
       "  Array(1, dtype=int32),\n",
       "  Array([ 1.8160863 , -0.75488514,  0.33988908, -0.53483534], dtype=float32)),\n",
       " (Array(1, dtype=int32),\n",
       "  Array(False, dtype=bool),\n",
       "  Array([ 1.8160863 , -0.75488514,  0.33988908, -0.53483534], dtype=float32),\n",
       "  Array(1, dtype=int32),\n",
       "  Array([ 1.8160863 , -0.75488514,  0.33988908, -0.53483534], dtype=float32))]"
      ]
     },
     "execution_count": 7,
     "metadata": {},
     "output_type": "execute_result"
    }
   ],
   "source": [
    "idx = 0\n",
    "for _ in range(20):\n",
    "    exp = (random.normal(key, (4,)), 1, 1, random.normal(key, (4,)), False)\n",
    "    buffer, idx = replay_buffer.add(buffer, exp, idx)\n",
    "replay_buffer.sample(key, buffer)"
   ]
  },
  {
   "cell_type": "code",
   "execution_count": 8,
   "metadata": {},
   "outputs": [
    {
     "ename": "SyntaxError",
     "evalue": "invalid syntax (2389114725.py, line 1)",
     "output_type": "error",
     "traceback": [
      "\u001b[1;36m  Cell \u001b[1;32mIn[8], line 1\u001b[1;36m\u001b[0m\n\u001b[1;33m    assert\u001b[0m\n\u001b[1;37m          ^\u001b[0m\n\u001b[1;31mSyntaxError\u001b[0m\u001b[1;31m:\u001b[0m invalid syntax\n"
     ]
    }
   ],
   "source": [
    "assert"
   ]
  },
  {
   "cell_type": "code",
   "execution_count": null,
   "metadata": {},
   "outputs": [
    {
     "data": {
      "text/plain": [
       "[(Array(0, dtype=int32),\n",
       "  Array(False, dtype=bool),\n",
       "  Array([0., 0., 0., 0.], dtype=float32),\n",
       "  Array(0., dtype=float32),\n",
       "  Array([0., 0., 0., 0.], dtype=float32)),\n",
       " (Array(0, dtype=int32),\n",
       "  Array(False, dtype=bool),\n",
       "  Array([0., 0., 0., 0.], dtype=float32),\n",
       "  Array(0., dtype=float32),\n",
       "  Array([0., 0., 0., 0.], dtype=float32)),\n",
       " (Array(0, dtype=int32),\n",
       "  Array(False, dtype=bool),\n",
       "  Array([0., 0., 0., 0.], dtype=float32),\n",
       "  Array(0., dtype=float32),\n",
       "  Array([0., 0., 0., 0.], dtype=float32)),\n",
       " (Array(0, dtype=int32),\n",
       "  Array(False, dtype=bool),\n",
       "  Array([0., 0., 0., 0.], dtype=float32),\n",
       "  Array(0., dtype=float32),\n",
       "  Array([0., 0., 0., 0.], dtype=float32))]"
      ]
     },
     "execution_count": 4,
     "metadata": {},
     "output_type": "execute_result"
    }
   ],
   "source": [
    "@partial(vmap, in_axes=(0, None))\n",
    "def sample_batch(indexes, buffer):\n",
    "    return jax.tree_map(lambda buff: buff[indexes], buffer)\n",
    "\n",
    "samples = sample_batch(jnp.arange(4), buffer)\n",
    "[exp for exp in zip(*samples.values())]"
   ]
  },
  {
   "cell_type": "code",
   "execution_count": null,
   "metadata": {},
   "outputs": [
    {
     "data": {
      "text/plain": [
       "(Array([ 1.8160863 , -0.75488514,  0.33988908, -0.53483534], dtype=float32),\n",
       " 1.0,\n",
       " 1,\n",
       " Array([ 1.8160863 , -0.75488514,  0.33988908, -0.53483534], dtype=float32),\n",
       " False)"
      ]
     },
     "execution_count": 9,
     "metadata": {},
     "output_type": "execute_result"
    }
   ],
   "source": [
    "key = random.PRNGKey(0)\n",
    "state, action, reward, next_state, done = random.normal(key, (4,)), 1.0, 1, random.normal(key, (4,)), False\n",
    "state, action, reward, next_state, done"
   ]
  },
  {
   "cell_type": "code",
   "execution_count": null,
   "metadata": {},
   "outputs": [
    {
     "ename": "SyntaxError",
     "evalue": "invalid syntax (2389114725.py, line 1)",
     "output_type": "error",
     "traceback": [
      "\u001b[1;36m  Cell \u001b[1;32mIn[5], line 1\u001b[1;36m\u001b[0m\n\u001b[1;33m    assert\u001b[0m\n\u001b[1;37m          ^\u001b[0m\n\u001b[1;31mSyntaxError\u001b[0m\u001b[1;31m:\u001b[0m invalid syntax\n"
     ]
    }
   ],
   "source": [
    "assert"
   ]
  },
  {
   "cell_type": "code",
   "execution_count": null,
   "metadata": {},
   "outputs": [],
   "source": [
    "key = random.PRNGKey(SEED)\n",
    "\n",
    "env = CartPole()\n",
    "policy = EpsilonGreedy(0.1)\n",
    "model = MLP(NEURONS_PER_LAYER)\n",
    "agent = DQN(DISCOUNT, LEARNING_RATE, N_ACTIONS, model)\n",
    "replay_buffer = UniformReplayBuffer(BUFFER_SIZE, BATCH_SIZE)"
   ]
  },
  {
   "cell_type": "code",
   "execution_count": null,
   "metadata": {},
   "outputs": [],
   "source": [
    "init_key = random.split(key)[0]\n",
    "params = model.init(init_key, random.normal(init_key, (4,)))"
   ]
  },
  {
   "cell_type": "code",
   "execution_count": null,
   "metadata": {},
   "outputs": [
    {
     "data": {
      "text/plain": [
       "((Array([ 0.01658618, -0.03144887,  0.0064795 , -0.04463173], dtype=float32),\n",
       "  Array([2425776485,  230565590], dtype=uint32)),\n",
       " Array([ 0.01658618, -0.03144887,  0.0064795 , -0.04463173], dtype=float32),\n",
       " Array(0, dtype=int32),\n",
       " Array(False, dtype=bool))"
      ]
     },
     "execution_count": 7,
     "metadata": {},
     "output_type": "execute_result"
    }
   ],
   "source": [
    "env_state, obs = env.reset(key)\n",
    "env.step(env_state, jnp.array([1]))"
   ]
  }
 ],
 "metadata": {
  "kernelspec": {
   "display_name": "jax-rl-KPtyfD6I-py3.10",
   "language": "python",
   "name": "python3"
  },
  "language_info": {
   "codemirror_mode": {
    "name": "ipython",
    "version": 3
   },
   "file_extension": ".py",
   "mimetype": "text/x-python",
   "name": "python",
   "nbconvert_exporter": "python",
   "pygments_lexer": "ipython3",
   "version": "3.10.7"
  }
 },
 "nbformat": 4,
 "nbformat_minor": 2
}
